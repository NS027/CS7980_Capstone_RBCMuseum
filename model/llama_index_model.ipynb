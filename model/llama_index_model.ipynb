{
 "cells": [
  {
   "cell_type": "markdown",
   "metadata": {},
   "source": [
    "# Llamaindex Model\n",
    "<hr>"
   ]
  },
  {
   "cell_type": "markdown",
   "metadata": {},
   "source": [
    "Download data"
   ]
  },
  {
   "cell_type": "code",
   "execution_count": null,
   "metadata": {},
   "outputs": [],
   "source": [
    "! mkdir -p 'data/10k/'\n",
    "! wget 'https://raw.githubusercontent.com/run-llama/llama_index/main/docs/docs/examples/data/10k/uber_2021.pdf' -O 'data/10k/uber_2021.pdf'\n",
    "! wget 'https://raw.githubusercontent.com/run-llama/llama_index/main/docs/docs/examples/data/10k/lyft_2021.pdf' -O 'data/10k/lyft_2021.pdf'"
   ]
  },
  {
   "cell_type": "markdown",
   "metadata": {},
   "source": [
    "<hr>"
   ]
  },
  {
   "cell_type": "markdown",
   "metadata": {},
   "source": [
    "### Ingestion"
   ]
  },
  {
   "cell_type": "markdown",
   "metadata": {},
   "source": [
    "**Environment setting**"
   ]
  },
  {
   "cell_type": "code",
   "execution_count": 37,
   "metadata": {},
   "outputs": [],
   "source": [
    "import os\n",
    "\n",
    "from dotenv import load_dotenv\n",
    "load_dotenv()\n",
    "\n",
    "import nest_asyncio\n",
    "\n",
    "# Load environment variables from .env file\n",
    "load_dotenv()\n",
    "\n",
    "# Apply nest_asyncio if needed\n",
    "nest_asyncio.apply()\n",
    "\n",
    "# Set OpenAI API Key\n",
    "os.environ['OPENAI_API_KEY'] = os.getenv('OPENAI_API_KEY')\n",
    "\n",
    "# Set AWS Credentials\n",
    "# os.environ['AWS_ACCESS_KEY_ID'] = os.getenv('AWS_ACCESS_KEY_ID')\n",
    "# os.environ['AWS_SECRET_ACCESS_KEY'] = os.getenv('AWS_SECRET_ACCESS_KEY')"
   ]
  },
  {
   "cell_type": "markdown",
   "metadata": {},
   "source": [
    "**Get the documents**"
   ]
  },
  {
   "cell_type": "code",
   "execution_count": 5,
   "metadata": {},
   "outputs": [],
   "source": [
    "from llama_index.core import SimpleDirectoryReader\n",
    "documents = SimpleDirectoryReader('data/10k/').load_data()"
   ]
  },
  {
   "cell_type": "code",
   "execution_count": 6,
   "metadata": {},
   "outputs": [
    {
     "name": "stdout",
     "output_type": "stream",
     "text": [
      "545\n"
     ]
    }
   ],
   "source": [
    "print(len(documents))"
   ]
  },
  {
   "cell_type": "markdown",
   "metadata": {},
   "source": [
    "**Ingestion pipeline**\n",
    "- transformations\n",
    "    - OpenAIEmbedding\n",
    "        ```python\n",
    "        embed_model = OpenAIEmbedding(\n",
    "            model=\"text-embedding-3-large\",\n",
    "            dimensions=512,\n",
    "        )\n",
    "        ```\n",
    "\n",
    "    - SentenceSplitter\n",
    "        - chunk_size\n",
    "        - chunk_overlap\n",
    "        - tokenizer\n",
    "        - paragraph_separator\n",
    "\n",
    "    - TitleExtractor\n",
    "        - LLM\n"
   ]
  },
  {
   "cell_type": "code",
   "execution_count": 7,
   "metadata": {},
   "outputs": [],
   "source": [
    "from llama_index.embeddings.openai import OpenAIEmbedding\n",
    "from llama_index.core.node_parser import SentenceSplitter\n",
    "from llama_index.core.extractors import TitleExtractor\n",
    "from llama_index.core.ingestion import IngestionPipeline, IngestionCache\n",
    "\n",
    "# create the pipeline with transformations\n",
    "pipeline = IngestionPipeline(\n",
    "    transformations=[\n",
    "        SentenceSplitter(chunk_size=1024, chunk_overlap=20),\n",
    "        OpenAIEmbedding(model='text-embedding-3-small'),\n",
    "    ]\n",
    ")\n",
    "\n",
    "# run the pipeline\n",
    "nodes = pipeline.run(documents=documents)"
   ]
  },
  {
   "cell_type": "code",
   "execution_count": null,
   "metadata": {},
   "outputs": [],
   "source": [
    "nodes[0]"
   ]
  },
  {
   "cell_type": "markdown",
   "metadata": {},
   "source": [
    "### Indexing"
   ]
  },
  {
   "cell_type": "markdown",
   "metadata": {},
   "source": [
    "**Indexing and Storing in chromaDB**\n",
    "\n",
    "- embed_model\n",
    "    - OpenAI\n",
    "        - text-embedding-ada-002 (Latest)\n",
    "        - text-search-babbage-doc-001\n",
    "        - text-similarity-davinci-001\n",
    "        - text-embedding-3-small\n",
    "    - HuggingFace\n",
    "        - sentence-transformers/all-MiniLM-L6-v2\n",
    "\t    - sentence-transformers/all-mpnet-base-v2\n",
    "\t    - bert-base-uncased\n",
    "        - BAAI/bge-small-en-v1.5"
   ]
  },
  {
   "cell_type": "markdown",
   "metadata": {},
   "source": [
    "**First Time to create a collection in chroma_db**"
   ]
  },
  {
   "cell_type": "code",
   "execution_count": 12,
   "metadata": {},
   "outputs": [],
   "source": [
    "import chromadb\n",
    "from llama_index.core import StorageContext, VectorStoreIndex\n",
    "from llama_index.vector_stores.chroma import ChromaVectorStore\n",
    "\n",
    "db = chromadb.PersistentClient(path=\"./chroma_db\")\n",
    "chroma_collection = db.get_or_create_collection(\"10k_collection\")\n",
    "vector_store = ChromaVectorStore(chroma_collection=chroma_collection)\n",
    "storage_context = StorageContext.from_defaults(vector_store=vector_store)\n",
    "embed_model = OpenAIEmbedding(model='text-embedding-3-small')\n",
    "\n",
    "index = VectorStoreIndex.from_documents(\n",
    "    documents, storage_context=storage_context, embed_model=embed_model\n",
    ")"
   ]
  },
  {
   "cell_type": "markdown",
   "metadata": {},
   "source": [
    "**Second Time extract from the Database**"
   ]
  },
  {
   "cell_type": "code",
   "execution_count": 10,
   "metadata": {},
   "outputs": [],
   "source": [
    "import chromadb\n",
    "from llama_index.core import StorageContext, VectorStoreIndex\n",
    "from llama_index.vector_stores.chroma import ChromaVectorStore\n",
    "\n",
    "db2 = chromadb.PersistentClient(path=\"./chroma_db\")\n",
    "chroma_collection = db2.get_or_create_collection(\"10k_collection\")\n",
    "vector_store = ChromaVectorStore(chroma_collection=chroma_collection)\n",
    "embed_model = OpenAIEmbedding(model='text-embedding-3-small')\n",
    "index = VectorStoreIndex.from_vector_store(\n",
    "    vector_store,\n",
    "    embed_model=embed_model,\n",
    ")"
   ]
  },
  {
   "cell_type": "markdown",
   "metadata": {},
   "source": [
    "### Query Interface"
   ]
  },
  {
   "cell_type": "markdown",
   "metadata": {},
   "source": [
    "**Tools**"
   ]
  },
  {
   "cell_type": "markdown",
   "metadata": {},
   "source": [
    "*Vector Tool*"
   ]
  },
  {
   "cell_type": "code",
   "execution_count": 11,
   "metadata": {},
   "outputs": [],
   "source": [
    "from typing import List\n",
    "from llama_index.core.vector_stores import FilterCondition\n",
    "from llama_index.core.tools import FunctionTool\n",
    "from llama_index.core.vector_stores import MetadataFilters\n",
    "\n",
    "def vector_query(\n",
    "    query : str,\n",
    "    page_numbers: List[str],\n",
    ") -> str:\n",
    "    \"\"\"Performs a vector search over an index.\n",
    "    \n",
    "    query (str): the string query to embeded.\n",
    "    page_numbers (List[str]): Filter by set of pages. Leave BLANK if we want to search\n",
    "    over all pages. Otherwise, filter by the set of sepcified pages.\n",
    "    \"\"\"\n",
    "\n",
    "    metadata_dicts = [\n",
    "        {\"key\": \"page_label\", \"value\": p}\n",
    "        for p in page_numbers\n",
    "    ]\n",
    "\n",
    "    query_engine = index.as_query_engine(\n",
    "        similarity_top_k=2,\n",
    "        filters=MetadataFilters.from_dicts(\n",
    "            metadata_dicts,\n",
    "            condition=FilterCondition.OR\n",
    "        )\n",
    "    )\n",
    "    response = query_engine.query(query)\n",
    "    return response\n",
    "\n",
    "vector_query_tool = FunctionTool.from_defaults(\n",
    "    name=\"vector_query\",\n",
    "    fn=vector_query,\n",
    ")"
   ]
  },
  {
   "cell_type": "markdown",
   "metadata": {},
   "source": [
    "*summary tool*"
   ]
  },
  {
   "cell_type": "code",
   "execution_count": 12,
   "metadata": {},
   "outputs": [],
   "source": [
    "from llama_index.core import SummaryIndex\n",
    "from llama_index.core.tools import QueryEngineTool\n",
    "\n",
    "summary_index = SummaryIndex(nodes)\n",
    "summary_query_engine = summary_index.as_query_engine(\n",
    "    response_mode='tree_summarize',\n",
    "    use_async=True,\n",
    ")\n",
    "summary_tool = QueryEngineTool.from_defaults(\n",
    "    name=\"summary_tool\",\n",
    "    query_engine=summary_query_engine,\n",
    "    description=(\n",
    "        'Useful if you want to get a summary of the ragchecker.'\n",
    "    )\n",
    ")"
   ]
  },
  {
   "cell_type": "code",
   "execution_count": 13,
   "metadata": {},
   "outputs": [],
   "source": [
    "docs = [\n",
    "    \"data/10k/uber_2021.pdf\",\n",
    "    \"data/10k/lyft_2021.pdf\",\n",
    "]"
   ]
  },
  {
   "cell_type": "markdown",
   "metadata": {},
   "source": [
    "search by tools"
   ]
  },
  {
   "cell_type": "code",
   "execution_count": 14,
   "metadata": {},
   "outputs": [
    {
     "name": "stdout",
     "output_type": "stream",
     "text": [
      "Getting tools for document: data/10k/uber_2021.pdf\n",
      "Getting tools for document: data/10k/lyft_2021.pdf\n"
     ]
    }
   ],
   "source": [
    "from pathlib import Path\n",
    "\n",
    "documents_to_tools_dict = {}\n",
    "for documents in docs:\n",
    "    print(f\"Getting tools for document: {documents}\")\n",
    "    documents_to_tools_dict[documents] = [vector_query_tool, summary_tool]"
   ]
  },
  {
   "cell_type": "markdown",
   "metadata": {},
   "source": [
    "put tools into a flat list"
   ]
  },
  {
   "cell_type": "code",
   "execution_count": 15,
   "metadata": {},
   "outputs": [],
   "source": [
    "initial_tools = [t for documents in docs for t in documents_to_tools_dict[documents]]"
   ]
  },
  {
   "cell_type": "code",
   "execution_count": 25,
   "metadata": {},
   "outputs": [
    {
     "data": {
      "text/plain": [
       "4"
      ]
     },
     "execution_count": 25,
     "metadata": {},
     "output_type": "execute_result"
    }
   ],
   "source": [
    "len(initial_tools)  # should be 4"
   ]
  },
  {
   "cell_type": "markdown",
   "metadata": {},
   "source": [
    "**Using agent worker**"
   ]
  },
  {
   "cell_type": "markdown",
   "metadata": {},
   "source": [
    "define llm where can be changed"
   ]
  },
  {
   "cell_type": "code",
   "execution_count": 16,
   "metadata": {},
   "outputs": [],
   "source": [
    "from llama_index.llms.openai import OpenAI\n",
    "\n",
    "llm = OpenAI(model='gpt-3.5-turbo',temperature=0)"
   ]
  },
  {
   "cell_type": "code",
   "execution_count": 17,
   "metadata": {},
   "outputs": [],
   "source": [
    "from llama_index.core.agent import FunctionCallingAgentWorker\n",
    "from llama_index.core.agent import AgentRunner\n",
    "\n",
    "agent_worker = FunctionCallingAgentWorker.from_tools(\n",
    "    initial_tools,\n",
    "    llm=llm,\n",
    "    verbose=True,\n",
    ")\n",
    "\n",
    "agent = AgentRunner(agent_worker)"
   ]
  },
  {
   "cell_type": "markdown",
   "metadata": {},
   "source": [
    "<hr>"
   ]
  },
  {
   "cell_type": "markdown",
   "metadata": {},
   "source": [
    "### Test case (gpt-4o)"
   ]
  },
  {
   "cell_type": "code",
   "execution_count": 33,
   "metadata": {},
   "outputs": [
    {
     "name": "stdout",
     "output_type": "stream",
     "text": [
      "Added user message to memory: Tell me the diffrerence between Uber and Lyft inThe impact of covid-19.\n",
      "=== Calling Function ===\n",
      "Calling function: vector_query with args: {\"query\": \"Difference between Uber and Lyft in the impact of covid-19\", \"page_numbers\": []}\n",
      "=== Function Output ===\n",
      "Uber and Lyft both faced challenges due to the COVID-19 pandemic, impacting their operations and financial performance. However, Lyft specifically mentioned challenges related to delays in manufacturing assets, increased costs, and supply chain issues affecting the deployment of new vehicles and features on their network. Lyft also highlighted the adverse impact on demand for vehicles rented through their Express Drive program and Lyft Rentals, leading to operational changes and cost increases. On the other hand, Uber emphasized the global impact of COVID-19 on drivers, merchants, consumers, and business partners, leading to reduced demand for mobility rides and driver supply constraints. Uber responded by focusing on enhancing delivery services and implementing safety measures.\n",
      "=== Calling Function ===\n",
      "Calling function: vector_query with args: {\"query\": \"Uber impact of covid-19\", \"page_numbers\": []}\n",
      "=== Function Output ===\n",
      "The impact of the COVID-19 pandemic on Uber's business includes challenges such as restrictions affecting demand for Mobility offerings, ongoing driver supply constraints, and the recent surge of the Omicron variant affecting travel behavior and demand. The uncertainty surrounding the recovery of end-user behavior and demand for Mobility offerings remains a concern for the company. Additionally, emergency orders in certain U.S. jurisdictions have imposed caps on operations.\n",
      "=== Calling Function ===\n",
      "Calling function: vector_query with args: {\"query\": \"Lyft impact of covid-19\", \"page_numbers\": []}\n",
      "=== Function Output ===\n",
      "The COVID-19 pandemic has had adverse effects on Lyft's business operations, leading to challenges in manufacturing and delivering assets, increased costs associated with manufacturing and shipping, and disruptions in rental operations such as temporary closures and modified operations to limit exposure risks. These challenges have impacted Lyft's ability to deploy new vehicles, conduct rental operations, and maintain demand for rides on its platform. Additionally, Lyft has implemented various measures to mitigate the negative effects of the pandemic, including adjusting expenses, establishing health and safety requirements, and making divestitures to align with revenue declines. The company believes it has sufficient liquidity to meet its financial needs for the next 12 months and beyond, but future capital requirements will depend on factors such as growth, profitability, market acceptance, and response to the ongoing pandemic.\n",
      "=== LLM Response ===\n",
      "The impact of COVID-19 on Uber and Lyft has been significant, affecting their operations and financial performance. Here are some key differences in how the two companies have been impacted:\n",
      "\n",
      "1. **Lyft Specific Challenges:**\n",
      "   - Lyft faced challenges related to delays in manufacturing assets, increased costs, and supply chain issues affecting the deployment of new vehicles and features on their network.\n",
      "   - Adverse impact on demand for vehicles rented through their Express Drive program and Lyft Rentals, leading to operational changes and cost increases.\n",
      "\n",
      "2. **Uber Specific Challenges:**\n",
      "   - Uber emphasized the global impact of COVID-19 on drivers, merchants, consumers, and business partners, leading to reduced demand for mobility rides and driver supply constraints.\n",
      "   - Focused on enhancing delivery services and implementing safety measures in response to the pandemic.\n",
      "\n",
      "3. **Overall Impact:**\n",
      "   - Uber faced challenges such as restrictions affecting demand for Mobility offerings, ongoing driver supply constraints, and the recent surge of the Omicron variant affecting travel behavior and demand.\n",
      "   - Lyft experienced disruptions in manufacturing and delivering assets, increased costs, and disruptions in rental operations, impacting their ability to deploy new vehicles and maintain demand for rides on its platform.\n",
      "\n",
      "Both companies have implemented measures to mitigate the negative effects of the pandemic, but the specific challenges and responses vary between Uber and Lyft.\n"
     ]
    }
   ],
   "source": [
    "response = agent.query(\n",
    "    \"Tell me the diffrerence between Uber and Lyft in\"\n",
    "    \"The impact of covid-19.\",\n",
    ")"
   ]
  },
  {
   "cell_type": "code",
   "execution_count": 38,
   "metadata": {},
   "outputs": [
    {
     "name": "stdout",
     "output_type": "stream",
     "text": [
      "Added user message to memory: Give me a summary of the document lyft.and what is the 10k analysis overall based on uber.\n",
      "=== Calling Function ===\n",
      "Calling function: summary_tool with args: {\"input\": \"lyft\"}\n",
      "=== Function Output ===\n",
      "Lyft, Inc. is a transportation network company that operates a ridesharing marketplace connecting drivers with riders through its mobile application. The company offers various transportation options, including ridesharing, bike and scooter sharing, public transit integration, and car rentals. Lyft is committed to improving people's lives by providing affordable and reliable transportation options. The company has faced challenges due to the COVID-19 pandemic, impacting its operations, financial performance, and driver availability. Additionally, Lyft has focused on safety measures, diversity in its workforce, and environmental initiatives, such as transitioning to electric vehicles.\n",
      "=== Calling Function ===\n",
      "Calling function: summary_tool with args: {\"input\": \"10k analysis uber\"}\n",
      "=== Function Output ===\n",
      "The information provided includes details about Uber's financial performance, operations, acquisitions, divestitures, investments, legal and regulatory matters, and strategic moves. It covers aspects such as net loss per share, segment information, geographic revenue breakdown, business combinations, and the impact of acquisitions like Careem and Cornershop. Additionally, the information outlines Uber's financial statements, revenue recognition policy, expenses, stock-based compensation, income taxes, insurance reserves, and loss contingencies. The document offers a comprehensive overview of Uber's financial operations, management strategies, and key transactions for stakeholders and investors to analyze Uber's performance and prospects.\n",
      "=== LLM Response ===\n",
      "The summary of the document \"Lyft\" provides an overview of Lyft, Inc., a transportation network company that operates a ridesharing marketplace connecting drivers with riders through its mobile application. The summary highlights Lyft's various transportation options, commitment to improving people's lives, challenges faced due to the COVID-19 pandemic, and focus on safety, diversity, and environmental initiatives.\n",
      "\n",
      "The 10k analysis of Uber provides detailed information about Uber's financial performance, operations, acquisitions, divestitures, investments, legal and regulatory matters, and strategic moves. It covers aspects such as net loss per share, segment information, revenue breakdown, business combinations, and the impact of acquisitions like Careem and Cornershop. The analysis offers insights into Uber's financial statements, revenue recognition policy, expenses, stock-based compensation, income taxes, insurance reserves, and loss contingencies.\n",
      "\n",
      "If you need more specific details or analysis on any particular aspect, feel free to ask!\n",
      "The summary of the document \"Lyft\" provides an overview of Lyft, Inc., a transportation network company that operates a ridesharing marketplace connecting drivers with riders through its mobile application. The summary highlights Lyft's various transportation options, commitment to improving people's lives, challenges faced due to the COVID-19 pandemic, and focus on safety, diversity, and environmental initiatives.\n",
      "\n",
      "The 10k analysis of Uber provides detailed information about Uber's financial performance, operations, acquisitions, divestitures, investments, legal and regulatory matters, and strategic moves. It covers aspects such as net loss per share, segment information, revenue breakdown, business combinations, and the impact of acquisitions like Careem and Cornershop. The analysis offers insights into Uber's financial statements, revenue recognition policy, expenses, stock-based compensation, income taxes, insurance reserves, and loss contingencies.\n",
      "\n",
      "If you need more specific details or analysis on any particular aspect, feel free to ask!\n"
     ]
    }
   ],
   "source": [
    "response = agent.query(\n",
    "    \"Give me a summary of the document lyft.\"\n",
    "    \"and what is the 10k analysis overall based on uber.\",\n",
    ")\n",
    "\n",
    "print(str(response))"
   ]
  },
  {
   "cell_type": "markdown",
   "metadata": {},
   "source": [
    "<hr>"
   ]
  },
  {
   "cell_type": "markdown",
   "metadata": {},
   "source": [
    "### Evaluation"
   ]
  },
  {
   "cell_type": "markdown",
   "metadata": {},
   "source": [
    "**RagChecker**"
   ]
  },
  {
   "cell_type": "code",
   "execution_count": null,
   "metadata": {},
   "outputs": [],
   "source": [
    "! pip install ipywidgets\n"
   ]
  },
  {
   "cell_type": "code",
   "execution_count": 2,
   "metadata": {},
   "outputs": [],
   "source": [
    "from ragchecker.integrations.llama_index import response_to_rag_results\n",
    "from ragchecker import RAGResults, RAGChecker\n",
    "from ragchecker.metrics import all_metrics"
   ]
  },
  {
   "cell_type": "markdown",
   "metadata": {},
   "source": [
    "**Using RAGChecker with LlamaIndex**"
   ]
  },
  {
   "cell_type": "code",
   "execution_count": 28,
   "metadata": {},
   "outputs": [],
   "source": [
    "# rag_application = index.as_query_engine()"
   ]
  },
  {
   "cell_type": "code",
   "execution_count": 33,
   "metadata": {},
   "outputs": [
    {
     "name": "stdout",
     "output_type": "stream",
     "text": [
      "Added user message to memory: How many employees did Uber have globally as of December 31, 2021?\n",
      "=== Calling Function ===\n",
      "Calling function: vector_query with args: {\"query\": \"number of employees at Uber as of December 31, 2021\", \"page_numbers\": []}\n",
      "=== Function Output ===\n",
      "Approximately 29,300 employees globally.\n",
      "=== LLM Response ===\n",
      "Uber had approximately 29,300 employees globally as of December 31, 2021.\n",
      "RAGResults(\n",
      "  1 RAG results,\n",
      "  Metrics:\n",
      "  {\n",
      "    \"overall_metrics\": {},\n",
      "    \"retriever_metrics\": {},\n",
      "    \"generator_metrics\": {}\n",
      "  }\n",
      ")\n"
     ]
    },
    {
     "name": "stderr",
     "output_type": "stream",
     "text": [
      "/Users/chris/Desktop/7980/CS7980_Capstone_RBCMuseum/model/venv/lib/python3.11/site-packages/dataclasses_json/core.py:201: RuntimeWarning: 'NoneType' object value of non-optional type query_id detected when decoding RAGResult.\n",
      "  warnings.warn(\n"
     ]
    }
   ],
   "source": [
    "# User query and groud truth answer\n",
    "user_query = \"How many employees did Uber have globally as of December 31, 2021?\"\n",
    "gt_answer = \"Uber had approximately 29,300 employees globally as of December 31, 2021\"\n",
    "\n",
    "# Get response from LlamaIndex\n",
    "response_object = agent.query(user_query)\n",
    "#response_object = rag_application.query(user_query)\n",
    "\n",
    "# Convert to RAGChecker format\n",
    "rag_result = response_to_rag_results(\n",
    "    query=user_query,\n",
    "    gt_answer=gt_answer,\n",
    "    response_object=response_object,\n",
    ")\n",
    "\n",
    "# Create RAGResults object\n",
    "rag_results = RAGResults.from_dict({\"results\": [rag_result]})\n",
    "print(rag_results)"
   ]
  },
  {
   "cell_type": "code",
   "execution_count": 34,
   "metadata": {},
   "outputs": [
    {
     "name": "stdout",
     "output_type": "stream",
     "text": [
      "Uber had approximately 29,300 employees globally as of December 31, 2021.\n"
     ]
    }
   ],
   "source": [
    "print(response_object)"
   ]
  },
  {
   "cell_type": "code",
   "execution_count": 35,
   "metadata": {},
   "outputs": [
    {
     "name": "stderr",
     "output_type": "stream",
     "text": [
      "\u001b[32m2024-10-03 10:12:06.020\u001b[0m | \u001b[1mINFO    \u001b[0m | \u001b[36mragchecker.evaluator\u001b[0m:\u001b[36mextract_claims\u001b[0m:\u001b[36m113\u001b[0m - \u001b[1mExtracting claims for gt_answer of 1 RAG results.\u001b[0m\n",
      "  0%|          | 0/1 [00:02<?, ?it/s]"
     ]
    },
    {
     "name": "stdout",
     "output_type": "stream",
     "text": [
      "Exit with the following error:\n",
      "'NoCredentialsError' object has no attribute 'response'\n"
     ]
    },
    {
     "name": "stderr",
     "output_type": "stream",
     "text": [
      "\n"
     ]
    },
    {
     "ename": "TypeError",
     "evalue": "'NoneType' object is not iterable",
     "output_type": "error",
     "traceback": [
      "\u001b[0;31m---------------------------------------------------------------------------\u001b[0m",
      "\u001b[0;31mTypeError\u001b[0m                                 Traceback (most recent call last)",
      "Cell \u001b[0;32mIn[35], line 10\u001b[0m\n\u001b[1;32m      2\u001b[0m evaluator \u001b[38;5;241m=\u001b[39m RAGChecker(\n\u001b[1;32m      3\u001b[0m     extractor_name\u001b[38;5;241m=\u001b[39m\u001b[38;5;124m\"\u001b[39m\u001b[38;5;124mbedrock/meta.llama3-70b-instruct-v1:0\u001b[39m\u001b[38;5;124m\"\u001b[39m,\n\u001b[1;32m      4\u001b[0m     checker_name\u001b[38;5;241m=\u001b[39m\u001b[38;5;124m\"\u001b[39m\u001b[38;5;124mbedrock/meta.llama3-70b-instruct-v1:0\u001b[39m\u001b[38;5;124m\"\u001b[39m,\n\u001b[1;32m      5\u001b[0m     batch_size_extractor\u001b[38;5;241m=\u001b[39m\u001b[38;5;241m32\u001b[39m,\n\u001b[1;32m      6\u001b[0m     batch_size_checker\u001b[38;5;241m=\u001b[39m\u001b[38;5;241m32\u001b[39m,\n\u001b[1;32m      7\u001b[0m )\n\u001b[1;32m      9\u001b[0m \u001b[38;5;66;03m# Evaluate using RAGChecker\u001b[39;00m\n\u001b[0;32m---> 10\u001b[0m \u001b[43mevaluator\u001b[49m\u001b[38;5;241;43m.\u001b[39;49m\u001b[43mevaluate\u001b[49m\u001b[43m(\u001b[49m\u001b[43mrag_results\u001b[49m\u001b[43m,\u001b[49m\u001b[43m \u001b[49m\u001b[43mall_metrics\u001b[49m\u001b[43m)\u001b[49m\n\u001b[1;32m     12\u001b[0m \u001b[38;5;66;03m# Print detailed results\u001b[39;00m\n\u001b[1;32m     13\u001b[0m \u001b[38;5;28mprint\u001b[39m(rag_results)\n",
      "File \u001b[0;32m~/Desktop/7980/CS7980_Capstone_RBCMuseum/model/venv/lib/python3.11/site-packages/ragchecker/evaluator.py:228\u001b[0m, in \u001b[0;36mRAGChecker.evaluate\u001b[0;34m(self, results, metrics, save_path)\u001b[0m\n\u001b[1;32m    226\u001b[0m \u001b[38;5;66;03m# compute the required intermediate results\u001b[39;00m\n\u001b[1;32m    227\u001b[0m \u001b[38;5;28;01mfor\u001b[39;00m requirement \u001b[38;5;129;01min\u001b[39;00m requirements:\n\u001b[0;32m--> 228\u001b[0m     \u001b[38;5;28;43mself\u001b[39;49m\u001b[38;5;241;43m.\u001b[39;49m\u001b[43mcheck_claims\u001b[49m\u001b[43m(\u001b[49m\u001b[43mresults\u001b[49m\u001b[43m,\u001b[49m\u001b[43m \u001b[49m\u001b[43mcheck_type\u001b[49m\u001b[38;5;241;43m=\u001b[39;49m\u001b[43mrequirement\u001b[49m\u001b[43m)\u001b[49m\n\u001b[1;32m    229\u001b[0m     \u001b[38;5;28;01mif\u001b[39;00m save_path \u001b[38;5;129;01mis\u001b[39;00m \u001b[38;5;129;01mnot\u001b[39;00m \u001b[38;5;28;01mNone\u001b[39;00m:\n\u001b[1;32m    230\u001b[0m         \u001b[38;5;28;01mwith\u001b[39;00m \u001b[38;5;28mopen\u001b[39m(save_path, \u001b[38;5;124m\"\u001b[39m\u001b[38;5;124mw\u001b[39m\u001b[38;5;124m\"\u001b[39m) \u001b[38;5;28;01mas\u001b[39;00m f:\n",
      "File \u001b[0;32m~/Desktop/7980/CS7980_Capstone_RBCMuseum/model/venv/lib/python3.11/site-packages/ragchecker/evaluator.py:152\u001b[0m, in \u001b[0;36mRAGChecker.check_claims\u001b[0;34m(self, results, check_type)\u001b[0m\n\u001b[1;32m    150\u001b[0m \u001b[38;5;28;01mcase\u001b[39;00m \u001b[38;5;124m\"\u001b[39m\u001b[38;5;124mresponse2answer\u001b[39m\u001b[38;5;124m\"\u001b[39m:\n\u001b[1;32m    151\u001b[0m     results \u001b[38;5;241m=\u001b[39m [ret \u001b[38;5;28;01mfor\u001b[39;00m ret \u001b[38;5;129;01min\u001b[39;00m results\u001b[38;5;241m.\u001b[39mresults \u001b[38;5;28;01mif\u001b[39;00m ret\u001b[38;5;241m.\u001b[39mresponse2answer \u001b[38;5;129;01mis\u001b[39;00m \u001b[38;5;28;01mNone\u001b[39;00m]\n\u001b[0;32m--> 152\u001b[0m     \u001b[38;5;28;43mself\u001b[39;49m\u001b[38;5;241;43m.\u001b[39;49m\u001b[43mextract_claims\u001b[49m\u001b[43m(\u001b[49m\u001b[43mresults\u001b[49m\u001b[43m,\u001b[49m\u001b[43m \u001b[49m\u001b[43mextract_type\u001b[49m\u001b[38;5;241;43m=\u001b[39;49m\u001b[38;5;124;43m\"\u001b[39;49m\u001b[38;5;124;43mgt_answer\u001b[39;49m\u001b[38;5;124;43m\"\u001b[39;49m\u001b[43m)\u001b[49m\n\u001b[1;32m    153\u001b[0m     claims \u001b[38;5;241m=\u001b[39m [ret\u001b[38;5;241m.\u001b[39mgt_answer_claims \u001b[38;5;28;01mfor\u001b[39;00m ret \u001b[38;5;129;01min\u001b[39;00m results]\n\u001b[1;32m    154\u001b[0m     references \u001b[38;5;241m=\u001b[39m [ret\u001b[38;5;241m.\u001b[39mresponse \u001b[38;5;28;01mfor\u001b[39;00m ret \u001b[38;5;129;01min\u001b[39;00m results]\n",
      "File \u001b[0;32m~/Desktop/7980/CS7980_Capstone_RBCMuseum/model/venv/lib/python3.11/site-packages/ragchecker/evaluator.py:124\u001b[0m, in \u001b[0;36mRAGChecker.extract_claims\u001b[0;34m(self, results, extract_type)\u001b[0m\n\u001b[1;32m    113\u001b[0m logger\u001b[38;5;241m.\u001b[39minfo(\u001b[38;5;124mf\u001b[39m\u001b[38;5;124m\"\u001b[39m\u001b[38;5;124mExtracting claims for \u001b[39m\u001b[38;5;132;01m{\u001b[39;00mextract_type\u001b[38;5;132;01m}\u001b[39;00m\u001b[38;5;124m of \u001b[39m\u001b[38;5;132;01m{\u001b[39;00m\u001b[38;5;28mlen\u001b[39m(results)\u001b[38;5;132;01m}\u001b[39;00m\u001b[38;5;124m RAG results.\u001b[39m\u001b[38;5;124m\"\u001b[39m)\n\u001b[1;32m    114\u001b[0m extraction_results \u001b[38;5;241m=\u001b[39m \u001b[38;5;28mself\u001b[39m\u001b[38;5;241m.\u001b[39mextractor\u001b[38;5;241m.\u001b[39mextract(\n\u001b[1;32m    115\u001b[0m     batch_responses\u001b[38;5;241m=\u001b[39mtexts,\n\u001b[1;32m    116\u001b[0m     batch_questions\u001b[38;5;241m=\u001b[39mquestions,\n\u001b[0;32m   (...)\u001b[0m\n\u001b[1;32m    122\u001b[0m     \u001b[38;5;241m*\u001b[39m\u001b[38;5;241m*\u001b[39m\u001b[38;5;28mself\u001b[39m\u001b[38;5;241m.\u001b[39mkwargs\n\u001b[1;32m    123\u001b[0m )\n\u001b[0;32m--> 124\u001b[0m claims \u001b[38;5;241m=\u001b[39m \u001b[43m[\u001b[49m\u001b[43m[\u001b[49m\u001b[43mc\u001b[49m\u001b[38;5;241;43m.\u001b[39;49m\u001b[43mcontent\u001b[49m\u001b[43m \u001b[49m\u001b[38;5;28;43;01mfor\u001b[39;49;00m\u001b[43m \u001b[49m\u001b[43mc\u001b[49m\u001b[43m \u001b[49m\u001b[38;5;129;43;01min\u001b[39;49;00m\u001b[43m \u001b[49m\u001b[43mres\u001b[49m\u001b[38;5;241;43m.\u001b[39;49m\u001b[43mclaims\u001b[49m\u001b[43m]\u001b[49m\u001b[43m \u001b[49m\u001b[38;5;28;43;01mfor\u001b[39;49;00m\u001b[43m \u001b[49m\u001b[43mres\u001b[49m\u001b[43m \u001b[49m\u001b[38;5;129;43;01min\u001b[39;49;00m\u001b[43m \u001b[49m\u001b[43mextraction_results\u001b[49m\u001b[43m]\u001b[49m\n\u001b[1;32m    125\u001b[0m \u001b[38;5;28;01mfor\u001b[39;00m i, result \u001b[38;5;129;01min\u001b[39;00m \u001b[38;5;28menumerate\u001b[39m(results):\n\u001b[1;32m    126\u001b[0m     \u001b[38;5;28;01mif\u001b[39;00m extract_type \u001b[38;5;241m==\u001b[39m \u001b[38;5;124m\"\u001b[39m\u001b[38;5;124mgt_answer\u001b[39m\u001b[38;5;124m\"\u001b[39m:\n",
      "\u001b[0;31mTypeError\u001b[0m: 'NoneType' object is not iterable"
     ]
    }
   ],
   "source": [
    "# Initialize RAGChecker\n",
    "evaluator = RAGChecker(\n",
    "    extractor_name=\"bedrock/meta.llama3-70b-instruct-v1:0\",\n",
    "    checker_name=\"bedrock/meta.llama3-70b-instruct-v1:0\",\n",
    "    batch_size_extractor=32,\n",
    "    batch_size_checker=32,\n",
    ")\n",
    "\n",
    "# Evaluate using RAGChecker\n",
    "evaluator.evaluate(rag_results, all_metrics)\n",
    "\n",
    "# Print detailed results\n",
    "print(rag_results)"
   ]
  },
  {
   "cell_type": "markdown",
   "metadata": {},
   "source": [
    "<hr>\n",
    "\n",
    "**Ragas**"
   ]
  },
  {
   "cell_type": "code",
   "execution_count": null,
   "metadata": {},
   "outputs": [],
   "source": [
    "! pip install ragas"
   ]
  },
  {
   "cell_type": "markdown",
   "metadata": {},
   "source": [
    "Data preparing"
   ]
  },
  {
   "cell_type": "code",
   "execution_count": 87,
   "metadata": {},
   "outputs": [],
   "source": [
    "data = {\n",
    "    \"question\": [\n",
    "        \"What was Lyft's total revenue for the year 2021?\",\n",
    "        \"What strategic partnerships did Uber leverage for autonomous vehicles in 2021?\",\n",
    "        \"How many patents did Lyft hold as of December 31, 2021?\",\n",
    "        \"What were Uber’s primary operating segments in 2021?\",\n",
    "        \"How many employees did Uber have globally as of December 31, 2021?\",\n",
    "        \"What commitment has Lyft made regarding electric vehicles by 2030?\",\n",
    "        \"What acquisition did Uber complete in 2021 related to alcohol delivery?\",\n",
    "        \"What was Lyft's market value of common stock held by non-affiliates as of June 30, 2021?\",\n",
    "        \"What impact did COVID-19 have on Lyft's business in 2021?\",\n",
    "        \"Which key technology partners did Lyft collaborate with in its cloud infrastructure?\",\n",
    "        \"Summarize the impact of COVID-19 on Uber’s operations during 2021.\",\n",
    "        \"How did Lyft address its commitment to climate change and sustainability in 2021?\",\n",
    "        \"What were Uber’s primary areas of growth strategy in 2021?\",\n",
    "        \"Summarize Lyft's business model and revenue generation approach in 2021.\",\n",
    "        \"How did Uber enhance its platform's operational efficiency in 2021?\",\n",
    "    ],\n",
    "    \"ground_truth\": [\n",
    "        \"Lyft's total revenue for the year 2021 was $3.21 billion.\",\n",
    "        \"Uber partnered with Motional and Argo AI in 2021 to deploy autonomous vehicles on its platform.\",\n",
    "        \"Lyft held 343 issued U.S. patents and had 310 U.S. patent applications pending as of December 31, 2021.\",\n",
    "        \"Uber’s primary operating segments in 2021 were Mobility, Delivery, and Freight.\",\n",
    "        \"Uber had approximately 29,300 employees globally as of December 31, 2021.\",\n",
    "        \"Lyft committed to having 100% electric vehicles on its platform by 2030.\",\n",
    "        \"Uber acquired The Drizly Group, Inc. in 2021 to expand its alcohol delivery offerings.\",\n",
    "        \"Lyft's market value of common stock held by non-affiliates as of June 30, 2021, was $19.6 billion.\",\n",
    "        \"COVID-19 led to decreased demand on Lyft's platform, impacting its revenues and drivers’ earning opportunities.\",\n",
    "        \"Lyft collaborated with Amazon Web Services (AWS) for its cloud services.\",\n",
    "        \"COVID-19 affected Uber’s operations in 2021, leading to reduced Mobility demand due to travel restrictions, though its Delivery segment saw growth.\",\n",
    "        \"Lyft committed to reaching 100% electric vehicles on its platform by 2030 as part of its broader efforts toward sustainability and addressing climate change.\",\n",
    "        \"Uber’s growth strategy in 2021 included expanding its platform offerings, investing in new technology, growing its Delivery and Freight businesses, and leveraging synergies across its segments.\",\n",
    "        \"Lyft’s business model in 2021 focused on connecting riders with drivers through its ridesharing platform, generating revenue from service fees and commissions. It also expanded its offerings through Light Vehicles, public transit integration, and Lyft Rentals.\",\n",
    "        \"Uber enhanced operational efficiency in 2021 by leveraging its technology to improve demand prediction, matching, and dispatching, which reduced costs and optimized trip utilization across its platform.\",\n",
    "    ]\n",
    "}\n"
   ]
  },
  {
   "cell_type": "markdown",
   "metadata": {},
   "source": [
    "Step 1: create a pandas DataFrame"
   ]
  },
  {
   "cell_type": "code",
   "execution_count": 88,
   "metadata": {},
   "outputs": [],
   "source": [
    "import pandas as pd\n",
    "\n",
    "# Create a pandas DataFrame\n",
    "df = pd.DataFrame(data)"
   ]
  },
  {
   "cell_type": "markdown",
   "metadata": {},
   "source": [
    "convert data form"
   ]
  },
  {
   "cell_type": "code",
   "execution_count": 90,
   "metadata": {},
   "outputs": [],
   "source": [
    "import pandas as pd\n",
    "from datasets import Dataset  # Hugging Face Dataset library\n",
    "\n",
    "testset = Dataset.from_pandas(df)"
   ]
  },
  {
   "cell_type": "code",
   "execution_count": 93,
   "metadata": {},
   "outputs": [],
   "source": [
    "ds_dict = testset.to_dict()"
   ]
  },
  {
   "cell_type": "code",
   "execution_count": 95,
   "metadata": {},
   "outputs": [],
   "source": [
    "hf_dataset = Dataset.from_dict(ds_dict)"
   ]
  },
  {
   "cell_type": "markdown",
   "metadata": {},
   "source": [
    "Step 2 Save the work to local disc"
   ]
  },
  {
   "cell_type": "code",
   "execution_count": 44,
   "metadata": {},
   "outputs": [],
   "source": [
    "output_path = \"./test_db\"  # Specify your desired output directory\n",
    "os.makedirs(output_path, exist_ok=True)  # Create directory if it doesn't exist\n"
   ]
  },
  {
   "cell_type": "code",
   "execution_count": 45,
   "metadata": {},
   "outputs": [],
   "source": [
    "# Save as CSV\n",
    "testset.to_pandas().to_csv(os.path.join(output_path, \"10K_testset.csv\"), index=False)\n",
    "\n",
    "# Save as JSON\n",
    "testset.to_pandas().to_json(os.path.join(output_path, \"10K_testset.json\"), orient=\"records\", lines=True)"
   ]
  },
  {
   "cell_type": "markdown",
   "metadata": {},
   "source": [
    "Step 3: Test with the general query engine"
   ]
  },
  {
   "cell_type": "code",
   "execution_count": null,
   "metadata": {},
   "outputs": [],
   "source": [
    "from ragas.metrics import (\n",
    "    faithfulness,\n",
    "    answer_relevancy,\n",
    "    context_precision,\n",
    "    context_recall,\n",
    ")\n",
    "from ragas.integrations.llama_index import evaluate\n",
    "\n",
    "\n",
    "# Initialize evaluator LLM\n",
    "evaluator_llm = OpenAI(model=\"gpt-3.5-turbo\")\n",
    "\n",
    "# Define the metrics for evaluation\n",
    "metrics = [faithfulness, answer_relevancy, context_precision, context_recall]\n",
    "\n",
    "result = evaluate(\n",
    "    query_engine=index.as_query_engine(),\n",
    "    metrics=metrics,\n",
    "    dataset=hf_dataset,\n",
    "    llm=evaluator_llm,\n",
    "    embeddings=OpenAIEmbedding(),\n",
    ")"
   ]
  },
  {
   "cell_type": "code",
   "execution_count": 167,
   "metadata": {},
   "outputs": [
    {
     "name": "stdout",
     "output_type": "stream",
     "text": [
      "{'faithfulness': 0.8711, 'answer_relevancy': 0.9786, 'context_precision': 0.9667, 'context_recall': 0.8667}\n"
     ]
    }
   ],
   "source": [
    "print(result)"
   ]
  },
  {
   "cell_type": "code",
   "execution_count": 168,
   "metadata": {},
   "outputs": [
    {
     "data": {
      "text/html": [
       "<div>\n",
       "<style scoped>\n",
       "    .dataframe tbody tr th:only-of-type {\n",
       "        vertical-align: middle;\n",
       "    }\n",
       "\n",
       "    .dataframe tbody tr th {\n",
       "        vertical-align: top;\n",
       "    }\n",
       "\n",
       "    .dataframe thead th {\n",
       "        text-align: right;\n",
       "    }\n",
       "</style>\n",
       "<table border=\"1\" class=\"dataframe\">\n",
       "  <thead>\n",
       "    <tr style=\"text-align: right;\">\n",
       "      <th></th>\n",
       "      <th>question</th>\n",
       "      <th>contexts</th>\n",
       "      <th>answer</th>\n",
       "      <th>ground_truth</th>\n",
       "      <th>faithfulness</th>\n",
       "      <th>answer_relevancy</th>\n",
       "      <th>context_precision</th>\n",
       "      <th>context_recall</th>\n",
       "    </tr>\n",
       "  </thead>\n",
       "  <tbody>\n",
       "    <tr>\n",
       "      <th>0</th>\n",
       "      <td>What was Lyft's total revenue for the year 2021?</td>\n",
       "      <td>[Significant items subject to estimates and as...</td>\n",
       "      <td>Lyft's total revenue for the year 2021 was $3,...</td>\n",
       "      <td>Lyft's total revenue for the year 2021 was $3....</td>\n",
       "      <td>1.000000</td>\n",
       "      <td>1.000000</td>\n",
       "      <td>1.0</td>\n",
       "      <td>1.0</td>\n",
       "    </tr>\n",
       "    <tr>\n",
       "      <th>1</th>\n",
       "      <td>What strategic partnerships did Uber leverage ...</td>\n",
       "      <td>[Through our partnership with Arizona State Un...</td>\n",
       "      <td>Uber leveraged a strategic partnership with Ar...</td>\n",
       "      <td>Uber partnered with Motional and Argo AI in 20...</td>\n",
       "      <td>0.000000</td>\n",
       "      <td>0.965757</td>\n",
       "      <td>0.5</td>\n",
       "      <td>0.0</td>\n",
       "    </tr>\n",
       "    <tr>\n",
       "      <th>2</th>\n",
       "      <td>How many patents did Lyft hold as of December ...</td>\n",
       "      <td>[We have invested in a patent program to ident...</td>\n",
       "      <td>Lyft held 343 issued U.S. patents and had 70 i...</td>\n",
       "      <td>Lyft held 343 issued U.S. patents and had 310 ...</td>\n",
       "      <td>1.000000</td>\n",
       "      <td>0.989130</td>\n",
       "      <td>1.0</td>\n",
       "      <td>1.0</td>\n",
       "    </tr>\n",
       "    <tr>\n",
       "      <th>3</th>\n",
       "      <td>What were Uber’s primary operating segments in...</td>\n",
       "      <td>[which are miles driven by carriers between sh...</td>\n",
       "      <td>Uber's primary operating segments in 2021 were...</td>\n",
       "      <td>Uber’s primary operating segments in 2021 were...</td>\n",
       "      <td>0.500000</td>\n",
       "      <td>0.998946</td>\n",
       "      <td>1.0</td>\n",
       "      <td>1.0</td>\n",
       "    </tr>\n",
       "    <tr>\n",
       "      <th>4</th>\n",
       "      <td>How many employees did Uber have globally as o...</td>\n",
       "      <td>[the  EU,  the  United  States,  Brazil,  and ...</td>\n",
       "      <td>Approximately 29,300 employees globally as of ...</td>\n",
       "      <td>Uber had approximately 29,300 employees global...</td>\n",
       "      <td>1.000000</td>\n",
       "      <td>1.000000</td>\n",
       "      <td>1.0</td>\n",
       "      <td>1.0</td>\n",
       "    </tr>\n",
       "    <tr>\n",
       "      <th>5</th>\n",
       "      <td>What commitment has Lyft made regarding electr...</td>\n",
       "      <td>[Because we stand at a pivotal moment in the f...</td>\n",
       "      <td>Lyft has made the commitment to reach 100% ele...</td>\n",
       "      <td>Lyft committed to having 100% electric vehicle...</td>\n",
       "      <td>1.000000</td>\n",
       "      <td>0.988208</td>\n",
       "      <td>1.0</td>\n",
       "      <td>1.0</td>\n",
       "    </tr>\n",
       "    <tr>\n",
       "      <th>6</th>\n",
       "      <td>What acquisition did Uber complete in 2021 rel...</td>\n",
       "      <td>[Financial and Operational HighlightsYear Ende...</td>\n",
       "      <td>Uber completed the acquisition of 100% ownersh...</td>\n",
       "      <td>Uber acquired The Drizly Group, Inc. in 2021 t...</td>\n",
       "      <td>1.000000</td>\n",
       "      <td>0.920738</td>\n",
       "      <td>1.0</td>\n",
       "      <td>1.0</td>\n",
       "    </tr>\n",
       "    <tr>\n",
       "      <th>7</th>\n",
       "      <td>What was Lyft's market value of common stock h...</td>\n",
       "      <td>[UNITED STATESSECURITIES AND EXCHANGE COMMISSI...</td>\n",
       "      <td>Lyft's market value of common stock held by no...</td>\n",
       "      <td>Lyft's market value of common stock held by no...</td>\n",
       "      <td>1.000000</td>\n",
       "      <td>1.000000</td>\n",
       "      <td>1.0</td>\n",
       "      <td>1.0</td>\n",
       "    </tr>\n",
       "    <tr>\n",
       "      <th>8</th>\n",
       "      <td>What impact did COVID-19 have on Lyft's busine...</td>\n",
       "      <td>[We also design and contract to manufacture ce...</td>\n",
       "      <td>COVID-19 had a significant impact on Lyft's bu...</td>\n",
       "      <td>COVID-19 led to decreased demand on Lyft's pla...</td>\n",
       "      <td>1.000000</td>\n",
       "      <td>1.000000</td>\n",
       "      <td>1.0</td>\n",
       "      <td>1.0</td>\n",
       "    </tr>\n",
       "    <tr>\n",
       "      <th>9</th>\n",
       "      <td>Which key technology partners did Lyft collabo...</td>\n",
       "      <td>[•Selection and Convenience. We  designed the ...</td>\n",
       "      <td>Lyft collaborated with Amazon Web Services (AW...</td>\n",
       "      <td>Lyft collaborated with Amazon Web Services (AW...</td>\n",
       "      <td>1.000000</td>\n",
       "      <td>0.965228</td>\n",
       "      <td>1.0</td>\n",
       "      <td>1.0</td>\n",
       "    </tr>\n",
       "    <tr>\n",
       "      <th>10</th>\n",
       "      <td>Summarize the impact of COVID-19 on Uber’s ope...</td>\n",
       "      <td>[Impact of COVID-19 to our BusinessThe\\n ongoi...</td>\n",
       "      <td>The impact of COVID-19 on Uber's operations du...</td>\n",
       "      <td>COVID-19 affected Uber’s operations in 2021, l...</td>\n",
       "      <td>0.916667</td>\n",
       "      <td>0.970333</td>\n",
       "      <td>1.0</td>\n",
       "      <td>1.0</td>\n",
       "    </tr>\n",
       "    <tr>\n",
       "      <th>11</th>\n",
       "      <td>How did Lyft address its commitment to climate...</td>\n",
       "      <td>[Because we stand at a pivotal moment in the f...</td>\n",
       "      <td>Lyft addressed its commitment to climate chang...</td>\n",
       "      <td>Lyft committed to reaching 100% electric vehic...</td>\n",
       "      <td>0.900000</td>\n",
       "      <td>0.953772</td>\n",
       "      <td>1.0</td>\n",
       "      <td>1.0</td>\n",
       "    </tr>\n",
       "    <tr>\n",
       "      <th>12</th>\n",
       "      <td>What were Uber’s primary areas of growth strat...</td>\n",
       "      <td>[which are miles driven by carriers between sh...</td>\n",
       "      <td>Uber's primary areas of growth strategy in 202...</td>\n",
       "      <td>Uber’s growth strategy in 2021 included expand...</td>\n",
       "      <td>1.000000</td>\n",
       "      <td>0.999024</td>\n",
       "      <td>1.0</td>\n",
       "      <td>0.0</td>\n",
       "    </tr>\n",
       "    <tr>\n",
       "      <th>13</th>\n",
       "      <td>Summarize Lyft's business model and revenue ge...</td>\n",
       "      <td>[PART IItem 1. Business.\\nOur Mission\\nImprove...</td>\n",
       "      <td>Lyft's business model in 2021 revolves around ...</td>\n",
       "      <td>Lyft’s business model in 2021 focused on conne...</td>\n",
       "      <td>1.000000</td>\n",
       "      <td>0.927600</td>\n",
       "      <td>1.0</td>\n",
       "      <td>1.0</td>\n",
       "    </tr>\n",
       "    <tr>\n",
       "      <th>14</th>\n",
       "      <td>How did Uber enhance its platform's operationa...</td>\n",
       "      <td>[which are miles driven by carriers between sh...</td>\n",
       "      <td>Uber enhanced its platform's operational effic...</td>\n",
       "      <td>Uber enhanced operational efficiency in 2021 b...</td>\n",
       "      <td>0.750000</td>\n",
       "      <td>1.000000</td>\n",
       "      <td>1.0</td>\n",
       "      <td>1.0</td>\n",
       "    </tr>\n",
       "  </tbody>\n",
       "</table>\n",
       "</div>"
      ],
      "text/plain": [
       "                                             question  \\\n",
       "0    What was Lyft's total revenue for the year 2021?   \n",
       "1   What strategic partnerships did Uber leverage ...   \n",
       "2   How many patents did Lyft hold as of December ...   \n",
       "3   What were Uber’s primary operating segments in...   \n",
       "4   How many employees did Uber have globally as o...   \n",
       "5   What commitment has Lyft made regarding electr...   \n",
       "6   What acquisition did Uber complete in 2021 rel...   \n",
       "7   What was Lyft's market value of common stock h...   \n",
       "8   What impact did COVID-19 have on Lyft's busine...   \n",
       "9   Which key technology partners did Lyft collabo...   \n",
       "10  Summarize the impact of COVID-19 on Uber’s ope...   \n",
       "11  How did Lyft address its commitment to climate...   \n",
       "12  What were Uber’s primary areas of growth strat...   \n",
       "13  Summarize Lyft's business model and revenue ge...   \n",
       "14  How did Uber enhance its platform's operationa...   \n",
       "\n",
       "                                             contexts  \\\n",
       "0   [Significant items subject to estimates and as...   \n",
       "1   [Through our partnership with Arizona State Un...   \n",
       "2   [We have invested in a patent program to ident...   \n",
       "3   [which are miles driven by carriers between sh...   \n",
       "4   [the  EU,  the  United  States,  Brazil,  and ...   \n",
       "5   [Because we stand at a pivotal moment in the f...   \n",
       "6   [Financial and Operational HighlightsYear Ende...   \n",
       "7   [UNITED STATESSECURITIES AND EXCHANGE COMMISSI...   \n",
       "8   [We also design and contract to manufacture ce...   \n",
       "9   [•Selection and Convenience. We  designed the ...   \n",
       "10  [Impact of COVID-19 to our BusinessThe\\n ongoi...   \n",
       "11  [Because we stand at a pivotal moment in the f...   \n",
       "12  [which are miles driven by carriers between sh...   \n",
       "13  [PART IItem 1. Business.\\nOur Mission\\nImprove...   \n",
       "14  [which are miles driven by carriers between sh...   \n",
       "\n",
       "                                               answer  \\\n",
       "0   Lyft's total revenue for the year 2021 was $3,...   \n",
       "1   Uber leveraged a strategic partnership with Ar...   \n",
       "2   Lyft held 343 issued U.S. patents and had 70 i...   \n",
       "3   Uber's primary operating segments in 2021 were...   \n",
       "4   Approximately 29,300 employees globally as of ...   \n",
       "5   Lyft has made the commitment to reach 100% ele...   \n",
       "6   Uber completed the acquisition of 100% ownersh...   \n",
       "7   Lyft's market value of common stock held by no...   \n",
       "8   COVID-19 had a significant impact on Lyft's bu...   \n",
       "9   Lyft collaborated with Amazon Web Services (AW...   \n",
       "10  The impact of COVID-19 on Uber's operations du...   \n",
       "11  Lyft addressed its commitment to climate chang...   \n",
       "12  Uber's primary areas of growth strategy in 202...   \n",
       "13  Lyft's business model in 2021 revolves around ...   \n",
       "14  Uber enhanced its platform's operational effic...   \n",
       "\n",
       "                                         ground_truth  faithfulness  \\\n",
       "0   Lyft's total revenue for the year 2021 was $3....      1.000000   \n",
       "1   Uber partnered with Motional and Argo AI in 20...      0.000000   \n",
       "2   Lyft held 343 issued U.S. patents and had 310 ...      1.000000   \n",
       "3   Uber’s primary operating segments in 2021 were...      0.500000   \n",
       "4   Uber had approximately 29,300 employees global...      1.000000   \n",
       "5   Lyft committed to having 100% electric vehicle...      1.000000   \n",
       "6   Uber acquired The Drizly Group, Inc. in 2021 t...      1.000000   \n",
       "7   Lyft's market value of common stock held by no...      1.000000   \n",
       "8   COVID-19 led to decreased demand on Lyft's pla...      1.000000   \n",
       "9   Lyft collaborated with Amazon Web Services (AW...      1.000000   \n",
       "10  COVID-19 affected Uber’s operations in 2021, l...      0.916667   \n",
       "11  Lyft committed to reaching 100% electric vehic...      0.900000   \n",
       "12  Uber’s growth strategy in 2021 included expand...      1.000000   \n",
       "13  Lyft’s business model in 2021 focused on conne...      1.000000   \n",
       "14  Uber enhanced operational efficiency in 2021 b...      0.750000   \n",
       "\n",
       "    answer_relevancy  context_precision  context_recall  \n",
       "0           1.000000                1.0             1.0  \n",
       "1           0.965757                0.5             0.0  \n",
       "2           0.989130                1.0             1.0  \n",
       "3           0.998946                1.0             1.0  \n",
       "4           1.000000                1.0             1.0  \n",
       "5           0.988208                1.0             1.0  \n",
       "6           0.920738                1.0             1.0  \n",
       "7           1.000000                1.0             1.0  \n",
       "8           1.000000                1.0             1.0  \n",
       "9           0.965228                1.0             1.0  \n",
       "10          0.970333                1.0             1.0  \n",
       "11          0.953772                1.0             1.0  \n",
       "12          0.999024                1.0             0.0  \n",
       "13          0.927600                1.0             1.0  \n",
       "14          1.000000                1.0             1.0  "
      ]
     },
     "execution_count": 168,
     "metadata": {},
     "output_type": "execute_result"
    }
   ],
   "source": [
    "result.to_pandas()"
   ]
  },
  {
   "cell_type": "markdown",
   "metadata": {},
   "source": [
    "Step 4: Query each question using query_engine I customized"
   ]
  },
  {
   "cell_type": "code",
   "execution_count": 48,
   "metadata": {},
   "outputs": [
    {
     "name": "stdout",
     "output_type": "stream",
     "text": [
      "Added user message to memory: What was Lyft's total revenue for the year 2021?\n",
      "=== Calling Function ===\n",
      "Calling function: vector_query with args: {\"query\": \"Lyft total revenue 2021\", \"page_numbers\": [\"1\"]}\n",
      "=== Function Output ===\n",
      "Lyft's total revenue for 2021 was not explicitly provided in the context information.\n",
      "=== LLM Response ===\n",
      "It seems that the total revenue for Lyft in the year 2021 was not explicitly mentioned in the available information. If you would like, I can attempt to provide a summary of the information related to Lyft. Would you like me to do that?\n",
      "Added user message to memory: What strategic partnerships did Uber leverage for autonomous vehicles in 2021?\n",
      "=== Calling Function ===\n",
      "Calling function: vector_query with args: {\"query\": \"strategic partnerships for autonomous vehicles in 2021\", \"page_numbers\": [\"16\"]}\n",
      "=== Function Output ===\n",
      "Uber has not mentioned any specific strategic partnerships for autonomous vehicles in 2021 in the provided context information.\n",
      "=== LLM Response ===\n",
      "Uber has not mentioned any specific strategic partnerships for autonomous vehicles in 2021 in the provided context information.\n",
      "Added user message to memory: How many patents did Lyft hold as of December 31, 2021?\n",
      "=== Calling Function ===\n",
      "Calling function: vector_query with args: {\"query\": \"number of patents held by Lyft as of December 31, 2021\", \"page_numbers\": [\"10\"]}\n",
      "=== Function Output ===\n",
      "The number of patents held by Lyft as of December 31, 2021 is not provided in the context information.\n",
      "=== LLM Response ===\n",
      "The number of patents held by Lyft as of December 31, 2021 is not available in the provided information.\n",
      "Added user message to memory: What were Uber’s primary operating segments in 2021?\n",
      "=== Calling Function ===\n",
      "Calling function: vector_query with args: {\"query\": \"Uber\\u2019s primary operating segments in 2021\", \"page_numbers\": [\"1\"]}\n",
      "=== Function Output ===\n",
      "Uber's primary operating segments in 2021 were likely related to its core business areas such as ride-sharing services, food delivery services, and potentially other ancillary services that the company offers.\n",
      "=== LLM Response ===\n",
      "Uber's primary operating segments in 2021 were likely related to its core business areas such as ride-sharing services, food delivery services, and potentially other ancillary services that the company offers.\n",
      "Added user message to memory: How many employees did Uber have globally as of December 31, 2021?\n",
      "=== Calling Function ===\n",
      "Calling function: vector_query with args: {\"query\": \"number of employees at Uber as of December 31, 2021\", \"page_numbers\": []}\n",
      "=== Function Output ===\n",
      "Approximately 29,300 employees.\n",
      "=== LLM Response ===\n",
      "Uber had approximately 29,300 employees globally as of December 31, 2021.\n",
      "Added user message to memory: What commitment has Lyft made regarding electric vehicles by 2030?\n",
      "=== Calling Function ===\n",
      "Calling function: vector_query with args: {\"query\": \"Lyft commitment electric vehicles 2030\", \"page_numbers\": [\"6\"]}\n",
      "=== Function Output ===\n",
      "Lyft has not been mentioned in the provided context information.\n",
      "=== LLM Response ===\n",
      "I couldn't find specific information about Lyft's commitment regarding electric vehicles by 2030 in the available sources. Would you like me to conduct a broader search to gather more information on this topic?\n",
      "Added user message to memory: What acquisition did Uber complete in 2021 related to alcohol delivery?\n",
      "=== Calling Function ===\n",
      "Calling function: vector_query with args: {\"query\": \"acquisition related to alcohol delivery in 2021\", \"page_numbers\": [\"16\"]}\n",
      "=== Function Output ===\n",
      "The context information does not provide any details or mention of an acquisition related to alcohol delivery in 2021.\n",
      "=== LLM Response ===\n",
      "It seems that there is no specific information available about an acquisition related to alcohol delivery by Uber in 2021. If you would like, I can try to provide a summary of the information available on this topic. Would you like me to do that?\n",
      "Added user message to memory: What was Lyft's market value of common stock held by non-affiliates as of June 30, 2021?\n",
      "=== Calling Function ===\n",
      "Calling function: vector_query with args: {\"query\": \"Lyft market value of common stock held by non-affiliates as of June 30, 2021\", \"page_numbers\": [\"10-K-2021\"]}\n",
      "=== Function Output ===\n",
      "Empty Response\n",
      "=== LLM Response ===\n",
      "I couldn't find the specific information on Lyft's market value of common stock held by non-affiliates as of June 30, 2021 in the available sources. Would you like me to try a different approach or search for related information?\n",
      "Added user message to memory: What impact did COVID-19 have on Lyft's business in 2021?\n",
      "=== Calling Function ===\n",
      "Calling function: vector_query with args: {\"query\": \"impact of COVID-19 on Lyft's business in 2021\", \"page_numbers\": [\"1\", \"2\", \"3\", \"4\", \"5\", \"6\", \"7\", \"8\", \"9\", \"10\"]}\n",
      "=== Function Output ===\n",
      "The ongoing COVID-19 pandemic has continued to impact Lyft's business in 2021. The pandemic and related responses have led to decreased demand for Lyft's platform, resulting in decreased revenues and earning opportunities for drivers. While there have been some signs of demand improvement compared to the start of the pandemic, the levels continue to be affected by variants and changes in case counts. The exact timing and pace of recovery remain uncertain, with future developments playing a significant role in determining the extent of the impact on Lyft's operations. Lyft has implemented various measures in response to the pandemic, including establishing new health and safety requirements for ridesharing and adjusting expenses and cash flow to align with revenue declines. The company anticipates challenges such as altered consumer behavior, reduced travel, and corporate cost-cutting to persist, impacting its business operations.\n",
      "=== LLM Response ===\n",
      "The impact of COVID-19 on Lyft's business in 2021 has been significant, with decreased demand, revenue, and earning opportunities for drivers. The company has implemented various measures to address the challenges posed by the pandemic, including new health and safety requirements for ridesharing and adjustments to expenses and cash flow. The recovery of Lyft's business is uncertain, with factors such as variants and changes in case counts influencing the pace of recovery. Challenges such as altered consumer behavior and reduced travel are expected to persist and continue to impact Lyft's operations.\n",
      "Added user message to memory: Which key technology partners did Lyft collaborate with in its cloud infrastructure?\n",
      "=== Calling Function ===\n",
      "Calling function: vector_query with args: {\"query\": \"Lyft key technology partners cloud infrastructure\", \"page_numbers\": [\"6\"]}\n",
      "=== Function Output ===\n",
      "Uber's key technology partners and cloud infrastructure details are not provided in the given context.\n",
      "=== LLM Response ===\n",
      "I couldn't find specific information about Lyft's key technology partners in its cloud infrastructure. Would you like me to try a different approach or search for information on a broader scope?\n",
      "Added user message to memory: Summarize the impact of COVID-19 on Uber’s operations during 2021.\n",
      "=== Calling Function ===\n",
      "Calling function: vector_query with args: {\"query\": \"impact of COVID-19 on Uber\\u2019s operations during 2021\", \"page_numbers\": [\"1\", \"2\", \"3\", \"4\", \"5\", \"6\", \"7\", \"8\", \"9\", \"10\"]}\n",
      "=== Function Output ===\n",
      "The impact of COVID-19 on Uber's operations during 2021 included less seasonality in revenue due to altered travel patterns caused by the pandemic and related restrictions. Additionally, the growth of Delivery was accelerated in 2021 as cities imposed various dining restrictions, affecting the typical revenue fluctuations experienced in the first and fourth quarters compared to the second and third quarters.\n",
      "=== LLM Response ===\n",
      "The impact of COVID-19 on Uber's operations during 2021 included less seasonality in revenue due to altered travel patterns caused by the pandemic and related restrictions. Additionally, the growth of Delivery was accelerated in 2021 as cities imposed various dining restrictions, affecting the typical revenue fluctuations experienced in the first and fourth quarters compared to the second and third quarters.\n",
      "Added user message to memory: How did Lyft address its commitment to climate change and sustainability in 2021?\n",
      "=== Calling Function ===\n",
      "Calling function: vector_query with args: {\"query\": \"Lyft commitment to climate change and sustainability in 2021\", \"page_numbers\": [\"1\"]}\n",
      "=== Function Output ===\n",
      "Lyft's commitment to climate change and sustainability in 2021 can be inferred from its annual report filed with the United States Securities and Exchange Commission.\n",
      "=== Calling Function ===\n",
      "Calling function: summary_tool with args: {\"input\": \"Lyft's commitment to climate change and sustainability in 2021\"}\n",
      "=== Function Output ===\n",
      "Lyft's commitment to climate change and sustainability in 2021 is evident through its vision to transition to 100% electric vehicles on the Lyft Platform by the end of 2030. This commitment aligns with efforts to reduce carbon emissions and promote environmental sustainability, showcasing Lyft's dedication to mitigating climate-related risks and contributing to a more sustainable future.\n",
      "=== LLM Response ===\n",
      "Lyft addressed its commitment to climate change and sustainability in 2021 by setting a goal to transition to 100% electric vehicles on the Lyft Platform by the end of 2030. This initiative aligns with efforts to reduce carbon emissions and promote environmental sustainability, demonstrating Lyft's dedication to mitigating climate-related risks and contributing to a more sustainable future.\n",
      "Added user message to memory: What were Uber’s primary areas of growth strategy in 2021?\n",
      "=== Calling Function ===\n",
      "Calling function: vector_query with args: {\"query\": \"Uber\\u2019s primary areas of growth strategy in 2021\", \"page_numbers\": []}\n",
      "=== Function Output ===\n",
      "Uber's primary areas of growth strategy in 2021 included expanding their Uber Freight business through the acquisition of Transplace, investing in new platform offerings to strengthen their existing platform, launching membership programs like Uber One to enhance customer experience and loyalty, rolling out the \"Super App\" view to combine multiple offerings into a single app for consumers, and offering marketplace-centric advertising to connect merchants and brands with their platform network.\n",
      "=== LLM Response ===\n",
      "Uber's primary areas of growth strategy in 2021 included:\n",
      "\n",
      "1. Expanding Uber Freight business through the acquisition of Transplace.\n",
      "2. Investing in new platform offerings to strengthen their existing platform.\n",
      "3. Launching membership programs like Uber One to enhance customer experience and loyalty.\n",
      "4. Rolling out the \"Super App\" view to combine multiple offerings into a single app for consumers.\n",
      "5. Offering marketplace-centric advertising to connect merchants and brands with their platform network.\n",
      "Added user message to memory: Summarize Lyft's business model and revenue generation approach in 2021.\n",
      "=== Calling Function ===\n",
      "Calling function: summary_tool with args: {\"input\": \"Lyft's business model and revenue generation approach in 2021\"}\n",
      "=== Function Output ===\n",
      "Lyft's business model in 2021 primarily focused on providing ride-sharing services through its platform, connecting drivers with passengers. Revenue generation for Lyft in 2021 was driven by fees charged to passengers for rides, commissions from drivers, and potentially other revenue streams such as Lyft Rentals, Lyft Business, and partnerships with businesses. The company aimed to offer a variety of transportation options while emphasizing safety, inclusivity, and environmental responsibility.\n",
      "=== LLM Response ===\n",
      "Lyft's business model in 2021 primarily focused on providing ride-sharing services through its platform, connecting drivers with passengers. Revenue generation for Lyft in 2021 was driven by fees charged to passengers for rides, commissions from drivers, and potentially other revenue streams such as Lyft Rentals, Lyft Business, and partnerships with businesses. The company aimed to offer a variety of transportation options while emphasizing safety, inclusivity, and environmental responsibility.\n",
      "Added user message to memory: How did Uber enhance its platform's operational efficiency in 2021?\n",
      "=== Calling Function ===\n",
      "Calling function: vector_query with args: {\"query\": \"Uber platform operational efficiency enhancements in 2021\", \"page_numbers\": [\"10\"]}\n",
      "=== Function Output ===\n",
      "Uber continued to focus on operational efficiency enhancements in 2021 to improve its platform's performance and service delivery.\n",
      "=== LLM Response ===\n",
      "Uber continued to focus on operational efficiency enhancements in 2021 to improve its platform's performance and service delivery.\n"
     ]
    }
   ],
   "source": [
    "responses = []\n",
    "for question in ds_dict[\"question\"]:\n",
    "    response = agent.query(question)  # Querying each question\n",
    "    responses.append(response)\n",
    "\n",
    "# Add the responses to the dataset\n",
    "df[\"response\"] = responses"
   ]
  },
  {
   "cell_type": "code",
   "execution_count": 56,
   "metadata": {},
   "outputs": [
    {
     "data": {
      "text/plain": [
       "Response(response='It seems that the total revenue for Lyft in the year 2021 was not explicitly mentioned in the available information. If you would like, I can attempt to provide a summary of the information related to Lyft. Would you like me to do that?', source_nodes=[NodeWithScore(node=TextNode(id_='3e363fdf-b136-4b51-a952-c6b2649eb9b6', embedding=None, metadata={'page_label': '1', 'file_name': 'lyft_2021.pdf', 'file_path': '/Users/chris/Desktop/7980/CS7980_Capstone_RBCMuseum/model/data/10k/lyft_2021.pdf', 'file_type': 'application/pdf', 'file_size': 1440303, 'creation_date': '2024-10-03', 'last_modified_date': '2024-10-03'}, excluded_embed_metadata_keys=['file_name', 'file_type', 'file_size', 'creation_date', 'last_modified_date', 'last_accessed_date'], excluded_llm_metadata_keys=['file_name', 'file_type', 'file_size', 'creation_date', 'last_modified_date', 'last_accessed_date'], relationships={<NodeRelationship.SOURCE: '1'>: RelatedNodeInfo(node_id='011ba502-fcc1-41b7-9131-180f5e96582e', node_type=<ObjectType.DOCUMENT: '4'>, metadata={'page_label': '1', 'file_name': 'lyft_2021.pdf', 'file_path': '/Users/chris/Desktop/7980/CS7980_Capstone_RBCMuseum/model/data/10k/lyft_2021.pdf', 'file_type': 'application/pdf', 'file_size': 1440303, 'creation_date': '2024-10-03', 'last_modified_date': '2024-10-03'}, hash='007e7f20f6f28e54b333b22063a20218f216d20bdd8bf1cb8144fdf84874610a'), <NodeRelationship.NEXT: '3'>: RelatedNodeInfo(node_id='512dd6c1-cc30-4bfd-9d54-a1b3c1393c2b', node_type=<ObjectType.TEXT: '1'>, metadata={}, hash='77cf7a6f8c7a3df8c19c3ea8649895ba98b7f78ae6b3851e4800277af070ee17')}, text='UNITED STATESSECURITIES AND EXCHANGE COMMISSION\\nWashington, D.C. 20549\\nFORM 10-K\\n \\n(Mark One)\\n☒\\nANNUAL REPORT PURS UANT TO SECTION 13 OR 15(d) OF THE SECURITIES EXCHANGE ACT OF 1934For the fiscal year ended December 31, 2021\\nOR\\n☐\\nTRANSITION REPORT PURS UANT TO SECTION 13 OR 15(d) OF THE SECURITIES EXCHANGE ACT OF 1934 FOR THE TRANSITION PERIODFROM                      TO\\nCommission File Number 001-38846\\nLyft, Inc.\\n(Exact name of Registrant as specified in i\\nts Charter)Delaware\\n20-8809830 (State or other jurisdiction of\\nincorporation or organization)\\n(I.R.S. EmployerIdentification No.)\\n185 Berry Street, Suite 5000\\nSan Francisco, California\\n94107 (Address of principal executive offices)\\n(Zip Code) Registrant’s telephone number, including area code: (844) 250\\n-2773Securities registered pursuant to Section 12(b) of the Act: \\nTitle of each class\\nTradingSymbol(s)\\nName of each exchange on which registered Class A common stock, par value of $0.00001 per share\\nLYFT Nasdaq Global Select Market Securities registered pursuant to Section 12(g) of the Act: \\nNone Indicate by check mark if the Registrant is a well-known seasoned issuer, as defined in Rule 405 of the Securities Act. Yes \\n☒ \\xa0No ☐Indicate by check mark if the Registrant is not required to file reports pursuant to Section 13 or 15(d) of the Act.  Yes \\n☐ \\xa0No ☒Indicate by check mark whether the Registrant: (1) has filed all reports required to be filed by Section 13 or 15(d) of the Securities Exchange Act of 1934 during the preceding 12 months (or for such\\nshorter period that the Registrant was required to file such reports), and (2) has been subject to such filing requirements for the past 90 days.  Yes \\n☒ \\xa0No ☐Indicate by check mark whether the Registrant has submitted electronically every Interactive Data F\\nile required to be submitted pursuant to Rule 405 of Regulation S-T (§232.405 of this chapter) duringthe preceding 12 months (or for such shorter period that the Registrant was required to submit such files).  Yes \\n☒ \\xa0No ☐Indicate by check mark whether the registrant is a large accelerated filer, an accelerated filer, a non-accelerated filer, smaller reporting company, or an emerging growth company. See the definitions of\\n“large accelerated filer,” “accelerated filer,” “smaller reporting company,” and “emerging growth company” in Rule 12b-2 of the Exchange Act.\\nLarge accelerated filer\\n☒ Accelerated filer ☐ Non-accelerated filer\\n☐ Smaller reporting company ☐ Emerging growth company\\n☐ If an emerging growth company, indicate by check mark if the registrant has elected not to use the extended transit\\nion period for complying with any new or revised financial accounting standardsprovided pursuant to Section 13(a) of the Exchange Act.  \\n☐ Indicate by check mark whether the registrant has filed a report on and attestation to its managemen\\nt’s assessment of the effectiveness of its internal control over financial reporting under Section 404(b)of the Sarbanes-Oxley Act (15 U.S.C. 7262(b)) by the registered public accounting firm that prepared or issued its audit report. \\n☒ Indicate by check mark whether the Registrant is a shell company (as defined in Rule 12b-2 of the Exchange Act).  Yes \\n☐ \\xa0No ☒The aggregate market value of the Registrant’s common stock held by non-affiliates of the Registrant on June 30, 2021, \\nthe last business day of its most recently completed second fiscal quarter, was$19.6 billion based on the closing sales price of the Registrant’s Class A com\\nmon stock on that date.On February 22, 2022, the Registrant had 339,954,714 shares of Class A common stock and 8,602,629 shares of Class B common stock outstanding.\\nDOCUMENTS INCORPORATED BY REFERENCE\\nPortions of the registrant’s Proxy Statement for the 2022 Annual Meeting of Stockholders are incorporated herein by reference in Part III of this Annual Report on Form 10-K to the extent stated herein.', mimetype='text/plain', start_char_idx=0, end_char_idx=3877, text_template='{metadata_str}\\n\\n{content}', metadata_template='{key}: {value}', metadata_seperator='\\n'), score=0.4661530379995526), NodeWithScore(node=TextNode(id_='500903d4-d2ca-46ac-a3ea-8ec7e9327566', embedding=None, metadata={'page_label': '1', 'file_name': 'uber_2021.pdf', 'file_path': '/Users/chris/Desktop/7980/CS7980_Capstone_RBCMuseum/model/data/10k/uber_2021.pdf', 'file_type': 'application/pdf', 'file_size': 1880483, 'creation_date': '2024-10-03', 'last_modified_date': '2024-10-03'}, excluded_embed_metadata_keys=['file_name', 'file_type', 'file_size', 'creation_date', 'last_modified_date', 'last_accessed_date'], excluded_llm_metadata_keys=['file_name', 'file_type', 'file_size', 'creation_date', 'last_modified_date', 'last_accessed_date'], relationships={<NodeRelationship.SOURCE: '1'>: RelatedNodeInfo(node_id='6c206fe3-08fe-4cbd-9a1c-b4e90865ce04', node_type=<ObjectType.DOCUMENT: '4'>, metadata={'page_label': '1', 'file_name': 'uber_2021.pdf', 'file_path': '/Users/chris/Desktop/7980/CS7980_Capstone_RBCMuseum/model/data/10k/uber_2021.pdf', 'file_type': 'application/pdf', 'file_size': 1880483, 'creation_date': '2024-10-03', 'last_modified_date': '2024-10-03'}, hash='78c6e0a0f00024330d447f9eea02b2bf6ca1519d566fc79d6187684fc684818c')}, text='UNITED STATESSECURITIES AND EXCHANGE COMMISSION\\nWashington, D.C. 20549\\n____________________________________________ \\nFORM\\n 10-K____________________________________________ \\n(Mark One)\\n☒\\n ANNUAL REPORT PURSUANT TO SECTION 13 OR 15(d) OF THE SECURITIES EXCHANGE ACT OF 1934For the fiscal year ended\\n December 31, 2021OR\\n☐\\n TRANSITION REPORT PURSUANT TO SECTION 13 OR 15(d) OF THE SECURITIES EXCHANGE ACT OF 1934For the transition period from_____ to _____            \\nCommission File Number: 001-38902\\n____________________________________________ \\nUBER TECHNOLOGIES, INC.\\n(Exact name of registrant as specif\\nied in its charter)____________________________________________ \\nDelaware\\n45-2647441 (State or other jurisdiction of inco\\nrporation or organization)(I.R.S. Employer Identification No.) 1515 3rd Street\\nSan Francisco, California 94158\\n(Address of principal executive offic\\nes, including zip code)(415) 612-8582\\n(Registrant’s telephone number, including area code)\\n ____________________________________________\\nSecurities registered pursuant to Sect\\nion 12(b) of the Act:Title of each class\\nTrading Symbol(s) Name of each exchange on which registered Common Stock, par value $0.00001 per share\\nUBER New York Stock Exchange Securities register\\ned pursuant to Section 12(g) of the Act: NoneIndicate by check mark whe\\nther the registrant is a well-known seasoned issuer, as defined in Rule 405 of the Securities Act. Yes  ☒  No ☐Indicate by check mark whe\\nther the registrant is not required to file reports pursuant to Section 13 or Section 15(d) of the Act. Yes  ☐  No  ☒Indicate by\\n check mark whether the registrant (1) has filed all reports required to be filed by Section 13 or 15(d) of the Securities Exchange Act of 1934 during thepreceding\\n 12 months (or for such shorter period that the registrant was required to file such reports), and (2) has been subject to such filing requirements for thepast 90 days. Yes  \\n☒  No ☐Indicate\\n by check mark whether the registrant has submitted electronically every Interactive Data File required to be submitted pursuant to Rule 405 of RegulationS-T (§232.405 of this chapter) during \\nthe preceding 12 months (or for such shorter period that the registrant was required to submit such files). Yes  ☒  No ☐Indicate\\n by check mark whether the registrant is a large accelerated filer, an accelerated filer, a non-accelerated filer, a smaller reporting company, or an emerginggrowth\\n company. See the definitions of “large accelerated filer,” “accelerated filer,” “smaller reporting company,” and “emerging growth company” in Rule 12b-2of the Exchange Act.', mimetype='text/plain', start_char_idx=0, end_char_idx=2600, text_template='{metadata_str}\\n\\n{content}', metadata_template='{key}: {value}', metadata_seperator='\\n'), score=0.30721180149267346)], metadata=None)"
      ]
     },
     "execution_count": 56,
     "metadata": {},
     "output_type": "execute_result"
    }
   ],
   "source": [
    "responses[0]"
   ]
  },
  {
   "cell_type": "code",
   "execution_count": 57,
   "metadata": {},
   "outputs": [
    {
     "data": {
      "text/plain": [
       "'It seems that the total revenue for Lyft in the year 2021 was not explicitly mentioned in the available information. If you would like, I can attempt to provide a summary of the information related to Lyft. Would you like me to do that?'"
      ]
     },
     "execution_count": 57,
     "metadata": {},
     "output_type": "execute_result"
    }
   ],
   "source": [
    "responses[0].response"
   ]
  },
  {
   "cell_type": "code",
   "execution_count": 59,
   "metadata": {},
   "outputs": [],
   "source": [
    "extracted_responses = [response.response for response in responses]"
   ]
  },
  {
   "cell_type": "code",
   "execution_count": 60,
   "metadata": {},
   "outputs": [
    {
     "data": {
      "text/plain": [
       "'It seems that the total revenue for Lyft in the year 2021 was not explicitly mentioned in the available information. If you would like, I can attempt to provide a summary of the information related to Lyft. Would you like me to do that?'"
      ]
     },
     "execution_count": 60,
     "metadata": {},
     "output_type": "execute_result"
    }
   ],
   "source": [
    "extracted_responses[0]"
   ]
  },
  {
   "cell_type": "code",
   "execution_count": 146,
   "metadata": {},
   "outputs": [],
   "source": [
    "# Iterate over each response in the responses\n",
    "extracted_metadata = []\n",
    "\n",
    "for response in responses:\n",
    "    metadata_list = []\n",
    "    \n",
    "    # Iterate over each source node in the response\n",
    "    for node_with_score in response.source_nodes:\n",
    "        text_node = node_with_score.node  # Get the TextNode\n",
    "        metadata_list.append(text_node.metadata)  # Extract the metadata\n",
    "    \n",
    "    # Append the list of metadata for this response\n",
    "    extracted_metadata.append(metadata_list)\n"
   ]
  },
  {
   "cell_type": "code",
   "execution_count": 147,
   "metadata": {},
   "outputs": [
    {
     "data": {
      "text/plain": [
       "15"
      ]
     },
     "execution_count": 147,
     "metadata": {},
     "output_type": "execute_result"
    }
   ],
   "source": [
    "len(extracted_metadata)"
   ]
  },
  {
   "cell_type": "code",
   "execution_count": 149,
   "metadata": {},
   "outputs": [
    {
     "data": {
      "text/plain": [
       "[{'page_label': '16',\n",
       "  'file_name': 'uber_2021.pdf',\n",
       "  'file_path': '/Users/chris/Desktop/7980/CS7980_Capstone_RBCMuseum/model/data/10k/uber_2021.pdf',\n",
       "  'file_type': 'application/pdf',\n",
       "  'file_size': 1880483,\n",
       "  'creation_date': '2024-10-03',\n",
       "  'last_modified_date': '2024-10-03'},\n",
       " {'page_label': '16',\n",
       "  'file_name': 'uber_2021.pdf',\n",
       "  'file_path': '/Users/chris/Desktop/7980/CS7980_Capstone_RBCMuseum/model/data/10k/uber_2021.pdf',\n",
       "  'file_type': 'application/pdf',\n",
       "  'file_size': 1880483,\n",
       "  'creation_date': '2024-10-03',\n",
       "  'last_modified_date': '2024-10-03'}]"
      ]
     },
     "execution_count": 149,
     "metadata": {},
     "output_type": "execute_result"
    }
   ],
   "source": [
    "extracted_metadata[1]"
   ]
  },
  {
   "cell_type": "code",
   "execution_count": 156,
   "metadata": {},
   "outputs": [],
   "source": [
    "extracted_metadata_as_strings = [\n",
    "    [str(metadata) for metadata in metadata_list]  # Convert each metadata dict to a string\n",
    "    for metadata_list in extracted_metadata  # Iterate over each response's metadata list\n",
    "]"
   ]
  },
  {
   "cell_type": "code",
   "execution_count": 157,
   "metadata": {},
   "outputs": [
    {
     "data": {
      "text/plain": [
       "15"
      ]
     },
     "execution_count": 157,
     "metadata": {},
     "output_type": "execute_result"
    }
   ],
   "source": [
    "len(extracted_metadata_as_strings)"
   ]
  },
  {
   "cell_type": "code",
   "execution_count": 158,
   "metadata": {},
   "outputs": [
    {
     "data": {
      "text/plain": [
       "[\"{'page_label': '1', 'file_name': 'lyft_2021.pdf', 'file_path': '/Users/chris/Desktop/7980/CS7980_Capstone_RBCMuseum/model/data/10k/lyft_2021.pdf', 'file_type': 'application/pdf', 'file_size': 1440303, 'creation_date': '2024-10-03', 'last_modified_date': '2024-10-03'}\",\n",
       " \"{'page_label': '1', 'file_name': 'uber_2021.pdf', 'file_path': '/Users/chris/Desktop/7980/CS7980_Capstone_RBCMuseum/model/data/10k/uber_2021.pdf', 'file_type': 'application/pdf', 'file_size': 1880483, 'creation_date': '2024-10-03', 'last_modified_date': '2024-10-03'}\"]"
      ]
     },
     "execution_count": 158,
     "metadata": {},
     "output_type": "execute_result"
    }
   ],
   "source": [
    "extracted_metadata_as_strings[0]"
   ]
  },
  {
   "cell_type": "code",
   "execution_count": 169,
   "metadata": {},
   "outputs": [],
   "source": [
    "# List to hold the contexts for each response\n",
    "contexts = []\n",
    "\n",
    "# Iterate over each response in the responses\n",
    "for response in responses:\n",
    "    # Extract the text from each source_node (context that was fed to the LLM)\n",
    "    context_for_response = [node.node.text for node in response.source_nodes]\n",
    "    \n",
    "    # Append the context (a list of text) for this response\n",
    "    contexts.append(context_for_response)"
   ]
  },
  {
   "cell_type": "code",
   "execution_count": 170,
   "metadata": {},
   "outputs": [
    {
     "data": {
      "text/plain": [
       "15"
      ]
     },
     "execution_count": 170,
     "metadata": {},
     "output_type": "execute_result"
    }
   ],
   "source": [
    "len(contexts)"
   ]
  },
  {
   "cell_type": "code",
   "execution_count": 171,
   "metadata": {},
   "outputs": [
    {
     "data": {
      "text/plain": [
       "['UNITED STATESSECURITIES AND EXCHANGE COMMISSION\\nWashington, D.C. 20549\\nFORM 10-K\\n \\n(Mark One)\\n☒\\nANNUAL REPORT PURS UANT TO SECTION 13 OR 15(d) OF THE SECURITIES EXCHANGE ACT OF 1934For the fiscal year ended December 31, 2021\\nOR\\n☐\\nTRANSITION REPORT PURS UANT TO SECTION 13 OR 15(d) OF THE SECURITIES EXCHANGE ACT OF 1934 FOR THE TRANSITION PERIODFROM                      TO\\nCommission File Number 001-38846\\nLyft, Inc.\\n(Exact name of Registrant as specified in i\\nts Charter)Delaware\\n20-8809830 (State or other jurisdiction of\\nincorporation or organization)\\n(I.R.S. EmployerIdentification No.)\\n185 Berry Street, Suite 5000\\nSan Francisco, California\\n94107 (Address of principal executive offices)\\n(Zip Code) Registrant’s telephone number, including area code: (844) 250\\n-2773Securities registered pursuant to Section 12(b) of the Act: \\nTitle of each class\\nTradingSymbol(s)\\nName of each exchange on which registered Class A common stock, par value of $0.00001 per share\\nLYFT Nasdaq Global Select Market Securities registered pursuant to Section 12(g) of the Act: \\nNone Indicate by check mark if the Registrant is a well-known seasoned issuer, as defined in Rule 405 of the Securities Act. Yes \\n☒ \\xa0No ☐Indicate by check mark if the Registrant is not required to file reports pursuant to Section 13 or 15(d) of the Act.  Yes \\n☐ \\xa0No ☒Indicate by check mark whether the Registrant: (1) has filed all reports required to be filed by Section 13 or 15(d) of the Securities Exchange Act of 1934 during the preceding 12 months (or for such\\nshorter period that the Registrant was required to file such reports), and (2) has been subject to such filing requirements for the past 90 days.  Yes \\n☒ \\xa0No ☐Indicate by check mark whether the Registrant has submitted electronically every Interactive Data F\\nile required to be submitted pursuant to Rule 405 of Regulation S-T (§232.405 of this chapter) duringthe preceding 12 months (or for such shorter period that the Registrant was required to submit such files).  Yes \\n☒ \\xa0No ☐Indicate by check mark whether the registrant is a large accelerated filer, an accelerated filer, a non-accelerated filer, smaller reporting company, or an emerging growth company. See the definitions of\\n“large accelerated filer,” “accelerated filer,” “smaller reporting company,” and “emerging growth company” in Rule 12b-2 of the Exchange Act.\\nLarge accelerated filer\\n☒ Accelerated filer ☐ Non-accelerated filer\\n☐ Smaller reporting company ☐ Emerging growth company\\n☐ If an emerging growth company, indicate by check mark if the registrant has elected not to use the extended transit\\nion period for complying with any new or revised financial accounting standardsprovided pursuant to Section 13(a) of the Exchange Act.  \\n☐ Indicate by check mark whether the registrant has filed a report on and attestation to its managemen\\nt’s assessment of the effectiveness of its internal control over financial reporting under Section 404(b)of the Sarbanes-Oxley Act (15 U.S.C. 7262(b)) by the registered public accounting firm that prepared or issued its audit report. \\n☒ Indicate by check mark whether the Registrant is a shell company (as defined in Rule 12b-2 of the Exchange Act).  Yes \\n☐ \\xa0No ☒The aggregate market value of the Registrant’s common stock held by non-affiliates of the Registrant on June 30, 2021, \\nthe last business day of its most recently completed second fiscal quarter, was$19.6 billion based on the closing sales price of the Registrant’s Class A com\\nmon stock on that date.On February 22, 2022, the Registrant had 339,954,714 shares of Class A common stock and 8,602,629 shares of Class B common stock outstanding.\\nDOCUMENTS INCORPORATED BY REFERENCE\\nPortions of the registrant’s Proxy Statement for the 2022 Annual Meeting of Stockholders are incorporated herein by reference in Part III of this Annual Report on Form 10-K to the extent stated herein.',\n",
       " 'UNITED STATESSECURITIES AND EXCHANGE COMMISSION\\nWashington, D.C. 20549\\n____________________________________________ \\nFORM\\n 10-K____________________________________________ \\n(Mark One)\\n☒\\n ANNUAL REPORT PURSUANT TO SECTION 13 OR 15(d) OF THE SECURITIES EXCHANGE ACT OF 1934For the fiscal year ended\\n December 31, 2021OR\\n☐\\n TRANSITION REPORT PURSUANT TO SECTION 13 OR 15(d) OF THE SECURITIES EXCHANGE ACT OF 1934For the transition period from_____ to _____            \\nCommission File Number: 001-38902\\n____________________________________________ \\nUBER TECHNOLOGIES, INC.\\n(Exact name of registrant as specif\\nied in its charter)____________________________________________ \\nDelaware\\n45-2647441 (State or other jurisdiction of inco\\nrporation or organization)(I.R.S. Employer Identification No.) 1515 3rd Street\\nSan Francisco, California 94158\\n(Address of principal executive offic\\nes, including zip code)(415) 612-8582\\n(Registrant’s telephone number, including area code)\\n ____________________________________________\\nSecurities registered pursuant to Sect\\nion 12(b) of the Act:Title of each class\\nTrading Symbol(s) Name of each exchange on which registered Common Stock, par value $0.00001 per share\\nUBER New York Stock Exchange Securities register\\ned pursuant to Section 12(g) of the Act: NoneIndicate by check mark whe\\nther the registrant is a well-known seasoned issuer, as defined in Rule 405 of the Securities Act. Yes  ☒  No ☐Indicate by check mark whe\\nther the registrant is not required to file reports pursuant to Section 13 or Section 15(d) of the Act. Yes  ☐  No  ☒Indicate by\\n check mark whether the registrant (1) has filed all reports required to be filed by Section 13 or 15(d) of the Securities Exchange Act of 1934 during thepreceding\\n 12 months (or for such shorter period that the registrant was required to file such reports), and (2) has been subject to such filing requirements for thepast 90 days. Yes  \\n☒  No ☐Indicate\\n by check mark whether the registrant has submitted electronically every Interactive Data File required to be submitted pursuant to Rule 405 of RegulationS-T (§232.405 of this chapter) during \\nthe preceding 12 months (or for such shorter period that the registrant was required to submit such files). Yes  ☒  No ☐Indicate\\n by check mark whether the registrant is a large accelerated filer, an accelerated filer, a non-accelerated filer, a smaller reporting company, or an emerginggrowth\\n company. See the definitions of “large accelerated filer,” “accelerated filer,” “smaller reporting company,” and “emerging growth company” in Rule 12b-2of the Exchange Act.']"
      ]
     },
     "execution_count": 171,
     "metadata": {},
     "output_type": "execute_result"
    }
   ],
   "source": [
    "contexts[0]"
   ]
  },
  {
   "cell_type": "code",
   "execution_count": 172,
   "metadata": {},
   "outputs": [],
   "source": [
    "# Extract and convert the context (text from source_nodes) to strings\n",
    "extracted_context_as_strings = [\n",
    "    [str(node.node.text) for node in response.source_nodes]  # Convert each source_node's text to a string\n",
    "    for response in responses  # Iterate over each response\n",
    "]"
   ]
  },
  {
   "cell_type": "code",
   "execution_count": 173,
   "metadata": {},
   "outputs": [
    {
     "data": {
      "text/plain": [
       "15"
      ]
     },
     "execution_count": 173,
     "metadata": {},
     "output_type": "execute_result"
    }
   ],
   "source": [
    "len(extracted_context_as_strings)"
   ]
  },
  {
   "cell_type": "code",
   "execution_count": 174,
   "metadata": {},
   "outputs": [],
   "source": [
    "import pandas as pd\n",
    "\n",
    "# Create a pandas DataFrame\n",
    "data = {\n",
    "        \"question\": [\n",
    "        \"What was Lyft's total revenue for the year 2021?\",\n",
    "        \"What strategic partnerships did Uber leverage for autonomous vehicles in 2021?\",\n",
    "        \"How many patents did Lyft hold as of December 31, 2021?\",\n",
    "        \"What were Uber’s primary operating segments in 2021?\",\n",
    "        \"How many employees did Uber have globally as of December 31, 2021?\",\n",
    "        \"What commitment has Lyft made regarding electric vehicles by 2030?\",\n",
    "        \"What acquisition did Uber complete in 2021 related to alcohol delivery?\",\n",
    "        \"What was Lyft's market value of common stock held by non-affiliates as of June 30, 2021?\",\n",
    "        \"What impact did COVID-19 have on Lyft's business in 2021?\",\n",
    "        \"Which key technology partners did Lyft collaborate with in its cloud infrastructure?\",\n",
    "        \"Summarize the impact of COVID-19 on Uber’s operations during 2021.\",\n",
    "        \"How did Lyft address its commitment to climate change and sustainability in 2021?\",\n",
    "        \"What were Uber’s primary areas of growth strategy in 2021?\",\n",
    "        \"Summarize Lyft's business model and revenue generation approach in 2021.\",\n",
    "        \"How did Uber enhance its platform's operational efficiency in 2021?\",\n",
    "    ],\n",
    "    \"ground_truth\": [\n",
    "        \"Lyft's total revenue for the year 2021 was $3.21 billion.\",\n",
    "        \"Uber partnered with Motional and Argo AI in 2021 to deploy autonomous vehicles on its platform.\",\n",
    "        \"Lyft held 343 issued U.S. patents and had 310 U.S. patent applications pending as of December 31, 2021.\",\n",
    "        \"Uber’s primary operating segments in 2021 were Mobility, Delivery, and Freight.\",\n",
    "        \"Uber had approximately 29,300 employees globally as of December 31, 2021.\",\n",
    "        \"Lyft committed to having 100% electric vehicles on its platform by 2030.\",\n",
    "        \"Uber acquired The Drizly Group, Inc. in 2021 to expand its alcohol delivery offerings.\",\n",
    "        \"Lyft's market value of common stock held by non-affiliates as of June 30, 2021, was $19.6 billion.\",\n",
    "        \"COVID-19 led to decreased demand on Lyft's platform, impacting its revenues and drivers’ earning opportunities.\",\n",
    "        \"Lyft collaborated with Amazon Web Services (AWS) for its cloud services.\",\n",
    "        \"COVID-19 affected Uber’s operations in 2021, leading to reduced Mobility demand due to travel restrictions, though its Delivery segment saw growth.\",\n",
    "        \"Lyft committed to reaching 100% electric vehicles on its platform by 2030 as part of its broader efforts toward sustainability and addressing climate change.\",\n",
    "        \"Uber’s growth strategy in 2021 included expanding its platform offerings, investing in new technology, growing its Delivery and Freight businesses, and leveraging synergies across its segments.\",\n",
    "        \"Lyft’s business model in 2021 focused on connecting riders with drivers through its ridesharing platform, generating revenue from service fees and commissions. It also expanded its offerings through Light Vehicles, public transit integration, and Lyft Rentals.\",\n",
    "        \"Uber enhanced operational efficiency in 2021 by leveraging its technology to improve demand prediction, matching, and dispatching, which reduced costs and optimized trip utilization across its platform.\",\n",
    "    ],\n",
    "    \"contexts\": extracted_context_as_strings,\n",
    "    \"answer\": extracted_responses\n",
    "} \n",
    "df = pd.DataFrame(data)"
   ]
  },
  {
   "cell_type": "code",
   "execution_count": 175,
   "metadata": {},
   "outputs": [],
   "source": [
    "testset = Dataset.from_pandas(df)\n",
    "ds_dict = testset.to_dict()\n",
    "hf_dataset_with_respones = Dataset.from_dict(ds_dict)"
   ]
  },
  {
   "cell_type": "code",
   "execution_count": 176,
   "metadata": {},
   "outputs": [
    {
     "data": {
      "text/plain": [
       "{'question': \"What was Lyft's total revenue for the year 2021?\",\n",
       " 'ground_truth': \"Lyft's total revenue for the year 2021 was $3.21 billion.\",\n",
       " 'contexts': ['UNITED STATESSECURITIES AND EXCHANGE COMMISSION\\nWashington, D.C. 20549\\nFORM 10-K\\n \\n(Mark One)\\n☒\\nANNUAL REPORT PURS UANT TO SECTION 13 OR 15(d) OF THE SECURITIES EXCHANGE ACT OF 1934For the fiscal year ended December 31, 2021\\nOR\\n☐\\nTRANSITION REPORT PURS UANT TO SECTION 13 OR 15(d) OF THE SECURITIES EXCHANGE ACT OF 1934 FOR THE TRANSITION PERIODFROM                      TO\\nCommission File Number 001-38846\\nLyft, Inc.\\n(Exact name of Registrant as specified in i\\nts Charter)Delaware\\n20-8809830 (State or other jurisdiction of\\nincorporation or organization)\\n(I.R.S. EmployerIdentification No.)\\n185 Berry Street, Suite 5000\\nSan Francisco, California\\n94107 (Address of principal executive offices)\\n(Zip Code) Registrant’s telephone number, including area code: (844) 250\\n-2773Securities registered pursuant to Section 12(b) of the Act: \\nTitle of each class\\nTradingSymbol(s)\\nName of each exchange on which registered Class A common stock, par value of $0.00001 per share\\nLYFT Nasdaq Global Select Market Securities registered pursuant to Section 12(g) of the Act: \\nNone Indicate by check mark if the Registrant is a well-known seasoned issuer, as defined in Rule 405 of the Securities Act. Yes \\n☒ \\xa0No ☐Indicate by check mark if the Registrant is not required to file reports pursuant to Section 13 or 15(d) of the Act.  Yes \\n☐ \\xa0No ☒Indicate by check mark whether the Registrant: (1) has filed all reports required to be filed by Section 13 or 15(d) of the Securities Exchange Act of 1934 during the preceding 12 months (or for such\\nshorter period that the Registrant was required to file such reports), and (2) has been subject to such filing requirements for the past 90 days.  Yes \\n☒ \\xa0No ☐Indicate by check mark whether the Registrant has submitted electronically every Interactive Data F\\nile required to be submitted pursuant to Rule 405 of Regulation S-T (§232.405 of this chapter) duringthe preceding 12 months (or for such shorter period that the Registrant was required to submit such files).  Yes \\n☒ \\xa0No ☐Indicate by check mark whether the registrant is a large accelerated filer, an accelerated filer, a non-accelerated filer, smaller reporting company, or an emerging growth company. See the definitions of\\n“large accelerated filer,” “accelerated filer,” “smaller reporting company,” and “emerging growth company” in Rule 12b-2 of the Exchange Act.\\nLarge accelerated filer\\n☒ Accelerated filer ☐ Non-accelerated filer\\n☐ Smaller reporting company ☐ Emerging growth company\\n☐ If an emerging growth company, indicate by check mark if the registrant has elected not to use the extended transit\\nion period for complying with any new or revised financial accounting standardsprovided pursuant to Section 13(a) of the Exchange Act.  \\n☐ Indicate by check mark whether the registrant has filed a report on and attestation to its managemen\\nt’s assessment of the effectiveness of its internal control over financial reporting under Section 404(b)of the Sarbanes-Oxley Act (15 U.S.C. 7262(b)) by the registered public accounting firm that prepared or issued its audit report. \\n☒ Indicate by check mark whether the Registrant is a shell company (as defined in Rule 12b-2 of the Exchange Act).  Yes \\n☐ \\xa0No ☒The aggregate market value of the Registrant’s common stock held by non-affiliates of the Registrant on June 30, 2021, \\nthe last business day of its most recently completed second fiscal quarter, was$19.6 billion based on the closing sales price of the Registrant’s Class A com\\nmon stock on that date.On February 22, 2022, the Registrant had 339,954,714 shares of Class A common stock and 8,602,629 shares of Class B common stock outstanding.\\nDOCUMENTS INCORPORATED BY REFERENCE\\nPortions of the registrant’s Proxy Statement for the 2022 Annual Meeting of Stockholders are incorporated herein by reference in Part III of this Annual Report on Form 10-K to the extent stated herein.',\n",
       "  'UNITED STATESSECURITIES AND EXCHANGE COMMISSION\\nWashington, D.C. 20549\\n____________________________________________ \\nFORM\\n 10-K____________________________________________ \\n(Mark One)\\n☒\\n ANNUAL REPORT PURSUANT TO SECTION 13 OR 15(d) OF THE SECURITIES EXCHANGE ACT OF 1934For the fiscal year ended\\n December 31, 2021OR\\n☐\\n TRANSITION REPORT PURSUANT TO SECTION 13 OR 15(d) OF THE SECURITIES EXCHANGE ACT OF 1934For the transition period from_____ to _____            \\nCommission File Number: 001-38902\\n____________________________________________ \\nUBER TECHNOLOGIES, INC.\\n(Exact name of registrant as specif\\nied in its charter)____________________________________________ \\nDelaware\\n45-2647441 (State or other jurisdiction of inco\\nrporation or organization)(I.R.S. Employer Identification No.) 1515 3rd Street\\nSan Francisco, California 94158\\n(Address of principal executive offic\\nes, including zip code)(415) 612-8582\\n(Registrant’s telephone number, including area code)\\n ____________________________________________\\nSecurities registered pursuant to Sect\\nion 12(b) of the Act:Title of each class\\nTrading Symbol(s) Name of each exchange on which registered Common Stock, par value $0.00001 per share\\nUBER New York Stock Exchange Securities register\\ned pursuant to Section 12(g) of the Act: NoneIndicate by check mark whe\\nther the registrant is a well-known seasoned issuer, as defined in Rule 405 of the Securities Act. Yes  ☒  No ☐Indicate by check mark whe\\nther the registrant is not required to file reports pursuant to Section 13 or Section 15(d) of the Act. Yes  ☐  No  ☒Indicate by\\n check mark whether the registrant (1) has filed all reports required to be filed by Section 13 or 15(d) of the Securities Exchange Act of 1934 during thepreceding\\n 12 months (or for such shorter period that the registrant was required to file such reports), and (2) has been subject to such filing requirements for thepast 90 days. Yes  \\n☒  No ☐Indicate\\n by check mark whether the registrant has submitted electronically every Interactive Data File required to be submitted pursuant to Rule 405 of RegulationS-T (§232.405 of this chapter) during \\nthe preceding 12 months (or for such shorter period that the registrant was required to submit such files). Yes  ☒  No ☐Indicate\\n by check mark whether the registrant is a large accelerated filer, an accelerated filer, a non-accelerated filer, a smaller reporting company, or an emerginggrowth\\n company. See the definitions of “large accelerated filer,” “accelerated filer,” “smaller reporting company,” and “emerging growth company” in Rule 12b-2of the Exchange Act.'],\n",
       " 'answer': 'It seems that the total revenue for Lyft in the year 2021 was not explicitly mentioned in the available information. If you would like, I can attempt to provide a summary of the information related to Lyft. Would you like me to do that?'}"
      ]
     },
     "execution_count": 176,
     "metadata": {},
     "output_type": "execute_result"
    }
   ],
   "source": [
    "hf_dataset_with_respones[0]"
   ]
  },
  {
   "cell_type": "markdown",
   "metadata": {},
   "source": [
    "Step 4: Convert the modified DataFrame back to HF Dataset and dict"
   ]
  },
  {
   "cell_type": "code",
   "execution_count": 177,
   "metadata": {},
   "outputs": [
    {
     "name": "stderr",
     "output_type": "stream",
     "text": [
      "Evaluating:   2%|▏         | 1/60 [00:01<01:52,  1.90s/it]Exception raised in Job[55]: BadRequestError(Error code: 400 - {'error': {'message': \"Invalid 'messages[0].content': string too long. Expected a string with maximum length 1048576, but got a string with length 2269510 instead.\", 'type': 'invalid_request_error', 'param': 'messages[0].content', 'code': 'string_above_max_length'}})\n",
      "Evaluating:   5%|▌         | 3/60 [00:03<01:01,  1.08s/it]Exception raised in Job[47]: BadRequestError(Error code: 400 - {'error': {'message': \"Invalid 'messages[0].content': string too long. Expected a string with maximum length 1048576, but got a string with length 2276265 instead.\", 'type': 'invalid_request_error', 'param': 'messages[0].content', 'code': 'string_above_max_length'}})\n",
      "Evaluating:  27%|██▋       | 16/60 [00:06<00:21,  2.03it/s]Exception raised in Job[52]: BadRequestError(Error code: 400 - {'error': {'message': \"Invalid 'messages[0].content': string too long. Expected a string with maximum length 1048576, but got a string with length 2268666 instead.\", 'type': 'invalid_request_error', 'param': 'messages[0].content', 'code': 'string_above_max_length'}})\n",
      "Exception raised in Job[44]: BadRequestError(Error code: 400 - {'error': {'message': \"Invalid 'messages[0].content': string too long. Expected a string with maximum length 1048576, but got a string with length 2275291 instead.\", 'type': 'invalid_request_error', 'param': 'messages[0].content', 'code': 'string_above_max_length'}})\n",
      "Evaluating:  73%|███████▎  | 44/60 [00:12<00:04,  3.36it/s]Exception raised in Job[53]: BadRequestError(Error code: 400 - {'error': {'message': \"Invalid 'messages[0].content': string too long. Expected a string with maximum length 1048576, but got a string with length 2267673 instead.\", 'type': 'invalid_request_error', 'param': 'messages[0].content', 'code': 'string_above_max_length'}})\n",
      "Evaluating:  78%|███████▊  | 47/60 [00:12<00:02,  5.19it/s]Exception raised in Job[45]: BadRequestError(Error code: 400 - {'error': {'message': \"Invalid 'messages[0].content': string too long. Expected a string with maximum length 1048576, but got a string with length 2274421 instead.\", 'type': 'invalid_request_error', 'param': 'messages[0].content', 'code': 'string_above_max_length'}})\n",
      "Evaluating:  97%|█████████▋| 58/60 [00:19<00:01,  1.48it/s]Exception raised in Job[46]: TimeoutError()\n",
      "Evaluating:  98%|█████████▊| 59/60 [03:00<00:39, 39.94s/it]Exception raised in Job[54]: TimeoutError()\n",
      "Evaluating: 100%|██████████| 60/60 [03:07<00:00,  3.13s/it]\n"
     ]
    }
   ],
   "source": [
    "from ragas.metrics import (\n",
    "    faithfulness,\n",
    "    answer_relevancy,\n",
    "    context_precision,\n",
    "    context_recall,\n",
    ")\n",
    "from ragas import evaluate\n",
    "\n",
    "\n",
    "# Initialize evaluator LLM\n",
    "evaluator_llm = OpenAI(model=\"gpt-3.5-turbo\")\n",
    "\n",
    "# Define the metrics for evaluation\n",
    "metrics = [faithfulness, answer_relevancy, context_precision, context_recall]\n",
    "\n",
    "result = evaluate(\n",
    "    metrics=metrics,\n",
    "    dataset=hf_dataset_with_respones,\n",
    ")"
   ]
  },
  {
   "cell_type": "code",
   "execution_count": 178,
   "metadata": {},
   "outputs": [
    {
     "name": "stdout",
     "output_type": "stream",
     "text": [
      "{'faithfulness': 0.4615, 'answer_relevancy': 0.3020, 'context_precision': 0.2692, 'context_recall': 0.3077}\n"
     ]
    }
   ],
   "source": [
    "print(result)"
   ]
  },
  {
   "cell_type": "code",
   "execution_count": 179,
   "metadata": {},
   "outputs": [
    {
     "data": {
      "text/html": [
       "<div>\n",
       "<style scoped>\n",
       "    .dataframe tbody tr th:only-of-type {\n",
       "        vertical-align: middle;\n",
       "    }\n",
       "\n",
       "    .dataframe tbody tr th {\n",
       "        vertical-align: top;\n",
       "    }\n",
       "\n",
       "    .dataframe thead th {\n",
       "        text-align: right;\n",
       "    }\n",
       "</style>\n",
       "<table border=\"1\" class=\"dataframe\">\n",
       "  <thead>\n",
       "    <tr style=\"text-align: right;\">\n",
       "      <th></th>\n",
       "      <th>question</th>\n",
       "      <th>ground_truth</th>\n",
       "      <th>contexts</th>\n",
       "      <th>answer</th>\n",
       "      <th>faithfulness</th>\n",
       "      <th>answer_relevancy</th>\n",
       "      <th>context_precision</th>\n",
       "      <th>context_recall</th>\n",
       "    </tr>\n",
       "  </thead>\n",
       "  <tbody>\n",
       "    <tr>\n",
       "      <th>0</th>\n",
       "      <td>What was Lyft's total revenue for the year 2021?</td>\n",
       "      <td>Lyft's total revenue for the year 2021 was $3....</td>\n",
       "      <td>[UNITED STATESSECURITIES AND EXCHANGE COMMISSI...</td>\n",
       "      <td>It seems that the total revenue for Lyft in th...</td>\n",
       "      <td>0.5</td>\n",
       "      <td>0.000000</td>\n",
       "      <td>0.0</td>\n",
       "      <td>0.0</td>\n",
       "    </tr>\n",
       "    <tr>\n",
       "      <th>1</th>\n",
       "      <td>What strategic partnerships did Uber leverage ...</td>\n",
       "      <td>Uber partnered with Motional and Argo AI in 20...</td>\n",
       "      <td>[expressed an intention to file) arbitration d...</td>\n",
       "      <td>Uber has not mentioned any specific strategic ...</td>\n",
       "      <td>0.5</td>\n",
       "      <td>0.000000</td>\n",
       "      <td>0.0</td>\n",
       "      <td>0.0</td>\n",
       "    </tr>\n",
       "    <tr>\n",
       "      <th>2</th>\n",
       "      <td>How many patents did Lyft hold as of December ...</td>\n",
       "      <td>Lyft held 343 issued U.S. patents and had 310 ...</td>\n",
       "      <td>[entrants in the market that may be well-estab...</td>\n",
       "      <td>The number of patents held by Lyft as of Decem...</td>\n",
       "      <td>0.5</td>\n",
       "      <td>0.000000</td>\n",
       "      <td>0.0</td>\n",
       "      <td>0.0</td>\n",
       "    </tr>\n",
       "    <tr>\n",
       "      <th>3</th>\n",
       "      <td>What were Uber’s primary operating segments in...</td>\n",
       "      <td>Uber’s primary operating segments in 2021 were...</td>\n",
       "      <td>[UNITED STATESSECURITIES AND EXCHANGE COMMISSI...</td>\n",
       "      <td>Uber's primary operating segments in 2021 were...</td>\n",
       "      <td>0.0</td>\n",
       "      <td>0.000000</td>\n",
       "      <td>0.0</td>\n",
       "      <td>0.0</td>\n",
       "    </tr>\n",
       "    <tr>\n",
       "      <th>4</th>\n",
       "      <td>How many employees did Uber have globally as o...</td>\n",
       "      <td>Uber had approximately 29,300 employees global...</td>\n",
       "      <td>[Through our partnership with Arizona State Un...</td>\n",
       "      <td>Uber had approximately 29,300 employees global...</td>\n",
       "      <td>1.0</td>\n",
       "      <td>1.000000</td>\n",
       "      <td>0.5</td>\n",
       "      <td>1.0</td>\n",
       "    </tr>\n",
       "    <tr>\n",
       "      <th>5</th>\n",
       "      <td>What commitment has Lyft made regarding electr...</td>\n",
       "      <td>Lyft committed to having 100% electric vehicle...</td>\n",
       "      <td>[PART IITEM 1. BUSINESS\\nOverview\\nUber\\n Tech...</td>\n",
       "      <td>I couldn't find specific information about Lyf...</td>\n",
       "      <td>0.0</td>\n",
       "      <td>0.000000</td>\n",
       "      <td>0.0</td>\n",
       "      <td>0.0</td>\n",
       "    </tr>\n",
       "    <tr>\n",
       "      <th>6</th>\n",
       "      <td>What acquisition did Uber complete in 2021 rel...</td>\n",
       "      <td>Uber acquired The Drizly Group, Inc. in 2021 t...</td>\n",
       "      <td>[expressed an intention to file) arbitration d...</td>\n",
       "      <td>It seems that there is no specific information...</td>\n",
       "      <td>0.5</td>\n",
       "      <td>0.000000</td>\n",
       "      <td>0.0</td>\n",
       "      <td>0.0</td>\n",
       "    </tr>\n",
       "    <tr>\n",
       "      <th>7</th>\n",
       "      <td>What was Lyft's market value of common stock h...</td>\n",
       "      <td>Lyft's market value of common stock held by no...</td>\n",
       "      <td>[]</td>\n",
       "      <td>I couldn't find the specific information on Ly...</td>\n",
       "      <td>0.0</td>\n",
       "      <td>0.000000</td>\n",
       "      <td>0.0</td>\n",
       "      <td>0.0</td>\n",
       "    </tr>\n",
       "    <tr>\n",
       "      <th>8</th>\n",
       "      <td>What impact did COVID-19 have on Lyft's busine...</td>\n",
       "      <td>COVID-19 led to decreased demand on Lyft's pla...</td>\n",
       "      <td>[Impact of COVID-19 to our BusinessThe\\n ongoi...</td>\n",
       "      <td>The impact of COVID-19 on Lyft's business in 2...</td>\n",
       "      <td>1.0</td>\n",
       "      <td>0.000000</td>\n",
       "      <td>1.0</td>\n",
       "      <td>1.0</td>\n",
       "    </tr>\n",
       "    <tr>\n",
       "      <th>9</th>\n",
       "      <td>Which key technology partners did Lyft collabo...</td>\n",
       "      <td>Lyft collaborated with Amazon Web Services (AW...</td>\n",
       "      <td>[PART IITEM 1. BUSINESS\\nOverview\\nUber\\n Tech...</td>\n",
       "      <td>I couldn't find specific information about Lyf...</td>\n",
       "      <td>0.0</td>\n",
       "      <td>0.000000</td>\n",
       "      <td>0.0</td>\n",
       "      <td>0.0</td>\n",
       "    </tr>\n",
       "    <tr>\n",
       "      <th>10</th>\n",
       "      <td>Summarize the impact of COVID-19 on Uber’s ope...</td>\n",
       "      <td>COVID-19 affected Uber’s operations in 2021, l...</td>\n",
       "      <td>[Impact of COVID-19 to our BusinessThe\\n ongoi...</td>\n",
       "      <td>The impact of COVID-19 on Uber's operations du...</td>\n",
       "      <td>1.0</td>\n",
       "      <td>0.973422</td>\n",
       "      <td>1.0</td>\n",
       "      <td>1.0</td>\n",
       "    </tr>\n",
       "    <tr>\n",
       "      <th>11</th>\n",
       "      <td>How did Lyft address its commitment to climate...</td>\n",
       "      <td>Lyft committed to reaching 100% electric vehic...</td>\n",
       "      <td>[UNITED STATESSECURITIES AND EXCHANGE COMMISSI...</td>\n",
       "      <td>Lyft addressed its commitment to climate chang...</td>\n",
       "      <td>NaN</td>\n",
       "      <td>NaN</td>\n",
       "      <td>NaN</td>\n",
       "      <td>NaN</td>\n",
       "    </tr>\n",
       "    <tr>\n",
       "      <th>12</th>\n",
       "      <td>What were Uber’s primary areas of growth strat...</td>\n",
       "      <td>Uber’s growth strategy in 2021 included expand...</td>\n",
       "      <td>[which are miles driven by carriers between sh...</td>\n",
       "      <td>Uber's primary areas of growth strategy in 202...</td>\n",
       "      <td>1.0</td>\n",
       "      <td>0.999024</td>\n",
       "      <td>1.0</td>\n",
       "      <td>1.0</td>\n",
       "    </tr>\n",
       "    <tr>\n",
       "      <th>13</th>\n",
       "      <td>Summarize Lyft's business model and revenue ge...</td>\n",
       "      <td>Lyft’s business model in 2021 focused on conne...</td>\n",
       "      <td>[UNITED STATESSECURITIES AND EXCHANGE COMMISSI...</td>\n",
       "      <td>Lyft's business model in 2021 primarily focuse...</td>\n",
       "      <td>NaN</td>\n",
       "      <td>NaN</td>\n",
       "      <td>NaN</td>\n",
       "      <td>NaN</td>\n",
       "    </tr>\n",
       "    <tr>\n",
       "      <th>14</th>\n",
       "      <td>How did Uber enhance its platform's operationa...</td>\n",
       "      <td>Uber enhanced operational efficiency in 2021 b...</td>\n",
       "      <td>[the  EU,  the  United  States,  Brazil,  and ...</td>\n",
       "      <td>Uber continued to focus on operational efficie...</td>\n",
       "      <td>0.0</td>\n",
       "      <td>0.953418</td>\n",
       "      <td>0.0</td>\n",
       "      <td>0.0</td>\n",
       "    </tr>\n",
       "  </tbody>\n",
       "</table>\n",
       "</div>"
      ],
      "text/plain": [
       "                                             question  \\\n",
       "0    What was Lyft's total revenue for the year 2021?   \n",
       "1   What strategic partnerships did Uber leverage ...   \n",
       "2   How many patents did Lyft hold as of December ...   \n",
       "3   What were Uber’s primary operating segments in...   \n",
       "4   How many employees did Uber have globally as o...   \n",
       "5   What commitment has Lyft made regarding electr...   \n",
       "6   What acquisition did Uber complete in 2021 rel...   \n",
       "7   What was Lyft's market value of common stock h...   \n",
       "8   What impact did COVID-19 have on Lyft's busine...   \n",
       "9   Which key technology partners did Lyft collabo...   \n",
       "10  Summarize the impact of COVID-19 on Uber’s ope...   \n",
       "11  How did Lyft address its commitment to climate...   \n",
       "12  What were Uber’s primary areas of growth strat...   \n",
       "13  Summarize Lyft's business model and revenue ge...   \n",
       "14  How did Uber enhance its platform's operationa...   \n",
       "\n",
       "                                         ground_truth  \\\n",
       "0   Lyft's total revenue for the year 2021 was $3....   \n",
       "1   Uber partnered with Motional and Argo AI in 20...   \n",
       "2   Lyft held 343 issued U.S. patents and had 310 ...   \n",
       "3   Uber’s primary operating segments in 2021 were...   \n",
       "4   Uber had approximately 29,300 employees global...   \n",
       "5   Lyft committed to having 100% electric vehicle...   \n",
       "6   Uber acquired The Drizly Group, Inc. in 2021 t...   \n",
       "7   Lyft's market value of common stock held by no...   \n",
       "8   COVID-19 led to decreased demand on Lyft's pla...   \n",
       "9   Lyft collaborated with Amazon Web Services (AW...   \n",
       "10  COVID-19 affected Uber’s operations in 2021, l...   \n",
       "11  Lyft committed to reaching 100% electric vehic...   \n",
       "12  Uber’s growth strategy in 2021 included expand...   \n",
       "13  Lyft’s business model in 2021 focused on conne...   \n",
       "14  Uber enhanced operational efficiency in 2021 b...   \n",
       "\n",
       "                                             contexts  \\\n",
       "0   [UNITED STATESSECURITIES AND EXCHANGE COMMISSI...   \n",
       "1   [expressed an intention to file) arbitration d...   \n",
       "2   [entrants in the market that may be well-estab...   \n",
       "3   [UNITED STATESSECURITIES AND EXCHANGE COMMISSI...   \n",
       "4   [Through our partnership with Arizona State Un...   \n",
       "5   [PART IITEM 1. BUSINESS\\nOverview\\nUber\\n Tech...   \n",
       "6   [expressed an intention to file) arbitration d...   \n",
       "7                                                  []   \n",
       "8   [Impact of COVID-19 to our BusinessThe\\n ongoi...   \n",
       "9   [PART IITEM 1. BUSINESS\\nOverview\\nUber\\n Tech...   \n",
       "10  [Impact of COVID-19 to our BusinessThe\\n ongoi...   \n",
       "11  [UNITED STATESSECURITIES AND EXCHANGE COMMISSI...   \n",
       "12  [which are miles driven by carriers between sh...   \n",
       "13  [UNITED STATESSECURITIES AND EXCHANGE COMMISSI...   \n",
       "14  [the  EU,  the  United  States,  Brazil,  and ...   \n",
       "\n",
       "                                               answer  faithfulness  \\\n",
       "0   It seems that the total revenue for Lyft in th...           0.5   \n",
       "1   Uber has not mentioned any specific strategic ...           0.5   \n",
       "2   The number of patents held by Lyft as of Decem...           0.5   \n",
       "3   Uber's primary operating segments in 2021 were...           0.0   \n",
       "4   Uber had approximately 29,300 employees global...           1.0   \n",
       "5   I couldn't find specific information about Lyf...           0.0   \n",
       "6   It seems that there is no specific information...           0.5   \n",
       "7   I couldn't find the specific information on Ly...           0.0   \n",
       "8   The impact of COVID-19 on Lyft's business in 2...           1.0   \n",
       "9   I couldn't find specific information about Lyf...           0.0   \n",
       "10  The impact of COVID-19 on Uber's operations du...           1.0   \n",
       "11  Lyft addressed its commitment to climate chang...           NaN   \n",
       "12  Uber's primary areas of growth strategy in 202...           1.0   \n",
       "13  Lyft's business model in 2021 primarily focuse...           NaN   \n",
       "14  Uber continued to focus on operational efficie...           0.0   \n",
       "\n",
       "    answer_relevancy  context_precision  context_recall  \n",
       "0           0.000000                0.0             0.0  \n",
       "1           0.000000                0.0             0.0  \n",
       "2           0.000000                0.0             0.0  \n",
       "3           0.000000                0.0             0.0  \n",
       "4           1.000000                0.5             1.0  \n",
       "5           0.000000                0.0             0.0  \n",
       "6           0.000000                0.0             0.0  \n",
       "7           0.000000                0.0             0.0  \n",
       "8           0.000000                1.0             1.0  \n",
       "9           0.000000                0.0             0.0  \n",
       "10          0.973422                1.0             1.0  \n",
       "11               NaN                NaN             NaN  \n",
       "12          0.999024                1.0             1.0  \n",
       "13               NaN                NaN             NaN  \n",
       "14          0.953418                0.0             0.0  "
      ]
     },
     "execution_count": 179,
     "metadata": {},
     "output_type": "execute_result"
    }
   ],
   "source": [
    "result.to_pandas()"
   ]
  },
  {
   "cell_type": "markdown",
   "metadata": {},
   "source": [
    "**Have not done yet...**"
   ]
  }
 ],
 "metadata": {
  "kernelspec": {
   "display_name": "Python 3",
   "language": "python",
   "name": "python3"
  },
  "language_info": {
   "codemirror_mode": {
    "name": "ipython",
    "version": 3
   },
   "file_extension": ".py",
   "mimetype": "text/x-python",
   "name": "python",
   "nbconvert_exporter": "python",
   "pygments_lexer": "ipython3",
   "version": "3.11.9"
  }
 },
 "nbformat": 4,
 "nbformat_minor": 2
}
