{
 "cells": [
  {
   "cell_type": "code",
   "execution_count": 1,
   "metadata": {},
   "outputs": [],
   "source": [
    "import os\n",
    "\n",
    "from dotenv import load_dotenv\n",
    "load_dotenv()\n",
    "\n",
    "import nest_asyncio\n",
    "nest_asyncio.apply()\n",
    "\n",
    "OPENAI_API_KEY = os.getenv(\"OPENAI_API_KEY\")\n",
    "os.environ[\"OPENAI_API_KEY\"] = OPENAI_API_KEY"
   ]
  },
  {
   "cell_type": "markdown",
   "metadata": {},
   "source": [
    "### Building the Tests"
   ]
  },
  {
   "cell_type": "code",
   "execution_count": 2,
   "metadata": {},
   "outputs": [],
   "source": [
    "# load the documents\n",
    "from llama_index.core import SimpleDirectoryReader\n",
    "\n",
    "documents = SimpleDirectoryReader(\"data/Bio/\").load_data()\n"
   ]
  },
  {
   "cell_type": "code",
   "execution_count": 3,
   "metadata": {},
   "outputs": [],
   "source": [
    "from ragas.testset.generator import TestsetGenerator\n",
    "from ragas.testset.evolutions import simple, reasoning, multi_context\n",
    "from llama_index.llms.openai import OpenAI\n",
    "from llama_index.embeddings.openai import OpenAIEmbedding\n",
    "\n",
    "# generator with openai models\n",
    "generator_llm = OpenAI(model=\"gpt-3.5-turbo\")\n",
    "critic_llm = OpenAI(model=\"gpt-4\")\n",
    "embeddings = OpenAIEmbedding(model='text-embedding-ada-002')\n",
    "\n",
    "generator = TestsetGenerator.from_llama_index(\n",
    "    generator_llm=generator_llm,\n",
    "    critic_llm=critic_llm,\n",
    "    embeddings=embeddings,\n",
    ")"
   ]
  },
  {
   "cell_type": "code",
   "execution_count": 4,
   "metadata": {},
   "outputs": [
    {
     "data": {
      "application/vnd.jupyter.widget-view+json": {
       "model_id": "889add0d6a72436a9080f9ac29f63c73",
       "version_major": 2,
       "version_minor": 0
      },
      "text/plain": [
       "embedding nodes:   0%|          | 0/272 [00:00<?, ?it/s]"
      ]
     },
     "metadata": {},
     "output_type": "display_data"
    },
    {
     "name": "stderr",
     "output_type": "stream",
     "text": [
      "Filename and doc_id are the same for all nodes.\n"
     ]
    },
    {
     "data": {
      "application/vnd.jupyter.widget-view+json": {
       "model_id": "188ac2f7b45944ccbea3578233e6db97",
       "version_major": 2,
       "version_minor": 0
      },
      "text/plain": [
       "Generating:   0%|          | 0/10 [00:00<?, ?it/s]"
      ]
     },
     "metadata": {},
     "output_type": "display_data"
    }
   ],
   "source": [
    "# generate testset\n",
    "testset = generator.generate_with_llamaindex_docs(\n",
    "    documents,\n",
    "    test_size=10,\n",
    "    distributions={simple: 0.5, reasoning: 0.25, multi_context: 0.25},\n",
    ")"
   ]
  },
  {
   "cell_type": "code",
   "execution_count": 5,
   "metadata": {},
   "outputs": [
    {
     "data": {
      "text/html": [
       "<div>\n",
       "<style scoped>\n",
       "    .dataframe tbody tr th:only-of-type {\n",
       "        vertical-align: middle;\n",
       "    }\n",
       "\n",
       "    .dataframe tbody tr th {\n",
       "        vertical-align: top;\n",
       "    }\n",
       "\n",
       "    .dataframe thead th {\n",
       "        text-align: right;\n",
       "    }\n",
       "</style>\n",
       "<table border=\"1\" class=\"dataframe\">\n",
       "  <thead>\n",
       "    <tr style=\"text-align: right;\">\n",
       "      <th></th>\n",
       "      <th>question</th>\n",
       "      <th>contexts</th>\n",
       "      <th>ground_truth</th>\n",
       "      <th>evolution_type</th>\n",
       "      <th>metadata</th>\n",
       "      <th>episode_done</th>\n",
       "    </tr>\n",
       "  </thead>\n",
       "  <tbody>\n",
       "    <tr>\n",
       "      <th>0</th>\n",
       "      <td>How can the sequential mathematical analysis b...</td>\n",
       "      <td>[[The use of the sequential mathematical analy...</td>\n",
       "      <td>The sequential mathematical analysis can be us...</td>\n",
       "      <td>simple</td>\n",
       "      <td>[{'file_path': '/Users/chris/Desktop/7980/CS79...</td>\n",
       "      <td>True</td>\n",
       "    </tr>\n",
       "    <tr>\n",
       "      <th>1</th>\n",
       "      <td>How do resistance mutations in the HCV NS3/4A ...</td>\n",
       "      <td>[[Resistance to protease inhibitors and effici...</td>\n",
       "      <td>Resistance mutations in the HCV NS3/4A region ...</td>\n",
       "      <td>simple</td>\n",
       "      <td>[{'file_path': '/Users/chris/Desktop/7980/CS79...</td>\n",
       "      <td>True</td>\n",
       "    </tr>\n",
       "    <tr>\n",
       "      <th>2</th>\n",
       "      <td>What is a symptom associated with the conditio...</td>\n",
       "      <td>[T1\\tDISO 1 26\\tGrowing teratoma syndrome\\nT3\\...</td>\n",
       "      <td>Polyuria is a symptom associated with the cond...</td>\n",
       "      <td>simple</td>\n",
       "      <td>[{'file_path': '/Users/chris/Desktop/7980/CS79...</td>\n",
       "      <td>True</td>\n",
       "    </tr>\n",
       "    <tr>\n",
       "      <th>3</th>\n",
       "      <td>What is the significance of proliferative acti...</td>\n",
       "      <td>[\\nT107\\tDISO 1176 1198\\tproliferative activit...</td>\n",
       "      <td>The significance of proliferative activity in ...</td>\n",
       "      <td>simple</td>\n",
       "      <td>[{'file_path': '/Users/chris/Desktop/7980/CS79...</td>\n",
       "      <td>True</td>\n",
       "    </tr>\n",
       "    <tr>\n",
       "      <th>4</th>\n",
       "      <td>What is the significance of podocyte structura...</td>\n",
       "      <td>[ 1 8\\tUrinary\\nT60\\tPHYS 1 18\\tUrinary excret...</td>\n",
       "      <td>The significance of podocyte structural protei...</td>\n",
       "      <td>simple</td>\n",
       "      <td>[{'file_path': '/Users/chris/Desktop/7980/CS79...</td>\n",
       "      <td>True</td>\n",
       "    </tr>\n",
       "  </tbody>\n",
       "</table>\n",
       "</div>"
      ],
      "text/plain": [
       "                                            question  \\\n",
       "0  How can the sequential mathematical analysis b...   \n",
       "1  How do resistance mutations in the HCV NS3/4A ...   \n",
       "2  What is a symptom associated with the conditio...   \n",
       "3  What is the significance of proliferative acti...   \n",
       "4  What is the significance of podocyte structura...   \n",
       "\n",
       "                                            contexts  \\\n",
       "0  [[The use of the sequential mathematical analy...   \n",
       "1  [[Resistance to protease inhibitors and effici...   \n",
       "2  [T1\\tDISO 1 26\\tGrowing teratoma syndrome\\nT3\\...   \n",
       "3  [\\nT107\\tDISO 1176 1198\\tproliferative activit...   \n",
       "4  [ 1 8\\tUrinary\\nT60\\tPHYS 1 18\\tUrinary excret...   \n",
       "\n",
       "                                        ground_truth evolution_type  \\\n",
       "0  The sequential mathematical analysis can be us...         simple   \n",
       "1  Resistance mutations in the HCV NS3/4A region ...         simple   \n",
       "2  Polyuria is a symptom associated with the cond...         simple   \n",
       "3  The significance of proliferative activity in ...         simple   \n",
       "4  The significance of podocyte structural protei...         simple   \n",
       "\n",
       "                                            metadata  episode_done  \n",
       "0  [{'file_path': '/Users/chris/Desktop/7980/CS79...          True  \n",
       "1  [{'file_path': '/Users/chris/Desktop/7980/CS79...          True  \n",
       "2  [{'file_path': '/Users/chris/Desktop/7980/CS79...          True  \n",
       "3  [{'file_path': '/Users/chris/Desktop/7980/CS79...          True  \n",
       "4  [{'file_path': '/Users/chris/Desktop/7980/CS79...          True  "
      ]
     },
     "execution_count": 5,
     "metadata": {},
     "output_type": "execute_result"
    }
   ],
   "source": [
    "df = testset.to_pandas()\n",
    "df.head()"
   ]
  },
  {
   "cell_type": "markdown",
   "metadata": {},
   "source": [
    "### Building the query engine"
   ]
  },
  {
   "cell_type": "code",
   "execution_count": 6,
   "metadata": {},
   "outputs": [],
   "source": [
    "from llama_index.core import VectorStoreIndex, SimpleDirectoryReader\n",
    "from llama_index.core.settings import Settings\n",
    "\n",
    "vector_index = VectorStoreIndex.from_documents(documents)\n",
    "\n",
    "query_engine = vector_index.as_query_engine()"
   ]
  },
  {
   "cell_type": "markdown",
   "metadata": {},
   "source": [
    "simple questions"
   ]
  },
  {
   "cell_type": "code",
   "execution_count": 7,
   "metadata": {},
   "outputs": [
    {
     "data": {
      "text/plain": [
       "\"How can the sequential mathematical analysis be used to determine the driver's seat position inside the car passenger compartment based on injuries to the extremities in the case of a traffic accident?\""
      ]
     },
     "execution_count": 7,
     "metadata": {},
     "output_type": "execute_result"
    }
   ],
   "source": [
    "# convert it to pandas dataset\n",
    "df = testset.to_pandas()\n",
    "df[\"question\"][0]"
   ]
  },
  {
   "cell_type": "code",
   "execution_count": 8,
   "metadata": {},
   "outputs": [
    {
     "name": "stdout",
     "output_type": "stream",
     "text": [
      "The sequential mathematical analysis can be utilized to determine the driver's seat position inside the car passenger compartment by assigning diagnostic coefficients to specific injuries on the extremities of the driver. By analyzing injuries such as bleeding from certain regions, skin scratches, wounds, fractures, and bruises, the diagnostic coefficients can provide valuable information to experts. These coefficients help in identifying the most informative features that characterize the driver of a vehicle involved in a traffic accident, thereby aiding in objectively determining the driver's seat position inside the car passenger compartment.\n"
     ]
    }
   ],
   "source": [
    "response_vector = query_engine.query(df[\"question\"][0])\n",
    "\n",
    "print(response_vector)"
   ]
  },
  {
   "cell_type": "markdown",
   "metadata": {},
   "source": [
    "### Evaluate the query engine\n",
    "\n",
    "In order to run an evaluation with Ragas and LlamaIndex:\n",
    "\n",
    "- LlamaIndex QueryEngine: what we will be evaluating\n",
    "\n",
    "- Metrics: Ragas defines a set of metrics that can measure different aspects of the QueryEngine. The available metrics and their meaning can be found here\n",
    "\n",
    "- Questions: A list of questions that ragas will test the QueryEngine against."
   ]
  },
  {
   "cell_type": "code",
   "execution_count": 9,
   "metadata": {},
   "outputs": [],
   "source": [
    "from ragas.metrics import (\n",
    "    faithfulness,\n",
    "    answer_relevancy,\n",
    "    context_precision,\n",
    "    context_recall,\n",
    ")\n",
    "from ragas.metrics.critique import harmfulness\n",
    "\n",
    "metrics = [\n",
    "    faithfulness,\n",
    "    answer_relevancy,\n",
    "    context_precision,\n",
    "    context_recall,\n",
    "    harmfulness,\n",
    "]"
   ]
  },
  {
   "cell_type": "code",
   "execution_count": 10,
   "metadata": {},
   "outputs": [],
   "source": [
    "from llama_index.llms.openai import OpenAI\n",
    "from llama_index.embeddings.openai import OpenAIEmbedding\n",
    "\n",
    "# using GPT 3.5, use GPT 4 / 4-turbo for better accuracy\n",
    "evaluator_llm = OpenAI(model=\"gpt-3.5-turbo\")"
   ]
  },
  {
   "cell_type": "code",
   "execution_count": 11,
   "metadata": {},
   "outputs": [
    {
     "data": {
      "text/plain": [
       "[\"The sequential mathematical analysis can be used to determine the driver's seat position inside the car passenger compartment based on injuries to the extremities in the case of a traffic accident by calculating diagnostic coefficients (DC) for specific injuries to the upper and lower extremities. These coefficients are derived from statistical and mathematical treatment of archival expert documents, allowing experts to identify the most informative features that characterize the driver of a vehicle. By analyzing injuries such as bleeding, skin scratches, wounds, fractures, and bruises, experts can objectively determine the driver's seat position and improve the quality of forensic medical expertise in traffic accidents.\",\n",
       " 'Resistance mutations in the HCV NS3/4A region can substantially reduce drug susceptibility in patients receiving antiviral therapy with protease inhibitors for chronic hepatitis C. Identifying these mutations is crucial for determining the efficiency of therapy and selecting the most appropriate treatment approach.',\n",
       " 'Polyuria is a symptom associated with the condition of polyuria, which is characterized by excessive urination and the production of abnormally large volumes of urine.',\n",
       " 'The significance of proliferative activity in the context of glioma and diffusion values is that there is a correlation between all the absolute and normalized diffusion parameters and the glioma proliferative activity index. Additionally, there is a statistically significant correlation between the glioma proliferative activity index and diffusion values, as well as a strong correlation between the proliferative activity index and diffusion kurtosis imaging.',\n",
       " 'The significance of podocyte structural proteins in the context of urinary excretion and diabetic nephropathy lies in their role as markers for podocyte injury. These proteins, including nephrin and podocin, are indicative of early preclinical diagnosis of diabetic nephropathy when their levels are measured in urine. Additionally, the urinary levels of podocyte structural proteins show a direct correlation with glycated hemoglobin levels, suggesting a potential link between podocyte injury and diabetes-related complications.',\n",
       " 'The social and economic impacts of podoconiosis can be reduced through control methods such as the use of footwear, regular foot hygiene, and floor coverings. Infrastructure development, including addressing poverty at the household level and improving infrastructure like roads, water, and urbanization, can also help to reduce podoconiosis incidence and its associated social and economic consequences.',\n",
       " 'Blood examination does not help diagnose pulmonary paecilomycosis. The diagnosis of pulmonary paecilomycosis typically involves laboratory diagnostic tests, such as isolating the cultured fungi in the media and microscopically examining the samples.',\n",
       " 'The answer to given question is not present in context',\n",
       " 'The significance of intramural hematoma in carotid artery dissection and ischemic cardiomyopathy lies in its association with the pathophysiology and clinical manifestations of these conditions. In carotid artery dissection, intramural hematoma can lead to vessel wall disruption, thrombus formation, and embolization, potentially causing ischemic stroke. In ischemic cardiomyopathy, intramural hematoma may affect myocardial perfusion, contractility, and overall cardiac function, contributing to heart failure and other complications.',\n",
       " 'Coronary atherosclerosis affects heart disease progression by causing higher hypoxia at the whole organ level, leading to superimposed morphological changes on the already damaged myocardium. Depending on the combination of these changes, different forms of chronic heart disease may prevail at a later time.']"
      ]
     },
     "execution_count": 11,
     "metadata": {},
     "output_type": "execute_result"
    }
   ],
   "source": [
    "# convert to HF dataset\n",
    "ds = testset.to_dataset()\n",
    "\n",
    "ds_dict = ds.to_dict()\n",
    "ds_dict[\"question\"]\n",
    "ds_dict[\"ground_truth\"]"
   ]
  },
  {
   "cell_type": "markdown",
   "metadata": {},
   "source": [
    "evaluation"
   ]
  },
  {
   "cell_type": "code",
   "execution_count": 12,
   "metadata": {},
   "outputs": [
    {
     "data": {
      "application/vnd.jupyter.widget-view+json": {
       "model_id": "3cdcd914b4ac499b965135019450fd4b",
       "version_major": 2,
       "version_minor": 0
      },
      "text/plain": [
       "Running Query Engine:   0%|          | 0/10 [00:00<?, ?it/s]"
      ]
     },
     "metadata": {},
     "output_type": "display_data"
    },
    {
     "data": {
      "application/vnd.jupyter.widget-view+json": {
       "model_id": "ccbab6b1392b42bc8859507259d9d605",
       "version_major": 2,
       "version_minor": 0
      },
      "text/plain": [
       "Evaluating:   0%|          | 0/50 [00:00<?, ?it/s]"
      ]
     },
     "metadata": {},
     "output_type": "display_data"
    },
    {
     "name": "stderr",
     "output_type": "stream",
     "text": [
      "n values greater than 1 not support for LlamaIndex LLMs\n",
      "n values greater than 1 not support for LlamaIndex LLMs\n",
      "n values greater than 1 not support for LlamaIndex LLMs\n",
      "n values greater than 1 not support for LlamaIndex LLMs\n",
      "n values greater than 1 not support for LlamaIndex LLMs\n",
      "n values greater than 1 not support for LlamaIndex LLMs\n",
      "n values greater than 1 not support for LlamaIndex LLMs\n",
      "n values greater than 1 not support for LlamaIndex LLMs\n",
      "n values greater than 1 not support for LlamaIndex LLMs\n",
      "n values greater than 1 not support for LlamaIndex LLMs\n"
     ]
    }
   ],
   "source": [
    "from ragas.integrations.llama_index import evaluate\n",
    "\n",
    "result = evaluate(\n",
    "    query_engine=query_engine,\n",
    "    metrics=metrics,\n",
    "    dataset=ds,\n",
    "    llm=evaluator_llm,\n",
    "    embeddings=OpenAIEmbedding(),\n",
    ")"
   ]
  },
  {
   "cell_type": "code",
   "execution_count": 13,
   "metadata": {},
   "outputs": [
    {
     "name": "stdout",
     "output_type": "stream",
     "text": [
      "{'faithfulness': 0.7633, 'answer_relevancy': 0.9393, 'context_precision': 0.8500, 'context_recall': 0.7667, 'harmfulness': 0.0000}\n"
     ]
    }
   ],
   "source": [
    "print(result)"
   ]
  },
  {
   "cell_type": "code",
   "execution_count": 14,
   "metadata": {},
   "outputs": [
    {
     "data": {
      "text/html": [
       "<div>\n",
       "<style scoped>\n",
       "    .dataframe tbody tr th:only-of-type {\n",
       "        vertical-align: middle;\n",
       "    }\n",
       "\n",
       "    .dataframe tbody tr th {\n",
       "        vertical-align: top;\n",
       "    }\n",
       "\n",
       "    .dataframe thead th {\n",
       "        text-align: right;\n",
       "    }\n",
       "</style>\n",
       "<table border=\"1\" class=\"dataframe\">\n",
       "  <thead>\n",
       "    <tr style=\"text-align: right;\">\n",
       "      <th></th>\n",
       "      <th>question</th>\n",
       "      <th>contexts</th>\n",
       "      <th>answer</th>\n",
       "      <th>ground_truth</th>\n",
       "      <th>faithfulness</th>\n",
       "      <th>answer_relevancy</th>\n",
       "      <th>context_precision</th>\n",
       "      <th>context_recall</th>\n",
       "      <th>harmfulness</th>\n",
       "    </tr>\n",
       "  </thead>\n",
       "  <tbody>\n",
       "    <tr>\n",
       "      <th>0</th>\n",
       "      <td>How can the sequential mathematical analysis b...</td>\n",
       "      <td>[[The use of the sequential mathematical analy...</td>\n",
       "      <td>The sequential mathematical analysis can be ut...</td>\n",
       "      <td>The sequential mathematical analysis can be us...</td>\n",
       "      <td>1.000000</td>\n",
       "      <td>0.952606</td>\n",
       "      <td>1.0</td>\n",
       "      <td>1.000000</td>\n",
       "      <td>0</td>\n",
       "    </tr>\n",
       "    <tr>\n",
       "      <th>1</th>\n",
       "      <td>How do resistance mutations in the HCV NS3/4A ...</td>\n",
       "      <td>[[Resistance to protease inhibitors and effici...</td>\n",
       "      <td>Resistance mutations in the HCV NS3/4A region ...</td>\n",
       "      <td>Resistance mutations in the HCV NS3/4A region ...</td>\n",
       "      <td>1.000000</td>\n",
       "      <td>0.912357</td>\n",
       "      <td>1.0</td>\n",
       "      <td>1.000000</td>\n",
       "      <td>0</td>\n",
       "    </tr>\n",
       "    <tr>\n",
       "      <th>2</th>\n",
       "      <td>What is a symptom associated with the conditio...</td>\n",
       "      <td>[[Urinary excretion of markers for podocyte in...</td>\n",
       "      <td>Polydipsia is a symptom associated with the co...</td>\n",
       "      <td>Polyuria is a symptom associated with the cond...</td>\n",
       "      <td>0.000000</td>\n",
       "      <td>0.909506</td>\n",
       "      <td>0.5</td>\n",
       "      <td>0.000000</td>\n",
       "      <td>0</td>\n",
       "    </tr>\n",
       "    <tr>\n",
       "      <th>3</th>\n",
       "      <td>What is the significance of proliferative acti...</td>\n",
       "      <td>[[A correlation between diffusion kurtosis ima...</td>\n",
       "      <td>The significance of proliferative activity in ...</td>\n",
       "      <td>The significance of proliferative activity in ...</td>\n",
       "      <td>1.000000</td>\n",
       "      <td>1.000000</td>\n",
       "      <td>1.0</td>\n",
       "      <td>0.666667</td>\n",
       "      <td>0</td>\n",
       "    </tr>\n",
       "    <tr>\n",
       "      <th>4</th>\n",
       "      <td>What is the significance of podocyte structura...</td>\n",
       "      <td>[[Urinary excretion of markers for podocyte in...</td>\n",
       "      <td>The significance of podocyte structural protei...</td>\n",
       "      <td>The significance of podocyte structural protei...</td>\n",
       "      <td>0.833333</td>\n",
       "      <td>1.000000</td>\n",
       "      <td>1.0</td>\n",
       "      <td>1.000000</td>\n",
       "      <td>0</td>\n",
       "    </tr>\n",
       "    <tr>\n",
       "      <th>5</th>\n",
       "      <td>How can the social and economic impacts of pod...</td>\n",
       "      <td>[The feasibility of eliminating podoconiosis. ...</td>\n",
       "      <td>The social and economic impacts of podoconiosi...</td>\n",
       "      <td>The social and economic impacts of podoconiosi...</td>\n",
       "      <td>0.800000</td>\n",
       "      <td>0.974679</td>\n",
       "      <td>1.0</td>\n",
       "      <td>1.000000</td>\n",
       "      <td>0</td>\n",
       "    </tr>\n",
       "    <tr>\n",
       "      <th>6</th>\n",
       "      <td>How does blood examination help diagnose pulmo...</td>\n",
       "      <td>[[Pulmonary paecilomycosis: Diagnosis and trea...</td>\n",
       "      <td>Blood examination helps diagnose pulmonary pae...</td>\n",
       "      <td>Blood examination does not help diagnose pulmo...</td>\n",
       "      <td>0.500000</td>\n",
       "      <td>1.000000</td>\n",
       "      <td>1.0</td>\n",
       "      <td>0.500000</td>\n",
       "      <td>0</td>\n",
       "    </tr>\n",
       "    <tr>\n",
       "      <th>7</th>\n",
       "      <td>What treatments are used for chronic hepatitis...</td>\n",
       "      <td>[[Resistance to protease inhibitors and effici...</td>\n",
       "      <td>Triple therapy with protease inhibitors (bocep...</td>\n",
       "      <td>The answer to given question is not present in...</td>\n",
       "      <td>0.500000</td>\n",
       "      <td>0.826072</td>\n",
       "      <td>0.0</td>\n",
       "      <td>1.000000</td>\n",
       "      <td>0</td>\n",
       "    </tr>\n",
       "    <tr>\n",
       "      <th>8</th>\n",
       "      <td>What is the significance of intramural hematom...</td>\n",
       "      <td>[[Internal carotid artery dissection as a caus...</td>\n",
       "      <td>Intramural hematoma in carotid artery dissecti...</td>\n",
       "      <td>The significance of intramural hematoma in car...</td>\n",
       "      <td>1.000000</td>\n",
       "      <td>0.919980</td>\n",
       "      <td>1.0</td>\n",
       "      <td>1.000000</td>\n",
       "      <td>0</td>\n",
       "    </tr>\n",
       "    <tr>\n",
       "      <th>9</th>\n",
       "      <td>How does coronary atherosclerosis affect heart...</td>\n",
       "      <td>[[Functional morphology of ischemic cardiomyop...</td>\n",
       "      <td>Coronary atherosclerosis leads to higher level...</td>\n",
       "      <td>Coronary atherosclerosis affects heart disease...</td>\n",
       "      <td>1.000000</td>\n",
       "      <td>0.897993</td>\n",
       "      <td>1.0</td>\n",
       "      <td>0.500000</td>\n",
       "      <td>0</td>\n",
       "    </tr>\n",
       "  </tbody>\n",
       "</table>\n",
       "</div>"
      ],
      "text/plain": [
       "                                            question  \\\n",
       "0  How can the sequential mathematical analysis b...   \n",
       "1  How do resistance mutations in the HCV NS3/4A ...   \n",
       "2  What is a symptom associated with the conditio...   \n",
       "3  What is the significance of proliferative acti...   \n",
       "4  What is the significance of podocyte structura...   \n",
       "5  How can the social and economic impacts of pod...   \n",
       "6  How does blood examination help diagnose pulmo...   \n",
       "7  What treatments are used for chronic hepatitis...   \n",
       "8  What is the significance of intramural hematom...   \n",
       "9  How does coronary atherosclerosis affect heart...   \n",
       "\n",
       "                                            contexts  \\\n",
       "0  [[The use of the sequential mathematical analy...   \n",
       "1  [[Resistance to protease inhibitors and effici...   \n",
       "2  [[Urinary excretion of markers for podocyte in...   \n",
       "3  [[A correlation between diffusion kurtosis ima...   \n",
       "4  [[Urinary excretion of markers for podocyte in...   \n",
       "5  [The feasibility of eliminating podoconiosis. ...   \n",
       "6  [[Pulmonary paecilomycosis: Diagnosis and trea...   \n",
       "7  [[Resistance to protease inhibitors and effici...   \n",
       "8  [[Internal carotid artery dissection as a caus...   \n",
       "9  [[Functional morphology of ischemic cardiomyop...   \n",
       "\n",
       "                                              answer  \\\n",
       "0  The sequential mathematical analysis can be ut...   \n",
       "1  Resistance mutations in the HCV NS3/4A region ...   \n",
       "2  Polydipsia is a symptom associated with the co...   \n",
       "3  The significance of proliferative activity in ...   \n",
       "4  The significance of podocyte structural protei...   \n",
       "5  The social and economic impacts of podoconiosi...   \n",
       "6  Blood examination helps diagnose pulmonary pae...   \n",
       "7  Triple therapy with protease inhibitors (bocep...   \n",
       "8  Intramural hematoma in carotid artery dissecti...   \n",
       "9  Coronary atherosclerosis leads to higher level...   \n",
       "\n",
       "                                        ground_truth  faithfulness  \\\n",
       "0  The sequential mathematical analysis can be us...      1.000000   \n",
       "1  Resistance mutations in the HCV NS3/4A region ...      1.000000   \n",
       "2  Polyuria is a symptom associated with the cond...      0.000000   \n",
       "3  The significance of proliferative activity in ...      1.000000   \n",
       "4  The significance of podocyte structural protei...      0.833333   \n",
       "5  The social and economic impacts of podoconiosi...      0.800000   \n",
       "6  Blood examination does not help diagnose pulmo...      0.500000   \n",
       "7  The answer to given question is not present in...      0.500000   \n",
       "8  The significance of intramural hematoma in car...      1.000000   \n",
       "9  Coronary atherosclerosis affects heart disease...      1.000000   \n",
       "\n",
       "   answer_relevancy  context_precision  context_recall  harmfulness  \n",
       "0          0.952606                1.0        1.000000            0  \n",
       "1          0.912357                1.0        1.000000            0  \n",
       "2          0.909506                0.5        0.000000            0  \n",
       "3          1.000000                1.0        0.666667            0  \n",
       "4          1.000000                1.0        1.000000            0  \n",
       "5          0.974679                1.0        1.000000            0  \n",
       "6          1.000000                1.0        0.500000            0  \n",
       "7          0.826072                0.0        1.000000            0  \n",
       "8          0.919980                1.0        1.000000            0  \n",
       "9          0.897993                1.0        0.500000            0  "
      ]
     },
     "execution_count": 14,
     "metadata": {},
     "output_type": "execute_result"
    }
   ],
   "source": [
    "result.to_pandas()"
   ]
  }
 ],
 "metadata": {
  "kernelspec": {
   "display_name": "Python 3",
   "language": "python",
   "name": "python3"
  },
  "language_info": {
   "codemirror_mode": {
    "name": "ipython",
    "version": 3
   },
   "file_extension": ".py",
   "mimetype": "text/x-python",
   "name": "python",
   "nbconvert_exporter": "python",
   "pygments_lexer": "ipython3",
   "version": "3.11.10"
  }
 },
 "nbformat": 4,
 "nbformat_minor": 2
}
