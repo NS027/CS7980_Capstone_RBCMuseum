{
 "cells": [
  {
   "cell_type": "code",
   "execution_count": 1,
   "metadata": {},
   "outputs": [],
   "source": [
    "import os\n",
    "\n",
    "from dotenv import load_dotenv\n",
    "load_dotenv()\n",
    "\n",
    "import nest_asyncio\n",
    "nest_asyncio.apply()\n",
    "\n",
    "OPENAI_API_KEY = os.getenv(\"OPENAI_API_KEY\")\n",
    "os.environ[\"OPENAI_API_KEY\"] = OPENAI_API_KEY"
   ]
  },
  {
   "cell_type": "code",
   "execution_count": 27,
   "metadata": {},
   "outputs": [],
   "source": [
    "from llama_index.core import SimpleDirectoryReader\n",
    "\n",
    "documents = SimpleDirectoryReader(\"data/Trump/\").load_data()"
   ]
  },
  {
   "cell_type": "code",
   "execution_count": 28,
   "metadata": {},
   "outputs": [],
   "source": [
    "from llama_index.core import VectorStoreIndex\n",
    "\n",
    "index = VectorStoreIndex.from_documents(documents)\n",
    "rag_application = index.as_query_engine()"
   ]
  },
  {
   "cell_type": "code",
   "execution_count": 32,
   "metadata": {},
   "outputs": [
    {
     "data": {
      "application/vnd.jupyter.widget-view+json": {
       "model_id": "118d5c58235b4c32883ae541e925e5d1",
       "version_major": 2,
       "version_minor": 0
      },
      "text/plain": [
       "Output()"
      ]
     },
     "metadata": {},
     "output_type": "display_data"
    },
    {
     "data": {
      "text/html": [
       "<pre style=\"white-space:pre;overflow-x:auto;line-height:normal;font-family:Menlo,'DejaVu Sans Mono',consolas,'Courier New',monospace\">None\n",
       "</pre>\n"
      ],
      "text/plain": [
       "None\n"
      ]
     },
     "metadata": {},
     "output_type": "display_data"
    },
    {
     "data": {
      "text/html": [
       "<pre style=\"white-space:pre;overflow-x:auto;line-height:normal;font-family:Menlo,'DejaVu Sans Mono',consolas,'Courier New',monospace\"></pre>\n"
      ],
      "text/plain": []
     },
     "metadata": {},
     "output_type": "display_data"
    },
    {
     "name": "stdout",
     "output_type": "stream",
     "text": [
      "query='when is assassination attempt on Trump?' contexts=None response='The assassination attempt on Former President Donald Trump occurred on a Saturday night.' passing=True feedback='The score is 1.00 because there are no contradictions, indicating the actual output is perfectly aligned with the retrieval context. Great job!' score=1.0 pairwise_source=None invalid_result=False invalid_reason=None\n"
     ]
    }
   ],
   "source": [
    "from deepeval.integrations.llama_index import DeepEvalFaithfulnessEvaluator\n",
    "\n",
    "# An example input to your RAG application\n",
    "user_input = \"when is assassination attempt on Trump?\"\n",
    "\n",
    "# LlamaIndex returns a response object that contains\n",
    "# both the output string and retrieved nodes\n",
    "response_object = rag_application.query(user_input)\n",
    "\n",
    "evaluator = DeepEvalFaithfulnessEvaluator()\n",
    "evaluation_result = evaluator.evaluate_response(\n",
    "    query=user_input, response=response_object\n",
    ")\n",
    "print(evaluation_result)"
   ]
  },
  {
   "cell_type": "code",
   "execution_count": 33,
   "metadata": {},
   "outputs": [
    {
     "data": {
      "text/plain": [
       "'The assassination attempt on Former President Donald Trump occurred on a Saturday night.'"
      ]
     },
     "execution_count": 33,
     "metadata": {},
     "output_type": "execute_result"
    }
   ],
   "source": [
    "evaluation_result.response"
   ]
  },
  {
   "cell_type": "code",
   "execution_count": 34,
   "metadata": {},
   "outputs": [
    {
     "data": {
      "text/plain": [
       "'The score is 1.00 because there are no contradictions, indicating the actual output is perfectly aligned with the retrieval context. Great job!'"
      ]
     },
     "execution_count": 34,
     "metadata": {},
     "output_type": "execute_result"
    }
   ],
   "source": [
    "evaluation_result.feedback"
   ]
  },
  {
   "cell_type": "code",
   "execution_count": 35,
   "metadata": {},
   "outputs": [
    {
     "data": {
      "application/vnd.jupyter.widget-view+json": {
       "model_id": "c0fe487b785e46b189a702a467eebc79",
       "version_major": 2,
       "version_minor": 0
      },
      "text/plain": [
       "Output()"
      ]
     },
     "metadata": {},
     "output_type": "display_data"
    },
    {
     "data": {
      "text/html": [
       "<pre style=\"white-space:pre;overflow-x:auto;line-height:normal;font-family:Menlo,'DejaVu Sans Mono',consolas,'Courier New',monospace\"></pre>\n"
      ],
      "text/plain": []
     },
     "metadata": {},
     "output_type": "display_data"
    },
    {
     "name": "stdout",
     "output_type": "stream",
     "text": [
      "query='what is the date assassination attempt on Trump?' contexts=None response='The assassination attempt on Donald Trump took place on a Saturday night.' passing=True feedback='The score is 1.00 because the response is completely relevant with no irrelevant statements. Great job on staying focused and on point!' score=1.0 pairwise_source=None invalid_result=False invalid_reason=None\n"
     ]
    }
   ],
   "source": [
    "from deepeval.integrations.llama_index import DeepEvalAnswerRelevancyEvaluator\n",
    "\n",
    "# An example input to your RAG application\n",
    "user_input = \"what is the date assassination attempt on Trump?\"\n",
    "\n",
    "# LlamaIndex returns a response object that contains\n",
    "# both the output string and retrieved nodes\n",
    "response_object = rag_application.query(user_input)\n",
    "\n",
    "evaluator = DeepEvalAnswerRelevancyEvaluator()\n",
    "evaluation_result = evaluator.evaluate_response(\n",
    "    query=user_input, response=response_object\n",
    ")\n",
    "print(evaluation_result)"
   ]
  },
  {
   "cell_type": "code",
   "execution_count": 36,
   "metadata": {},
   "outputs": [
    {
     "data": {
      "text/plain": [
       "'The score is 1.00 because the response is completely relevant with no irrelevant statements. Great job on staying focused and on point!'"
      ]
     },
     "execution_count": 36,
     "metadata": {},
     "output_type": "execute_result"
    }
   ],
   "source": [
    "evaluation_result.feedback"
   ]
  },
  {
   "cell_type": "code",
   "execution_count": 37,
   "metadata": {},
   "outputs": [
    {
     "data": {
      "application/vnd.jupyter.widget-view+json": {
       "model_id": "01d887f9c51b4fd68b19aadb4510306c",
       "version_major": 2,
       "version_minor": 0
      },
      "text/plain": [
       "Output()"
      ]
     },
     "metadata": {},
     "output_type": "display_data"
    },
    {
     "data": {
      "text/html": [
       "<pre style=\"white-space:pre;overflow-x:auto;line-height:normal;font-family:Menlo,'DejaVu Sans Mono',consolas,'Courier New',monospace\"></pre>\n"
      ],
      "text/plain": []
     },
     "metadata": {},
     "output_type": "display_data"
    },
    {
     "name": "stdout",
     "output_type": "stream",
     "text": [
      "query='what is the date assassination attempt on Trump?' contexts=None response='The assassination attempt on Donald Trump took place on a Saturday night.' passing=False feedback='The score is 0.00 because the context lacks the specific date information requested, despite detailing other aspects of the assassination attempt on Trump.' score=0.0 pairwise_source=None invalid_result=False invalid_reason=None\n"
     ]
    }
   ],
   "source": [
    "from deepeval.integrations.llama_index import DeepEvalContextualRelevancyEvaluator\n",
    "\n",
    "# An example input to your RAG application\n",
    "user_input = \"what is the date assassination attempt on Trump?\"\n",
    "\n",
    "# LlamaIndex returns a response object that contains\n",
    "# both the output string and retrieved nodes\n",
    "response_object = rag_application.query(user_input)\n",
    "\n",
    "evaluator = DeepEvalContextualRelevancyEvaluator()\n",
    "evaluation_result = evaluator.evaluate_response(\n",
    "    query=user_input, response=response_object\n",
    ")\n",
    "print(evaluation_result)"
   ]
  },
  {
   "cell_type": "code",
   "execution_count": 38,
   "metadata": {},
   "outputs": [
    {
     "data": {
      "text/plain": [
       "'The score is 0.00 because the context lacks the specific date information requested, despite detailing other aspects of the assassination attempt on Trump.'"
      ]
     },
     "execution_count": 38,
     "metadata": {},
     "output_type": "execute_result"
    }
   ],
   "source": [
    "evaluation_result.feedback"
   ]
  }
 ],
 "metadata": {
  "kernelspec": {
   "display_name": "Python 3",
   "language": "python",
   "name": "python3"
  },
  "language_info": {
   "codemirror_mode": {
    "name": "ipython",
    "version": 3
   },
   "file_extension": ".py",
   "mimetype": "text/x-python",
   "name": "python",
   "nbconvert_exporter": "python",
   "pygments_lexer": "ipython3",
   "version": "3.11.10"
  }
 },
 "nbformat": 4,
 "nbformat_minor": 2
}
