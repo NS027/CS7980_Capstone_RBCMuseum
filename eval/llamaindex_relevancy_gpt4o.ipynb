{
 "cells": [
  {
   "cell_type": "code",
   "execution_count": 1,
   "metadata": {},
   "outputs": [],
   "source": [
    "import os\n",
    "\n",
    "from dotenv import load_dotenv\n",
    "load_dotenv()\n",
    "\n",
    "import nest_asyncio\n",
    "nest_asyncio.apply()\n",
    "\n",
    "OPENAI_API_KEY = os.getenv(\"OPENAI_API_KEY\")\n",
    "os.environ[\"OPENAI_API_KEY\"] = OPENAI_API_KEY"
   ]
  },
  {
   "cell_type": "markdown",
   "metadata": {},
   "source": [
    "Set up the display"
   ]
  },
  {
   "cell_type": "code",
   "execution_count": 2,
   "metadata": {},
   "outputs": [],
   "source": [
    "def displayify_df(df):\n",
    "    \"\"\"For pretty displaying DataFrame in a notebook.\"\"\"\n",
    "    display_df = df.style.set_properties(\n",
    "        **{\n",
    "            \"inline-size\": \"300px\",\n",
    "            \"overflow-wrap\": \"break-word\",\n",
    "        }\n",
    "    )\n",
    "    display(display_df)"
   ]
  },
  {
   "cell_type": "markdown",
   "metadata": {},
   "source": [
    "Load the data from the article"
   ]
  },
  {
   "cell_type": "code",
   "execution_count": 3,
   "metadata": {},
   "outputs": [],
   "source": [
    "# load the documents\n",
    "from llama_index.core import SimpleDirectoryReader\n",
    "\n",
    "documents = SimpleDirectoryReader(\"data/Trump/\").load_data()"
   ]
  },
  {
   "cell_type": "code",
   "execution_count": 6,
   "metadata": {},
   "outputs": [],
   "source": [
    "from llama_index.core import VectorStoreIndex\n",
    "from llama_index.llms.openai import OpenAI\n",
    "llm = OpenAI(model=\"gpt-4o\")\n",
    "index = VectorStoreIndex.from_documents(documents=documents)\n",
    "query_engine = index.as_query_engine(llm=llm)"
   ]
  },
  {
   "cell_type": "markdown",
   "metadata": {},
   "source": [
    "Generate rag dataset based on the data(from documents for this case)"
   ]
  },
  {
   "cell_type": "code",
   "execution_count": 7,
   "metadata": {},
   "outputs": [],
   "source": [
    "from llama_index.core.llama_dataset.generator import RagDatasetGenerator\n",
    "from llama_index.llms.openai import OpenAI\n",
    "import nest_asyncio\n",
    "\n",
    "nest_asyncio.apply()\n",
    "\n",
    "documents = documents  # a set of documents loaded by using for example a Reader\n",
    "\n",
    "llm = OpenAI(model=\"gpt-4\")\n",
    "\n",
    "dataset_generator = RagDatasetGenerator.from_documents(\n",
    "    documents=documents,\n",
    "    llm=llm,\n",
    "    num_questions_per_chunk=10,  # set the number of questions per nodes\n",
    ")\n",
    "\n",
    "rag_dataset = dataset_generator.generate_dataset_from_nodes()"
   ]
  },
  {
   "cell_type": "markdown",
   "metadata": {},
   "source": [
    "take a look at the rag_dataset"
   ]
  },
  {
   "cell_type": "code",
   "execution_count": 8,
   "metadata": {},
   "outputs": [
    {
     "data": {
      "text/html": [
       "<div>\n",
       "<style scoped>\n",
       "    .dataframe tbody tr th:only-of-type {\n",
       "        vertical-align: middle;\n",
       "    }\n",
       "\n",
       "    .dataframe tbody tr th {\n",
       "        vertical-align: top;\n",
       "    }\n",
       "\n",
       "    .dataframe thead th {\n",
       "        text-align: right;\n",
       "    }\n",
       "</style>\n",
       "<table border=\"1\" class=\"dataframe\">\n",
       "  <thead>\n",
       "    <tr style=\"text-align: right;\">\n",
       "      <th></th>\n",
       "      <th>query</th>\n",
       "      <th>reference_contexts</th>\n",
       "      <th>reference_answer</th>\n",
       "      <th>reference_answer_by</th>\n",
       "      <th>query_by</th>\n",
       "    </tr>\n",
       "  </thead>\n",
       "  <tbody>\n",
       "    <tr>\n",
       "      <th>0</th>\n",
       "      <td>Who was the target of the assassination attemp...</td>\n",
       "      <td>[FormerPresidentDonaldTrumpwasshotandinjuredin...</td>\n",
       "      <td>Former President Donald Trump</td>\n",
       "      <td>ai (gpt-4)</td>\n",
       "      <td>ai (gpt-4)</td>\n",
       "    </tr>\n",
       "    <tr>\n",
       "      <th>1</th>\n",
       "      <td>What was the location of the assassination att...</td>\n",
       "      <td>[FormerPresidentDonaldTrumpwasshotandinjuredin...</td>\n",
       "      <td>The assassination attempt on Former President ...</td>\n",
       "      <td>ai (gpt-4)</td>\n",
       "      <td>ai (gpt-4)</td>\n",
       "    </tr>\n",
       "    <tr>\n",
       "      <th>2</th>\n",
       "      <td>How many rounds were fired during the assassin...</td>\n",
       "      <td>[FormerPresidentDonaldTrumpwasshotandinjuredin...</td>\n",
       "      <td>Eight rounds were fired during the assassinati...</td>\n",
       "      <td>ai (gpt-4)</td>\n",
       "      <td>ai (gpt-4)</td>\n",
       "    </tr>\n",
       "    <tr>\n",
       "      <th>3</th>\n",
       "      <td>What injury did Former President Donald Trump ...</td>\n",
       "      <td>[FormerPresidentDonaldTrumpwasshotandinjuredin...</td>\n",
       "      <td>Former President Donald Trump sustained a guns...</td>\n",
       "      <td>ai (gpt-4)</td>\n",
       "      <td>ai (gpt-4)</td>\n",
       "    </tr>\n",
       "    <tr>\n",
       "      <th>4</th>\n",
       "      <td>How did the Secret Service respond to the assa...</td>\n",
       "      <td>[FormerPresidentDonaldTrumpwasshotandinjuredin...</td>\n",
       "      <td>The Secret Service shielded former President T...</td>\n",
       "      <td>ai (gpt-4)</td>\n",
       "      <td>ai (gpt-4)</td>\n",
       "    </tr>\n",
       "  </tbody>\n",
       "</table>\n",
       "</div>"
      ],
      "text/plain": [
       "                                               query  \\\n",
       "0  Who was the target of the assassination attemp...   \n",
       "1  What was the location of the assassination att...   \n",
       "2  How many rounds were fired during the assassin...   \n",
       "3  What injury did Former President Donald Trump ...   \n",
       "4  How did the Secret Service respond to the assa...   \n",
       "\n",
       "                                  reference_contexts  \\\n",
       "0  [FormerPresidentDonaldTrumpwasshotandinjuredin...   \n",
       "1  [FormerPresidentDonaldTrumpwasshotandinjuredin...   \n",
       "2  [FormerPresidentDonaldTrumpwasshotandinjuredin...   \n",
       "3  [FormerPresidentDonaldTrumpwasshotandinjuredin...   \n",
       "4  [FormerPresidentDonaldTrumpwasshotandinjuredin...   \n",
       "\n",
       "                                    reference_answer reference_answer_by  \\\n",
       "0                      Former President Donald Trump          ai (gpt-4)   \n",
       "1  The assassination attempt on Former President ...          ai (gpt-4)   \n",
       "2  Eight rounds were fired during the assassinati...          ai (gpt-4)   \n",
       "3  Former President Donald Trump sustained a guns...          ai (gpt-4)   \n",
       "4  The Secret Service shielded former President T...          ai (gpt-4)   \n",
       "\n",
       "     query_by  \n",
       "0  ai (gpt-4)  \n",
       "1  ai (gpt-4)  \n",
       "2  ai (gpt-4)  \n",
       "3  ai (gpt-4)  \n",
       "4  ai (gpt-4)  "
      ]
     },
     "execution_count": 8,
     "metadata": {},
     "output_type": "execute_result"
    }
   ],
   "source": [
    "rag_dataset.to_pandas()[:5]"
   ]
  },
  {
   "cell_type": "markdown",
   "metadata": {},
   "source": [
    "With our RAG (i.e query_engine) defined, we can make predictions (i.e., generate responses to the query) with it over the rag_dataset"
   ]
  },
  {
   "cell_type": "code",
   "execution_count": 9,
   "metadata": {},
   "outputs": [
    {
     "name": "stderr",
     "output_type": "stream",
     "text": [
      "Batch processing of predictions: 100%|██████████| 100/100 [00:04<00:00, 20.47it/s]\n",
      "Batch processing of predictions: 100%|██████████| 10/10 [00:02<00:00,  3.86it/s]\n"
     ]
    }
   ],
   "source": [
    "prediction_dataset = await rag_dataset.amake_predictions_with(\n",
    "    predictor=query_engine, batch_size=100, show_progress=True\n",
    ")"
   ]
  },
  {
   "cell_type": "markdown",
   "metadata": {},
   "source": [
    "Evaluating Answer and Context Relevancy Separately\n",
    "We first need to define our evaluators (i.e. AnswerRelevancyEvaluator & ContextRelevancyEvaluator):"
   ]
  },
  {
   "cell_type": "code",
   "execution_count": 10,
   "metadata": {},
   "outputs": [],
   "source": [
    "# instantiate the gpt-4 judges\n",
    "from llama_index.llms.openai import OpenAI\n",
    "from llama_index.core.evaluation import (\n",
    "    AnswerRelevancyEvaluator,\n",
    "    ContextRelevancyEvaluator,\n",
    ")\n",
    "\n",
    "judges = {}\n",
    "\n",
    "judges[\"answer_relevancy\"] = AnswerRelevancyEvaluator(\n",
    "    llm=OpenAI(temperature=0, model=\"gpt-3.5-turbo\"),\n",
    ")\n",
    "\n",
    "judges[\"context_relevancy\"] = ContextRelevancyEvaluator(\n",
    "    llm=OpenAI(temperature=0, model=\"gpt-4\"),\n",
    ")"
   ]
  },
  {
   "cell_type": "markdown",
   "metadata": {},
   "source": [
    "Now, we can use our evaluator to make evaluations by looping through all of the <example, prediction> pairs"
   ]
  },
  {
   "cell_type": "code",
   "execution_count": 11,
   "metadata": {},
   "outputs": [],
   "source": [
    "eval_tasks = []\n",
    "for example, prediction in zip(\n",
    "    rag_dataset.examples, prediction_dataset.predictions\n",
    "):\n",
    "    eval_tasks.append(\n",
    "        judges[\"answer_relevancy\"].aevaluate(\n",
    "            query=example.query,\n",
    "            response=prediction.response,\n",
    "            sleep_time_in_seconds=1.0,\n",
    "        )\n",
    "    )\n",
    "    eval_tasks.append(\n",
    "        judges[\"context_relevancy\"].aevaluate(\n",
    "            query=example.query,\n",
    "            contexts=prediction.contexts,\n",
    "            sleep_time_in_seconds=1.0,\n",
    "        )\n",
    "    )"
   ]
  },
  {
   "cell_type": "code",
   "execution_count": 12,
   "metadata": {},
   "outputs": [],
   "source": [
    "from tqdm.asyncio import tqdm_asyncio"
   ]
  },
  {
   "cell_type": "code",
   "execution_count": 13,
   "metadata": {},
   "outputs": [
    {
     "name": "stderr",
     "output_type": "stream",
     "text": [
      "100%|██████████| 220/220 [00:19<00:00, 11.54it/s]\n"
     ]
    }
   ],
   "source": [
    "eval_results1 = await tqdm_asyncio.gather(*eval_tasks[:250])"
   ]
  },
  {
   "cell_type": "code",
   "execution_count": 14,
   "metadata": {},
   "outputs": [
    {
     "name": "stderr",
     "output_type": "stream",
     "text": [
      "0it [00:00, ?it/s]\n"
     ]
    }
   ],
   "source": [
    "eval_results2 = await tqdm_asyncio.gather(*eval_tasks[250:])"
   ]
  },
  {
   "cell_type": "code",
   "execution_count": 15,
   "metadata": {},
   "outputs": [],
   "source": [
    "eval_results = eval_results1 + eval_results2"
   ]
  },
  {
   "cell_type": "code",
   "execution_count": 16,
   "metadata": {},
   "outputs": [],
   "source": [
    "evals = {\n",
    "    \"answer_relevancy\": eval_results[::2],\n",
    "    \"context_relevancy\": eval_results[1::2],\n",
    "}"
   ]
  },
  {
   "cell_type": "markdown",
   "metadata": {},
   "source": [
    "Taking a look at the evaluation results\n",
    "Here we use a utility function to convert the list of EvaluationResult objects into something more notebook friendly. This utility will provide two DataFrames, one deep one containing all of the evaluation results, and another one which aggregates via taking the mean of all the scores, per evaluation method."
   ]
  },
  {
   "cell_type": "code",
   "execution_count": 17,
   "metadata": {},
   "outputs": [],
   "source": [
    "from llama_index.core.evaluation.notebook_utils import get_eval_results_df\n",
    "import pandas as pd\n",
    "\n",
    "deep_dfs = {}\n",
    "mean_dfs = {}\n",
    "for metric in evals.keys():\n",
    "    deep_df, mean_df = get_eval_results_df(\n",
    "        names=[\"baseline\"] * len(evals[metric]),\n",
    "        results_arr=evals[metric],\n",
    "        metric=metric,\n",
    "    )\n",
    "    deep_dfs[metric] = deep_df\n",
    "    mean_dfs[metric] = mean_df"
   ]
  },
  {
   "cell_type": "code",
   "execution_count": 18,
   "metadata": {},
   "outputs": [
    {
     "data": {
      "text/html": [
       "<div>\n",
       "<style scoped>\n",
       "    .dataframe tbody tr th:only-of-type {\n",
       "        vertical-align: middle;\n",
       "    }\n",
       "\n",
       "    .dataframe tbody tr th {\n",
       "        vertical-align: top;\n",
       "    }\n",
       "\n",
       "    .dataframe thead th {\n",
       "        text-align: right;\n",
       "    }\n",
       "</style>\n",
       "<table border=\"1\" class=\"dataframe\">\n",
       "  <thead>\n",
       "    <tr style=\"text-align: right;\">\n",
       "      <th>rag</th>\n",
       "      <th>baseline</th>\n",
       "    </tr>\n",
       "    <tr>\n",
       "      <th>metrics</th>\n",
       "      <th></th>\n",
       "    </tr>\n",
       "  </thead>\n",
       "  <tbody>\n",
       "    <tr>\n",
       "      <th>mean_answer_relevancy_score</th>\n",
       "      <td>0.890909</td>\n",
       "    </tr>\n",
       "    <tr>\n",
       "      <th>mean_context_relevancy_score</th>\n",
       "      <td>0.851136</td>\n",
       "    </tr>\n",
       "  </tbody>\n",
       "</table>\n",
       "</div>"
      ],
      "text/plain": [
       "rag                           baseline\n",
       "metrics                               \n",
       "mean_answer_relevancy_score   0.890909\n",
       "mean_context_relevancy_score  0.851136"
      ]
     },
     "execution_count": 18,
     "metadata": {},
     "output_type": "execute_result"
    }
   ],
   "source": [
    "mean_scores_df = pd.concat(\n",
    "    [mdf.reset_index() for _, mdf in mean_dfs.items()],\n",
    "    axis=0,\n",
    "    ignore_index=True,\n",
    ")\n",
    "mean_scores_df = mean_scores_df.set_index(\"index\")\n",
    "mean_scores_df.index = mean_scores_df.index.set_names([\"metrics\"])\n",
    "mean_scores_df"
   ]
  },
  {
   "cell_type": "markdown",
   "metadata": {},
   "source": [
    "We can get a look at the raw distribution of the scores by invoking value_counts() on the deep_df."
   ]
  },
  {
   "cell_type": "code",
   "execution_count": 19,
   "metadata": {},
   "outputs": [
    {
     "data": {
      "text/plain": [
       "scores\n",
       "1.0    94\n",
       "0.0     8\n",
       "0.5     8\n",
       "Name: count, dtype: int64"
      ]
     },
     "execution_count": 19,
     "metadata": {},
     "output_type": "execute_result"
    }
   ],
   "source": [
    "deep_dfs[\"answer_relevancy\"][\"scores\"].value_counts()"
   ]
  },
  {
   "cell_type": "code",
   "execution_count": 20,
   "metadata": {},
   "outputs": [
    {
     "data": {
      "text/plain": [
       "scores\n",
       "1.000    74\n",
       "0.750    15\n",
       "0.000     7\n",
       "0.875     4\n",
       "0.375     3\n",
       "0.250     3\n",
       "0.625     2\n",
       "1.625     1\n",
       "0.125     1\n",
       "Name: count, dtype: int64"
      ]
     },
     "execution_count": 20,
     "metadata": {},
     "output_type": "execute_result"
    }
   ],
   "source": [
    "deep_dfs[\"context_relevancy\"][\"scores\"].value_counts()"
   ]
  },
  {
   "cell_type": "markdown",
   "metadata": {},
   "source": [
    "Getting a closer look is made possible by viewing the records of any of the deep_df's."
   ]
  },
  {
   "cell_type": "code",
   "execution_count": 21,
   "metadata": {},
   "outputs": [
    {
     "data": {
      "text/html": [
       "<style type=\"text/css\">\n",
       "#T_22513_row0_col0, #T_22513_row0_col1, #T_22513_row0_col2, #T_22513_row0_col3, #T_22513_row0_col4, #T_22513_row0_col5, #T_22513_row1_col0, #T_22513_row1_col1, #T_22513_row1_col2, #T_22513_row1_col3, #T_22513_row1_col4, #T_22513_row1_col5 {\n",
       "  inline-size: 300px;\n",
       "  overflow-wrap: break-word;\n",
       "}\n",
       "</style>\n",
       "<table id=\"T_22513\">\n",
       "  <thead>\n",
       "    <tr>\n",
       "      <th class=\"blank level0\" >&nbsp;</th>\n",
       "      <th id=\"T_22513_level0_col0\" class=\"col_heading level0 col0\" >rag</th>\n",
       "      <th id=\"T_22513_level0_col1\" class=\"col_heading level0 col1\" >query</th>\n",
       "      <th id=\"T_22513_level0_col2\" class=\"col_heading level0 col2\" >answer</th>\n",
       "      <th id=\"T_22513_level0_col3\" class=\"col_heading level0 col3\" >contexts</th>\n",
       "      <th id=\"T_22513_level0_col4\" class=\"col_heading level0 col4\" >scores</th>\n",
       "      <th id=\"T_22513_level0_col5\" class=\"col_heading level0 col5\" >feedbacks</th>\n",
       "    </tr>\n",
       "  </thead>\n",
       "  <tbody>\n",
       "    <tr>\n",
       "      <th id=\"T_22513_level0_row0\" class=\"row_heading level0 row0\" >0</th>\n",
       "      <td id=\"T_22513_row0_col0\" class=\"data row0 col0\" >baseline</td>\n",
       "      <td id=\"T_22513_row0_col1\" class=\"data row0 col1\" >Who was the target of the assassination attempt mentioned in the document?</td>\n",
       "      <td id=\"T_22513_row0_col2\" class=\"data row0 col2\" >None</td>\n",
       "      <td id=\"T_22513_row0_col3\" class=\"data row0 col3\" >['FormerPresidentDonaldTrumpwasshotandinjuredinanassassinationattempton\\nSaturdaynightthatalsokilledaspectatorandcriticallyinjuredtwoothers.Sniperskilled\\ntheshooter,a20-year-oldman,afterhefiredeightroundsattherallyinButler,\\nPennsylvania.\\nTheformerpresidentcouldbeseentouchinghisearastheshootingunfoldedbeforehe\\nwasshieldedbySecretServiceandwhiskedoffstage—withbloodonhisface—and\\nintoanSUVtosafety.Trumpsaidinasocialmediapostthatabulletpiercedtheupper\\npartofhisrightear.\\n\"IknewimmediatelythatsomethingwaswronginthatIheardawhizzingsound,shots,\\nandimmediatelyfeltthebulletrippingthroughtheskin,\"hesaid.\"Muchbleedingtook\\nplace,soIrealizedthenwhatwashappening.\"\\nTheSecretServicelatersaidTrumpwassafe,andthathewenttoalocalhospitalandleft\\nhourslater.\\nThegunmanwasfatallyshotbyaSecretServicesniper,authoritiessaid.\\nFBIofficialssaidtheshooterappearedtobealoneactor,andtheincidentwasbeing\\ninvestigatedasanassassinationattemptandasapotentialcaseofdomesticterrorism.\\nWhoshotDonaldTrump?\\nTheFBIidentifiedtheshooterearlySundayas20-year-oldThomasMatthewCrooks,of\\nBethelPark,Pennsylvania.ThetowninAlleghenyCounty,justoutsidePittsburgh,is\\nhometoabout30,000people.\\nLawenforcementofficialssayhewasarmedwithasemiautomaticAR-stylerifle.Law\\nenforcementsourcessaythegunwaslegallypurchasedin2013andregisteredtothe\\nshooter\\'sfather,MatthewCrooks.\\nCrookswasa2022graduateofBethelParkHighSchoolSchoolofficialspledgedto\\nworkwithlawenforcementinvestigatingtheshooting,andofferedcondolencestothose\\naffectedbytheattack.\\nFormerclassmateJamesonMyers,amemberoftheschool\\'svarsityrifleteam,toldCBS\\nNewsthatCrookshadtriedoutfortheteamfreshmanyearbutdidnotmakethejunior\\nvarsityrosteranddidnotreturntotryoutfortheteaminsubsequentyears.\\nHecalledCrooksa\"nicekidwhonevertalkedpoorlyofanyone,\"adding,\"Ineverhave\\nthoughthimcapableofanythingI\\'veseenhimdointhelastfewdays.\"\\nAnotherclassmate,JasonKoehler,hadasomewhatdifferentview,tellingKDKA\\'sMegan\\nSchillerthatCrookswasalonerwhowasbulliedforhisappearanceandwore', '\\', contexts=[\\' that,\" Rojek said.  \\\\n\\\\n\\\\n\\\\nA law enforcement official said no foreign terrorism ties were known and the suspect was not on the radar of law enforcement.\\\\n\\\\n\\\\n\\\\nThe FBI says investigators are combing through his social media postings and emails, but that so far they have found nothing to lead them to a motive. They said are not seeing anything threatening in his postings so far. \\\\n\\\\n\\\\n\\\\nInvestigators also have accessed his cellphone, which was sent to the FBI lab in Quantico, Virginia, for analysis.\\\\n\\\\n\\\\n\\\\nThe FBI is leading the investigation, with assistance from the Secret Service and state and local agencies. \\\\n\\\\n\\\\n\\\\nHow is Trump now?\\\\n\\\\nThe Trump campaign said in a statement Saturday night that the former president was \\\\\\'fine.\" He was taken to a local hospital and left a few hours later.\\\\n\\\\n\\\\n\\\\nIn a post on Truth Social Saturday night, Trump described his injuries: \"I was shot with a bullet that pierced the upper part of my right ear. I knew immediately that something was wrong in that I heard a whizzing sound, shots, and immediately felt the bullet ripping through the skin. Much bleeding took place, so I realized then what was happening. GOD BLESS AMERICA!\"\\\\n\\\\n\\\\n\\\\nHe thanked the Secret Service and other law enforcement agencies for their rapid response, and extended condolences to the family of the man who was killed.\\\\n\\\\n\\\\n\\\\nHe posted on Truth Social early Sunday that Americans need to \"remain resilient in our Faith and Defiant in the face of Wickedness.\"\\\\n\\\\n\\\\n\\\\n\"In this moment, it is more important than ever that we stand United, and show our True Character as Americans, remaining Strong and Determined, and not allowing Evil to Win,\" Trump wrote. \"I truly love our Country, and love you all, and look forward to speaking to our Great Nation this week from Wisconsin,\" where the Republican National Convention begins Monday.\\\\n\\\\n\\\\n\\\\nVideo posted by a Trump aide to social media early Sunday morning showed him walking down the steps of his plane unaided after landing at Newark Liberty International Airport in New Jersey.   \\\\n\\\\n\\\\n\\\\nThe following day, he made an appearance at the Republican National Convention in Milwaukee, with his right ear bandaged, and was greeted with rousing cheers from the crowd.\\\\n\\\\n\\\\n\\\\nWhere was the Trump rally and how far away was the shooter?\\\\n\\\\nThe rally was in Butler, Pennsylvania, which is north of Pittsburgh and is the county seat of Butler County.\\\\n\\\\n\\\\n\\\\nThe gunman was on the roof of a building, outside the rally\\\\\\'s security perimeter set up by the Secret Service, and opened fire from about 410 feet away from the stage where Trump was speaking, law enforcement sources said. \\\\n\\\\n\\\\n\\\\nTwo law enforcement sources told CBS News that the shooter was spotted outside the security perimeter as people were filing into the rally, and he was reported by a bystander to the Butler County Sheriff\\\\\\'s Office. He was identified as a suspicious person by police, the sources said. Multiple attendees also said they saw the gunman and alerted officers shortly before the shooting.\\\\n\\\\n\\\\n\\\\nAn armed municipal officer with Butler Township encountered the gunman before the shooting, Butler County Sheriff Michael Sloupe confirmed to CBS News. The officer and others had been previously alerted to a suspicious person and began searching for him right away, Sloupe told CBS Pittsburgh reporter Jen Borrasso.\\\\n\\\\n\\\\n\\\\nAt some point, the officer was hoisted by another officer onto the roof of the building where the shooter was in position. The shooter focused his rifle towards the officer, who let go and fell off the roof. Then the shooter began firing into the crowd, according to Sloupe.\\\\n\\\\n\\\\n\\\\nThe gunman fired 6 to 8 rounds using a semiautomatic AR-style rifle from his position approximately 400 feet from the podium, before he was shot and killed by a Secret Service sniper team.\\\\n\\\\n\\\\n\\\\nRojek, with the FBI, called it \"surprising\" that the gunman was able to fire multiple shots. \\\\n\\\\n\\\\n\\\\n\"It is incredibly difficult to have a venue open to the public, and to secure that against any possible threat, against a very determined attacker,\" Pennsylvania State Police Lt. Col. George Bivens said of the Secret Service. \"That\\\\\\'s a huge lift to try and do it.\" \\\\n\\\\n\\\\n\\\\nWho was the victim who was fatally shot?\\\\n\\\\nThe spectator who was killed has been identified as Corey Comperatore, a 50-year-old man who was shot while attempting to shield his family from the gunfire, Pennsylvania Gov.']</td>\n",
       "      <td id=\"T_22513_row0_col4\" class=\"data row0 col4\" >1.000000</td>\n",
       "      <td id=\"T_22513_row0_col5\" class=\"data row0 col5\" >1. The retrieved context does match the subject matter of the user's query. The query asks about the target of an assassination attempt mentioned in the document, and the context provides information about an assassination attempt on Former President Donald Trump. Therefore, the context is relevant to the query. (2/2)\n",
       "2. The retrieved context can be used exclusively to provide a full answer to the user's query. The context clearly states that Former President Donald Trump was the target of the assassination attempt. It provides detailed information about the incident, including the identity of the shooter, the location of the event, and the aftermath of the attempt. (2/2)\n",
       "\n",
       "Final Score: [RESULT] 4/4.</td>\n",
       "    </tr>\n",
       "    <tr>\n",
       "      <th id=\"T_22513_level0_row1\" class=\"row_heading level0 row1\" >1</th>\n",
       "      <td id=\"T_22513_row1_col0\" class=\"data row1 col0\" >baseline</td>\n",
       "      <td id=\"T_22513_row1_col1\" class=\"data row1 col1\" >What was the location of the assassination attempt on Former President Donald Trump?</td>\n",
       "      <td id=\"T_22513_row1_col2\" class=\"data row1 col2\" >None</td>\n",
       "      <td id=\"T_22513_row1_col3\" class=\"data row1 col3\" >['FormerPresidentDonaldTrumpwasshotandinjuredinanassassinationattempton\\nSaturdaynightthatalsokilledaspectatorandcriticallyinjuredtwoothers.Sniperskilled\\ntheshooter,a20-year-oldman,afterhefiredeightroundsattherallyinButler,\\nPennsylvania.\\nTheformerpresidentcouldbeseentouchinghisearastheshootingunfoldedbeforehe\\nwasshieldedbySecretServiceandwhiskedoffstage—withbloodonhisface—and\\nintoanSUVtosafety.Trumpsaidinasocialmediapostthatabulletpiercedtheupper\\npartofhisrightear.\\n\"IknewimmediatelythatsomethingwaswronginthatIheardawhizzingsound,shots,\\nandimmediatelyfeltthebulletrippingthroughtheskin,\"hesaid.\"Muchbleedingtook\\nplace,soIrealizedthenwhatwashappening.\"\\nTheSecretServicelatersaidTrumpwassafe,andthathewenttoalocalhospitalandleft\\nhourslater.\\nThegunmanwasfatallyshotbyaSecretServicesniper,authoritiessaid.\\nFBIofficialssaidtheshooterappearedtobealoneactor,andtheincidentwasbeing\\ninvestigatedasanassassinationattemptandasapotentialcaseofdomesticterrorism.\\nWhoshotDonaldTrump?\\nTheFBIidentifiedtheshooterearlySundayas20-year-oldThomasMatthewCrooks,of\\nBethelPark,Pennsylvania.ThetowninAlleghenyCounty,justoutsidePittsburgh,is\\nhometoabout30,000people.\\nLawenforcementofficialssayhewasarmedwithasemiautomaticAR-stylerifle.Law\\nenforcementsourcessaythegunwaslegallypurchasedin2013andregisteredtothe\\nshooter\\'sfather,MatthewCrooks.\\nCrookswasa2022graduateofBethelParkHighSchoolSchoolofficialspledgedto\\nworkwithlawenforcementinvestigatingtheshooting,andofferedcondolencestothose\\naffectedbytheattack.\\nFormerclassmateJamesonMyers,amemberoftheschool\\'svarsityrifleteam,toldCBS\\nNewsthatCrookshadtriedoutfortheteamfreshmanyearbutdidnotmakethejunior\\nvarsityrosteranddidnotreturntotryoutfortheteaminsubsequentyears.\\nHecalledCrooksa\"nicekidwhonevertalkedpoorlyofanyone,\"adding,\"Ineverhave\\nthoughthimcapableofanythingI\\'veseenhimdointhelastfewdays.\"\\nAnotherclassmate,JasonKoehler,hadasomewhatdifferentview,tellingKDKA\\'sMegan\\nSchillerthatCrookswasalonerwhowasbulliedforhisappearanceandwore', 'notontheradaroflawenforcement.\\nTheFBIsaysinvestigatorsarecombingthroughhissocialmediapostingsandemails,\\nbutthatsofartheyhavefoundnothingtoleadthemtoamotive.Theysaidarenotseeing\\nanythingthreateninginhispostingssofar.\\nInvestigatorsalsohaveaccessedhiscellphone,whichwassenttotheFBIlabin\\nQuantico,Virginia,foranalysis.\\nTheFBIisleadingtheinvestigation,withassistancefromtheSecretServiceandstate\\nandlocalagencies.\\nHowisTrumpnow?\\nTheTrumpcampaignsaidinastatementSaturdaynightthattheformerpresidentwas\\n\\'fine.\"Hewastakentoalocalhospitalandleftafewhourslater.\\nInapostonTruthSocialSaturdaynight,Trumpdescribedhisinjuries:\"Iwasshotwitha\\nbulletthatpiercedtheupperpartofmyrightear.Iknewimmediatelythatsomethingwas\\nwronginthatIheardawhizzingsound,shots,andimmediatelyfeltthebulletripping\\nthroughtheskin.Muchbleedingtookplace,soIrealizedthenwhatwashappening.GOD\\nBLESSAMERICA!\"\\nHethankedtheSecretServiceandotherlawenforcementagenciesfortheirrapid\\nresponse,andextendedcondolencestothefamilyofthemanwhowaskilled.\\nHepostedonTruthSocialearlySundaythatAmericansneedto\"remainresilientinour\\nFaithandDefiantinthefaceofWickedness.\"\\n\"Inthismoment,itismoreimportantthaneverthatwestandUnited,andshowourTrue\\nCharacterasAmericans,remainingStrongandDetermined,andnotallowingEvilto\\nWin,\"Trumpwrote.\"ItrulyloveourCountry,andloveyouall,andlookforwardto\\nspeakingtoourGreatNationthisweekfromWisconsin,\"wheretheRepublicanNational\\nConventionbeginsMonday.\\nVideopostedbyaTrumpaidetosocialmediaearlySundaymorningshowedhimwalking\\ndownthestepsofhisplaneunaidedafterlandingatNewarkLibertyInternationalAirport\\ninNewJersey.\\nThefollowingday,hemadeanappearanceattheRepublicanNationalConventionin\\nMilwaukee,withhisrightearbandaged,andwasgreetedwithrousingcheersfromthe\\ncrowd.\\nWherewastheTrumprallyandhowfarawaywastheshooter?\\nTherallywasinButler,Pennsylvania,whichisnorthofPittsburghandisthecountyseat']</td>\n",
       "      <td id=\"T_22513_row1_col4\" class=\"data row1 col4\" >1.000000</td>\n",
       "      <td id=\"T_22513_row1_col5\" class=\"data row1 col5\" >1. The retrieved context does match the subject matter of the user's query. It provides detailed information about the assassination attempt on Former President Donald Trump, including the location of the incident, which was in Butler, Pennsylvania. Therefore, it scores 2/2 for this criterion.\n",
       "2. The retrieved context can be used exclusively to provide a full answer to the user's query. It not only mentions the location of the assassination attempt but also provides additional information about the incident, such as the identity of the shooter, the weapon used, and the aftermath of the event. Therefore, it scores 2/2 for this criterion.\n",
       "\n",
       "[RESULT] 4/4</td>\n",
       "    </tr>\n",
       "  </tbody>\n",
       "</table>\n"
      ],
      "text/plain": [
       "<pandas.io.formats.style.Styler at 0x353c61050>"
      ]
     },
     "metadata": {},
     "output_type": "display_data"
    }
   ],
   "source": [
    "displayify_df(deep_dfs[\"context_relevancy\"].head(2))"
   ]
  },
  {
   "cell_type": "code",
   "execution_count": 22,
   "metadata": {},
   "outputs": [
    {
     "data": {
      "text/html": [
       "<style type=\"text/css\">\n",
       "#T_e4bbf_row0_col0, #T_e4bbf_row0_col1, #T_e4bbf_row0_col2, #T_e4bbf_row0_col3, #T_e4bbf_row0_col4, #T_e4bbf_row0_col5, #T_e4bbf_row1_col0, #T_e4bbf_row1_col1, #T_e4bbf_row1_col2, #T_e4bbf_row1_col3, #T_e4bbf_row1_col4, #T_e4bbf_row1_col5, #T_e4bbf_row2_col0, #T_e4bbf_row2_col1, #T_e4bbf_row2_col2, #T_e4bbf_row2_col3, #T_e4bbf_row2_col4, #T_e4bbf_row2_col5, #T_e4bbf_row3_col0, #T_e4bbf_row3_col1, #T_e4bbf_row3_col2, #T_e4bbf_row3_col3, #T_e4bbf_row3_col4, #T_e4bbf_row3_col5, #T_e4bbf_row4_col0, #T_e4bbf_row4_col1, #T_e4bbf_row4_col2, #T_e4bbf_row4_col3, #T_e4bbf_row4_col4, #T_e4bbf_row4_col5 {\n",
       "  inline-size: 300px;\n",
       "  overflow-wrap: break-word;\n",
       "}\n",
       "</style>\n",
       "<table id=\"T_e4bbf\">\n",
       "  <thead>\n",
       "    <tr>\n",
       "      <th class=\"blank level0\" >&nbsp;</th>\n",
       "      <th id=\"T_e4bbf_level0_col0\" class=\"col_heading level0 col0\" >rag</th>\n",
       "      <th id=\"T_e4bbf_level0_col1\" class=\"col_heading level0 col1\" >query</th>\n",
       "      <th id=\"T_e4bbf_level0_col2\" class=\"col_heading level0 col2\" >answer</th>\n",
       "      <th id=\"T_e4bbf_level0_col3\" class=\"col_heading level0 col3\" >contexts</th>\n",
       "      <th id=\"T_e4bbf_level0_col4\" class=\"col_heading level0 col4\" >scores</th>\n",
       "      <th id=\"T_e4bbf_level0_col5\" class=\"col_heading level0 col5\" >feedbacks</th>\n",
       "    </tr>\n",
       "  </thead>\n",
       "  <tbody>\n",
       "    <tr>\n",
       "      <th id=\"T_e4bbf_level0_row0\" class=\"row_heading level0 row0\" >4</th>\n",
       "      <td id=\"T_e4bbf_row0_col0\" class=\"data row0 col0\" >baseline</td>\n",
       "      <td id=\"T_e4bbf_row0_col1\" class=\"data row0 col1\" >How did the Secret Service respond to the assassination attempt?</td>\n",
       "      <td id=\"T_e4bbf_row0_col2\" class=\"data row0 col2\" >None</td>\n",
       "      <td id=\"T_e4bbf_row0_col3\" class=\"data row0 col3\" >['\\\\n\\\\n\\\\n\\\\n\"It is incredibly difficult to have a venue open to the public, and to secure that against any possible threat, against a very determined attacker,\" Pennsylvania State Police Lt. Col. George Bivens said of the Secret Service. \"That\\\\\\'s a huge lift to try and do it.\" \\\\n\\\\n\\\\n\\\\nWho was the victim who was fatally shot?\\\\n\\\\nThe spectator who was killed has been identified as Corey Comperatore, a 50-year-old man who was shot while attempting to shield his family from the gunfire, Pennsylvania Gov. Josh Shapiro said at a news conference Sunday.\\\\n\\\\n\\\\n\\\\n\"Corey was the very best of us,\" Shapiro said. \"Corey died a hero. Corey dove on his family to protect them last night. Corey was a \\\\\\'girl dad.\\\\\\' Corey was a firefighter. Corey went to church every Sunday. Corey loved his community.\"\\\\n\\\\n\\\\n\\\\nPennsylvania State Rep. Marci Mustello called Comperatore \"a\\'], ground_truth=\\'The shooter was approximately 410 feet away from the stage where Trump was speaking at the rally in Butler, Pennsylvania.\\', evolution_type=\\'simple\\', metadata=[{\\'file_name\\': \\'Former President Donald Trump was shot and injured.docx\\', \\'file_path\\': \\'/Users/chris/Desktop/7980/CS7980_Capstone_RBCMuseum/eval/data/Trump/Former President Donald Trump was shot and injured.docx\\', \\'file_type\\': \\'application/vnd.openxmlformats-officedocument.wordprocessingml.document\\', \\'file_size\\': 16382, \\'creation_date\\': \\'2024-10-15\\', \\'last_modified_date\\': \\'2024-10-15\\'}]), DataRow(question=\\'What role did Corey Comperatore play in the Buffalo Township Fire Company that showcased his exceptional character?\\', contexts=[\\' devoted public servant, having served as the fire chief for Buffalo Township Fire Company, and he was a cherished member of our community in Butler County.\"\\\\n\\\\n\\\\n\\\\n\"His commitment to his wife and two daughters, and his unwavering dedication to his role as a fire chief exemplified his remarkable character,\" Mustello said. \"My heart breaks for his loved ones during this incredibly difficult time, and I join the community in mourning his loss. A true American hero, Corey sacrificed his life to protect his family.\"\\\\n\\\\n\\\\n\\\\n\"May Corey Comperatore\\\\\\'s memory be a blessing and a reminder of the selfless service he provided to us all.\"\\\\n\\\\n\\\\n\\\\nThe two spectators who were wounded have been identified as 57-year-old David Dutch, of New Kensington, Pennsylvania, and James Copenhaver, 74, of Moon Township, Pennsylvania. Both were listed in critical but stable condition Sunday.\\\\n\\\\n\\\\n\\\\nWhat did Biden say about the shooting?\\\\n\\\\nPresident Biden first responded to the shooting in a statement saying he was grateful to hear that Trump was safe and doing well. \\\\n\\\\n\\\\n\\\\n\"Jill and I are grateful to the Secret Service for getting him to safety,\" he said. \"There\\\\\\'s no place for this kind of violence in America. We must unite as one nation to condemn it.\"\\\\n\\\\n\\\\n\\\\nHe then addressed the nation shortly after 8 p.m. ET Saturday, saying \"there is no place for this kind of violence in America.\"\\\\n\\\\n\\\\n\\\\n\"It\\\\\\'s sick. It\\\\\\'s sick,\" Mr. Biden said. \"It\\\\\\'s one of the reasons why we have to unite this country. We cannot allow for this to be happening. We cannot be like this. We cannot condone this.\"\\\\n\\\\n\\\\n\\\\nOn Sunday, Biden made brief remarks at the White House, saying he was \"sincerely grateful\" that Trump is doing well, adding that he spoke with the former president on Saturday night. He characterized the call as a \"short, good\" conversation.\\\\n\\\\n\\\\n\\\\nThe president has been getting briefed by top officials and said he has ordered an independent review of the security and events at the Pennsylvania rally to determine what went wrong. \\\\n\\\\n\\\\n\\\\n\"There\\\\\\'s no place in America for this kind of violence, or any violence for that matter,\" the president said. \"An assassination attempt is contrary to everything we stand for as a nation. It\\\\\\'s not who we are as a nation.\"\\\\n\\\\n\\\\n\\\\nThe president said unity is the \"most elusive goal of all\" and added that \"nothing is more important than that right now. Unity.', 'FormerPresidentDonaldTrumpwasshotandinjuredinanassassinationattempton\\nSaturdaynightthatalsokilledaspectatorandcriticallyinjuredtwoothers.Sniperskilled\\ntheshooter,a20-year-oldman,afterhefiredeightroundsattherallyinButler,\\nPennsylvania.\\nTheformerpresidentcouldbeseentouchinghisearastheshootingunfoldedbeforehe\\nwasshieldedbySecretServiceandwhiskedoffstage—withbloodonhisface—and\\nintoanSUVtosafety.Trumpsaidinasocialmediapostthatabulletpiercedtheupper\\npartofhisrightear.\\n\"IknewimmediatelythatsomethingwaswronginthatIheardawhizzingsound,shots,\\nandimmediatelyfeltthebulletrippingthroughtheskin,\"hesaid.\"Muchbleedingtook\\nplace,soIrealizedthenwhatwashappening.\"\\nTheSecretServicelatersaidTrumpwassafe,andthathewenttoalocalhospitalandleft\\nhourslater.\\nThegunmanwasfatallyshotbyaSecretServicesniper,authoritiessaid.\\nFBIofficialssaidtheshooterappearedtobealoneactor,andtheincidentwasbeing\\ninvestigatedasanassassinationattemptandasapotentialcaseofdomesticterrorism.\\nWhoshotDonaldTrump?\\nTheFBIidentifiedtheshooterearlySundayas20-year-oldThomasMatthewCrooks,of\\nBethelPark,Pennsylvania.ThetowninAlleghenyCounty,justoutsidePittsburgh,is\\nhometoabout30,000people.\\nLawenforcementofficialssayhewasarmedwithasemiautomaticAR-stylerifle.Law\\nenforcementsourcessaythegunwaslegallypurchasedin2013andregisteredtothe\\nshooter\\'sfather,MatthewCrooks.\\nCrookswasa2022graduateofBethelParkHighSchoolSchoolofficialspledgedto\\nworkwithlawenforcementinvestigatingtheshooting,andofferedcondolencestothose\\naffectedbytheattack.\\nFormerclassmateJamesonMyers,amemberoftheschool\\'svarsityrifleteam,toldCBS\\nNewsthatCrookshadtriedoutfortheteamfreshmanyearbutdidnotmakethejunior\\nvarsityrosteranddidnotreturntotryoutfortheteaminsubsequentyears.\\nHecalledCrooksa\"nicekidwhonevertalkedpoorlyofanyone,\"adding,\"Ineverhave\\nthoughthimcapableofanythingI\\'veseenhimdointhelastfewdays.\"\\nAnotherclassmate,JasonKoehler,hadasomewhatdifferentview,tellingKDKA\\'sMegan\\nSchillerthatCrookswasalonerwhowasbulliedforhisappearanceandwore']</td>\n",
       "      <td id=\"T_e4bbf_row0_col4\" class=\"data row0 col4\" >0.750000</td>\n",
       "      <td id=\"T_e4bbf_row0_col5\" class=\"data row0 col5\" >The retrieved context does match the subject matter of the user's query as it discusses the Secret Service's response to an assassination attempt. It mentions that the Secret Service shielded the target and whisked him off stage to safety, and that a Secret Service sniper fatally shot the gunman. This information is directly relevant to the query. \n",
       "\n",
       "However, the retrieved context does not provide a full answer to the user's query. While it does mention some actions taken by the Secret Service, it does not provide a comprehensive overview of their response. For example, it does not detail any changes in protocol or security measures that may have been implemented as a result of the assassination attempt. \n",
       "\n",
       "[RESULT] 3.0</td>\n",
       "    </tr>\n",
       "    <tr>\n",
       "      <th id=\"T_e4bbf_level0_row1\" class=\"row_heading level0 row1\" >10</th>\n",
       "      <td id=\"T_e4bbf_row1_col0\" class=\"data row1 col0\" >baseline</td>\n",
       "      <td id=\"T_e4bbf_row1_col1\" class=\"data row1 col1\" >Who is Mark Sigafoos and what was his relationship with Crooks?</td>\n",
       "      <td id=\"T_e4bbf_row1_col2\" class=\"data row1 col2\" >None</td>\n",
       "      <td id=\"T_e4bbf_row1_col3\" class=\"data row1 col3\" >['camo/huntingoutfitsinclass.HesaidCrookswouldoftensitinthecafeteriaalonebefore\\nclass.HealsosaidCrookswasveryCOVID-consciousandworeasurgicalmasklong\\naftertheywererequired.\\nButMarkSigafoos,whograduatedwithCrooksandhadtwoclasseswithhimsenioryear,\\nsaidheneversawhimbullied.HedescribedCrooksassupersmartandapproachable,\\nengagedinclassandalwaysvolunteeringanswers.\\n\"Thisisoneofthethingsthatisbeingmisconstrued—hewasnotsometypeofloner\\ntrenchcoatwearer.AndIwillsayhewasdefinitelynerdy,forsure,buthenevergaveoff\\nthathewascreepyorlikeaschoolshooter,\"Sigafoossaid.\"Heseemedlikehewouldn\\'t\\nhurtafly.\"\\nCrooks\\'politicalleaningswerenotimmediatelyclear.HewasregisteredasaRepublican\\nvoterinPennsylvaniabutFederalElectionCommissionrecordsshowhepreviouslymade\\na$15donationtoaDemocratic-alignedgroup.\\nTherewasnoindicationthatCrookshadaconnectiontoanymilitarybranch,officials\\nconfirmedtoCBSNews.\\nCrookshadamembershipatanearbygunclubforatleastayear.BillSellitto,the\\npresidentoftheClairtonSportsmen\\'sClubinClairton,Pennsylvania,toldCBSNewsthat\\nCrookswasamember.\\nAlawenforcementofficialsaidearlySundaythattheSecretServiceandtheFBIare\\ninvestigatingthesuspect\\'sbackgroundandspeakingwithhisfamily.TheFBIhas\\nsecuredhishomeandfederallawenforcementissearchinghisfamily\\'sresidencein\\nsuburbanPittsburgh,thelawenforcementofficialsaid.Hisfamilyiscooperatingwith\\ninvestigators,anFBIofficialsaid.\\nLawenforcementsourcestoldCBSNewsonSundaythatsuspiciousdeviceswerefound\\ninthegunman\\'svehicle.Thegunmanalsohadwithhimapieceofcommerciallyavailable\\nequipmentthatappearedcapableofinitiatingthedevices.Bombtechnicianscalledto\\nthescenewereinvolvedinsecuringandinvestigatingthedevices.\\nDoweknowthemotivefortheassassinationattempt?\\nInanewsconferencelateSaturdaynight,KevinRojek,specialagentinchargeoftheFBI\\nPittsburghoffice,refusedtospeculateonapossiblemotive.\\n\"Rightnow,we\\'retrackingdownallleads,anddoingallinterviews,andtrackinganything\\nthatwecanregardingsuspiciouslocations,vehicles...that\\'sallrelatedtothisevent,but\\nIcan\\'tconfirmordenyanythingbeyondthat,\"Rojeksaid.\\nAlawenforcementofficialsaidnoforeignterrorismtieswereknownandthesuspectwas', 'FormerPresidentDonaldTrumpwasshotandinjuredinanassassinationattempton\\nSaturdaynightthatalsokilledaspectatorandcriticallyinjuredtwoothers.Sniperskilled\\ntheshooter,a20-year-oldman,afterhefiredeightroundsattherallyinButler,\\nPennsylvania.\\nTheformerpresidentcouldbeseentouchinghisearastheshootingunfoldedbeforehe\\nwasshieldedbySecretServiceandwhiskedoffstage—withbloodonhisface—and\\nintoanSUVtosafety.Trumpsaidinasocialmediapostthatabulletpiercedtheupper\\npartofhisrightear.\\n\"IknewimmediatelythatsomethingwaswronginthatIheardawhizzingsound,shots,\\nandimmediatelyfeltthebulletrippingthroughtheskin,\"hesaid.\"Muchbleedingtook\\nplace,soIrealizedthenwhatwashappening.\"\\nTheSecretServicelatersaidTrumpwassafe,andthathewenttoalocalhospitalandleft\\nhourslater.\\nThegunmanwasfatallyshotbyaSecretServicesniper,authoritiessaid.\\nFBIofficialssaidtheshooterappearedtobealoneactor,andtheincidentwasbeing\\ninvestigatedasanassassinationattemptandasapotentialcaseofdomesticterrorism.\\nWhoshotDonaldTrump?\\nTheFBIidentifiedtheshooterearlySundayas20-year-oldThomasMatthewCrooks,of\\nBethelPark,Pennsylvania.ThetowninAlleghenyCounty,justoutsidePittsburgh,is\\nhometoabout30,000people.\\nLawenforcementofficialssayhewasarmedwithasemiautomaticAR-stylerifle.Law\\nenforcementsourcessaythegunwaslegallypurchasedin2013andregisteredtothe\\nshooter\\'sfather,MatthewCrooks.\\nCrookswasa2022graduateofBethelParkHighSchoolSchoolofficialspledgedto\\nworkwithlawenforcementinvestigatingtheshooting,andofferedcondolencestothose\\naffectedbytheattack.\\nFormerclassmateJamesonMyers,amemberoftheschool\\'svarsityrifleteam,toldCBS\\nNewsthatCrookshadtriedoutfortheteamfreshmanyearbutdidnotmakethejunior\\nvarsityrosteranddidnotreturntotryoutfortheteaminsubsequentyears.\\nHecalledCrooksa\"nicekidwhonevertalkedpoorlyofanyone,\"adding,\"Ineverhave\\nthoughthimcapableofanythingI\\'veseenhimdointhelastfewdays.\"\\nAnotherclassmate,JasonKoehler,hadasomewhatdifferentview,tellingKDKA\\'sMegan\\nSchillerthatCrookswasalonerwhowasbulliedforhisappearanceandwore']</td>\n",
       "      <td id=\"T_e4bbf_row1_col4\" class=\"data row1 col4\" >0.750000</td>\n",
       "      <td id=\"T_e4bbf_row1_col5\" class=\"data row1 col5\" >1. The retrieved context does match the subject matter of the user's query. The user asked about Mark Sigafoos and his relationship with Crooks. The context mentions Mark Sigafoos and his relationship with Crooks, stating that they graduated together and had classes during their senior year. Sigafoos described Crooks as super smart, approachable, and always volunteering answers in class. Therefore, the context is relevant to the query. (2/2)\n",
       "2. The retrieved context can be used to provide a full answer to the user's query. It provides information about who Mark Sigafoos is (a classmate of Crooks) and describes his relationship with Crooks. However, it does not provide a comprehensive background of Mark Sigafoos, which might be part of the user's query. Therefore, it partially answers the query. (1/2)\n",
       "\n",
       "[RESULT] 3/4</td>\n",
       "    </tr>\n",
       "    <tr>\n",
       "      <th id=\"T_e4bbf_level0_row2\" class=\"row_heading level0 row2\" >15</th>\n",
       "      <td id=\"T_e4bbf_row2_col0\" class=\"data row2 col0\" >baseline</td>\n",
       "      <td id=\"T_e4bbf_row2_col1\" class=\"data row2 col1\" >What was Crooks' involvement with the Clairton Sportsmen's Club?</td>\n",
       "      <td id=\"T_e4bbf_row2_col2\" class=\"data row2 col2\" >None</td>\n",
       "      <td id=\"T_e4bbf_row2_col3\" class=\"data row2 col3\" >['camo/huntingoutfitsinclass.HesaidCrookswouldoftensitinthecafeteriaalonebefore\\nclass.HealsosaidCrookswasveryCOVID-consciousandworeasurgicalmasklong\\naftertheywererequired.\\nButMarkSigafoos,whograduatedwithCrooksandhadtwoclasseswithhimsenioryear,\\nsaidheneversawhimbullied.HedescribedCrooksassupersmartandapproachable,\\nengagedinclassandalwaysvolunteeringanswers.\\n\"Thisisoneofthethingsthatisbeingmisconstrued—hewasnotsometypeofloner\\ntrenchcoatwearer.AndIwillsayhewasdefinitelynerdy,forsure,buthenevergaveoff\\nthathewascreepyorlikeaschoolshooter,\"Sigafoossaid.\"Heseemedlikehewouldn\\'t\\nhurtafly.\"\\nCrooks\\'politicalleaningswerenotimmediatelyclear.HewasregisteredasaRepublican\\nvoterinPennsylvaniabutFederalElectionCommissionrecordsshowhepreviouslymade\\na$15donationtoaDemocratic-alignedgroup.\\nTherewasnoindicationthatCrookshadaconnectiontoanymilitarybranch,officials\\nconfirmedtoCBSNews.\\nCrookshadamembershipatanearbygunclubforatleastayear.BillSellitto,the\\npresidentoftheClairtonSportsmen\\'sClubinClairton,Pennsylvania,toldCBSNewsthat\\nCrookswasamember.\\nAlawenforcementofficialsaidearlySundaythattheSecretServiceandtheFBIare\\ninvestigatingthesuspect\\'sbackgroundandspeakingwithhisfamily.TheFBIhas\\nsecuredhishomeandfederallawenforcementissearchinghisfamily\\'sresidencein\\nsuburbanPittsburgh,thelawenforcementofficialsaid.Hisfamilyiscooperatingwith\\ninvestigators,anFBIofficialsaid.\\nLawenforcementsourcestoldCBSNewsonSundaythatsuspiciousdeviceswerefound\\ninthegunman\\'svehicle.Thegunmanalsohadwithhimapieceofcommerciallyavailable\\nequipmentthatappearedcapableofinitiatingthedevices.Bombtechnicianscalledto\\nthescenewereinvolvedinsecuringandinvestigatingthedevices.\\nDoweknowthemotivefortheassassinationattempt?\\nInanewsconferencelateSaturdaynight,KevinRojek,specialagentinchargeoftheFBI\\nPittsburghoffice,refusedtospeculateonapossiblemotive.\\n\"Rightnow,we\\'retrackingdownallleads,anddoingallinterviews,andtrackinganything\\nthatwecanregardingsuspiciouslocations,vehicles...that\\'sallrelatedtothisevent,but\\nIcan\\'tconfirmordenyanythingbeyondthat,\"Rojeksaid.\\nAlawenforcementofficialsaidnoforeignterrorismtieswereknownandthesuspectwas', 'FormerPresidentDonaldTrumpwasshotandinjuredinanassassinationattempton\\nSaturdaynightthatalsokilledaspectatorandcriticallyinjuredtwoothers.Sniperskilled\\ntheshooter,a20-year-oldman,afterhefiredeightroundsattherallyinButler,\\nPennsylvania.\\nTheformerpresidentcouldbeseentouchinghisearastheshootingunfoldedbeforehe\\nwasshieldedbySecretServiceandwhiskedoffstage—withbloodonhisface—and\\nintoanSUVtosafety.Trumpsaidinasocialmediapostthatabulletpiercedtheupper\\npartofhisrightear.\\n\"IknewimmediatelythatsomethingwaswronginthatIheardawhizzingsound,shots,\\nandimmediatelyfeltthebulletrippingthroughtheskin,\"hesaid.\"Muchbleedingtook\\nplace,soIrealizedthenwhatwashappening.\"\\nTheSecretServicelatersaidTrumpwassafe,andthathewenttoalocalhospitalandleft\\nhourslater.\\nThegunmanwasfatallyshotbyaSecretServicesniper,authoritiessaid.\\nFBIofficialssaidtheshooterappearedtobealoneactor,andtheincidentwasbeing\\ninvestigatedasanassassinationattemptandasapotentialcaseofdomesticterrorism.\\nWhoshotDonaldTrump?\\nTheFBIidentifiedtheshooterearlySundayas20-year-oldThomasMatthewCrooks,of\\nBethelPark,Pennsylvania.ThetowninAlleghenyCounty,justoutsidePittsburgh,is\\nhometoabout30,000people.\\nLawenforcementofficialssayhewasarmedwithasemiautomaticAR-stylerifle.Law\\nenforcementsourcessaythegunwaslegallypurchasedin2013andregisteredtothe\\nshooter\\'sfather,MatthewCrooks.\\nCrookswasa2022graduateofBethelParkHighSchoolSchoolofficialspledgedto\\nworkwithlawenforcementinvestigatingtheshooting,andofferedcondolencestothose\\naffectedbytheattack.\\nFormerclassmateJamesonMyers,amemberoftheschool\\'svarsityrifleteam,toldCBS\\nNewsthatCrookshadtriedoutfortheteamfreshmanyearbutdidnotmakethejunior\\nvarsityrosteranddidnotreturntotryoutfortheteaminsubsequentyears.\\nHecalledCrooksa\"nicekidwhonevertalkedpoorlyofanyone,\"adding,\"Ineverhave\\nthoughthimcapableofanythingI\\'veseenhimdointhelastfewdays.\"\\nAnotherclassmate,JasonKoehler,hadasomewhatdifferentview,tellingKDKA\\'sMegan\\nSchillerthatCrookswasalonerwhowasbulliedforhisappearanceandwore']</td>\n",
       "      <td id=\"T_e4bbf_row2_col4\" class=\"data row2 col4\" >0.750000</td>\n",
       "      <td id=\"T_e4bbf_row2_col5\" class=\"data row2 col5\" >1. The retrieved context does match the subject matter of the user's query. The context mentions that Crooks had a membership at the Clairton Sportsmen's Club, which is the specific information the user's query is asking about. Therefore, the context is relevant to the query. (2/2)\n",
       "2. The retrieved context can be used exclusively to provide a full answer to the user's query. The context states that Crooks was a member of the Clairton Sportsmen's Club, but it does not provide any additional details about his involvement with the club. Therefore, while the context does answer the query, it does not provide a full answer as it lacks details about the nature of Crooks' involvement with the club. (1/2)\n",
       "\n",
       "[RESULT] 3.0</td>\n",
       "    </tr>\n",
       "    <tr>\n",
       "      <th id=\"T_e4bbf_level0_row3\" class=\"row_heading level0 row3\" >16</th>\n",
       "      <td id=\"T_e4bbf_row3_col0\" class=\"data row3 col0\" >baseline</td>\n",
       "      <td id=\"T_e4bbf_row3_col1\" class=\"data row3 col1\" >What agencies are involved in investigating Crooks' background and his family?</td>\n",
       "      <td id=\"T_e4bbf_row3_col2\" class=\"data row3 col2\" >None</td>\n",
       "      <td id=\"T_e4bbf_row3_col3\" class=\"data row3 col3\" >['camo/huntingoutfitsinclass.HesaidCrookswouldoftensitinthecafeteriaalonebefore\\nclass.HealsosaidCrookswasveryCOVID-consciousandworeasurgicalmasklong\\naftertheywererequired.\\nButMarkSigafoos,whograduatedwithCrooksandhadtwoclasseswithhimsenioryear,\\nsaidheneversawhimbullied.HedescribedCrooksassupersmartandapproachable,\\nengagedinclassandalwaysvolunteeringanswers.\\n\"Thisisoneofthethingsthatisbeingmisconstrued—hewasnotsometypeofloner\\ntrenchcoatwearer.AndIwillsayhewasdefinitelynerdy,forsure,buthenevergaveoff\\nthathewascreepyorlikeaschoolshooter,\"Sigafoossaid.\"Heseemedlikehewouldn\\'t\\nhurtafly.\"\\nCrooks\\'politicalleaningswerenotimmediatelyclear.HewasregisteredasaRepublican\\nvoterinPennsylvaniabutFederalElectionCommissionrecordsshowhepreviouslymade\\na$15donationtoaDemocratic-alignedgroup.\\nTherewasnoindicationthatCrookshadaconnectiontoanymilitarybranch,officials\\nconfirmedtoCBSNews.\\nCrookshadamembershipatanearbygunclubforatleastayear.BillSellitto,the\\npresidentoftheClairtonSportsmen\\'sClubinClairton,Pennsylvania,toldCBSNewsthat\\nCrookswasamember.\\nAlawenforcementofficialsaidearlySundaythattheSecretServiceandtheFBIare\\ninvestigatingthesuspect\\'sbackgroundandspeakingwithhisfamily.TheFBIhas\\nsecuredhishomeandfederallawenforcementissearchinghisfamily\\'sresidencein\\nsuburbanPittsburgh,thelawenforcementofficialsaid.Hisfamilyiscooperatingwith\\ninvestigators,anFBIofficialsaid.\\nLawenforcementsourcestoldCBSNewsonSundaythatsuspiciousdeviceswerefound\\ninthegunman\\'svehicle.Thegunmanalsohadwithhimapieceofcommerciallyavailable\\nequipmentthatappearedcapableofinitiatingthedevices.Bombtechnicianscalledto\\nthescenewereinvolvedinsecuringandinvestigatingthedevices.\\nDoweknowthemotivefortheassassinationattempt?\\nInanewsconferencelateSaturdaynight,KevinRojek,specialagentinchargeoftheFBI\\nPittsburghoffice,refusedtospeculateonapossiblemotive.\\n\"Rightnow,we\\'retrackingdownallleads,anddoingallinterviews,andtrackinganything\\nthatwecanregardingsuspiciouslocations,vehicles...that\\'sallrelatedtothisevent,but\\nIcan\\'tconfirmordenyanythingbeyondthat,\"Rojeksaid.\\nAlawenforcementofficialsaidnoforeignterrorismtieswereknownandthesuspectwas', '\\', contexts=[\\' that,\" Rojek said.  \\\\n\\\\n\\\\n\\\\nA law enforcement official said no foreign terrorism ties were known and the suspect was not on the radar of law enforcement.\\\\n\\\\n\\\\n\\\\nThe FBI says investigators are combing through his social media postings and emails, but that so far they have found nothing to lead them to a motive. They said are not seeing anything threatening in his postings so far. \\\\n\\\\n\\\\n\\\\nInvestigators also have accessed his cellphone, which was sent to the FBI lab in Quantico, Virginia, for analysis.\\\\n\\\\n\\\\n\\\\nThe FBI is leading the investigation, with assistance from the Secret Service and state and local agencies. \\\\n\\\\n\\\\n\\\\nHow is Trump now?\\\\n\\\\nThe Trump campaign said in a statement Saturday night that the former president was \\\\\\'fine.\" He was taken to a local hospital and left a few hours later.\\\\n\\\\n\\\\n\\\\nIn a post on Truth Social Saturday night, Trump described his injuries: \"I was shot with a bullet that pierced the upper part of my right ear. I knew immediately that something was wrong in that I heard a whizzing sound, shots, and immediately felt the bullet ripping through the skin. Much bleeding took place, so I realized then what was happening. GOD BLESS AMERICA!\"\\\\n\\\\n\\\\n\\\\nHe thanked the Secret Service and other law enforcement agencies for their rapid response, and extended condolences to the family of the man who was killed.\\\\n\\\\n\\\\n\\\\nHe posted on Truth Social early Sunday that Americans need to \"remain resilient in our Faith and Defiant in the face of Wickedness.\"\\\\n\\\\n\\\\n\\\\n\"In this moment, it is more important than ever that we stand United, and show our True Character as Americans, remaining Strong and Determined, and not allowing Evil to Win,\" Trump wrote. \"I truly love our Country, and love you all, and look forward to speaking to our Great Nation this week from Wisconsin,\" where the Republican National Convention begins Monday.\\\\n\\\\n\\\\n\\\\nVideo posted by a Trump aide to social media early Sunday morning showed him walking down the steps of his plane unaided after landing at Newark Liberty International Airport in New Jersey.   \\\\n\\\\n\\\\n\\\\nThe following day, he made an appearance at the Republican National Convention in Milwaukee, with his right ear bandaged, and was greeted with rousing cheers from the crowd.\\\\n\\\\n\\\\n\\\\nWhere was the Trump rally and how far away was the shooter?\\\\n\\\\nThe rally was in Butler, Pennsylvania, which is north of Pittsburgh and is the county seat of Butler County.\\\\n\\\\n\\\\n\\\\nThe gunman was on the roof of a building, outside the rally\\\\\\'s security perimeter set up by the Secret Service, and opened fire from about 410 feet away from the stage where Trump was speaking, law enforcement sources said. \\\\n\\\\n\\\\n\\\\nTwo law enforcement sources told CBS News that the shooter was spotted outside the security perimeter as people were filing into the rally, and he was reported by a bystander to the Butler County Sheriff\\\\\\'s Office. He was identified as a suspicious person by police, the sources said. Multiple attendees also said they saw the gunman and alerted officers shortly before the shooting.\\\\n\\\\n\\\\n\\\\nAn armed municipal officer with Butler Township encountered the gunman before the shooting, Butler County Sheriff Michael Sloupe confirmed to CBS News. The officer and others had been previously alerted to a suspicious person and began searching for him right away, Sloupe told CBS Pittsburgh reporter Jen Borrasso.\\\\n\\\\n\\\\n\\\\nAt some point, the officer was hoisted by another officer onto the roof of the building where the shooter was in position. The shooter focused his rifle towards the officer, who let go and fell off the roof. Then the shooter began firing into the crowd, according to Sloupe.\\\\n\\\\n\\\\n\\\\nThe gunman fired 6 to 8 rounds using a semiautomatic AR-style rifle from his position approximately 400 feet from the podium, before he was shot and killed by a Secret Service sniper team.\\\\n\\\\n\\\\n\\\\nRojek, with the FBI, called it \"surprising\" that the gunman was able to fire multiple shots. \\\\n\\\\n\\\\n\\\\n\"It is incredibly difficult to have a venue open to the public, and to secure that against any possible threat, against a very determined attacker,\" Pennsylvania State Police Lt. Col. George Bivens said of the Secret Service. \"That\\\\\\'s a huge lift to try and do it.\" \\\\n\\\\n\\\\n\\\\nWho was the victim who was fatally shot?\\\\n\\\\nThe spectator who was killed has been identified as Corey Comperatore, a 50-year-old man who was shot while attempting to shield his family from the gunfire, Pennsylvania Gov.']</td>\n",
       "      <td id=\"T_e4bbf_row3_col4\" class=\"data row3 col4\" >0.750000</td>\n",
       "      <td id=\"T_e4bbf_row3_col5\" class=\"data row3 col5\" >The retrieved context does match the subject matter of the user's query. It mentions that the Secret Service and the FBI are investigating Crooks' background and speaking with his family. However, the context does not provide a full answer to the user's query. It does not mention any other agencies that might be involved in the investigation. Therefore, the context partially answers the user's query.\n",
       "\n",
       "1. Does the retrieved context match the subject matter of the user's query? Yes (2/2)\n",
       "2. Can the retrieved context be used exclusively to provide a full answer to the user's query? No (1/2)\n",
       "\n",
       "[RESULT] 3/4</td>\n",
       "    </tr>\n",
       "    <tr>\n",
       "      <th id=\"T_e4bbf_level0_row4\" class=\"row_heading level0 row4\" >17</th>\n",
       "      <td id=\"T_e4bbf_row4_col0\" class=\"data row4 col0\" >baseline</td>\n",
       "      <td id=\"T_e4bbf_row4_col1\" class=\"data row4 col1\" >What suspicious items were found in the gunman's vehicle and what was their potential use?</td>\n",
       "      <td id=\"T_e4bbf_row4_col2\" class=\"data row4 col2\" >None</td>\n",
       "      <td id=\"T_e4bbf_row4_col3\" class=\"data row4 col3\" >['Who identified the suspicious person outside the security perimeter at the rally in Butler County?, [ofButlerCounty.\\nThegunmanwasontheroofofabuilding,outsidetherally\\'ssecurityperimetersetupbytheSecretService,andopenedfirefromabout410feetawayfromthestagewhere\\nTrumpwasspeaking,lawenforcementsourcessaid...], A bystander identified the suspicious person outside the security perimeter at the rally in Butler County., The suspicious person outside the security perimeter at the rally in Butler County was identified by a bystander who reported him to the Butler County Sheriff\\'s Office., 1.0, 1.0, 1.0, 1.0, 0\\nWhat was found in the gunman\\'s vehicle that raised concerns and required the involvement of bomb technicians?, [Law enforcement sources told CBS News on Sunday...], Suspicious devices were found in the gunman\\'s vehicle, along with a piece of commercially available equipment., Suspicious devices were found in the gunman\\'s vehicle, along with a piece of commercially available equipment that appeared capable of initiating the devices., 1.0, 0.940589, 1.0, 1.0, 0\\nWhat was found in the gunman\\'s vehicle that raised concerns and required the involvement of bomb technicians?, [Law enforcement sources told CBS News on Sunday...], Suspicious devices were found in the gunman\\'s vehicle, along with a piece of commercially available equipment., Suspicious devices were found in the gunman\\'s vehicle, along with a piece of commercially available equipment that appeared capable of initiating the devices., 0.666667, 0.940589, 1.0, 1.0, 0\\nWhat role did Corey Comperatore have in the community and as a firefighter?, [\"Hiscommitmenttohiswifeandtwodaughters,andhisunwaveringdedicationtohisroleasafirechiefexemplifiedhisremarkablecharacter,...\"], Corey Comperatore served as the fire chief for Buffalo Township Fire Company, demonstrating his dedication., The answer to given question is not present in context., 1.0, 0.837873, 0.5, 0.0, 0\\nWho reported the suspicious person at the rally to the Butler County Sheriff\\'s Office?, [ofButlerCounty.\\nThegunmanwasontheroofofabuilding,outsidetherally\\'ssecurityperimetersetupbytheSecretService,andopenedfirefromabout410feetawayfromthestagewhere\\nTrumpwasspeaking,lawenforcementsourcessaid...], A bystander reported the suspicious person at the rally to the Butler County Sheriff\\'s Office., The suspicious person at the rally was reported by a bystander to the Butler County Sheriff\\'s Office., 1.0, 0.999999, 1.0, 1.0, 0', 'camo/huntingoutfitsinclass.HesaidCrookswouldoftensitinthecafeteriaalonebefore\\nclass.HealsosaidCrookswasveryCOVID-consciousandworeasurgicalmasklong\\naftertheywererequired.\\nButMarkSigafoos,whograduatedwithCrooksandhadtwoclasseswithhimsenioryear,\\nsaidheneversawhimbullied.HedescribedCrooksassupersmartandapproachable,\\nengagedinclassandalwaysvolunteeringanswers.\\n\"Thisisoneofthethingsthatisbeingmisconstrued—hewasnotsometypeofloner\\ntrenchcoatwearer.AndIwillsayhewasdefinitelynerdy,forsure,buthenevergaveoff\\nthathewascreepyorlikeaschoolshooter,\"Sigafoossaid.\"Heseemedlikehewouldn\\'t\\nhurtafly.\"\\nCrooks\\'politicalleaningswerenotimmediatelyclear.HewasregisteredasaRepublican\\nvoterinPennsylvaniabutFederalElectionCommissionrecordsshowhepreviouslymade\\na$15donationtoaDemocratic-alignedgroup.\\nTherewasnoindicationthatCrookshadaconnectiontoanymilitarybranch,officials\\nconfirmedtoCBSNews.\\nCrookshadamembershipatanearbygunclubforatleastayear.BillSellitto,the\\npresidentoftheClairtonSportsmen\\'sClubinClairton,Pennsylvania,toldCBSNewsthat\\nCrookswasamember.\\nAlawenforcementofficialsaidearlySundaythattheSecretServiceandtheFBIare\\ninvestigatingthesuspect\\'sbackgroundandspeakingwithhisfamily.TheFBIhas\\nsecuredhishomeandfederallawenforcementissearchinghisfamily\\'sresidencein\\nsuburbanPittsburgh,thelawenforcementofficialsaid.Hisfamilyiscooperatingwith\\ninvestigators,anFBIofficialsaid.\\nLawenforcementsourcestoldCBSNewsonSundaythatsuspiciousdeviceswerefound\\ninthegunman\\'svehicle.Thegunmanalsohadwithhimapieceofcommerciallyavailable\\nequipmentthatappearedcapableofinitiatingthedevices.Bombtechnicianscalledto\\nthescenewereinvolvedinsecuringandinvestigatingthedevices.\\nDoweknowthemotivefortheassassinationattempt?\\nInanewsconferencelateSaturdaynight,KevinRojek,specialagentinchargeoftheFBI\\nPittsburghoffice,refusedtospeculateonapossiblemotive.\\n\"Rightnow,we\\'retrackingdownallleads,anddoingallinterviews,andtrackinganything\\nthatwecanregardingsuspiciouslocations,vehicles...that\\'sallrelatedtothisevent,but\\nIcan\\'tconfirmordenyanythingbeyondthat,\"Rojeksaid.\\nAlawenforcementofficialsaidnoforeignterrorismtieswereknownandthesuspectwas']</td>\n",
       "      <td id=\"T_e4bbf_row4_col4\" class=\"data row4 col4\" >0.375000</td>\n",
       "      <td id=\"T_e4bbf_row4_col5\" class=\"data row4 col5\" >The retrieved context partially matches the subject matter of the user's query. The context mentions that suspicious devices were found in the gunman's vehicle, along with a piece of commercially available equipment that appeared capable of initiating the devices. However, it does not provide specific details about the items found or their potential use. Therefore, the context cannot be used exclusively to provide a full answer to the user's query. \n",
       "\n",
       "[RESULT] 1.5</td>\n",
       "    </tr>\n",
       "  </tbody>\n",
       "</table>\n"
      ],
      "text/plain": [
       "<pandas.io.formats.style.Styler at 0x353985190>"
      ]
     },
     "metadata": {},
     "output_type": "display_data"
    }
   ],
   "source": [
    "cond = deep_dfs[\"context_relevancy\"][\"scores\"] < 1\n",
    "displayify_df(deep_dfs[\"context_relevancy\"][cond].head(5))"
   ]
  }
 ],
 "metadata": {
  "kernelspec": {
   "display_name": "Python 3",
   "language": "python",
   "name": "python3"
  },
  "language_info": {
   "codemirror_mode": {
    "name": "ipython",
    "version": 3
   },
   "file_extension": ".py",
   "mimetype": "text/x-python",
   "name": "python",
   "nbconvert_exporter": "python",
   "pygments_lexer": "ipython3",
   "version": "3.11.10"
  }
 },
 "nbformat": 4,
 "nbformat_minor": 2
}
