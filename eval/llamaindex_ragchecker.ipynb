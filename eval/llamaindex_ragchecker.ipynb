{
 "cells": [
  {
   "cell_type": "code",
   "execution_count": 80,
   "metadata": {},
   "outputs": [],
   "source": [
    "import os\n",
    "\n",
    "from dotenv import load_dotenv\n",
    "\n",
    "load_dotenv()\n",
    "\n",
    "OPENAI_API_KEY = os.getenv(\"OPENAI_API_KEY\")\n"
   ]
  },
  {
   "cell_type": "code",
   "execution_count": null,
   "metadata": {},
   "outputs": [],
   "source": [
    "! pip install --upgrade jupyter ipywidgets"
   ]
  },
  {
   "cell_type": "code",
   "execution_count": 81,
   "metadata": {},
   "outputs": [],
   "source": [
    "from llama_index.core import VectorStoreIndex, SimpleDirectoryReader\n",
    "from ragchecker.integrations.llama_index import response_to_rag_results\n",
    "from ragchecker import RAGResults, RAGChecker\n",
    "from ragchecker.metrics import all_metrics"
   ]
  },
  {
   "cell_type": "code",
   "execution_count": null,
   "metadata": {},
   "outputs": [],
   "source": [
    "! pip install llama-index-readers-web\n"
   ]
  },
  {
   "cell_type": "markdown",
   "metadata": {},
   "source": [
    "<hr>\n",
    "\n",
    "Scrap the web page for answer the certain question"
   ]
  },
  {
   "cell_type": "code",
   "execution_count": 82,
   "metadata": {},
   "outputs": [],
   "source": [
    "\n",
    "from llama_index.core import SummaryIndex\n",
    "from llama_index.readers.web import SimpleWebPageReader\n",
    "from IPython.display import Markdown, display"
   ]
  },
  {
   "cell_type": "code",
   "execution_count": 83,
   "metadata": {},
   "outputs": [],
   "source": [
    "documents = SimpleWebPageReader(html_to_text=True).load_data(\n",
    "    [\"http://www.ml.school/\"]\n",
    ")"
   ]
  },
  {
   "cell_type": "code",
   "execution_count": 84,
   "metadata": {},
   "outputs": [
    {
     "data": {
      "text/plain": [
       "Document(id_='http://www.ml.school/', embedding=None, metadata={}, excluded_embed_metadata_keys=[], excluded_llm_metadata_keys=[], relationships={}, text='> \"This is the best machine learning course I\\'ve done. Worth every cent.\"\\n\\n**Jose Reyes** , AI/ML at Cevo Australia\\n\\n# Building Machine Learning Systems That Don\\'t Suck\\n\\nA **live, interactive program** that\\'ll help you build **production-ready**\\nmachine learning systems from the ground up.\\n\\nNext cohort: November 4 \\\\- 21, 2024\\n\\nCheck the schedule for more details about upcoming cohorts.\\n\\nI want to join!Sign in\\n\\n## Learn how to **design** , **build** , **deploy** , and **scale** machine\\nlearning systems to solve real-world problems.\\n\\nI\\'ll lose my mind if I see another book or course teaching people the same\\nbasic ideas for the hundredth time. Most people are stuck in beginner mode,\\nand finding help to solve real-world problems is hard.\\n\\nI want to change that.\\n\\nI started writing software 30 years ago. I\\'ve written pipelines and trained\\nmodels for some of the largest companies in the world. I want to show you how\\nto do the same.\\n\\nThis is the class I wish I had taken when I started.\\n\\nThis program will help you unlearn what you think machine learning is. It\\'s a\\npractical, hands-on class where you\\'ll learn from years of experience and\\nreal-world examples.\\n\\nWhen you join, you get **lifetime access** to the following:\\n\\n  * 18 hours of live, interactive sessions. We\\'ll use this time to discuss the first principles behind building machine learning systems.\\n  * 10 hours of step-by-step coding instructions. These practical sessions will show you how to build an end-to-end system from scratch.\\n  * A final project where you\\'ll build a complete solution and receive direct feedback on your work.\\n  * 100 coding assignments and practice questions.\\n  * The entire source code of a working production system. It\\'s yours. You can change and use it as you see fit.\\n  * A private community where you\\'ll collaborate with thousands of people from different backgrounds.\\n  * Direct access to your instructor.\\n  * Lifetime access to every past and future cohort.\\n  * Program certificate upon completion.\\n\\nAnd the best part is that you only pay once to join. There are no monthly\\nfees. No annual fees. No hidden costs. You pay once to join and benefit\\nforever until the end of time.\\n\\nThe program won\\'t be easy. It\\'ll take time and effort. But if you want to use\\nmachine learning to solve real-world problems, **this is the class you don \\'t\\nwant to miss.**\\n\\n# Who Is This Program For?\\n\\n## This is a practical, hands-on program for technical professionals who are\\nready to put in the work.\\n\\nThis program is for **software engineers** , **data scientists** , **data\\nanalysts** , **machine learning engineers** , **technical managers** , and\\nanyone anyone who wants to use machine learning to solve real-world problems.\\n\\nHere are the criteria to succeed in the program:\\n\\n  * You have experience writing code. We\\'ll use Python throughout the class, but you won\\'t have any problems if you know any other language.\\n  * You are familiar with basic machine learning terminology. This is not an introductory class. We\\'ll move quickly over the basics to focus on the fundamental ideas that make systems work.\\n  * You are ready to put in the work to succeed.\\n\\n> \"I have learned a ton from Santiago in his class and it was actually what\\n> helped inspire me and get into the MLOps work that I\\'m doing now. Truly one\\n> of the most helpful online courses for doing real, full-scale machine\\n> learning.\"\\n\\n![](/_next/image?url=%2F_next%2Fstatic%2Fmedia%2Fbrianhough.965e7d9d.jpeg&w=96&q=75)\\n\\nBrian H. Hough\\n\\nSoftware Engineer\\n\\n# What Will You Learn?\\n\\n## You\\'ll come out with practical skills and insights into what it takes to\\nbuild systems that work in the real world.\\n\\nHere is a summary of what makes this program unique:\\n\\n  * You\\'ll design and write the code to build an end-to-end machine learning system starting from scratch.\\n  * You\\'ll learn best practices to tackle the most significant challenges machine learning engineers face to build, evaluate, run, monitor, and maintain machine learning systems in real-world scenarios.\\n  * You\\'ll learn how to use techniques like active learning, distributed training, adversarial validation, human-in-the-loop deployments, model compression, test-time augmentation, testing in production, among many others.\\n  * You\\'ll learn how to create training, deploying, monitoring, and inference pipelines using Amazon SageMaker and open-source tools.\\n\\nForget about theoretical concepts. This program will show you some of the\\nthings I\\'ve learned from real-life examples I\\'ve built during more than 30\\nyears in the industry.\\n\\nCheck the program syllabus →\\n\\n  1. ![](/_next/image?url=%2F_next%2Fstatic%2Fmedia%2Fslides-thumbnail.270f2d17.jpg&w=3840&q=75)\\n\\n### Real-life examples and case studies\\n\\nLearn from practical experience building machine learning systems that work in\\nthe real world.\\n\\n  2. ![](/_next/image?url=%2F_next%2Fstatic%2Fmedia%2Fvideo-thumbnail.228cee07.jpg&w=3840&q=75)\\n\\n### Live, interactive sessions\\n\\nAsk questions and interact with the instructor and other students in real\\ntime.\\n\\n  3. ![](/_next/image?url=%2F_next%2Fstatic%2Fmedia%2Fcode-thumbnail.96685995.jpg&w=3840&q=75)\\n\\n### Code walkthroughs\\n\\nStep by step coding instructions to help you build a production system from\\nscratch.\\n\\n# Upcoming Schedule\\n\\n## Every iteration of the program gives you 18 hours of hands-on, live\\ntraining spread over 3 weeks.\\n\\nHere are the upcoming cohorts:\\n\\n  * Cohort 16: **November 4 - November 21, 2024. **1:00 PM EST\\n\\nLive sessions will take place every Monday and Thursday at the same time. On\\nWednesdays, we\\'ll host office hours when you can bring your questions projects\\nor anything else you want to discuss.\\n\\n  * **Monday** : Live session. 2 hours.\\n  * **Tuesday** : Individual work.\\n  * **Wednesday** : Optional office hours.\\n  * **Thursday** : Live session. 2 hours.\\n  * **Friday** : Individual work.\\n\\nDo not wait for a specific cohort to join the program. You have lifetime\\naccess to every past and future cohort, and the sooner you join, the more time\\nyou have to prepare.\\n\\nEvery session is recorded. You can attend live or watch the recorded version\\nlater.\\n\\n> \"This is one of the best classes I\\'ve ever purchased over the internet.\\n> Santiago is a terrific teacher. The ability he has to share knowledge is\\n> fantastic. I recommend this course. Worth 10x what he\\'s charging.\"\\n\\n![](/_next/image?url=%2F_next%2Fstatic%2Fmedia%2Fsaldistefano.d0b42e55.jpeg&w=96&q=75)\\n\\nSal DiStefano\\n\\n# Ready To Join The Program?\\n\\n## You\\'ll get lifetime access. No monthly fees. No annual fees. No hidden\\ncosts.\\n\\n$500\\n\\n### Pay once. Access forever.\\n\\nPay once to join the program and get lifetime access. You can participate in\\nas many iterations as you\\'d like. No restrictions.\\n\\n  * Enjoy 18 hours of live, interactive sessions\\n  * Watch 10 hours of step-by-step coding instructions\\n  * Practice with 100 coding assignments\\n  * Access the complete source code of a production system\\n  * Learn how to start freelancing on Upwork\\n  * Get feedback and support from the community\\n  * Get direct feedback from your instructor\\n\\n[Join now](https://buy.stripe.com/9AQcMP6Yjedy0WA4gg)\\n\\n# Program Syllabus\\n\\n## This program will teach you the practical skills and insights that will\\nhelp you build machine learning systems.\\n\\nHere are the contents of the six live sessions of the program:\\n\\n  1. ### Session 1 \\\\- How To Start (Almost) Any Project\\n\\n     * What makes production machine learning different from what you\\'ve learned.\\n     * The strategy to solve the right problem using the right solution.\\n     * Critical questions to ask before starting any project.\\n     * Problem framing, inversion, and the haystack principle for building successful applications.\\n     * The first rule of machine learning engineering and how to start building.\\n     * Data collection strategies. A technique to determine how much data you need.\\n     * The problem of selection bias and how to deal with it.\\n     * Labeling data. Human annotations, natural labels and weak supervision.\\n     * Active learning using the uncertainty and diversity sampling strategies.\\n  2. ### Session 2 \\\\- How to Build a Model\\n\\n     * The role of data cleaning and feature engineering to build better models.\\n     * Turning data into numbers using vectorization techniques.\\n     * Producing homogeneous features using normalization and standardization.\\n     * Handling and interpreting missing values using imputation techniques.\\n     * The approach to choosing the best model to solve any problem.\\n     * Random baselines and the zero-rule algorithm.\\n     * How to use overfitting to build models that don\\'t suck.\\n     * Hyperparameter tuning and experiment tracking.\\n     * Measuring the quality of your holdout set.\\n     * An introduction to distributed training using data parallelism and model parallelism.\\n\\nSee the remaining sessions\\n\\n> \"This is an awesome course! This is my second round and I continue learning.\\n> I recommend it with complete confidence.\"\\n\\n![](/_next/image?url=%2F_next%2Fstatic%2Fmedia%2Fjuanolano.ff7e749a.jpeg&w=96&q=75)\\n\\nJuan Olano\\n\\nMachine Learning Engineer\\n\\n# Frequently Asked Questions\\n\\n## If you can\\'t find the answer to your question, please reach out on social\\nmedia and I\\'ll be happy to help.\\n\\n### How long will it take to complete the program?\\n\\nIf you are attending the live sessions, you should set aside a minimum of 4\\nhours every week during the three weeks of the program. This commitment will\\nbe enough for engineer leaders or anyone not interested in the coding portion\\nof the program.\\n\\nThose interested in implementing the concepts discussed in class should set\\naside 2 to 4 hours weekly to complete the code walkthroughs and work on the\\nassignments.\\n\\n### Are live sessions recorded?\\n\\nYes, we record every live session. You can decide when to attend classes live\\nor catch up asynchronously later using the recording.\\n\\n### I\\'m a complete beginner. Is this program helpful for me?\\n\\nThis program is not an introduction to machine learning.\\n\\nWhile we\\'ll discuss many fundamental ideas behind machine learning, beginners\\nwill find the sessions go much faster than what\\'s optimal for them.\\n\\n### What does \"lifetime access\" mean?\\n\\nYou only pay once to join the program and get immediate access to every past,\\npresent, and future cohort.\\n\\nEvery new iteration of the program is better than the ones before. Many\\nstudents take classes once and then join a later cohort to benefit from the\\nupdates.\\n\\nThe lifetime access removes any pressure from having to complete the program\\nwhen life gets in the way.\\n\\n![](/_next/image?url=%2F_next%2Fstatic%2Fmedia%2Fheadshot.8b69bb12.jpg&w=3840&q=75)\\n\\n# Hey! I\\'m Santiago.\\n\\n## I\\'m the instructor of the program.\\n\\nI\\'m a machine learning engineer with over two decades of experience building\\nand scaling enterprise software and machine learning systems.\\n\\nI love neural networks. I love to make them work at scale.\\n\\nFrom 2009 to 2023, I built products for Disney, Boston Dynamics, IBM, Dell,\\nG4S, Anheuser-Busch, and NextEra Energy, among other clients. I learned about\\ntrade-offs and how to create products that work.\\n\\nI started this program in March 2023. Since then, thousands of students have\\ngraduated, and I can\\'t wait to meet you in class.\\n\\n[](https://twitter.com/svpino)[](https://linkedin.com/in/svpino)\\n\\nCopyright © 2024 Tideily LLC\\n\\nAll rights reserved.\\n\\n', mimetype='text/plain', start_char_idx=None, end_char_idx=None, text_template='{metadata_str}\\n\\n{content}', metadata_template='{key}: {value}', metadata_seperator='\\n')"
      ]
     },
     "execution_count": 84,
     "metadata": {},
     "output_type": "execute_result"
    }
   ],
   "source": [
    "documents[0]"
   ]
  },
  {
   "cell_type": "code",
   "execution_count": 85,
   "metadata": {},
   "outputs": [],
   "source": [
    "index = SummaryIndex.from_documents(documents)"
   ]
  },
  {
   "cell_type": "code",
   "execution_count": 86,
   "metadata": {},
   "outputs": [],
   "source": [
    "# Create query engine\n",
    "rag_application = index.as_query_engine()"
   ]
  },
  {
   "cell_type": "code",
   "execution_count": null,
   "metadata": {},
   "outputs": [],
   "source": []
  },
  {
   "cell_type": "code",
   "execution_count": 61,
   "metadata": {},
   "outputs": [
    {
     "name": "stdout",
     "output_type": "stream",
     "text": [
      "Santiago teaches this course.\n"
     ]
    }
   ],
   "source": [
    "response1 = rag_application.query(\"Who teaches this course?\")\n",
    "\n",
    "print(response1)"
   ]
  },
  {
   "cell_type": "code",
   "execution_count": 62,
   "metadata": {},
   "outputs": [
    {
     "data": {
      "text/plain": [
       "Response(response='Santiago teaches this course.', source_nodes=[NodeWithScore(node=TextNode(id_='f18d15ae-97e1-4900-a2bc-0a1388ab09c4', embedding=None, metadata={}, excluded_embed_metadata_keys=[], excluded_llm_metadata_keys=[], relationships={<NodeRelationship.SOURCE: '1'>: RelatedNodeInfo(node_id='http://www.ml.school/', node_type=<ObjectType.DOCUMENT: '4'>, metadata={}, hash='01d5d29cc37a267e7fd48034058b35d6aba880a539ad3e294c217e45b98a0413'), <NodeRelationship.NEXT: '3'>: RelatedNodeInfo(node_id='454c4df6-61f5-4975-9161-a48e75584616', node_type=<ObjectType.TEXT: '1'>, metadata={}, hash='3442213380f08644e4288760e626113c4232b05faf77697904e43d5108da3ccf')}, text='> \"This is the best machine learning course I\\'ve done. Worth every cent.\"\\n\\n**Jose Reyes** , AI/ML at Cevo Australia\\n\\n# Building Machine Learning Systems That Don\\'t Suck\\n\\nA **live, interactive program** that\\'ll help you build **production-ready**\\nmachine learning systems from the ground up.\\n\\nNext cohort: November 4 \\\\- 21, 2024\\n\\nCheck the schedule for more details about upcoming cohorts.\\n\\nI want to join!Sign in\\n\\n## Learn how to **design** , **build** , **deploy** , and **scale** machine\\nlearning systems to solve real-world problems.\\n\\nI\\'ll lose my mind if I see another book or course teaching people the same\\nbasic ideas for the hundredth time. Most people are stuck in beginner mode,\\nand finding help to solve real-world problems is hard.\\n\\nI want to change that.\\n\\nI started writing software 30 years ago. I\\'ve written pipelines and trained\\nmodels for some of the largest companies in the world. I want to show you how\\nto do the same.\\n\\nThis is the class I wish I had taken when I started.\\n\\nThis program will help you unlearn what you think machine learning is. It\\'s a\\npractical, hands-on class where you\\'ll learn from years of experience and\\nreal-world examples.\\n\\nWhen you join, you get **lifetime access** to the following:\\n\\n  * 18 hours of live, interactive sessions. We\\'ll use this time to discuss the first principles behind building machine learning systems.\\n  * 10 hours of step-by-step coding instructions. These practical sessions will show you how to build an end-to-end system from scratch.\\n  * A final project where you\\'ll build a complete solution and receive direct feedback on your work.\\n  * 100 coding assignments and practice questions.\\n  * The entire source code of a working production system. It\\'s yours. You can change and use it as you see fit.\\n  * A private community where you\\'ll collaborate with thousands of people from different backgrounds.\\n  * Direct access to your instructor.\\n  * Lifetime access to every past and future cohort.\\n  * Program certificate upon completion.\\n\\nAnd the best part is that you only pay once to join. There are no monthly\\nfees. No annual fees. No hidden costs. You pay once to join and benefit\\nforever until the end of time.\\n\\nThe program won\\'t be easy. It\\'ll take time and effort. But if you want to use\\nmachine learning to solve real-world problems, **this is the class you don \\'t\\nwant to miss.**\\n\\n# Who Is This Program For?\\n\\n## This is a practical, hands-on program for technical professionals who are\\nready to put in the work.\\n\\nThis program is for **software engineers** , **data scientists** , **data\\nanalysts** , **machine learning engineers** , **technical managers** , and\\nanyone anyone who wants to use machine learning to solve real-world problems.\\n\\nHere are the criteria to succeed in the program:\\n\\n  * You have experience writing code. We\\'ll use Python throughout the class, but you won\\'t have any problems if you know any other language.\\n  * You are familiar with basic machine learning terminology. This is not an introductory class. We\\'ll move quickly over the basics to focus on the fundamental ideas that make systems work.\\n  * You are ready to put in the work to succeed.\\n\\n> \"I have learned a ton from Santiago in his class and it was actually what\\n> helped inspire me and get into the MLOps work that I\\'m doing now. Truly one\\n> of the most helpful online courses for doing real, full-scale machine\\n> learning.\"\\n\\n![](/_next/image?url=%2F_next%2Fstatic%2Fmedia%2Fbrianhough.965e7d9d.jpeg&w=96&q=75)\\n\\nBrian H. Hough\\n\\nSoftware Engineer\\n\\n# What Will You Learn?\\n\\n## You\\'ll come out with practical skills and insights into what it takes to\\nbuild systems that work in the real world.\\n\\nHere is a summary of what makes this program unique:\\n\\n  * You\\'ll design and write the code to build an end-to-end machine learning system starting from scratch.\\n  * You\\'ll learn best practices to tackle the most significant challenges machine learning engineers face to build, evaluate, run, monitor, and maintain machine learning systems in real-world scenarios.\\n  * You\\'ll learn how to use techniques like active learning, distributed training, adversarial validation, human-in-the-loop deployments, model compression, test-time augmentation, testing in production, among many others.\\n  * You\\'ll learn how to create training, deploying, monitoring, and inference pipelines using Amazon SageMaker and open-source tools.\\n\\nForget about theoretical concepts.', mimetype='text/plain', start_char_idx=0, end_char_idx=4408, text_template='{metadata_str}\\n\\n{content}', metadata_template='{key}: {value}', metadata_seperator='\\n'), score=None), NodeWithScore(node=TextNode(id_='454c4df6-61f5-4975-9161-a48e75584616', embedding=None, metadata={}, excluded_embed_metadata_keys=[], excluded_llm_metadata_keys=[], relationships={<NodeRelationship.SOURCE: '1'>: RelatedNodeInfo(node_id='http://www.ml.school/', node_type=<ObjectType.DOCUMENT: '4'>, metadata={}, hash='01d5d29cc37a267e7fd48034058b35d6aba880a539ad3e294c217e45b98a0413'), <NodeRelationship.PREVIOUS: '2'>: RelatedNodeInfo(node_id='f18d15ae-97e1-4900-a2bc-0a1388ab09c4', node_type=<ObjectType.TEXT: '1'>, metadata={}, hash='c85a60958314fe1c601838a87a791f796b1b5c56e5afb130ee879038e4fe90ad'), <NodeRelationship.NEXT: '3'>: RelatedNodeInfo(node_id='e9bc5e82-4c63-403c-b4c5-c5819fa2418c', node_type=<ObjectType.TEXT: '1'>, metadata={}, hash='4f27266651c8d3a97beb6e2227967a21e980e9237c4c12ad5d3c5171991222ef')}, text='## You\\'ll come out with practical skills and insights into what it takes to\\nbuild systems that work in the real world.\\n\\nHere is a summary of what makes this program unique:\\n\\n  * You\\'ll design and write the code to build an end-to-end machine learning system starting from scratch.\\n  * You\\'ll learn best practices to tackle the most significant challenges machine learning engineers face to build, evaluate, run, monitor, and maintain machine learning systems in real-world scenarios.\\n  * You\\'ll learn how to use techniques like active learning, distributed training, adversarial validation, human-in-the-loop deployments, model compression, test-time augmentation, testing in production, among many others.\\n  * You\\'ll learn how to create training, deploying, monitoring, and inference pipelines using Amazon SageMaker and open-source tools.\\n\\nForget about theoretical concepts. This program will show you some of the\\nthings I\\'ve learned from real-life examples I\\'ve built during more than 30\\nyears in the industry.\\n\\nCheck the program syllabus →\\n\\n  1. ![](/_next/image?url=%2F_next%2Fstatic%2Fmedia%2Fslides-thumbnail.270f2d17.jpg&w=3840&q=75)\\n\\n### Real-life examples and case studies\\n\\nLearn from practical experience building machine learning systems that work in\\nthe real world.\\n\\n  2. ![](/_next/image?url=%2F_next%2Fstatic%2Fmedia%2Fvideo-thumbnail.228cee07.jpg&w=3840&q=75)\\n\\n### Live, interactive sessions\\n\\nAsk questions and interact with the instructor and other students in real\\ntime.\\n\\n  3. ![](/_next/image?url=%2F_next%2Fstatic%2Fmedia%2Fcode-thumbnail.96685995.jpg&w=3840&q=75)\\n\\n### Code walkthroughs\\n\\nStep by step coding instructions to help you build a production system from\\nscratch.\\n\\n# Upcoming Schedule\\n\\n## Every iteration of the program gives you 18 hours of hands-on, live\\ntraining spread over 3 weeks.\\n\\nHere are the upcoming cohorts:\\n\\n  * Cohort 16: **November 4 - November 21, 2024. **1:00 PM EST\\n\\nLive sessions will take place every Monday and Thursday at the same time. On\\nWednesdays, we\\'ll host office hours when you can bring your questions projects\\nor anything else you want to discuss.\\n\\n  * **Monday** : Live session. 2 hours.\\n  * **Tuesday** : Individual work.\\n  * **Wednesday** : Optional office hours.\\n  * **Thursday** : Live session. 2 hours.\\n  * **Friday** : Individual work.\\n\\nDo not wait for a specific cohort to join the program. You have lifetime\\naccess to every past and future cohort, and the sooner you join, the more time\\nyou have to prepare.\\n\\nEvery session is recorded. You can attend live or watch the recorded version\\nlater.\\n\\n> \"This is one of the best classes I\\'ve ever purchased over the internet.\\n> Santiago is a terrific teacher. The ability he has to share knowledge is\\n> fantastic. I recommend this course. Worth 10x what he\\'s charging.\"\\n\\n![](/_next/image?url=%2F_next%2Fstatic%2Fmedia%2Fsaldistefano.d0b42e55.jpeg&w=96&q=75)\\n\\nSal DiStefano\\n\\n# Ready To Join The Program?\\n\\n## You\\'ll get lifetime access. No monthly fees. No annual fees. No hidden\\ncosts.\\n\\n$500\\n\\n### Pay once. Access forever.\\n\\nPay once to join the program and get lifetime access. You can participate in\\nas many iterations as you\\'d like. No restrictions.\\n\\n  * Enjoy 18 hours of live, interactive sessions\\n  * Watch 10 hours of step-by-step coding instructions\\n  * Practice with 100 coding assignments\\n  * Access the complete source code of a production system\\n  * Learn how to start freelancing on Upwork\\n  * Get feedback and support from the community\\n  * Get direct feedback from your instructor\\n\\n[Join now](https://buy.stripe.com/9AQcMP6Yjedy0WA4gg)\\n\\n# Program Syllabus\\n\\n## This program will teach you the practical skills and insights that will\\nhelp you build machine learning systems.\\n\\nHere are the contents of the six live sessions of the program:\\n\\n  1. ### Session 1 \\\\- How To Start (Almost) Any Project\\n\\n     * What makes production machine learning different from what you\\'ve learned.\\n     * The strategy to solve the right problem using the right solution.\\n     * Critical questions to ask before starting any project.\\n     * Problem framing, inversion, and the haystack principle for building successful applications.\\n     * The first rule of machine learning engineering and how to start building.\\n     * Data collection strategies.', mimetype='text/plain', start_char_idx=3532, end_char_idx=7783, text_template='{metadata_str}\\n\\n{content}', metadata_template='{key}: {value}', metadata_seperator='\\n'), score=None), NodeWithScore(node=TextNode(id_='e9bc5e82-4c63-403c-b4c5-c5819fa2418c', embedding=None, metadata={}, excluded_embed_metadata_keys=[], excluded_llm_metadata_keys=[], relationships={<NodeRelationship.SOURCE: '1'>: RelatedNodeInfo(node_id='http://www.ml.school/', node_type=<ObjectType.DOCUMENT: '4'>, metadata={}, hash='01d5d29cc37a267e7fd48034058b35d6aba880a539ad3e294c217e45b98a0413'), <NodeRelationship.PREVIOUS: '2'>: RelatedNodeInfo(node_id='454c4df6-61f5-4975-9161-a48e75584616', node_type=<ObjectType.TEXT: '1'>, metadata={}, hash='3442213380f08644e4288760e626113c4232b05faf77697904e43d5108da3ccf')}, text='Here are the contents of the six live sessions of the program:\\n\\n  1. ### Session 1 \\\\- How To Start (Almost) Any Project\\n\\n     * What makes production machine learning different from what you\\'ve learned.\\n     * The strategy to solve the right problem using the right solution.\\n     * Critical questions to ask before starting any project.\\n     * Problem framing, inversion, and the haystack principle for building successful applications.\\n     * The first rule of machine learning engineering and how to start building.\\n     * Data collection strategies. A technique to determine how much data you need.\\n     * The problem of selection bias and how to deal with it.\\n     * Labeling data. Human annotations, natural labels and weak supervision.\\n     * Active learning using the uncertainty and diversity sampling strategies.\\n  2. ### Session 2 \\\\- How to Build a Model\\n\\n     * The role of data cleaning and feature engineering to build better models.\\n     * Turning data into numbers using vectorization techniques.\\n     * Producing homogeneous features using normalization and standardization.\\n     * Handling and interpreting missing values using imputation techniques.\\n     * The approach to choosing the best model to solve any problem.\\n     * Random baselines and the zero-rule algorithm.\\n     * How to use overfitting to build models that don\\'t suck.\\n     * Hyperparameter tuning and experiment tracking.\\n     * Measuring the quality of your holdout set.\\n     * An introduction to distributed training using data parallelism and model parallelism.\\n\\nSee the remaining sessions\\n\\n> \"This is an awesome course! This is my second round and I continue learning.\\n> I recommend it with complete confidence.\"\\n\\n![](/_next/image?url=%2F_next%2Fstatic%2Fmedia%2Fjuanolano.ff7e749a.jpeg&w=96&q=75)\\n\\nJuan Olano\\n\\nMachine Learning Engineer\\n\\n# Frequently Asked Questions\\n\\n## If you can\\'t find the answer to your question, please reach out on social\\nmedia and I\\'ll be happy to help.\\n\\n### How long will it take to complete the program?\\n\\nIf you are attending the live sessions, you should set aside a minimum of 4\\nhours every week during the three weeks of the program. This commitment will\\nbe enough for engineer leaders or anyone not interested in the coding portion\\nof the program.\\n\\nThose interested in implementing the concepts discussed in class should set\\naside 2 to 4 hours weekly to complete the code walkthroughs and work on the\\nassignments.\\n\\n### Are live sessions recorded?\\n\\nYes, we record every live session. You can decide when to attend classes live\\nor catch up asynchronously later using the recording.\\n\\n### I\\'m a complete beginner. Is this program helpful for me?\\n\\nThis program is not an introduction to machine learning.\\n\\nWhile we\\'ll discuss many fundamental ideas behind machine learning, beginners\\nwill find the sessions go much faster than what\\'s optimal for them.\\n\\n### What does \"lifetime access\" mean?\\n\\nYou only pay once to join the program and get immediate access to every past,\\npresent, and future cohort.\\n\\nEvery new iteration of the program is better than the ones before. Many\\nstudents take classes once and then join a later cohort to benefit from the\\nupdates.\\n\\nThe lifetime access removes any pressure from having to complete the program\\nwhen life gets in the way.\\n\\n![](/_next/image?url=%2F_next%2Fstatic%2Fmedia%2Fheadshot.8b69bb12.jpg&w=3840&q=75)\\n\\n# Hey! I\\'m Santiago.\\n\\n## I\\'m the instructor of the program.\\n\\nI\\'m a machine learning engineer with over two decades of experience building\\nand scaling enterprise software and machine learning systems.\\n\\nI love neural networks. I love to make them work at scale.\\n\\nFrom 2009 to 2023, I built products for Disney, Boston Dynamics, IBM, Dell,\\nG4S, Anheuser-Busch, and NextEra Energy, among other clients. I learned about\\ntrade-offs and how to create products that work.\\n\\nI started this program in March 2023. Since then, thousands of students have\\ngraduated, and I can\\'t wait to meet you in class.\\n\\n[](https://twitter.com/svpino)[](https://linkedin.com/in/svpino)\\n\\nCopyright © 2024 Tideily LLC\\n\\nAll rights reserved.', mimetype='text/plain', start_char_idx=7230, end_char_idx=11301, text_template='{metadata_str}\\n\\n{content}', metadata_template='{key}: {value}', metadata_seperator='\\n'), score=None)], metadata={'f18d15ae-97e1-4900-a2bc-0a1388ab09c4': {}, '454c4df6-61f5-4975-9161-a48e75584616': {}, 'e9bc5e82-4c63-403c-b4c5-c5819fa2418c': {}})"
      ]
     },
     "execution_count": 62,
     "metadata": {},
     "output_type": "execute_result"
    }
   ],
   "source": [
    "response1"
   ]
  },
  {
   "cell_type": "markdown",
   "metadata": {},
   "source": [
    "the query engine is working\n",
    "<hr>"
   ]
  },
  {
   "cell_type": "markdown",
   "metadata": {},
   "source": [
    "Using the original method to get the rag_results for evaluation\n",
    "\n",
    "- But it failed\n",
    "- successfully got the response and transform it to `rag_result`\n",
    "- but failed to create `rag_results`"
   ]
  },
  {
   "cell_type": "code",
   "execution_count": 87,
   "metadata": {},
   "outputs": [
    {
     "name": "stdout",
     "output_type": "stream",
     "text": [
      "RAGResults(\n",
      "  1 RAG results,\n",
      "  Metrics:\n",
      "  {\n",
      "    \"overall_metrics\": {},\n",
      "    \"retriever_metrics\": {},\n",
      "    \"generator_metrics\": {}\n",
      "  }\n",
      ")\n"
     ]
    },
    {
     "name": "stderr",
     "output_type": "stream",
     "text": [
      "/Users/chris/Desktop/7980/CS7980_Capstone_RBCMuseum/eval/venv/lib/python3.11/site-packages/dataclasses_json/core.py:201: RuntimeWarning: 'NoneType' object value of non-optional type query_id detected when decoding RAGResult.\n",
      "  warnings.warn(\n"
     ]
    }
   ],
   "source": [
    "# User query and groud truth answer\n",
    "user_query = \"What is Price of this course?\"\n",
    "gt_answer = \"The price of the course is $500\"\n",
    "\n",
    "\n",
    "# Get response from LlamaIndex\n",
    "response_object = rag_application.query(user_query)\n",
    "\n",
    "# Convert to RAGChecker format\n",
    "rag_result = response_to_rag_results(\n",
    "    query=user_query,\n",
    "    gt_answer=gt_answer,\n",
    "    response_object=response_object,\n",
    ")\n",
    "\n",
    "# Create RAGResults object\n",
    "rag_results = RAGResults.from_dict({\"results\": [rag_result]})\n",
    "print(rag_results)"
   ]
  },
  {
   "cell_type": "markdown",
   "metadata": {},
   "source": [
    "Create a json file for the rag_results\n",
    "- But it failed\n",
    "- Generate the json file for the `rag_result`\n"
   ]
  },
  {
   "cell_type": "code",
   "execution_count": 77,
   "metadata": {},
   "outputs": [],
   "source": [
    "with open(\"/Users/chris/Desktop/7980/CS7980_Capstone_RBCMuseum/eval/rag_response.json\") as fp:\n",
    "    rag_results = RAGResults.from_json(fp.read())\n"
   ]
  },
  {
   "cell_type": "code",
   "execution_count": 78,
   "metadata": {},
   "outputs": [
    {
     "name": "stdout",
     "output_type": "stream",
     "text": [
      "RAGResults(\n",
      "  2 RAG results,\n",
      "  Metrics:\n",
      "  {\n",
      "    \"overall_metrics\": {},\n",
      "    \"retriever_metrics\": {},\n",
      "    \"generator_metrics\": {}\n",
      "  }\n",
      ")\n"
     ]
    }
   ],
   "source": [
    "print(rag_results)"
   ]
  },
  {
   "cell_type": "markdown",
   "metadata": {},
   "source": [
    "No matter what method I use, it failed"
   ]
  },
  {
   "cell_type": "code",
   "execution_count": 90,
   "metadata": {},
   "outputs": [],
   "source": [
    "\n",
    "\n",
    "# Note the prefix \"openai/\" here\n",
    "model = \"gpt-4o\"\n",
    "extractor = model\n",
    "checker = model\n",
    "\n",
    "evaluator = RAGChecker(\n",
    "    # extractor_name=\"bedrock/meta.llama3-70b-instruct-v1:0\",\n",
    "    # checker_name=\"bedrock/meta.llama3-70b-instruct-v1:0\",\n",
    "    extractor_name=extractor,\n",
    "    checker_name=checker,\n",
    ")\n",
    "\n"
   ]
  },
  {
   "cell_type": "code",
   "execution_count": 91,
   "metadata": {},
   "outputs": [
    {
     "name": "stderr",
     "output_type": "stream",
     "text": [
      "\u001b[32m2024-10-08 22:54:50.949\u001b[0m | \u001b[1mINFO    \u001b[0m | \u001b[36mragchecker.evaluator\u001b[0m:\u001b[36mextract_claims\u001b[0m:\u001b[36m113\u001b[0m - \u001b[1mExtracting claims for gt_answer of 1 RAG results.\u001b[0m\n",
      "  0%|          | 0/1 [00:00<?, ?it/s]"
     ]
    },
    {
     "name": "stdout",
     "output_type": "stream",
     "text": [
      "litellm.BadRequestError: OpenAIException - Error code: 400 - {'error': {'message': 'Unrecognized request arguments supplied: api_url, max_workers', 'type': 'invalid_request_error', 'param': None, 'code': None}} [sleep 10 seconds]\n"
     ]
    },
    {
     "name": "stderr",
     "output_type": "stream",
     "text": [
      "  0%|          | 0/1 [00:04<?, ?it/s]\n"
     ]
    },
    {
     "ename": "KeyboardInterrupt",
     "evalue": "",
     "output_type": "error",
     "traceback": [
      "\u001b[0;31m---------------------------------------------------------------------------\u001b[0m",
      "\u001b[0;31mAssertionError\u001b[0m                            Traceback (most recent call last)",
      "File \u001b[0;32m~/Desktop/7980/CS7980_Capstone_RBCMuseum/eval/venv/lib/python3.11/site-packages/refchecker/utils.py:156\u001b[0m, in \u001b[0;36mget_model_batch_response\u001b[0;34m(prompts, model, temperature, n_choices, max_new_tokens, api_base, sagemaker_client, sagemaker_params, sagemaker_get_response_func, custom_llm_api_func, **kwargs)\u001b[0m\n\u001b[1;32m    155\u001b[0m \u001b[38;5;28;01mtry\u001b[39;00m:\n\u001b[0;32m--> 156\u001b[0m     \u001b[38;5;28;01massert\u001b[39;00m \u001b[38;5;28mall\u001b[39m([\u001b[38;5;28misinstance\u001b[39m(r, ModelResponse) \u001b[38;5;28;01mfor\u001b[39;00m r \u001b[38;5;129;01min\u001b[39;00m responses])\n\u001b[1;32m    157\u001b[0m     \u001b[38;5;28;01mif\u001b[39;00m n_choices \u001b[38;5;241m==\u001b[39m \u001b[38;5;241m1\u001b[39m:\n",
      "\u001b[0;31mAssertionError\u001b[0m: ",
      "\nDuring handling of the above exception, another exception occurred:\n",
      "\u001b[0;31mKeyboardInterrupt\u001b[0m                         Traceback (most recent call last)",
      "Cell \u001b[0;32mIn[91], line 2\u001b[0m\n\u001b[1;32m      1\u001b[0m \u001b[38;5;66;03m# Evaluate using RAGChecker\u001b[39;00m\n\u001b[0;32m----> 2\u001b[0m \u001b[43mevaluator\u001b[49m\u001b[38;5;241;43m.\u001b[39;49m\u001b[43mevaluate\u001b[49m\u001b[43m(\u001b[49m\u001b[43mrag_results\u001b[49m\u001b[43m,\u001b[49m\u001b[43m \u001b[49m\u001b[43mall_metrics\u001b[49m\u001b[43m)\u001b[49m\n",
      "File \u001b[0;32m~/Desktop/7980/CS7980_Capstone_RBCMuseum/eval/venv/lib/python3.11/site-packages/ragchecker/evaluator.py:228\u001b[0m, in \u001b[0;36mRAGChecker.evaluate\u001b[0;34m(self, results, metrics, save_path)\u001b[0m\n\u001b[1;32m    226\u001b[0m \u001b[38;5;66;03m# compute the required intermediate results\u001b[39;00m\n\u001b[1;32m    227\u001b[0m \u001b[38;5;28;01mfor\u001b[39;00m requirement \u001b[38;5;129;01min\u001b[39;00m requirements:\n\u001b[0;32m--> 228\u001b[0m     \u001b[38;5;28;43mself\u001b[39;49m\u001b[38;5;241;43m.\u001b[39;49m\u001b[43mcheck_claims\u001b[49m\u001b[43m(\u001b[49m\u001b[43mresults\u001b[49m\u001b[43m,\u001b[49m\u001b[43m \u001b[49m\u001b[43mcheck_type\u001b[49m\u001b[38;5;241;43m=\u001b[39;49m\u001b[43mrequirement\u001b[49m\u001b[43m)\u001b[49m\n\u001b[1;32m    229\u001b[0m     \u001b[38;5;28;01mif\u001b[39;00m save_path \u001b[38;5;129;01mis\u001b[39;00m \u001b[38;5;129;01mnot\u001b[39;00m \u001b[38;5;28;01mNone\u001b[39;00m:\n\u001b[1;32m    230\u001b[0m         \u001b[38;5;28;01mwith\u001b[39;00m \u001b[38;5;28mopen\u001b[39m(save_path, \u001b[38;5;124m\"\u001b[39m\u001b[38;5;124mw\u001b[39m\u001b[38;5;124m\"\u001b[39m) \u001b[38;5;28;01mas\u001b[39;00m f:\n",
      "File \u001b[0;32m~/Desktop/7980/CS7980_Capstone_RBCMuseum/eval/venv/lib/python3.11/site-packages/ragchecker/evaluator.py:158\u001b[0m, in \u001b[0;36mRAGChecker.check_claims\u001b[0;34m(self, results, check_type)\u001b[0m\n\u001b[1;32m    156\u001b[0m \u001b[38;5;28;01mcase\u001b[39;00m \u001b[38;5;124m\"\u001b[39m\u001b[38;5;124mretrieved2answer\u001b[39m\u001b[38;5;124m\"\u001b[39m:\n\u001b[1;32m    157\u001b[0m     results \u001b[38;5;241m=\u001b[39m [ret \u001b[38;5;28;01mfor\u001b[39;00m ret \u001b[38;5;129;01min\u001b[39;00m results\u001b[38;5;241m.\u001b[39mresults \u001b[38;5;28;01mif\u001b[39;00m ret\u001b[38;5;241m.\u001b[39mretrieved2answer \u001b[38;5;129;01mis\u001b[39;00m \u001b[38;5;28;01mNone\u001b[39;00m]\n\u001b[0;32m--> 158\u001b[0m     \u001b[38;5;28;43mself\u001b[39;49m\u001b[38;5;241;43m.\u001b[39;49m\u001b[43mextract_claims\u001b[49m\u001b[43m(\u001b[49m\u001b[43mresults\u001b[49m\u001b[43m,\u001b[49m\u001b[43m \u001b[49m\u001b[43mextract_type\u001b[49m\u001b[38;5;241;43m=\u001b[39;49m\u001b[38;5;124;43m\"\u001b[39;49m\u001b[38;5;124;43mgt_answer\u001b[39;49m\u001b[38;5;124;43m\"\u001b[39;49m\u001b[43m)\u001b[49m\n\u001b[1;32m    159\u001b[0m     claims \u001b[38;5;241m=\u001b[39m [ret\u001b[38;5;241m.\u001b[39mgt_answer_claims \u001b[38;5;28;01mfor\u001b[39;00m ret \u001b[38;5;129;01min\u001b[39;00m results]\n\u001b[1;32m    160\u001b[0m     references \u001b[38;5;241m=\u001b[39m [[doc\u001b[38;5;241m.\u001b[39mtext \u001b[38;5;28;01mfor\u001b[39;00m doc \u001b[38;5;129;01min\u001b[39;00m ret\u001b[38;5;241m.\u001b[39mretrieved_context] \u001b[38;5;28;01mfor\u001b[39;00m ret \u001b[38;5;129;01min\u001b[39;00m results]\n",
      "File \u001b[0;32m~/Desktop/7980/CS7980_Capstone_RBCMuseum/eval/venv/lib/python3.11/site-packages/ragchecker/evaluator.py:114\u001b[0m, in \u001b[0;36mRAGChecker.extract_claims\u001b[0;34m(self, results, extract_type)\u001b[0m\n\u001b[1;32m    111\u001b[0m questions \u001b[38;5;241m=\u001b[39m [result\u001b[38;5;241m.\u001b[39mquery \u001b[38;5;28;01mfor\u001b[39;00m result \u001b[38;5;129;01min\u001b[39;00m results]\n\u001b[1;32m    113\u001b[0m logger\u001b[38;5;241m.\u001b[39minfo(\u001b[38;5;124mf\u001b[39m\u001b[38;5;124m\"\u001b[39m\u001b[38;5;124mExtracting claims for \u001b[39m\u001b[38;5;132;01m{\u001b[39;00mextract_type\u001b[38;5;132;01m}\u001b[39;00m\u001b[38;5;124m of \u001b[39m\u001b[38;5;132;01m{\u001b[39;00m\u001b[38;5;28mlen\u001b[39m(results)\u001b[38;5;132;01m}\u001b[39;00m\u001b[38;5;124m RAG results.\u001b[39m\u001b[38;5;124m\"\u001b[39m)\n\u001b[0;32m--> 114\u001b[0m extraction_results \u001b[38;5;241m=\u001b[39m \u001b[38;5;28;43mself\u001b[39;49m\u001b[38;5;241;43m.\u001b[39;49m\u001b[43mextractor\u001b[49m\u001b[38;5;241;43m.\u001b[39;49m\u001b[43mextract\u001b[49m\u001b[43m(\u001b[49m\n\u001b[1;32m    115\u001b[0m \u001b[43m    \u001b[49m\u001b[43mbatch_responses\u001b[49m\u001b[38;5;241;43m=\u001b[39;49m\u001b[43mtexts\u001b[49m\u001b[43m,\u001b[49m\n\u001b[1;32m    116\u001b[0m \u001b[43m    \u001b[49m\u001b[43mbatch_questions\u001b[49m\u001b[38;5;241;43m=\u001b[39;49m\u001b[43mquestions\u001b[49m\u001b[43m,\u001b[49m\n\u001b[1;32m    117\u001b[0m \u001b[43m    \u001b[49m\u001b[43mmax_new_tokens\u001b[49m\u001b[38;5;241;43m=\u001b[39;49m\u001b[38;5;28;43mself\u001b[39;49m\u001b[38;5;241;43m.\u001b[39;49m\u001b[43mextractor_max_new_tokens\u001b[49m\u001b[43m,\u001b[49m\n\u001b[1;32m    118\u001b[0m \u001b[43m    \u001b[49m\u001b[43msagemaker_client\u001b[49m\u001b[38;5;241;43m=\u001b[39;49m\u001b[38;5;28;43mself\u001b[39;49m\u001b[38;5;241;43m.\u001b[39;49m\u001b[43msagemaker_client\u001b[49m\u001b[43m,\u001b[49m\n\u001b[1;32m    119\u001b[0m \u001b[43m    \u001b[49m\u001b[43msagemaker_params\u001b[49m\u001b[38;5;241;43m=\u001b[39;49m\u001b[38;5;28;43mself\u001b[39;49m\u001b[38;5;241;43m.\u001b[39;49m\u001b[43msagemaker_params\u001b[49m\u001b[43m,\u001b[49m\n\u001b[1;32m    120\u001b[0m \u001b[43m    \u001b[49m\u001b[43msagemaker_get_response_func\u001b[49m\u001b[38;5;241;43m=\u001b[39;49m\u001b[38;5;28;43mself\u001b[39;49m\u001b[38;5;241;43m.\u001b[39;49m\u001b[43msagemaker_get_response_func\u001b[49m\u001b[43m,\u001b[49m\n\u001b[1;32m    121\u001b[0m \u001b[43m    \u001b[49m\u001b[43mcustom_llm_api_func\u001b[49m\u001b[38;5;241;43m=\u001b[39;49m\u001b[38;5;28;43mself\u001b[39;49m\u001b[38;5;241;43m.\u001b[39;49m\u001b[43mcustom_llm_api_func\u001b[49m\u001b[43m,\u001b[49m\n\u001b[1;32m    122\u001b[0m \u001b[43m    \u001b[49m\u001b[38;5;241;43m*\u001b[39;49m\u001b[38;5;241;43m*\u001b[39;49m\u001b[38;5;28;43mself\u001b[39;49m\u001b[38;5;241;43m.\u001b[39;49m\u001b[43mkwargs\u001b[49m\n\u001b[1;32m    123\u001b[0m \u001b[43m\u001b[49m\u001b[43m)\u001b[49m\n\u001b[1;32m    124\u001b[0m claims \u001b[38;5;241m=\u001b[39m [[c\u001b[38;5;241m.\u001b[39mcontent \u001b[38;5;28;01mfor\u001b[39;00m c \u001b[38;5;129;01min\u001b[39;00m res\u001b[38;5;241m.\u001b[39mclaims] \u001b[38;5;28;01mfor\u001b[39;00m res \u001b[38;5;129;01min\u001b[39;00m extraction_results]\n\u001b[1;32m    125\u001b[0m \u001b[38;5;28;01mfor\u001b[39;00m i, result \u001b[38;5;129;01min\u001b[39;00m \u001b[38;5;28menumerate\u001b[39m(results):\n",
      "File \u001b[0;32m~/Desktop/7980/CS7980_Capstone_RBCMuseum/eval/venv/lib/python3.11/site-packages/refchecker/extractor/extractor_base.py:26\u001b[0m, in \u001b[0;36mExtractorBase.extract\u001b[0;34m(self, batch_responses, batch_questions, max_new_tokens, sagemaker_client, sagemaker_params, sagemaker_get_response_func, custom_llm_api_func, **kwargs)\u001b[0m\n\u001b[1;32m     14\u001b[0m \u001b[38;5;28;01mdef\u001b[39;00m \u001b[38;5;21mextract\u001b[39m(\n\u001b[1;32m     15\u001b[0m     \u001b[38;5;28mself\u001b[39m, \n\u001b[1;32m     16\u001b[0m     batch_responses, \n\u001b[0;32m   (...)\u001b[0m\n\u001b[1;32m     23\u001b[0m     \u001b[38;5;241m*\u001b[39m\u001b[38;5;241m*\u001b[39mkwargs\n\u001b[1;32m     24\u001b[0m ):\n\u001b[1;32m     25\u001b[0m     \u001b[38;5;28;01mif\u001b[39;00m \u001b[38;5;28mself\u001b[39m\u001b[38;5;241m.\u001b[39mclaim_format \u001b[38;5;241m==\u001b[39m \u001b[38;5;124m'\u001b[39m\u001b[38;5;124mtriplet\u001b[39m\u001b[38;5;124m'\u001b[39m:\n\u001b[0;32m---> 26\u001b[0m         result \u001b[38;5;241m=\u001b[39m \u001b[38;5;28;43mself\u001b[39;49m\u001b[38;5;241;43m.\u001b[39;49m\u001b[43mextract_claim_triplets\u001b[49m\u001b[43m(\u001b[49m\n\u001b[1;32m     27\u001b[0m \u001b[43m            \u001b[49m\u001b[43mbatch_responses\u001b[49m\u001b[38;5;241;43m=\u001b[39;49m\u001b[43mbatch_responses\u001b[49m\u001b[43m,\u001b[49m\n\u001b[1;32m     28\u001b[0m \u001b[43m            \u001b[49m\u001b[43mbatch_questions\u001b[49m\u001b[38;5;241;43m=\u001b[39;49m\u001b[43mbatch_questions\u001b[49m\u001b[43m,\u001b[49m\n\u001b[1;32m     29\u001b[0m \u001b[43m            \u001b[49m\u001b[43mmax_new_tokens\u001b[49m\u001b[38;5;241;43m=\u001b[39;49m\u001b[43mmax_new_tokens\u001b[49m\u001b[43m,\u001b[49m\n\u001b[1;32m     30\u001b[0m \u001b[43m            \u001b[49m\u001b[43msagemaker_client\u001b[49m\u001b[38;5;241;43m=\u001b[39;49m\u001b[43msagemaker_client\u001b[49m\u001b[43m,\u001b[49m\n\u001b[1;32m     31\u001b[0m \u001b[43m            \u001b[49m\u001b[43msagemaker_params\u001b[49m\u001b[38;5;241;43m=\u001b[39;49m\u001b[43msagemaker_params\u001b[49m\u001b[43m,\u001b[49m\n\u001b[1;32m     32\u001b[0m \u001b[43m            \u001b[49m\u001b[43msagemaker_get_response_func\u001b[49m\u001b[38;5;241;43m=\u001b[39;49m\u001b[43msagemaker_get_response_func\u001b[49m\u001b[43m,\u001b[49m\n\u001b[1;32m     33\u001b[0m \u001b[43m            \u001b[49m\u001b[43mcustom_llm_api_func\u001b[49m\u001b[38;5;241;43m=\u001b[39;49m\u001b[43mcustom_llm_api_func\u001b[49m\u001b[43m,\u001b[49m\n\u001b[1;32m     34\u001b[0m \u001b[43m            \u001b[49m\u001b[38;5;241;43m*\u001b[39;49m\u001b[38;5;241;43m*\u001b[39;49m\u001b[43mkwargs\u001b[49m\n\u001b[1;32m     35\u001b[0m \u001b[43m        \u001b[49m\u001b[43m)\u001b[49m\n\u001b[1;32m     36\u001b[0m     \u001b[38;5;28;01melif\u001b[39;00m \u001b[38;5;28mself\u001b[39m\u001b[38;5;241m.\u001b[39mclaim_format \u001b[38;5;241m==\u001b[39m \u001b[38;5;124m'\u001b[39m\u001b[38;5;124msubsentence\u001b[39m\u001b[38;5;124m'\u001b[39m:\n\u001b[1;32m     37\u001b[0m         result \u001b[38;5;241m=\u001b[39m \u001b[38;5;28mself\u001b[39m\u001b[38;5;241m.\u001b[39mextract_subsentence_claims(\n\u001b[1;32m     38\u001b[0m             batch_responses\u001b[38;5;241m=\u001b[39mbatch_responses,\n\u001b[1;32m     39\u001b[0m             batch_questions\u001b[38;5;241m=\u001b[39mbatch_questions,\n\u001b[0;32m   (...)\u001b[0m\n\u001b[1;32m     45\u001b[0m             \u001b[38;5;241m*\u001b[39m\u001b[38;5;241m*\u001b[39mkwargs\n\u001b[1;32m     46\u001b[0m         )\n",
      "File \u001b[0;32m~/Desktop/7980/CS7980_Capstone_RBCMuseum/eval/venv/lib/python3.11/site-packages/refchecker/extractor/llm_extractor.py:146\u001b[0m, in \u001b[0;36mLLMExtractor.extract_claim_triplets\u001b[0;34m(self, batch_responses, batch_questions, max_new_tokens, sagemaker_client, sagemaker_params, sagemaker_get_response_func, custom_llm_api_func, **kwargs)\u001b[0m\n\u001b[1;32m    143\u001b[0m \u001b[38;5;28;01mfor\u001b[39;00m _i \u001b[38;5;129;01min\u001b[39;00m tqdm(\u001b[38;5;28mrange\u001b[39m(\u001b[38;5;241m0\u001b[39m, \u001b[38;5;28mlen\u001b[39m(prompt_list), \u001b[38;5;28mself\u001b[39m\u001b[38;5;241m.\u001b[39mbatch_size)):\n\u001b[1;32m    144\u001b[0m     batch_prompts \u001b[38;5;241m=\u001b[39m prompt_list[_i:_i\u001b[38;5;241m+\u001b[39m\u001b[38;5;28mself\u001b[39m\u001b[38;5;241m.\u001b[39mbatch_size]\n\u001b[0;32m--> 146\u001b[0m     llm_responses \u001b[38;5;241m=\u001b[39m \u001b[43mget_model_batch_response\u001b[49m\u001b[43m(\u001b[49m\n\u001b[1;32m    147\u001b[0m \u001b[43m        \u001b[49m\u001b[43mprompts\u001b[49m\u001b[38;5;241;43m=\u001b[39;49m\u001b[43mbatch_prompts\u001b[49m\u001b[43m,\u001b[49m\n\u001b[1;32m    148\u001b[0m \u001b[43m        \u001b[49m\u001b[43mtemperature\u001b[49m\u001b[38;5;241;43m=\u001b[39;49m\u001b[38;5;241;43m1e-5\u001b[39;49m\u001b[43m,\u001b[49m\n\u001b[1;32m    149\u001b[0m \u001b[43m        \u001b[49m\u001b[43mmodel\u001b[49m\u001b[38;5;241;43m=\u001b[39;49m\u001b[38;5;28;43mself\u001b[39;49m\u001b[38;5;241;43m.\u001b[39;49m\u001b[43mmodel\u001b[49m\u001b[43m,\u001b[49m\n\u001b[1;32m    150\u001b[0m \u001b[43m        \u001b[49m\u001b[43mn_choices\u001b[49m\u001b[38;5;241;43m=\u001b[39;49m\u001b[38;5;241;43m1\u001b[39;49m\u001b[43m,\u001b[49m\n\u001b[1;32m    151\u001b[0m \u001b[43m        \u001b[49m\u001b[43mmax_new_tokens\u001b[49m\u001b[38;5;241;43m=\u001b[39;49m\u001b[43mmax_new_tokens\u001b[49m\u001b[43m,\u001b[49m\n\u001b[1;32m    152\u001b[0m \u001b[43m        \u001b[49m\u001b[43mapi_base\u001b[49m\u001b[38;5;241;43m=\u001b[39;49m\u001b[38;5;28;43mself\u001b[39;49m\u001b[38;5;241;43m.\u001b[39;49m\u001b[43mapi_base\u001b[49m\u001b[43m,\u001b[49m\n\u001b[1;32m    153\u001b[0m \u001b[43m        \u001b[49m\u001b[43msagemaker_client\u001b[49m\u001b[38;5;241;43m=\u001b[39;49m\u001b[43msagemaker_client\u001b[49m\u001b[43m,\u001b[49m\n\u001b[1;32m    154\u001b[0m \u001b[43m        \u001b[49m\u001b[43msagemaker_params\u001b[49m\u001b[38;5;241;43m=\u001b[39;49m\u001b[43msagemaker_params\u001b[49m\u001b[43m,\u001b[49m\n\u001b[1;32m    155\u001b[0m \u001b[43m        \u001b[49m\u001b[43msagemaker_get_response_func\u001b[49m\u001b[38;5;241;43m=\u001b[39;49m\u001b[43msagemaker_get_response_func\u001b[49m\u001b[43m,\u001b[49m\n\u001b[1;32m    156\u001b[0m \u001b[43m        \u001b[49m\u001b[43mcustom_llm_api_func\u001b[49m\u001b[38;5;241;43m=\u001b[39;49m\u001b[43mcustom_llm_api_func\u001b[49m\u001b[43m,\u001b[49m\n\u001b[1;32m    157\u001b[0m \u001b[43m        \u001b[49m\u001b[38;5;241;43m*\u001b[39;49m\u001b[38;5;241;43m*\u001b[39;49m\u001b[43mkwargs\u001b[49m\n\u001b[1;32m    158\u001b[0m \u001b[43m    \u001b[49m\u001b[43m)\u001b[49m\n\u001b[1;32m    160\u001b[0m     \u001b[38;5;28;01mif\u001b[39;00m llm_responses \u001b[38;5;129;01mand\u001b[39;00m \u001b[38;5;28mlen\u001b[39m(llm_responses):\n\u001b[1;32m    161\u001b[0m         \u001b[38;5;28;01mfor\u001b[39;00m res \u001b[38;5;129;01min\u001b[39;00m llm_responses:\n",
      "File \u001b[0;32m~/Desktop/7980/CS7980_Capstone_RBCMuseum/eval/venv/lib/python3.11/site-packages/refchecker/utils.py:178\u001b[0m, in \u001b[0;36mget_model_batch_response\u001b[0;34m(prompts, model, temperature, n_choices, max_new_tokens, api_base, sagemaker_client, sagemaker_params, sagemaker_get_response_func, custom_llm_api_func, **kwargs)\u001b[0m\n\u001b[1;32m    175\u001b[0m         \u001b[38;5;28;01mreturn\u001b[39;00m \u001b[38;5;28;01mNone\u001b[39;00m\n\u001b[1;32m    177\u001b[0m \u001b[38;5;28mprint\u001b[39m(\u001b[38;5;124mf\u001b[39m\u001b[38;5;124m\"\u001b[39m\u001b[38;5;132;01m{\u001b[39;00mexception\u001b[38;5;132;01m}\u001b[39;00m\u001b[38;5;124m [sleep 10 seconds]\u001b[39m\u001b[38;5;124m\"\u001b[39m)\n\u001b[0;32m--> 178\u001b[0m time\u001b[38;5;241m.\u001b[39msleep(\u001b[38;5;241m10\u001b[39m)\n\u001b[1;32m    179\u001b[0m \u001b[38;5;28;01mcontinue\u001b[39;00m\n",
      "\u001b[0;31mKeyboardInterrupt\u001b[0m: "
     ]
    }
   ],
   "source": [
    "# Evaluate using RAGChecker\n",
    "evaluator.evaluate(rag_results, all_metrics)\n"
   ]
  },
  {
   "cell_type": "markdown",
   "metadata": {},
   "source": [
    "Clear to see that the evaluation is not working"
   ]
  },
  {
   "cell_type": "code",
   "execution_count": 37,
   "metadata": {},
   "outputs": [
    {
     "name": "stderr",
     "output_type": "stream",
     "text": [
      "\u001b[32m2024-10-08 16:17:25.714\u001b[0m | \u001b[1mINFO    \u001b[0m | \u001b[36mragchecker.evaluator\u001b[0m:\u001b[36mextract_claims\u001b[0m:\u001b[36m113\u001b[0m - \u001b[1mExtracting claims for gt_answer of 1 RAG results.\u001b[0m\n",
      "  0%|          | 0/1 [00:02<?, ?it/s]"
     ]
    },
    {
     "name": "stdout",
     "output_type": "stream",
     "text": [
      "Exit with the following error:\n",
      "'NoCredentialsError' object has no attribute 'response'\n",
      "An error occurred during evaluation: 'NoneType' object is not iterable\n",
      "RAGResults(\n",
      "  1 RAG results,\n",
      "  Metrics:\n",
      "  {\n",
      "    \"overall_metrics\": {},\n",
      "    \"retriever_metrics\": {},\n",
      "    \"generator_metrics\": {}\n",
      "  }\n",
      ")\n"
     ]
    },
    {
     "name": "stderr",
     "output_type": "stream",
     "text": [
      "\n"
     ]
    }
   ],
   "source": [
    "evaluator = RAGChecker(\n",
    "    extractor_name=\"bedrock/meta.llama3-70b-instruct-v1:0\",\n",
    "    checker_name=\"bedrock/meta.llama3-70b-instruct-v1:0\",\n",
    "    batch_size_extractor=32,\n",
    "    batch_size_checker=32,\n",
    ")\n",
    "\n",
    "# Check if rag_results contains valid data\n",
    "if rag_results.results and all(result.response for result in rag_results.results):\n",
    "    try:\n",
    "        evaluator.evaluate(rag_results, all_metrics)\n",
    "    except Exception as e:\n",
    "        print(f\"An error occurred during evaluation: {e}\")\n",
    "else:\n",
    "    print(\"rag_results does not contain valid data for evaluation\")\n",
    "\n",
    "# Print detailed results\n",
    "print(rag_results)"
   ]
  }
 ],
 "metadata": {
  "kernelspec": {
   "display_name": "Python 3",
   "language": "python",
   "name": "python3"
  },
  "language_info": {
   "codemirror_mode": {
    "name": "ipython",
    "version": 3
   },
   "file_extension": ".py",
   "mimetype": "text/x-python",
   "name": "python",
   "nbconvert_exporter": "python",
   "pygments_lexer": "ipython3",
   "version": "3.11.10"
  }
 },
 "nbformat": 4,
 "nbformat_minor": 2
}
