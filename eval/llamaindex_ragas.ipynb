{
 "cells": [
  {
   "cell_type": "code",
   "execution_count": 7,
   "metadata": {},
   "outputs": [],
   "source": [
    "import os\n",
    "\n",
    "from dotenv import load_dotenv\n",
    "load_dotenv()\n",
    "\n",
    "import nest_asyncio\n",
    "nest_asyncio.apply()\n",
    "\n",
    "OPENAI_API_KEY = os.getenv(\"OPENAI_API_KEY\")\n",
    "os.environ[\"OPENAI_API_KEY\"] = OPENAI_API_KEY"
   ]
  },
  {
   "cell_type": "markdown",
   "metadata": {},
   "source": [
    "### Building the Tests"
   ]
  },
  {
   "cell_type": "code",
   "execution_count": 8,
   "metadata": {},
   "outputs": [],
   "source": [
    "# load the documents\n",
    "from llama_index.core import SimpleDirectoryReader\n",
    "\n",
    "documents = SimpleDirectoryReader(\"data/NYC/\").load_data()\n"
   ]
  },
  {
   "cell_type": "code",
   "execution_count": 17,
   "metadata": {},
   "outputs": [],
   "source": [
    "from ragas.testset.generator import TestsetGenerator\n",
    "from ragas.testset.evolutions import simple, reasoning, multi_context\n",
    "from llama_index.llms.openai import OpenAI\n",
    "from llama_index.embeddings.openai import OpenAIEmbedding\n",
    "\n",
    "# generator with openai models\n",
    "generator_llm = OpenAI(model=\"gpt-3.5-turbo\")\n",
    "critic_llm = OpenAI(model=\"gpt-4\")\n",
    "embeddings = OpenAIEmbedding(model='text-embedding-ada-002')\n",
    "\n",
    "generator = TestsetGenerator.from_llama_index(\n",
    "    generator_llm=generator_llm,\n",
    "    critic_llm=critic_llm,\n",
    "    embeddings=embeddings,\n",
    ")"
   ]
  },
  {
   "cell_type": "code",
   "execution_count": 20,
   "metadata": {},
   "outputs": [
    {
     "data": {
      "application/vnd.jupyter.widget-view+json": {
       "model_id": "2e8e68058b1f4f39bd6075b68d125610",
       "version_major": 2,
       "version_minor": 0
      },
      "text/plain": [
       "embedding nodes:   0%|          | 0/240 [00:00<?, ?it/s]"
      ]
     },
     "metadata": {},
     "output_type": "display_data"
    },
    {
     "name": "stderr",
     "output_type": "stream",
     "text": [
      "Filename and doc_id are the same for all nodes.\n"
     ]
    },
    {
     "data": {
      "application/vnd.jupyter.widget-view+json": {
       "model_id": "127701ba2b3649ce91b9731e9621d56a",
       "version_major": 2,
       "version_minor": 0
      },
      "text/plain": [
       "Generating:   0%|          | 0/5 [00:00<?, ?it/s]"
      ]
     },
     "metadata": {},
     "output_type": "display_data"
    }
   ],
   "source": [
    "# generate testset\n",
    "testset = generator.generate_with_llamaindex_docs(\n",
    "    documents,\n",
    "    test_size=5,\n",
    "    distributions={simple: 0.5, reasoning: 0.25, multi_context: 0.25},\n",
    ")"
   ]
  },
  {
   "cell_type": "code",
   "execution_count": 21,
   "metadata": {},
   "outputs": [
    {
     "data": {
      "text/html": [
       "<div>\n",
       "<style scoped>\n",
       "    .dataframe tbody tr th:only-of-type {\n",
       "        vertical-align: middle;\n",
       "    }\n",
       "\n",
       "    .dataframe tbody tr th {\n",
       "        vertical-align: top;\n",
       "    }\n",
       "\n",
       "    .dataframe thead th {\n",
       "        text-align: right;\n",
       "    }\n",
       "</style>\n",
       "<table border=\"1\" class=\"dataframe\">\n",
       "  <thead>\n",
       "    <tr style=\"text-align: right;\">\n",
       "      <th></th>\n",
       "      <th>question</th>\n",
       "      <th>contexts</th>\n",
       "      <th>ground_truth</th>\n",
       "      <th>evolution_type</th>\n",
       "      <th>metadata</th>\n",
       "      <th>episode_done</th>\n",
       "    </tr>\n",
       "  </thead>\n",
       "  <tbody>\n",
       "    <tr>\n",
       "      <th>0</th>\n",
       "      <td>What is the significance of Broadway theaters ...</td>\n",
       "      <td>[History/The_Great_White_W ay/)\\non May 4, 201...</td>\n",
       "      <td>The Great White Way is a phrase known worldwid...</td>\n",
       "      <td>simple</td>\n",
       "      <td>[{'page_label': '64', 'file_name': 'NY.pdf', '...</td>\n",
       "      <td>True</td>\n",
       "    </tr>\n",
       "    <tr>\n",
       "      <th>1</th>\n",
       "      <td>What city has overtaken Hong Kong as the most ...</td>\n",
       "      <td>[30. Goh Chiew Tong (June 7, 2023). \"New York ...</td>\n",
       "      <td>New York has overtaken Hong Kong as the most e...</td>\n",
       "      <td>simple</td>\n",
       "      <td>[{'page_label': '37', 'file_name': 'NY.pdf', '...</td>\n",
       "      <td>True</td>\n",
       "    </tr>\n",
       "    <tr>\n",
       "      <th>2</th>\n",
       "      <td>How many homeless individuals were in NYC's ma...</td>\n",
       "      <td>[ outdoors (72%), whereas the unsheltered home...</td>\n",
       "      <td>In November 2023, there were 92,824 homeless p...</td>\n",
       "      <td>reasoning</td>\n",
       "      <td>[{'page_label': '55', 'file_name': 'NY.pdf', '...</td>\n",
       "      <td>True</td>\n",
       "    </tr>\n",
       "    <tr>\n",
       "      <th>3</th>\n",
       "      <td>What were the population figures for NYC in 20...</td>\n",
       "      <td>[135. Population - Decennial Census - Census 2...</td>\n",
       "      <td>The population of New York City was 8,008,278 ...</td>\n",
       "      <td>multi_context</td>\n",
       "      <td>[{'page_label': '43', 'file_name': 'NY.pdf', '...</td>\n",
       "      <td>True</td>\n",
       "    </tr>\n",
       "    <tr>\n",
       "      <th>4</th>\n",
       "      <td>What demographic changes happened in NYC due t...</td>\n",
       "      <td>[The Battle of Long Island, one of the\\nlarges...</td>\n",
       "      <td>The British occupation of New York during the ...</td>\n",
       "      <td>multi_context</td>\n",
       "      <td>[{'page_label': '5', 'file_name': 'NY.pdf', 'f...</td>\n",
       "      <td>True</td>\n",
       "    </tr>\n",
       "  </tbody>\n",
       "</table>\n",
       "</div>"
      ],
      "text/plain": [
       "                                            question  \\\n",
       "0  What is the significance of Broadway theaters ...   \n",
       "1  What city has overtaken Hong Kong as the most ...   \n",
       "2  How many homeless individuals were in NYC's ma...   \n",
       "3  What were the population figures for NYC in 20...   \n",
       "4  What demographic changes happened in NYC due t...   \n",
       "\n",
       "                                            contexts  \\\n",
       "0  [History/The_Great_White_W ay/)\\non May 4, 201...   \n",
       "1  [30. Goh Chiew Tong (June 7, 2023). \"New York ...   \n",
       "2  [ outdoors (72%), whereas the unsheltered home...   \n",
       "3  [135. Population - Decennial Census - Census 2...   \n",
       "4  [The Battle of Long Island, one of the\\nlarges...   \n",
       "\n",
       "                                        ground_truth evolution_type  \\\n",
       "0  The Great White Way is a phrase known worldwid...         simple   \n",
       "1  New York has overtaken Hong Kong as the most e...         simple   \n",
       "2  In November 2023, there were 92,824 homeless p...      reasoning   \n",
       "3  The population of New York City was 8,008,278 ...  multi_context   \n",
       "4  The British occupation of New York during the ...  multi_context   \n",
       "\n",
       "                                            metadata  episode_done  \n",
       "0  [{'page_label': '64', 'file_name': 'NY.pdf', '...          True  \n",
       "1  [{'page_label': '37', 'file_name': 'NY.pdf', '...          True  \n",
       "2  [{'page_label': '55', 'file_name': 'NY.pdf', '...          True  \n",
       "3  [{'page_label': '43', 'file_name': 'NY.pdf', '...          True  \n",
       "4  [{'page_label': '5', 'file_name': 'NY.pdf', 'f...          True  "
      ]
     },
     "execution_count": 21,
     "metadata": {},
     "output_type": "execute_result"
    }
   ],
   "source": [
    "df = testset.to_pandas()\n",
    "df.head()"
   ]
  },
  {
   "cell_type": "markdown",
   "metadata": {},
   "source": [
    "### Building the query engine"
   ]
  },
  {
   "cell_type": "code",
   "execution_count": 22,
   "metadata": {},
   "outputs": [],
   "source": [
    "from llama_index.core import VectorStoreIndex, SimpleDirectoryReader\n",
    "from llama_index.core.settings import Settings\n",
    "\n",
    "vector_index = VectorStoreIndex.from_documents(documents)\n",
    "\n",
    "query_engine = vector_index.as_query_engine()"
   ]
  },
  {
   "cell_type": "markdown",
   "metadata": {},
   "source": [
    "simple questions"
   ]
  },
  {
   "cell_type": "code",
   "execution_count": 23,
   "metadata": {},
   "outputs": [
    {
     "data": {
      "text/plain": [
       "'What is the significance of Broadway theaters in Times Square and New York City?'"
      ]
     },
     "execution_count": 23,
     "metadata": {},
     "output_type": "execute_result"
    }
   ],
   "source": [
    "# convert it to pandas dataset\n",
    "df = testset.to_pandas()\n",
    "df[\"question\"][0]"
   ]
  },
  {
   "cell_type": "code",
   "execution_count": 24,
   "metadata": {},
   "outputs": [
    {
     "name": "stdout",
     "output_type": "stream",
     "text": [
      "Broadway theaters in Times Square and New York City are significant as they form a major entertainment hub that attracts millions of visitors annually. They contribute significantly to the city's economy through ticket sales and tourism revenue. Additionally, Broadway theaters are a key part of the world-renowned entertainment industry in New York City, making it a central location for live performances and cultural experiences.\n"
     ]
    }
   ],
   "source": [
    "response_vector = query_engine.query(df[\"question\"][0])\n",
    "\n",
    "print(response_vector)"
   ]
  },
  {
   "cell_type": "markdown",
   "metadata": {},
   "source": [
    "### Evaluate the query engine\n",
    "\n",
    "In order to run an evaluation with Ragas and LlamaIndex:\n",
    "\n",
    "- LlamaIndex QueryEngine: what we will be evaluating\n",
    "\n",
    "- Metrics: Ragas defines a set of metrics that can measure different aspects of the QueryEngine. The available metrics and their meaning can be found here\n",
    "\n",
    "- Questions: A list of questions that ragas will test the QueryEngine against."
   ]
  },
  {
   "cell_type": "code",
   "execution_count": 25,
   "metadata": {},
   "outputs": [],
   "source": [
    "from ragas.metrics import (\n",
    "    faithfulness,\n",
    "    answer_relevancy,\n",
    "    context_precision,\n",
    "    context_recall,\n",
    ")\n",
    "from ragas.metrics.critique import harmfulness\n",
    "\n",
    "metrics = [\n",
    "    faithfulness,\n",
    "    answer_relevancy,\n",
    "    context_precision,\n",
    "    context_recall,\n",
    "    harmfulness,\n",
    "]"
   ]
  },
  {
   "cell_type": "code",
   "execution_count": 26,
   "metadata": {},
   "outputs": [],
   "source": [
    "from llama_index.llms.openai import OpenAI\n",
    "from llama_index.embeddings.openai import OpenAIEmbedding\n",
    "\n",
    "# using GPT 3.5, use GPT 4 / 4-turbo for better accuracy\n",
    "evaluator_llm = OpenAI(model=\"gpt-3.5-turbo\")"
   ]
  },
  {
   "cell_type": "code",
   "execution_count": 29,
   "metadata": {},
   "outputs": [
    {
     "data": {
      "text/plain": [
       "[\"The Great White Way is a phrase known worldwide to describe Broadway's profusion of theaters in Times Square. By 1910, the blocks of Broadway just above 42nd Street were at the very heart of the Great White Way. The glow of Times Square symbolized the center of New York, if not of the world.\",\n",
       " 'New York has overtaken Hong Kong as the most expensive city in the world for expats, according to a new survey.',\n",
       " \"In November 2023, there were 92,824 homeless people in New York City's main municipal shelter system, including 33,365 homeless children.\",\n",
       " 'The population of New York City was 8,008,278 in 2000 and 8,804,190 in 2020. The percentage increase from 2000 to 2020 was approximately 10%. The answer to the given question is present in the context.',\n",
       " 'The British occupation of New York during the Revolutionary War led to an influx of Loyalist refugees and escaped slaves who joined the British forces for the promise of freedom. As many as 10,000 escaped slaves crowded into the city during the British occupation, creating the largest such community on the continent. When the British forces evacuated New York at the end of the war in 1783, they transported thousands of freedmen for resettlement in Nova Scotia, England, and the Caribbean. The demographic changes in NYC included the growth of a significant free-Black population, with the New York Manumission Society working for abolition and establishing the African Free School to educate Black children.']"
      ]
     },
     "execution_count": 29,
     "metadata": {},
     "output_type": "execute_result"
    }
   ],
   "source": [
    "# convert to HF dataset\n",
    "ds = testset.to_dataset()\n",
    "\n",
    "ds_dict = ds.to_dict()\n",
    "ds_dict[\"question\"]\n",
    "ds_dict[\"ground_truth\"]"
   ]
  },
  {
   "cell_type": "code",
   "execution_count": 32,
   "metadata": {},
   "outputs": [
    {
     "data": {
      "text/plain": [
       "Dataset({\n",
       "    features: ['question', 'contexts', 'ground_truth', 'evolution_type', 'metadata', 'episode_done'],\n",
       "    num_rows: 5\n",
       "})"
      ]
     },
     "execution_count": 32,
     "metadata": {},
     "output_type": "execute_result"
    }
   ],
   "source": [
    "ds"
   ]
  },
  {
   "cell_type": "markdown",
   "metadata": {},
   "source": [
    "evaluation"
   ]
  },
  {
   "cell_type": "code",
   "execution_count": 33,
   "metadata": {},
   "outputs": [
    {
     "data": {
      "application/vnd.jupyter.widget-view+json": {
       "model_id": "d6fe2a734d1343fe8369eb468fcde3a0",
       "version_major": 2,
       "version_minor": 0
      },
      "text/plain": [
       "Running Query Engine:   0%|          | 0/5 [00:00<?, ?it/s]"
      ]
     },
     "metadata": {},
     "output_type": "display_data"
    },
    {
     "data": {
      "application/vnd.jupyter.widget-view+json": {
       "model_id": "2245715341f84efd8ac80bc7b3f59fda",
       "version_major": 2,
       "version_minor": 0
      },
      "text/plain": [
       "Evaluating:   0%|          | 0/25 [00:00<?, ?it/s]"
      ]
     },
     "metadata": {},
     "output_type": "display_data"
    },
    {
     "name": "stderr",
     "output_type": "stream",
     "text": [
      "n values greater than 1 not support for LlamaIndex LLMs\n",
      "n values greater than 1 not support for LlamaIndex LLMs\n",
      "n values greater than 1 not support for LlamaIndex LLMs\n",
      "No statements were generated from the answer.\n",
      "n values greater than 1 not support for LlamaIndex LLMs\n",
      "n values greater than 1 not support for LlamaIndex LLMs\n"
     ]
    }
   ],
   "source": [
    "from ragas.integrations.llama_index import evaluate\n",
    "\n",
    "result = evaluate(\n",
    "    query_engine=query_engine,\n",
    "    metrics=metrics,\n",
    "    dataset=ds,\n",
    "    llm=evaluator_llm,\n",
    "    embeddings=OpenAIEmbedding(),\n",
    ")"
   ]
  },
  {
   "cell_type": "code",
   "execution_count": 35,
   "metadata": {},
   "outputs": [
    {
     "name": "stdout",
     "output_type": "stream",
     "text": [
      "{'faithfulness': 0.9375, 'answer_relevancy': 0.9519, 'context_precision': 1.0000, 'context_recall': 0.7333, 'harmfulness': 0.0000}\n"
     ]
    }
   ],
   "source": [
    "print(result)"
   ]
  },
  {
   "cell_type": "code",
   "execution_count": 36,
   "metadata": {},
   "outputs": [
    {
     "data": {
      "text/html": [
       "<div>\n",
       "<style scoped>\n",
       "    .dataframe tbody tr th:only-of-type {\n",
       "        vertical-align: middle;\n",
       "    }\n",
       "\n",
       "    .dataframe tbody tr th {\n",
       "        vertical-align: top;\n",
       "    }\n",
       "\n",
       "    .dataframe thead th {\n",
       "        text-align: right;\n",
       "    }\n",
       "</style>\n",
       "<table border=\"1\" class=\"dataframe\">\n",
       "  <thead>\n",
       "    <tr style=\"text-align: right;\">\n",
       "      <th></th>\n",
       "      <th>question</th>\n",
       "      <th>contexts</th>\n",
       "      <th>answer</th>\n",
       "      <th>ground_truth</th>\n",
       "      <th>faithfulness</th>\n",
       "      <th>answer_relevancy</th>\n",
       "      <th>context_precision</th>\n",
       "      <th>context_recall</th>\n",
       "      <th>harmfulness</th>\n",
       "    </tr>\n",
       "  </thead>\n",
       "  <tbody>\n",
       "    <tr>\n",
       "      <th>0</th>\n",
       "      <td>What is the significance of Broadway theaters ...</td>\n",
       "      <td>[\"2 plays + 9 nominations = good odds for loca...</td>\n",
       "      <td>Broadway theaters in Times Square and New York...</td>\n",
       "      <td>The Great White Way is a phrase known worldwid...</td>\n",
       "      <td>1.00</td>\n",
       "      <td>1.000000</td>\n",
       "      <td>1.0</td>\n",
       "      <td>1.000000</td>\n",
       "      <td>0</td>\n",
       "    </tr>\n",
       "    <tr>\n",
       "      <th>1</th>\n",
       "      <td>What city has overtaken Hong Kong as the most ...</td>\n",
       "      <td>[30. Goh Chiew Tong (June 7, 2023). \"New York ...</td>\n",
       "      <td>New York</td>\n",
       "      <td>New York has overtaken Hong Kong as the most e...</td>\n",
       "      <td>NaN</td>\n",
       "      <td>0.982605</td>\n",
       "      <td>1.0</td>\n",
       "      <td>1.000000</td>\n",
       "      <td>0</td>\n",
       "    </tr>\n",
       "    <tr>\n",
       "      <th>2</th>\n",
       "      <td>How many homeless individuals were in NYC's ma...</td>\n",
       "      <td>[(https://ww\\nw.cityandstateny .com/policy/202...</td>\n",
       "      <td>In November 2023, there were 92,824 homeless p...</td>\n",
       "      <td>In November 2023, there were 92,824 homeless p...</td>\n",
       "      <td>1.00</td>\n",
       "      <td>0.953754</td>\n",
       "      <td>1.0</td>\n",
       "      <td>0.500000</td>\n",
       "      <td>0</td>\n",
       "    </tr>\n",
       "    <tr>\n",
       "      <th>3</th>\n",
       "      <td>What were the population figures for NYC in 20...</td>\n",
       "      <td>[239. \"Table PL-P1 NYC: Total Population New Y...</td>\n",
       "      <td>The population of New York City in 2000 was 8,...</td>\n",
       "      <td>The population of New York City was 8,008,278 ...</td>\n",
       "      <td>1.00</td>\n",
       "      <td>0.949369</td>\n",
       "      <td>1.0</td>\n",
       "      <td>0.666667</td>\n",
       "      <td>0</td>\n",
       "    </tr>\n",
       "    <tr>\n",
       "      <th>4</th>\n",
       "      <td>What demographic changes happened in NYC due t...</td>\n",
       "      <td>[The combined British-Hessian assault force of...</td>\n",
       "      <td>The British occupation during the Revolutionar...</td>\n",
       "      <td>The British occupation of New York during the ...</td>\n",
       "      <td>0.75</td>\n",
       "      <td>0.873914</td>\n",
       "      <td>1.0</td>\n",
       "      <td>0.500000</td>\n",
       "      <td>0</td>\n",
       "    </tr>\n",
       "  </tbody>\n",
       "</table>\n",
       "</div>"
      ],
      "text/plain": [
       "                                            question  \\\n",
       "0  What is the significance of Broadway theaters ...   \n",
       "1  What city has overtaken Hong Kong as the most ...   \n",
       "2  How many homeless individuals were in NYC's ma...   \n",
       "3  What were the population figures for NYC in 20...   \n",
       "4  What demographic changes happened in NYC due t...   \n",
       "\n",
       "                                            contexts  \\\n",
       "0  [\"2 plays + 9 nominations = good odds for loca...   \n",
       "1  [30. Goh Chiew Tong (June 7, 2023). \"New York ...   \n",
       "2  [(https://ww\\nw.cityandstateny .com/policy/202...   \n",
       "3  [239. \"Table PL-P1 NYC: Total Population New Y...   \n",
       "4  [The combined British-Hessian assault force of...   \n",
       "\n",
       "                                              answer  \\\n",
       "0  Broadway theaters in Times Square and New York...   \n",
       "1                                           New York   \n",
       "2  In November 2023, there were 92,824 homeless p...   \n",
       "3  The population of New York City in 2000 was 8,...   \n",
       "4  The British occupation during the Revolutionar...   \n",
       "\n",
       "                                        ground_truth  faithfulness  \\\n",
       "0  The Great White Way is a phrase known worldwid...          1.00   \n",
       "1  New York has overtaken Hong Kong as the most e...           NaN   \n",
       "2  In November 2023, there were 92,824 homeless p...          1.00   \n",
       "3  The population of New York City was 8,008,278 ...          1.00   \n",
       "4  The British occupation of New York during the ...          0.75   \n",
       "\n",
       "   answer_relevancy  context_precision  context_recall  harmfulness  \n",
       "0          1.000000                1.0        1.000000            0  \n",
       "1          0.982605                1.0        1.000000            0  \n",
       "2          0.953754                1.0        0.500000            0  \n",
       "3          0.949369                1.0        0.666667            0  \n",
       "4          0.873914                1.0        0.500000            0  "
      ]
     },
     "execution_count": 36,
     "metadata": {},
     "output_type": "execute_result"
    }
   ],
   "source": [
    "result.to_pandas()"
   ]
  }
 ],
 "metadata": {
  "kernelspec": {
   "display_name": "Python 3",
   "language": "python",
   "name": "python3"
  },
  "language_info": {
   "codemirror_mode": {
    "name": "ipython",
    "version": 3
   },
   "file_extension": ".py",
   "mimetype": "text/x-python",
   "name": "python",
   "nbconvert_exporter": "python",
   "pygments_lexer": "ipython3",
   "version": "3.11.10"
  }
 },
 "nbformat": 4,
 "nbformat_minor": 2
}
