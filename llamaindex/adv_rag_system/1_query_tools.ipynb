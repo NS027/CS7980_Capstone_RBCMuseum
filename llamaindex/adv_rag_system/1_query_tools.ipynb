{
 "cells": [
  {
   "cell_type": "markdown",
   "metadata": {},
   "source": [
    "# This is a chat bot model\n",
    "<hr>"
   ]
  },
  {
   "cell_type": "code",
   "execution_count": 2,
   "metadata": {},
   "outputs": [
    {
     "data": {
      "text/plain": [
       "True"
      ]
     },
     "execution_count": 2,
     "metadata": {},
     "output_type": "execute_result"
    }
   ],
   "source": [
    "import os\n",
    "\n",
    "from dotenv import load_dotenv\n",
    "load_dotenv()"
   ]
  },
  {
   "cell_type": "markdown",
   "metadata": {},
   "source": [
    "to make the note book work synchoronized"
   ]
  },
  {
   "cell_type": "code",
   "execution_count": 3,
   "metadata": {},
   "outputs": [],
   "source": [
    "import nest_asyncio\n",
    "nest_asyncio.apply()"
   ]
  },
  {
   "cell_type": "markdown",
   "metadata": {},
   "source": [
    "Get the OpenAI Key"
   ]
  },
  {
   "cell_type": "code",
   "execution_count": 4,
   "metadata": {},
   "outputs": [],
   "source": [
    "os.environ['OPENAI_API_KEY'] = os.getenv('OPENAI_API_KEY')"
   ]
  },
  {
   "cell_type": "markdown",
   "metadata": {},
   "source": [
    "Get the data"
   ]
  },
  {
   "cell_type": "code",
   "execution_count": 7,
   "metadata": {},
   "outputs": [],
   "source": [
    "from llama_index.core import SimpleDirectoryReader\n",
    "documents = SimpleDirectoryReader('../data').load_data()"
   ]
  },
  {
   "cell_type": "markdown",
   "metadata": {},
   "source": [
    "Chunk and split "
   ]
  },
  {
   "cell_type": "code",
   "execution_count": 8,
   "metadata": {},
   "outputs": [],
   "source": [
    "from llama_index.core.node_parser import SentenceSplitter\n",
    "\n",
    "splitter = SentenceSplitter(chunk_size=1024)\n",
    "nodes = splitter.get_nodes_from_documents(documents)"
   ]
  },
  {
   "cell_type": "code",
   "execution_count": 9,
   "metadata": {},
   "outputs": [
    {
     "data": {
      "text/plain": [
       "[TextNode(id_='1782dacb-11d5-44e9-9ee6-7f406e350ae1', embedding=None, metadata={'page_label': '1', 'file_name': 'Haida bracelet.pdf', 'file_path': '/Users/chris/Desktop/7980/CS7980_Capstone_RBCMuseum/llamaindex/adv_rag_system/../data/Haida bracelet.pdf', 'file_type': 'application/pdf', 'file_size': 227621, 'creation_date': '2024-09-29', 'last_modified_date': '2024-09-29'}, excluded_embed_metadata_keys=['file_name', 'file_type', 'file_size', 'creation_date', 'last_modified_date', 'last_accessed_date'], excluded_llm_metadata_keys=['file_name', 'file_type', 'file_size', 'creation_date', 'last_modified_date', 'last_accessed_date'], relationships={<NodeRelationship.SOURCE: '1'>: RelatedNodeInfo(node_id='689e8bd5-a71a-4405-aebc-dec7f30703da', node_type=<ObjectType.DOCUMENT: '4'>, metadata={'page_label': '1', 'file_name': 'Haida bracelet.pdf', 'file_path': '/Users/chris/Desktop/7980/CS7980_Capstone_RBCMuseum/llamaindex/adv_rag_system/../data/Haida bracelet.pdf', 'file_type': 'application/pdf', 'file_size': 227621, 'creation_date': '2024-09-29', 'last_modified_date': '2024-09-29'}, hash='4ae3ff8dd39a7cd64b5b0f4d374188840d8d42b619d4e0ca149a2126e82ca4c4')}, text=\"Visit\\nPlan Your Visit (http://royalbcmuseum.bc.ca/visit)\\nAbout (http://royalbcmuseum.bc.ca/about)\\nSupport Us (http://royalbcmuseum.bc.ca/support)\\nContact Us (http://royalbcmuseum.bc.ca/contact)\\nTickets (http://royalbcmuseum.bc.ca/tickets)\\nWhat's On\\nExhibitions (http://royalbcmuseum.bc.ca/exhibitions)\\nImax® (http://royalbcmuseum.bc.ca/imax)\\nCalendar (http://royalbcmuseum.bc.ca/calendar)\\nMembers Events (http://royalbcmuseum.bc.ca/members-events)\\nRBCM Channel (http://royalbcmuseum.bc.ca/rbcm-channel)\\nNatural History\\nCollections (http://royalbcmuseum.bc.ca/nh-collections)\\nCurators (http://royalbcmuseum.bc.ca/nh-curators)\\nSearch Collection (http://search-collections.royalbcmuseum.bc.ca/KeywordNaturalHistory)\\nCollections Care (http://royalbcmuseum.bc.ca/conservation)\\nResearch (http://royalbcmuseum.bc.ca/research)\\nHuman History\\nCollections (http://royalbcmuseum.bc.ca/hh-collections)\\nCurators (http://royalbcmuseum.bc.ca/hh-curators)\\nSearch Collection (http://search-collections.royalbcmuseum.bc.ca/)\\nCollections Care (http://royalbcmuseum.bc.ca/conservation)\\nResearch (http://royalbcmuseum.bc.ca/research)\\nBC Archives\\nAbout BC Archives (http://royalbcmuseum.bc.ca/bcarchives)\\nVisitor Information (http://royalbcmuseum.bc.ca/archives-visitors)\\nCollections (http://royalbcmuseum.bc.ca/archives-collections)\\nArchivists (http://royalbcmuseum.bc.ca/archivists)\\nSearch Collection (http://royalbcmuseum.bc.ca/search-the-bc-archives-collections)\\nLearning\\nAbout (http://royalbcmuseum.bc.ca/learning)\\nAdult Learning (http://royalbcmuseum.bc.ca/adult)\\nKids and Families (http://royalbcmuseum.bc.ca/kids)\\nSchools (http://royalbcmuseum.bc.ca/schools)\\nLearning Team (http://royalbcmuseum.bc.ca/learning-team)\\nHaida bracelet\\nDATE: 1980\\nRECORD: RBCM 18826\\nMATERIALS: silver\\nARTIST: Robert Davidson\\nguud san glans, Robert Davidson (born 1946) is a great grandson of the Haida artist, Charles Edenshaw, and carries on Edenshaw’s legacy of innovation combined with traditional craftsmanship. This beautifully designed and executed silver bracelet,\\ntitled Happy Negative Spaces, was made in 1980 and is one of his most important early abstract works. Davidson went on to further explore the abstract possibilities of Haida form in printmaking, painting and sculpture. The Seattle Art Museum’s 2013\\nexhibition, Robert Davidson: Abstract Impulse, brought together much of this important innovative work. The exhibition, which included this bracelet, travelled to the National Museum of the American Indian in New York City.\\nThis image may require permission from the copyright holder before a print can be supplied\\nThis object selected by Dr Martha Black.\\nPrevious Object (http://www.royalbcmuseum.bc.ca/100/object/haida-box/) Next Object (http://www.royalbcmuseum.bc.ca/100/object/haida-headdress-frontlet/)100 OBJECTS OF INTEREST\\nBACK TO LIST (HTTP://WWW.ROYALBCMUSEUM.BC.CA/100)\\n9/27/24, 11:32 PM Haida bracelet | 100 Objects of Interest\\nhttps://www.royalbcmuseum.bc.ca/100/object/haida-bracelet/ 1/2\", mimetype='text/plain', start_char_idx=0, end_char_idx=2987, text_template='{metadata_str}\\n\\n{content}', metadata_template='{key}: {value}', metadata_seperator='\\n'),\n",
       " TextNode(id_='03d40d5d-0980-4737-bc8c-3da6e3bc889e', embedding=None, metadata={'page_label': '2', 'file_name': 'Haida bracelet.pdf', 'file_path': '/Users/chris/Desktop/7980/CS7980_Capstone_RBCMuseum/llamaindex/adv_rag_system/../data/Haida bracelet.pdf', 'file_type': 'application/pdf', 'file_size': 227621, 'creation_date': '2024-09-29', 'last_modified_date': '2024-09-29'}, excluded_embed_metadata_keys=['file_name', 'file_type', 'file_size', 'creation_date', 'last_modified_date', 'last_accessed_date'], excluded_llm_metadata_keys=['file_name', 'file_type', 'file_size', 'creation_date', 'last_modified_date', 'last_accessed_date'], relationships={<NodeRelationship.SOURCE: '1'>: RelatedNodeInfo(node_id='453ced1f-e325-4361-9c35-d0877759ec21', node_type=<ObjectType.DOCUMENT: '4'>, metadata={'page_label': '2', 'file_name': 'Haida bracelet.pdf', 'file_path': '/Users/chris/Desktop/7980/CS7980_Capstone_RBCMuseum/llamaindex/adv_rag_system/../data/Haida bracelet.pdf', 'file_type': 'application/pdf', 'file_size': 227621, 'creation_date': '2024-09-29', 'last_modified_date': '2024-09-29'}, hash='c3b5cdcd10941f12a7c1031d3a5d09391f3723784cc6c825babd018fa67d4827')}, text='(/)PLAN YOUR VISIT\\nBuy Tickets (http://royalbcmuseum.bc.‐\\nca/visit/tickets-admission)\\nHours\\n(http://royalbcmuseum.bc.ca/visit/plan-\\nyour-visit/hours) & Location (http://roy‐\\nalbcmuseum.bc.ca/visit/plan-your-\\nvisit/location)\\nEvents\\n(http://royalbcmuseum.bc.ca/visit/cal‐\\nendar)GET IN TOUCH\\n675 Belleville Street,\\nVictoria, BC V8W 9W2\\n1-250-356-7226 (tel:12503567226)\\n1-888-447-7977 (tel:18884477977)\\nreception@royalbcmuseum.bc.ca\\n(mailto:reception@royalbcmuse‐\\num.bc.ca)QUICK LINKS\\nSubscribe to Newsletter (https://www.‐\\nmailoutinteractive.com/Industry/Sub‐\\nscribe.aspx?m=30765)\\nHours & Location (/visit/plan-your-\\nvisit/hours)\\nEmployment (/about/people/employment)\\nAccessibility (/visit/plan-your-\\nvisit/accessibility)\\nPrivacy (/privacy)\\nTerms & Conditions (/terms-conditions)\\nMember Login (https://sales.royalbcmu‐\\nseum.bc.ca/SignIn.aspx?\\nReturnUrl=https%3a%2f%2fsales.royalbc\\nmuseum.bc.ca%2fDefault.aspx%3ftagid\\n%3d6)\\nTRANSLATE\\nSelect Language\\n \\n▼ \\n Select Language\\n \\n▼9/27/24, 11:32 PM Haida bracelet | 100 Objects of Interest\\nhttps://www.royalbcmuseum.bc.ca/100/object/haida-bracelet/ 2/2', mimetype='text/plain', start_char_idx=1, end_char_idx=1093, text_template='{metadata_str}\\n\\n{content}', metadata_template='{key}: {value}', metadata_seperator='\\n')]"
      ]
     },
     "execution_count": 9,
     "metadata": {},
     "output_type": "execute_result"
    }
   ],
   "source": [
    "nodes"
   ]
  },
  {
   "cell_type": "markdown",
   "metadata": {},
   "source": [
    "Define the llm and the embedding method"
   ]
  },
  {
   "cell_type": "code",
   "execution_count": 10,
   "metadata": {},
   "outputs": [],
   "source": [
    "from llama_index.core import Settings\n",
    "from llama_index.llms.openai import OpenAI\n",
    "from llama_index.embeddings.openai import OpenAIEmbedding\n",
    "\n",
    "Settings.llm = OpenAI(model='gpt-3.5-turbo')\n",
    "Settings.embed_model = OpenAIEmbedding(model='text-embedding-3-small')"
   ]
  },
  {
   "cell_type": "markdown",
   "metadata": {},
   "source": [
    "There are vector index and summary index"
   ]
  },
  {
   "cell_type": "code",
   "execution_count": 11,
   "metadata": {},
   "outputs": [],
   "source": [
    "from llama_index.core import SummaryIndex, VectorStoreIndex\n",
    "\n",
    "summary_index = SummaryIndex(nodes)\n",
    "vector_index = VectorStoreIndex(nodes)"
   ]
  },
  {
   "cell_type": "markdown",
   "metadata": {},
   "source": [
    "two different query engine"
   ]
  },
  {
   "cell_type": "code",
   "execution_count": 12,
   "metadata": {},
   "outputs": [],
   "source": [
    "summary_query_engine = summary_index.as_query_engine(\n",
    "    response_mode=\"tree_summarize\",\n",
    "    use_async=True\n",
    ")\n",
    "vector_query_engine = vector_index.as_query_engine()"
   ]
  },
  {
   "cell_type": "markdown",
   "metadata": {},
   "source": [
    "define the tool"
   ]
  },
  {
   "cell_type": "code",
   "execution_count": 13,
   "metadata": {},
   "outputs": [],
   "source": [
    "from llama_index.core.tools import QueryEngineTool\n",
    "summary_tool = QueryEngineTool.from_defaults(\n",
    "    query_engine=summary_query_engine,\n",
    "    description=(\n",
    "        \"Useful for summarization questions related to the documents\"\n",
    "    ),\n",
    ")\n",
    "\n",
    "vector_tool = QueryEngineTool.from_defaults(\n",
    "    query_engine=vector_query_engine,\n",
    "    description=(\n",
    "        \"Useful for questions related to the content of the documents\"\n",
    "    ),\n",
    ")"
   ]
  },
  {
   "cell_type": "markdown",
   "metadata": {},
   "source": [
    "Selectors"
   ]
  },
  {
   "cell_type": "code",
   "execution_count": 14,
   "metadata": {},
   "outputs": [],
   "source": [
    "from llama_index.core.query_engine.router_query_engine import RouterQueryEngine\n",
    "from llama_index.core.selectors import LLMSingleSelector\n",
    "\n",
    "query_engine = RouterQueryEngine(\n",
    "    selector=LLMSingleSelector.from_defaults(),\n",
    "    query_engine_tools=[\n",
    "        summary_tool,\n",
    "        vector_tool,\n",
    "    ],\n",
    "    verbose=True,\n",
    ")"
   ]
  },
  {
   "cell_type": "markdown",
   "metadata": {},
   "source": [
    "Test model"
   ]
  },
  {
   "cell_type": "code",
   "execution_count": 15,
   "metadata": {},
   "outputs": [
    {
     "name": "stdout",
     "output_type": "stream",
     "text": [
      "\u001b[1;3;38;5;200mSelecting query engine 0: The question specifically asks for a summary of the documents, which is related to summarization questions..\n",
      "\u001b[0mThe documents provide information about a silver bracelet titled \"Happy Negative Spaces\" created by artist Robert Davidson in 1980. Davidson, a great grandson of Haida artist Charles Edenshaw, is known for combining innovation with traditional craftsmanship. The bracelet is considered one of his important early abstract works, showcasing his exploration of abstract possibilities in Haida form. The document also mentions an exhibition at the Seattle Art Museum in 2013 that featured Davidson's innovative work, including this bracelet, which later traveled to the National Museum of the American Indian in New York City.\n",
      "====================================================\n",
      "Final Response: The documents provide information about a silver\n",
      "bracelet titled \"Happy Negative Spaces\" created by artist Robert\n",
      "Davidson in 1980. Davidson, a great grandson of Haida artist Charles\n",
      "Edenshaw, is known for combining innovation with traditional\n",
      "craftsmanship. The bracelet is considered one of his important early\n",
      "abstract works, showcasing his exploration of abstract possibilities\n",
      "in Haida form. The document also mentions an exhibition at the Seattle\n",
      "Art Museum in 2013 that featured Davidson's innovative work, including\n",
      "this bracelet, which later traveled to the National Museum of the\n",
      "American Indian in New York City.\n"
     ]
    }
   ],
   "source": [
    "from llama_index.core.response.pprint_utils import pprint_response\n",
    "\n",
    "response = query_engine.query(\"What is the summary of the documents?\")\n",
    "\n",
    "print(response)\n",
    "print(\"====================================================\")\n",
    "pprint_response(response)"
   ]
  },
  {
   "cell_type": "markdown",
   "metadata": {},
   "source": [
    "Source node shows it go through the whole data source"
   ]
  },
  {
   "cell_type": "code",
   "execution_count": 22,
   "metadata": {},
   "outputs": [
    {
     "name": "stdout",
     "output_type": "stream",
     "text": [
      "2\n"
     ]
    }
   ],
   "source": [
    "print(len(response.source_nodes))"
   ]
  },
  {
   "cell_type": "code",
   "execution_count": 23,
   "metadata": {},
   "outputs": [
    {
     "name": "stdout",
     "output_type": "stream",
     "text": [
      "\u001b[1;3;38;5;200mSelecting query engine 1: The question is asking about the content of the documents, specifically what the bracelet is made of..\n",
      "\u001b[0mThe bracelet is made of silver.\n",
      "====================================================\n",
      "Final Response: The bracelet is made of silver.\n"
     ]
    }
   ],
   "source": [
    "response = query_engine.query(\"What is the bracelet made of?\")\n",
    "\n",
    "print(response)\n",
    "print(\"====================================================\")\n",
    "pprint_response(response)"
   ]
  },
  {
   "cell_type": "code",
   "execution_count": 24,
   "metadata": {},
   "outputs": [
    {
     "name": "stdout",
     "output_type": "stream",
     "text": [
      "2\n"
     ]
    }
   ],
   "source": [
    "print(len(response.source_nodes))"
   ]
  }
 ],
 "metadata": {
  "kernelspec": {
   "display_name": "Python 3",
   "language": "python",
   "name": "python3"
  },
  "language_info": {
   "codemirror_mode": {
    "name": "ipython",
    "version": 3
   },
   "file_extension": ".py",
   "mimetype": "text/x-python",
   "name": "python",
   "nbconvert_exporter": "python",
   "pygments_lexer": "ipython3",
   "version": "3.11.9"
  }
 },
 "nbformat": 4,
 "nbformat_minor": 2
}
