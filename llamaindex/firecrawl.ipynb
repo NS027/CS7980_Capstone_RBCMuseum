{
 "cells": [
  {
   "cell_type": "markdown",
   "metadata": {},
   "source": [
    "# For fire crawl\n",
    "<hr>\n",
    "\n",
    "- This model is built based on llamaindex and firecrawl"
   ]
  },
  {
   "cell_type": "code",
   "execution_count": 1,
   "metadata": {},
   "outputs": [
    {
     "data": {
      "text/plain": [
       "True"
      ]
     },
     "execution_count": 1,
     "metadata": {},
     "output_type": "execute_result"
    }
   ],
   "source": [
    "import os\n",
    "\n",
    "from dotenv import load_dotenv\n",
    "load_dotenv()"
   ]
  },
  {
   "cell_type": "code",
   "execution_count": 30,
   "metadata": {},
   "outputs": [],
   "source": [
    "os.environ['OPENAI_API_KEY']=os.getenv('OPENAI_API_KEY')\n",
    "if not os.getenv('OPENAI_API_KEY'):\n",
    "    raise ValueError(\"OPENAI_API_KEY not found in environment variables\")"
   ]
  },
  {
   "cell_type": "markdown",
   "metadata": {},
   "source": [
    "- set the fire crawl api key"
   ]
  },
  {
   "cell_type": "code",
   "execution_count": 2,
   "metadata": {},
   "outputs": [],
   "source": [
    "firecrawl_api_key = os.getenv(\"FIRECRAWL_API_KEY\")\n",
    "if not firecrawl_api_key:\n",
    "    raise ValueError(\"FIRECRAWL_API_KEY environment variable not set\")"
   ]
  },
  {
   "cell_type": "markdown",
   "metadata": {},
   "source": [
    "- create the vector database"
   ]
  },
  {
   "cell_type": "markdown",
   "metadata": {},
   "source": [
    "- scrape from the website"
   ]
  },
  {
   "cell_type": "code",
   "execution_count": null,
   "metadata": {},
   "outputs": [],
   "source": [
    "! pip install firecrawl-py==0.0.20 llama_index llama-index llama-index-readers-web"
   ]
  },
  {
   "cell_type": "markdown",
   "metadata": {},
   "source": [
    "- put the url here"
   ]
  },
  {
   "cell_type": "code",
   "execution_count": 172,
   "metadata": {},
   "outputs": [],
   "source": [
    "url_1 = \"https://aws.amazon.com/ec2/instance-types/\"\n",
    "url_2 = \"https://spot.io/resources/azure-pricing/the-complete-guide/\""
   ]
  },
  {
   "cell_type": "markdown",
   "metadata": {},
   "source": [
    "- URL 1"
   ]
  },
  {
   "cell_type": "code",
   "execution_count": 20,
   "metadata": {},
   "outputs": [],
   "source": [
    "url = url_1"
   ]
  },
  {
   "cell_type": "markdown",
   "metadata": {},
   "source": [
    "URL 2"
   ]
  },
  {
   "cell_type": "code",
   "execution_count": 173,
   "metadata": {},
   "outputs": [],
   "source": [
    "url = url_2"
   ]
  },
  {
   "cell_type": "code",
   "execution_count": 174,
   "metadata": {},
   "outputs": [],
   "source": [
    "from llama_index.readers.web import FireCrawlWebReader\n",
    "from llama_index.core import SummaryIndex\n",
    "\n",
    "# Initialize the FireCrawlWebReader with your API key and desired mode\n",
    "firecrawl_reader = FireCrawlWebReader(\n",
    "    api_key=firecrawl_api_key,  # Replace with your actual API key from https://www.firecrawl.dev/\n",
    "    mode=\"scrape\",  # Choose between \"crawl\" and \"scrape\"\n",
    "    # params={\"additional\": \"parameters\"}  # Optional additional parameters\n",
    ")\n",
    "\n",
    "# Load documents from a specified URL\n",
    "documents = firecrawl_reader.load_data(url)\n"
   ]
  },
  {
   "cell_type": "markdown",
   "metadata": {},
   "source": [
    "- If you want to directly use the documents embedding to index"
   ]
  },
  {
   "cell_type": "code",
   "execution_count": 198,
   "metadata": {},
   "outputs": [],
   "source": [
    "index = SummaryIndex.from_documents(documents)"
   ]
  },
  {
   "cell_type": "markdown",
   "metadata": {},
   "source": [
    "- The crawled data with metadata which is not able to store in chroma db"
   ]
  },
  {
   "cell_type": "code",
   "execution_count": 175,
   "metadata": {},
   "outputs": [
    {
     "data": {
      "text/plain": [
       "Document(id_='78ef1476-77e8-4529-b575-2d47b0e8c3f1', embedding=None, metadata={'title': 'Azure Pricing: The Complete Guide | Spot.io', 'description': 'How Much Does Azure Cost Per Month? Microsoft Azure is a cloud provider offering a diverse range of services, including storage, networking, compute, and', 'language': 'en', 'robots': 'index, follow, max-image-preview:large, max-snippet:-1, max-video-preview:-1', 'ogTitle': 'Azure Pricing: The Complete Guide', 'ogDescription': 'How Much Does Azure Cost Per Month? Microsoft Azure is a cloud provider offering a diverse range of services, including storage, networking, compute, and', 'ogUrl': 'https://spot.io/resources/azure-pricing/the-complete-guide/', 'ogImage': 'https://spot.io/wp-content/themes/nylon/assets/img/social-share-thumbnail.png', 'ogLocale': 'en_US', 'ogLocaleAlternate': [], 'ogSiteName': 'Spot.io', 'modifiedTime': '2024-09-24T17:22:56+00:00', 'sourceURL': 'https://spot.io/resources/azure-pricing/the-complete-guide/', 'pageStatusCode': 200}, excluded_embed_metadata_keys=[], excluded_llm_metadata_keys=[], relationships={}, text=\"- [Docs](https://docs.spot.io/)\\n- [API](https://docs.spot.io/api/)\\n- [Support](/support/)\\n- [Partners](https://spot.io/partners/)\\n- [Blog](/blog/)\\n- [Sign in](https://console.spotinst.com/auth/signIn)\\n\\n[![Spot.io](https://spot.io/wp-content/themes/nylon/assets/img/logos/spot-logo-color.svg)](https://spot.io/)\\n\\n- Solutions\\n  - [![](data:image/svg+xml,%3Csvg%20xmlns='http://www.w3.org/2000/svg'%20viewBox='0%200%2050%2050'%3E%3C/svg%3E)Microsoft AzureCloud optimization for Azure](https://spot.io/solutions/msft-azure/)\\n  - [![](data:image/svg+xml,%3Csvg%20xmlns='http://www.w3.org/2000/svg'%20viewBox='0%200%2050%2050'%3E%3C/svg%3E)Cloud Financial Management (FinOps)Reduce and govern cloud spend without sacrificing flexibility](https://spot.io/solutions/finops/)\\n  - [![](data:image/svg+xml,%3Csvg%20xmlns='http://www.w3.org/2000/svg'%20viewBox='0%200%2020%2020'%3E%3C/svg%3E)Autoscaling applicationsAutomate infrastructure for scale-out applications](https://spot.io/solutions/autoscaling-applications/)\\n  - [![](data:image/svg+xml,%3Csvg%20xmlns='http://www.w3.org/2000/svg'%20viewBox='0%200%2020%2020'%3E%3C/svg%3E)Google CloudCloud optimization for Google Cloud](https://spot.io/solutions/google-cloud-platform/)\\n  - [![](data:image/svg+xml,%3Csvg%20xmlns='http://www.w3.org/2000/svg'%20viewBox='0%200%2020%2020'%3E%3C/svg%3E)Container infrastructureDeliver hands-free infrastructure for cloud-native workloads](https://spot.io/solutions/containers-infrastructure/)\\n  - [![](data:image/svg+xml,%3Csvg%20xmlns='http://www.w3.org/2000/svg'%20viewBox='0%200%2020%2020'%3E%3C/svg%3E)Reserved commitment managementOptimize strategy and lifecycle for cloud commitment purchases](https://spot.io/solutions/reserved-commitment/)\\n  - [![](data:image/svg+xml,%3Csvg%20xmlns='http://www.w3.org/2000/svg'%20viewBox='0%200%2020%2020'%3E%3C/svg%3E)Amazon Web ServicesCloud optimization for AWS](https://spot.io/solutions/amazon-web-services/)\\n  - [![](data:image/svg+xml,%3Csvg%20xmlns='http://www.w3.org/2000/svg'%20viewBox='0%200%2020%2020'%3E%3C/svg%3E)Cloud services for MSPsDelivered differentiated cloud management services](https://spot.io/solutions/cloud-services-for-msps/)\\n- [Products](https://spot.io/products/)\\n  - [![](data:image/svg+xml,%3Csvg%20xmlns='http://www.w3.org/2000/svg'%20viewBox='0%200%2026%2026'%3E%3C/svg%3E)Spot OverviewCloudOps solutions for optimized scale and spend](https://spot.io/products/)\\n  - [![](data:image/svg+xml,%3Csvg%20xmlns='http://www.w3.org/2000/svg'%20viewBox='0%200%2026%2026'%3E%3C/svg%3E)About NetAppSpot is a part of NetApp’s portfolio of cloud services, data services and storage infrastructure](https://netapp.com/)\\n  - Automate Infrastructure\\n  - Virtual Machines\\n    - [![](data:image/svg+xml,%3Csvg%20xmlns='http://www.w3.org/2000/svg'%20viewBox='0%200%2026%2020'%3E%3C/svg%3E)Elastigroup](https://spot.io/product/elastigroup/)\\n  - Kubernetes\\n    - [![](data:image/svg+xml,%3Csvg%20xmlns='http://www.w3.org/2000/svg'%20viewBox='0%200%2027%2020'%3E%3C/svg%3E)Ocean](https://spot.io/product/ocean/)\\n    - [![](data:image/svg+xml,%3Csvg%20xmlns='http://www.w3.org/2000/svg'%20viewBox='0%200%2026%2020'%3E%3C/svg%3E)Ocean CD](https://spot.io/product/ocean-cd/)\\n  - Workflow\\n    - [![](data:image/svg+xml,%3Csvg%20xmlns='http://www.w3.org/2000/svg'%20viewBox='0%200%2024%2020'%3E%3C/svg%3E)Spot Connect](https://spot.io/product/spot-connect/)\\n  - Manage Cloud Costs\\n  - Commitment Management\\n    - [![](data:image/svg+xml,%3Csvg%20xmlns='http://www.w3.org/2000/svg'%20viewBox='0%200%2021%2020'%3E%3C/svg%3E)Eco](https://spot.io/product/eco/)\\n  - Cost Reporting\\n    - [![](data:image/svg+xml,%3Csvg%20xmlns='http://www.w3.org/2000/svg'%20viewBox='0%200%20102%2081'%3E%3C/svg%3E)Cost Intelligence](https://spot.io/product/cost-intelligence/)\\n  - Cloud Billing\\n    - [![](data:image/svg+xml,%3Csvg%20xmlns='http://www.w3.org/2000/svg'%20viewBox='0%200%20103%2081'%3E%3C/svg%3E)Billing Engine](https://spot.io/product/billing-engine/)\\n  - Cloud Management\\n    - [![](data:image/svg+xml,%3Csvg%20xmlns='http://www.w3.org/2000/svg'%20viewBox='0%200%20126%20100'%3E%3C/svg%3E)CloudCheckr](https://spot.io/product/cloudcheckr/)\\n  - Operate Apps at Scale\\n  - Managed Services for Open-Source Data Technology\\n    - [![](data:image/svg+xml,%3Csvg%20xmlns='http://www.w3.org/2000/svg'%20viewBox='0%200%2025%2020'%3E%3C/svg%3E)Ocean for Apache Spark](https://spot.io/product/ocean-apache-spark/)\\n  - Secure Infrastructure\\n    - Continuous Security\\n      - [![](data:image/svg+xml,%3Csvg%20xmlns='http://www.w3.org/2000/svg'%20viewBox='0%200%2026%2021'%3E%3C/svg%3E)Spot Security](https://spot.io/product/spot-security/)\\n- Customers\\n  - [![](data:image/svg+xml,%3Csvg%20xmlns='http://www.w3.org/2000/svg'%20viewBox='0%200%2025%2025'%3E%3C/svg%3E)Case StudiesOur customers share their Spot success stories](/case-studies/)\\n- [Resources](https://spot.io/resource-center/)\\n  - [Resources](/resource-center/)\\n    - [![](data:image/svg+xml,%3Csvg%20xmlns='http://www.w3.org/2000/svg'%20viewBox='0%200%2020%2020'%3E%3C/svg%3E)Resource CenterThe spot for more information about our products and solutions](/resource-center/)\\n    - [![](data:image/svg+xml,%3Csvg%20xmlns='http://www.w3.org/2000/svg'%20viewBox='0%200%2020%2020'%3E%3C/svg%3E)DocumentationA central hub for information on using our products](https://docs.spot.io/)\\n    - [![](data:image/svg+xml,%3Csvg%20xmlns='http://www.w3.org/2000/svg'%20viewBox='0%200%2020%2020'%3E%3C/svg%3E)Service StatusA summary of current system status](https://status.spotinst.com/)\\n    - [![](data:image/svg+xml,%3Csvg%20xmlns='http://www.w3.org/2000/svg'%20viewBox='0%200%2020%2020'%3E%3C/svg%3E)What Is CloudOps?Unlock the true value of the cloud](https://spot.io/cloudops/)\\n    - [![](data:image/svg+xml,%3Csvg%20xmlns='http://www.w3.org/2000/svg'%20viewBox='0%200%2051%2051'%3E%3C/svg%3E)How to Operationalize FinOpsBuild a highly efficient FinOps practice](https://spot.io/how-to-operationalize-finops/)\\n  - [Guides](/resource-center/?post_types=guides)\\n    - By hyperscaler\\n      - AWS\\n        - [AWS Autoscaling](/resources/aws-autoscaling/scaling-ec2-ecs-rds-and-more/)\\n        - [AWS Pricing](/resources/aws-pricing/5-models-pricing-for-10-popular-aws-services/)\\n        - [AWS Cost Optimization](/resources/aws-cost-optimization/8-tools-and-tips-to-reduce-your-cloud-costs/)\\n        - [AWS EC2 Pricing](/resources/aws-ec2-pricing/the-ultimate-guide/)\\n        - [AWS ECS](/resources/aws-ecs/complete-guide-aws-ecs-architecture-pricing-best-practices/)\\n        - [AWS Fargate](/resources/aws-fargate/aws-fargate-explained-pros-cons-components-features/)\\n        - [AWS EKS](/resources/aws-eks/complete-guide-aws-eks-architecture-pricing-tips/)\\n      - Microsoft Azure\\n        - [Azure Automation](/resources/azure-automation/azure-automation-runbooks-configuration-management-updates/)\\n        - [Azure Cost Optimization](/resources/azure-cost-optimization/ultimate-guide-azure-cost-optimization/)\\n        - [Azure Kubernetes Service](/resources/azure-kubernetes-service/azure-kubernetes-service-features-architecture-getting-started/)\\n        - [Azure Pricing](/resources/azure-pricing/the-complete-guide/)\\n      - Google Cloud\\n        - [Google Cloud Pricing](/resources/google-cloud-pricing/google-cloud-pricing-the-complete-guide/)\\n        - [Google Kubernetes Engine](/resources/google-kubernetes-engine/google-kubernetes-engine-architecture-pricing-best-practices/)\\n    - By topic\\n      - FinOps\\n        - [FinOps](/resources/finops/ultimate-guide-to-finops-principles-phases-and-technology/)\\n        - [Cloud Cost](/resources/cloud-cost/cloud-cost-models-management-strategies/)\\n        - [AWS Cost Optimization](/resources/aws-cost-optimization/8-tools-and-tips-to-reduce-your-cloud-costs/)\\n        - [Azure Cost Optimization](/resources/azure-cost-optimization/ultimate-guide-azure-cost-optimization/)\\n        - [AWS Pricing](/resources/aws-pricing/5-models-pricing-for-10-popular-aws-services/)\\n        - [AWS EC2 Pricing](/resources/aws-ec2-pricing/the-ultimate-guide/)\\n        - [Azure Pricing](/resources/azure-pricing/the-complete-guide/)\\n        - [Google Cloud Pricing](/resources/google-cloud-pricing/google-cloud-pricing-the-complete-guide/)\\n      - Cloud Optimization\\n        - [Cloud Optimization](/resources/cloud-optimization/cloud-optimization-the-4-things-you-must-optimize/)\\n        - [Cloud Security](/resources/cloud-security/cloud-security-4-key-principles-tools-and-best-practices/)\\n        - [Spot Instances](/resources/spot-instances/spot-instances-aws-azure-google-cloud/)\\n        - [AWS Autoscaling](/resources/aws-autoscaling/scaling-ec2-ecs-rds-and-more/)\\n        - [Azure Automation](/resources/azure-automation/azure-automation-runbooks-configuration-management-updates/)\\n      - Kubernetes and Containers\\n        - [Kubernetes Architecture](/resources/kubernetes-architecture/11-core-components-explained/)\\n        - [Kubernetes Autoscaling](/resources/kubernetes-autoscaling/3-methods-and-how-to-make-them-great/)\\n        - [Container Security](/resources/container-security/what-is-container-security-risks-solutions-and-best-practices/)\\n        - [AWS ECS](/resources/aws-ecs/complete-guide-aws-ecs-architecture-pricing-best-practices/)\\n        - [AWS Fargate](/resources/aws-fargate/aws-fargate-explained-pros-cons-components-features/)\\n        - [AWS EKS](/resources/aws-eks/complete-guide-aws-eks-architecture-pricing-tips/)\\n        - [Azure Kubernetes Service](/resources/azure-kubernetes-service/azure-kubernetes-service-features-architecture-getting-started/)\\n        - [Google Kubernetes Engine](/resources/google-kubernetes-engine/google-kubernetes-engine-architecture-pricing-best-practices/)\\n      - DevOps and Platform Engineering\\n        - [CI/CD](/resources/ci-cd/what-is-ci-cd-continuous-integration-continuous-deployment/)\\n        - [GitOps](/resources/gitops/understanding-gitops-principles-workflows-deployment-types/)\\n        - [Platform Engineering](/resources/platform-engineering/what-is-platform-engineering-everything-you-need-to-know/)\\n- [About](https://spot.io/about/)\\n  - [![](data:image/svg+xml,%3Csvg%20xmlns='http://www.w3.org/2000/svg'%20viewBox='0%200%2020%2020'%3E%3C/svg%3E)About UsLearn more about Spot by NetApp](/about/)\\n  - [![](data:image/svg+xml,%3Csvg%20xmlns='http://www.w3.org/2000/svg'%20viewBox='0%200%2020%2020'%3E%3C/svg%3E)Contact UsLet us know how we can help](/contact/)\\n  - [![](data:image/svg+xml,%3Csvg%20xmlns='http://www.w3.org/2000/svg'%20viewBox='0%200%2020%2020'%3E%3C/svg%3E)CareersWe’re hiring! Build your career on the Spot team](https://jobs.netapp.com/Spot/go/Spot/8701700/)\\n- Search...\\n\\n![Search](data:image/svg+xml,%3Csvg%20xmlns='http://www.w3.org/2000/svg'%20viewBox='0%200%2021%2020'%3E%3C/svg%3E)\\n\\n- [Request demo](/schedule-a-demo)\\n\\n- Solutions\\n  - [![](data:image/svg+xml,%3Csvg%20xmlns='http://www.w3.org/2000/svg'%20viewBox='0%200%2050%2050'%3E%3C/svg%3E)Microsoft AzureCloud optimization for Azure](https://spot.io/solutions/msft-azure/)\\n  - [![](data:image/svg+xml,%3Csvg%20xmlns='http://www.w3.org/2000/svg'%20viewBox='0%200%2050%2050'%3E%3C/svg%3E)Cloud Financial Management (FinOps)Reduce and govern cloud spend without sacrificing flexibility](https://spot.io/solutions/finops/)\\n  - [![](data:image/svg+xml,%3Csvg%20xmlns='http://www.w3.org/2000/svg'%20viewBox='0%200%2020%2020'%3E%3C/svg%3E)Autoscaling applicationsAutomate infrastructure for scale-out applications](https://spot.io/solutions/autoscaling-applications/)\\n  - [![](data:image/svg+xml,%3Csvg%20xmlns='http://www.w3.org/2000/svg'%20viewBox='0%200%2020%2020'%3E%3C/svg%3E)Google CloudCloud optimization for Google Cloud](https://spot.io/solutions/google-cloud-platform/)\\n  - [![](data:image/svg+xml,%3Csvg%20xmlns='http://www.w3.org/2000/svg'%20viewBox='0%200%2020%2020'%3E%3C/svg%3E)Container infrastructureDeliver hands-free infrastructure for cloud-native workloads](https://spot.io/solutions/containers-infrastructure/)\\n  - [![](data:image/svg+xml,%3Csvg%20xmlns='http://www.w3.org/2000/svg'%20viewBox='0%200%2020%2020'%3E%3C/svg%3E)Reserved commitment managementOptimize strategy and lifecycle for cloud commitment purchases](https://spot.io/solutions/reserved-commitment/)\\n  - [![](data:image/svg+xml,%3Csvg%20xmlns='http://www.w3.org/2000/svg'%20viewBox='0%200%2020%2020'%3E%3C/svg%3E)Amazon Web ServicesCloud optimization for AWS](https://spot.io/solutions/amazon-web-services/)\\n  - [![](data:image/svg+xml,%3Csvg%20xmlns='http://www.w3.org/2000/svg'%20viewBox='0%200%2020%2020'%3E%3C/svg%3E)Cloud services for MSPsDelivered differentiated cloud management services](https://spot.io/solutions/cloud-services-for-msps/)\\n- [Products](https://spot.io/products/)\\n  - [![](data:image/svg+xml,%3Csvg%20xmlns='http://www.w3.org/2000/svg'%20viewBox='0%200%2026%2026'%3E%3C/svg%3E)Spot OverviewCloudOps solutions for optimized scale and spend](https://spot.io/products/)\\n  - [![](data:image/svg+xml,%3Csvg%20xmlns='http://www.w3.org/2000/svg'%20viewBox='0%200%2026%2026'%3E%3C/svg%3E)About NetAppSpot is a part of NetApp’s portfolio of cloud services, data services and storage infrastructure](https://netapp.com/)\\n  - Automate Infrastructure\\n  - Virtual Machines\\n    - [![](data:image/svg+xml,%3Csvg%20xmlns='http://www.w3.org/2000/svg'%20viewBox='0%200%2026%2020'%3E%3C/svg%3E)Elastigroup](https://spot.io/product/elastigroup/)\\n  - Kubernetes\\n    - [![](data:image/svg+xml,%3Csvg%20xmlns='http://www.w3.org/2000/svg'%20viewBox='0%200%2027%2020'%3E%3C/svg%3E)Ocean](https://spot.io/product/ocean/)\\n    - [![](data:image/svg+xml,%3Csvg%20xmlns='http://www.w3.org/2000/svg'%20viewBox='0%200%2026%2020'%3E%3C/svg%3E)Ocean CD](https://spot.io/product/ocean-cd/)\\n  - Workflow\\n    - [![](data:image/svg+xml,%3Csvg%20xmlns='http://www.w3.org/2000/svg'%20viewBox='0%200%2024%2020'%3E%3C/svg%3E)Spot Connect](https://spot.io/product/spot-connect/)\\n  - Manage Cloud Costs\\n  - Commitment Management\\n    - [![](data:image/svg+xml,%3Csvg%20xmlns='http://www.w3.org/2000/svg'%20viewBox='0%200%2021%2020'%3E%3C/svg%3E)Eco](https://spot.io/product/eco/)\\n  - Cost Reporting\\n    - [![](data:image/svg+xml,%3Csvg%20xmlns='http://www.w3.org/2000/svg'%20viewBox='0%200%20102%2081'%3E%3C/svg%3E)Cost Intelligence](https://spot.io/product/cost-intelligence/)\\n  - Cloud Billing\\n    - [![](data:image/svg+xml,%3Csvg%20xmlns='http://www.w3.org/2000/svg'%20viewBox='0%200%20103%2081'%3E%3C/svg%3E)Billing Engine](https://spot.io/product/billing-engine/)\\n  - Cloud Management\\n    - [![](data:image/svg+xml,%3Csvg%20xmlns='http://www.w3.org/2000/svg'%20viewBox='0%200%20126%20100'%3E%3C/svg%3E)CloudCheckr](https://spot.io/product/cloudcheckr/)\\n  - Operate Apps at Scale\\n  - Managed Services for Open-Source Data Technology\\n    - [![](data:image/svg+xml,%3Csvg%20xmlns='http://www.w3.org/2000/svg'%20viewBox='0%200%2025%2020'%3E%3C/svg%3E)Ocean for Apache Spark](https://spot.io/product/ocean-apache-spark/)\\n  - Secure Infrastructure\\n    - Continuous Security\\n      - [![](data:image/svg+xml,%3Csvg%20xmlns='http://www.w3.org/2000/svg'%20viewBox='0%200%2026%2021'%3E%3C/svg%3E)Spot Security](https://spot.io/product/spot-security/)\\n- Customers\\n  - [![](data:image/svg+xml,%3Csvg%20xmlns='http://www.w3.org/2000/svg'%20viewBox='0%200%2025%2025'%3E%3C/svg%3E)Case StudiesOur customers share their Spot success stories](/case-studies/)\\n- [Resources](https://spot.io/resource-center/)\\n  - [Resources](/resource-center/)\\n    - [![](data:image/svg+xml,%3Csvg%20xmlns='http://www.w3.org/2000/svg'%20viewBox='0%200%2020%2020'%3E%3C/svg%3E)Resource CenterThe spot for more information about our products and solutions](/resource-center/)\\n    - [![](data:image/svg+xml,%3Csvg%20xmlns='http://www.w3.org/2000/svg'%20viewBox='0%200%2020%2020'%3E%3C/svg%3E)DocumentationA central hub for information on using our products](https://docs.spot.io/)\\n    - [![](data:image/svg+xml,%3Csvg%20xmlns='http://www.w3.org/2000/svg'%20viewBox='0%200%2020%2020'%3E%3C/svg%3E)Service StatusA summary of current system status](https://status.spotinst.com/)\\n    - [![](data:image/svg+xml,%3Csvg%20xmlns='http://www.w3.org/2000/svg'%20viewBox='0%200%2020%2020'%3E%3C/svg%3E)What Is CloudOps?Unlock the true value of the cloud](https://spot.io/cloudops/)\\n    - [![](data:image/svg+xml,%3Csvg%20xmlns='http://www.w3.org/2000/svg'%20viewBox='0%200%2051%2051'%3E%3C/svg%3E)How to Operationalize FinOpsBuild a highly efficient FinOps practice](https://spot.io/how-to-operationalize-finops/)\\n  - [Guides](/resource-center/?post_types=guides)\\n    - By hyperscaler\\n      - AWS\\n        - [AWS Autoscaling](/resources/aws-autoscaling/scaling-ec2-ecs-rds-and-more/)\\n        - [AWS Pricing](/resources/aws-pricing/5-models-pricing-for-10-popular-aws-services/)\\n        - [AWS Cost Optimization](/resources/aws-cost-optimization/8-tools-and-tips-to-reduce-your-cloud-costs/)\\n        - [AWS EC2 Pricing](/resources/aws-ec2-pricing/the-ultimate-guide/)\\n        - [AWS ECS](/resources/aws-ecs/complete-guide-aws-ecs-architecture-pricing-best-practices/)\\n        - [AWS Fargate](/resources/aws-fargate/aws-fargate-explained-pros-cons-components-features/)\\n        - [AWS EKS](/resources/aws-eks/complete-guide-aws-eks-architecture-pricing-tips/)\\n      - Microsoft Azure\\n        - [Azure Automation](/resources/azure-automation/azure-automation-runbooks-configuration-management-updates/)\\n        - [Azure Cost Optimization](/resources/azure-cost-optimization/ultimate-guide-azure-cost-optimization/)\\n        - [Azure Kubernetes Service](/resources/azure-kubernetes-service/azure-kubernetes-service-features-architecture-getting-started/)\\n        - [Azure Pricing](/resources/azure-pricing/the-complete-guide/)\\n      - Google Cloud\\n        - [Google Cloud Pricing](/resources/google-cloud-pricing/google-cloud-pricing-the-complete-guide/)\\n        - [Google Kubernetes Engine](/resources/google-kubernetes-engine/google-kubernetes-engine-architecture-pricing-best-practices/)\\n    - By topic\\n      - FinOps\\n        - [FinOps](/resources/finops/ultimate-guide-to-finops-principles-phases-and-technology/)\\n        - [Cloud Cost](/resources/cloud-cost/cloud-cost-models-management-strategies/)\\n        - [AWS Cost Optimization](/resources/aws-cost-optimization/8-tools-and-tips-to-reduce-your-cloud-costs/)\\n        - [Azure Cost Optimization](/resources/azure-cost-optimization/ultimate-guide-azure-cost-optimization/)\\n        - [AWS Pricing](/resources/aws-pricing/5-models-pricing-for-10-popular-aws-services/)\\n        - [AWS EC2 Pricing](/resources/aws-ec2-pricing/the-ultimate-guide/)\\n        - [Azure Pricing](/resources/azure-pricing/the-complete-guide/)\\n        - [Google Cloud Pricing](/resources/google-cloud-pricing/google-cloud-pricing-the-complete-guide/)\\n      - Cloud Optimization\\n        - [Cloud Optimization](/resources/cloud-optimization/cloud-optimization-the-4-things-you-must-optimize/)\\n        - [Cloud Security](/resources/cloud-security/cloud-security-4-key-principles-tools-and-best-practices/)\\n        - [Spot Instances](/resources/spot-instances/spot-instances-aws-azure-google-cloud/)\\n        - [AWS Autoscaling](/resources/aws-autoscaling/scaling-ec2-ecs-rds-and-more/)\\n        - [Azure Automation](/resources/azure-automation/azure-automation-runbooks-configuration-management-updates/)\\n      - Kubernetes and Containers\\n        - [Kubernetes Architecture](/resources/kubernetes-architecture/11-core-components-explained/)\\n        - [Kubernetes Autoscaling](/resources/kubernetes-autoscaling/3-methods-and-how-to-make-them-great/)\\n        - [Container Security](/resources/container-security/what-is-container-security-risks-solutions-and-best-practices/)\\n        - [AWS ECS](/resources/aws-ecs/complete-guide-aws-ecs-architecture-pricing-best-practices/)\\n        - [AWS Fargate](/resources/aws-fargate/aws-fargate-explained-pros-cons-components-features/)\\n        - [AWS EKS](/resources/aws-eks/complete-guide-aws-eks-architecture-pricing-tips/)\\n        - [Azure Kubernetes Service](/resources/azure-kubernetes-service/azure-kubernetes-service-features-architecture-getting-started/)\\n        - [Google Kubernetes Engine](/resources/google-kubernetes-engine/google-kubernetes-engine-architecture-pricing-best-practices/)\\n      - DevOps and Platform Engineering\\n        - [CI/CD](/resources/ci-cd/what-is-ci-cd-continuous-integration-continuous-deployment/)\\n        - [GitOps](/resources/gitops/understanding-gitops-principles-workflows-deployment-types/)\\n        - [Platform Engineering](/resources/platform-engineering/what-is-platform-engineering-everything-you-need-to-know/)\\n- [About](https://spot.io/about/)\\n  - [![](data:image/svg+xml,%3Csvg%20xmlns='http://www.w3.org/2000/svg'%20viewBox='0%200%2020%2020'%3E%3C/svg%3E)About UsLearn more about Spot by NetApp](/about/)\\n  - [![](data:image/svg+xml,%3Csvg%20xmlns='http://www.w3.org/2000/svg'%20viewBox='0%200%2020%2020'%3E%3C/svg%3E)Contact UsLet us know how we can help](/contact/)\\n  - [![](data:image/svg+xml,%3Csvg%20xmlns='http://www.w3.org/2000/svg'%20viewBox='0%200%2020%2020'%3E%3C/svg%3E)CareersWe’re hiring! Build your career on the Spot team](https://jobs.netapp.com/Spot/go/Spot/8701700/)\\n- Search...\\n\\n![Search](data:image/svg+xml,%3Csvg%20xmlns='http://www.w3.org/2000/svg'%20viewBox='0%200%2021%2020'%3E%3C/svg%3E)\\n\\n- [Request demo](/schedule-a-demo)\\n\\n- [Docs](https://docs.spot.io/)\\n- [API](https://docs.spot.io/api/)\\n- [Support](/support/)\\n- [Partners](https://spot.io/partners/)\\n- [Blog](/blog/)\\n- [Sign in](https://console.spotinst.com/auth/signIn)\\n\\n### Related posts\\n\\n[Azure Backup Pricing: The Basics and 6 Pricing Examples](https://spot.io/resources/azure-pricing/azure-backup-pricing-the-basics-and-6-pricing-examples/)\\n\\n[Azure SQL Database Pricing](https://spot.io/resources/azure-pricing/azure-sql-database-pricing/)\\n\\n[Azure Pricing: The Complete Guide](https://spot.io/resources/azure-pricing/the-complete-guide/)\\n\\n[What are Azure Spot Instances?](https://spot.io/resources/azure-pricing/what-are-azure-spot-virtual-machines/)\\n\\n[Azure VM Pricing: VM Types, Pricing Models, and Examples](https://spot.io/resources/azure-pricing/azure-vm-pricing-vm-types-pricing-models-and-examples/)\\n\\n[Azure Spot Pricing: How Much Do Azure Spot VMs Really Cost?](https://spot.io/resources/azure-pricing/azure-spot-pricing-how-much-do-azure-spot-vms-really-cost/)\\n\\n[Azure Reserved Instances: The Complete Guide](https://spot.io/resources/azure-pricing/azure-reserved-instances-the-complete-guide/)\\n\\n[Understanding Azure Storage Pricing and Examples for 6 Services](https://spot.io/resources/azure-pricing/understanding-azure-storage-pricing-and-examples-for-6-services/)\\n\\n[Azure Database Pricing Examples and 5 Ways to Reduce Your Costs](https://spot.io/resources/azure-pricing/azure-database-pricing-examples-and-5-ways-to-reduce-your-costs/)\\n\\n[Azure Autoscaling with App Service and VMSS](https://spot.io/resources/azure-pricing/azure-autoscaling-a-practical-guide/)\\n\\n# Azure Pricing: The Complete Guide\\n\\n## How Much Does Azure Cost Per Month?\\n\\nMicrosoft Azure is a cloud provider offering a diverse range of services, including storage, networking, compute, and analytics. Azure services can be consumed in the Azure public cloud, on-premises, and in hybrid implementations.\\n\\nLearn more in our detailed guide to [azure storage pricing](https://spot.io/resources/azure-pricing/understanding-azure-storage-pricing-and-examples-for-6-services/).\\n\\nThe table below shows the minimal price of core Azure services, and how much you can expect to pay in an example scenario.\\n\\n|     |     |     |     |     |\\n| --- | --- | --- | --- | --- |\\n| **Service** | **Pricing Factor** | **Starting From** | **Example Workload** | **Monthly Price** |\\n| Linux virtual machines (VMs) | VM hourly usage | $0.004 | 10 VMs used for 30 days | 10 \\\\* 30 \\\\* 24 \\\\* $0.004 = **$28.8** |\\n| Functions | Million executions | $0.20 | Serverless function with 5 million executions per day for 30 days | 30 \\\\* 5 \\\\* 0.2 **= $30** |\\n| Block Blob storage\\u202f(ZRS HOT) | GB-month | $0.023 | Storing 100GB in Blob Storage for 1 months | 100 \\\\* $0.023 <br>**= $2.3** |\\n| Block Blob storage (ZRS COOL) | GB-month | $0.013 | Storing 100GB in Blob Storage for 1 months | 100 \\\\* $0.013 <br>**= $1.3** |\\n| **Total cost** for 10 VMs, serverless function with 5 million executions per day, and 200 GB storage | **$62.4** |\\n\\nLearn more in our detailed guide to [azure vm pricing](https://spot.io/resources/azure-pricing/azure-vm-pricing-vm-types-pricing-models-and-examples/).\\n\\nAzure pricing depends on many factors, including the type of service, the capacity required, the location, and the level of management. Azure offers a free tier, which provides free use of certain services for the first 12 months, and free forever usage of specific services.\\n\\nThe majority of Azure services can be purchased under the “pay as you go” pricing model, which charges users based on actual usage. Additionally, Azure offers significant discounts for reserved instances (which require commitment of 1 or 3 years), and spot instances (virtual machines from Azure’s spare capacity, which can be terminated at short notice).\\n\\nLearn more in our detailed guide to [azure reserved instances](https://spot.io/resources/azure-pricing/azure-reserved-instances-the-complete-guide/).\\n\\n**_This is part of an extensive series of guides about [FinOps](https://spot.io/resources/finops/ultimate-guide-to-finops-principles-phases-and-technology/)._**\\n\\n**In this article, you will learn:**\\n\\n- [Azure Free Tier](#a1)\\n- [Azure Pricing Models](#a2)\\n- [Azure Savings Options](#a3)\\n- [Azure Virtual Machine (VM) Pricing](#a4)\\n- [Azure Storage Pricing](#a5)\\n- [Azure Functions Pricing](#a6)\\n- [Azure Networking Pricing](#a7)\\n- [Azure Cost Management Tools](#a8)\\n- [Azure Pricing Optimization with Spot.io](#a9)\\n\\n## Azure Free Tier\\n\\nAzure offers a free tier that lets companies use a variety of services free for 12 months (with a limited allowance), provides a credit for additional services in the first 30 days, and provides several services for free on an ongoing basis.\\n\\n### 12 Months Free Use\\n\\nAzure provides the following services free for the first 12 months after creating an Azure account. Each service has a usage limit—for example, you can use a Windows Virtual Machine for 750 hours.\\n\\n|     |     |\\n| --- | --- |\\n| **Compute Services**<br>- Linux Virtual Machines<br>- Windows Virtual Machines | **Storage Services**<br>- Azure Managed Disks<br>- Azure Blob Storage<br>- Azure Files |\\n| **Database Services**<br>- Azure SQL Database (Microsoft SQL Server)<br>- Cosmos DB (NoSQL) | **AI and Analytics Services**<br>- Computer Vision<br>- Text Analytics<br>- Translator<br>- Personalizer<br>- Language Understanding<br>- (and more) |\\n\\nLearn more in our detailed guide to [azure database pricing](https://spot.io/resources/azure-pricing/azure-database-pricing-examples-and-5-ways-to-reduce-your-costs/) and [azure sql database pricing](https://spot.io/resources/azure-pricing/azure-sql-database-pricing/).\\n\\n### Credit for First 30 Days\\n\\nIf you want to use a service that is not included in the free services, or if you exceed the service limits in the free tier, Azure provides a credit of $200 which you can deduct from your first bill, during the first 30 days of usage. Beyond that, any further use of Azure services will be billed.\\n\\n### Does Azure Charge After the Free Trial?\\n\\nYes. Certain Azure services are available free, within certain limitations, during the first 12 months. Azure also provides a $200 credit for new customers. When the first 12 months end and/or when you finish using the $200 credit, you will be charged for all Azure services you use. The only exception is services that are provided free forever (see below).\\n\\n### Is Azure Free Forever?\\n\\nThe following Azure services are always free, even after the first 12 months of use.\\n\\nKeep in mind you are billed for use of other Azure resources you consume during the use of these services. For example, when deploying containers using Azure Kubernetes Service (AKS), you are billed for the virtual machines or container instances that are deployed by the service. But there is no charge for AKS itself.\\n\\n|     |     |\\n| --- | --- |\\n| **Development Services**<br>- Azure App Service<br>- DevTest Labs<br>- \\xa0Azure DevOps | **Serverless and Containers**<br>- Azure Functions (free up to 1 million requests)<br>- Azure Kubernetes Service (AKS)<br>- Azure Container Instances<br>- Service Fabric |\\n| **Messaging, Routing and Automation**<br>- Event Grid<br>- Load Balancer<br>- Azure Automation | **Networking**<br>- Virtual Networks (VNets)<br>- Data transfer between VNets<br>- Inbound data transfer (unlimited)<br>- Outbound data transfer (up to 15GB) |\\n| **Data Management and Search**<br>- Data Factory<br>- Data Catalog<br>- Cognitive Search | **Other Services**<br>- Active Directory B2C<br>- Azure Security Center<br>- Azure Advisor |\\n\\n## Azure Pricing Models\\n\\nMicrosoft offers three main ways to pay for Azure VMs and other cloud resources: pay as you go, reserved instances, and spot instances.\\n\\n### Pay as You Go\\n\\nYou can pay for services on Azure according to actual usage, billed per second, with no long-term commitment or upfront payments. This provides complete flexibility to increase or decrease resources as needed. Azure virtual machines (VMs) can be automatically scaled up and down using Azure’s autoscaling features.\\n\\n**_Related content: read our guide to [Azure autoscaling](https://spot.io/resources/azure-autoscaling-a-practical-guide/)_**\\n\\nThis pricing model is mainly suitable for users who prefer flexibility, prefer to convert capital expenses to operating expenses, and applications with volatile or short-term workloads.\\n\\n### Reserved Instances\\n\\nAzure provides Reserved Virtual Machine Instances (RVMI)—virtual machines that are pre-purchased for one or three years in a specific region. Committing to reserved instances in advance grants a discount of up to 72% compared to pay-as-you-go prices.\\n\\nAzure provides the option to replace reserved instances with others during the commitment term. It also allows users to cancel reserved instances before the end of the term, but this incurs an early termination fee.\\n\\nThis pricing model is suitable for applications with stable ongoing usage, organizations who have a fixed budget, or large scale applications where a certain number of virtual machines are always in use (for example, those running the central management components).\\n\\n### Spot Pricing\\n\\nAzure lets you buy unused computing power at a discount of up to 90% compared to pay as you go prices. However, spot instances can be interrupted on short notice, so they are considered to be suitable only for workloads that can tolerate disruptions.\\n\\nAzure provides Virtual Machine Scale Sets (VMSS), an autoscaling mechanism that lets you manage groups of VMs and add spot instances automatically according to predefined policies.\\n\\nSpot instances are mainly suitable for distributed, fault tolerant applications, stateless applications, workloads that are not urgent, or are heavily parallelized.\\n\\n**_Learn more in our guide to_** [**_Azure spot instances_**](https://spot.io/resources/azure-pricing/what-are-azure-spot-virtual-machines/)\\n\\nIf you want to gain more control over Azure spot instances and use them for a broader range of applications, Spot by NetApp’s infrastructure automation solutions enable you to [use spot instances for AKS clusters as well as non-containerized workloads](https://spot.io/solutions/msft-azure/), with guaranteed availability for even production and mission-critical environments.\\n\\n## Azure Savings Options\\n\\nBeyond the discounts granted by reserved instances and spot instances, Azure provides several additional options for saving cloud costs.\\n\\n### Azure Hybrid Benefit\\n\\nThe Azure Hybrid Benefit program is intended for organizations that own Microsoft licenses in their on-premise data centers. If you already have Windows Server or SQL Server licenses and use them locally, you can bring those licenses to the cloud. This is known as bring your own license (BYOL).\\n\\nAn Azure VM running Windows or SQL Server takes into account the cost of Microsoft software licensing, so if you already have a license, you can get a discount on VM per-hour cost. Azure Hybrid Benefit applies to Windows Server VMs, SQL Server VMs, and the Azure SQL Database service.\\n\\nCombined with reserved instances, Azure Hybrid Benefit provides a discount of up to 85%.\\n\\nAdditionally, for some versions of Windows Server and Microsoft SQL Server to Azure, you get 3 years of free security updates, without needing to extend the license.\\n\\n### Azure Dev/Test Pricing\\n\\nIf you use Azure service for development and testing, you are eligible to substantial discounts, including:\\n\\n- Running Windows VMs at the same cost of Linux VMs (essentially, you get the Microsoft license for free)\\n- Save up to 55% on Azure SQL Database\\n- Save up to 50% on Logic Apps (BizTalk server processing in the cloud)\\n\\n### Azure Price Matching\\n\\nAzure pledges to match the cost of equivalent services on AWS. Prices are adjusted every 3 months in line with AWS price changes.\\n\\nPrice matching applies to Linux VMs (compared to EC2 compute instances), Azure Functions (compared to Amazon Lambda), and Block Blob Storage ZRS HOT / COOL tier (compared to S3 Standard / Standard-Infrequent Access tier).\\n\\n## Azure Virtual Machine (VM) Pricing\\n\\nMicrosoft offers a variety of virtual machine sizes, divided into six categories for different use cases.\\n\\n1. **General Purpose VMs**\\n\\n- Provide a balanced ratio of CPU and memory. Suitable for medium and low traffic servers, databases, and test environments.\\n- Pricing starts from $0.096/hour\\n\\n2. **Compute Optimized**\\n\\n- Provides strong CPU capabilities. Suitable for medium-traffic servers, batch processing, and network services.\\n- Pricing starts from $0.0846/hour\\n\\n3. **Memory Optimized**\\n\\n- Provides a larger amount of RAM and faster RAM hardware. Suitable for in-memory analytics, caching services, or relational databases.\\n- Pricing Starts from $0.126/hour\\n\\n4. **Storage Optimized**\\n\\n- Provides high storage throughput and I/O. Suitable for data warehouses, big data analytics, transactional SQL/NoSQL databases.\\n- Pricing starts from $0.624/hour\\n\\n5. **Graphical Processing Units (GPU)**\\n\\n- Provides GPU resources as part of the virtual machine. Suitable for deep learning, machine learning, video editing or graphics rendering.\\n- Pricing starts from $0.90/hour\\n\\n6. **High performance computing (HPC)**\\n\\n- Provides high-powered distributed CPU resources, with support for high-throughput networking such as RDMA. Suitable for massively parallel HPC workloads.\\n- Pricing starts from $0.796/hour\\n\\nThe example prices above are for Linux VMs in the West US 2 region, and are subject to change. See up-to-date pricing for [Linux virtual machines](https://azure.microsoft.com/en-us/pricing/details/virtual-machines/linux/) and [Windows virtual machines](https://azure.microsoft.com/en-us/pricing/details/virtual-machines/windows/) (Windows VMs are more expensive because prices include the Microsoft license).\\n\\nApart from the operating system, pricing for each VM size depends on a number of factors including the Azure region, the pricing model you select, and applicable saving options.\\n\\n## Azure Storage Pricing\\n\\nAzure offers several storage services, each with its own pricing model. Here are the main services:\\n\\n**Azure Blob Storage**\\n\\n- Provides infinitely scalable object storage (similar to Amazon S3)\\n- Pricing starts from $0.0184 per GB-month for hot tier, $0.01 per GB-month for cold tier, and $0.00099 per GB-month for archive tier, for the first 50TB.\\n- Pricing decreases progressively for larger storage volumes.\\n\\n**Azure Files**\\n\\n- Cloud-hosted file shares that can be mounted on Azure VMs or on-premise machines\\n- Pricing for data storage is $0.06 per GB-month for transaction optimized tier, $0.0255 for hot tier, and $0.015 for cool tier (paying for storage actually used)\\n- The service also provides a Premium tier, which costs $0.16 for GB provisioned (even if not actually used)\\n- There are additional charges for snapshots, transactions on data and data transfer volume.\\n\\nExample prices above are for the West US 2 region with LRS redundancy, and are subject to change. See the [official pricing page](https://azure.microsoft.com/en-us/pricing/details/storage/).\\n\\n## Azure Functions Pricing\\n\\nAzure Functions provides serverless services, which are billed according to the total monthly amount of requested executions and the consumed time.\\n\\nAzure Functions offers the first 1,000,000 executions for free. Once you exceed the free allotment, the system starts billing you $0.20 per 1,000,000 executions. Note that execution time is measured in gigabyte seconds and Azure allows a minimum memory size of 128 MB.\\n\\nFor full details and up-to-date pricing see the [official pricing page](https://azure.microsoft.com/en-us/pricing/details/functions/).\\n\\n## Azure Networking Pricing\\n\\nAzure charges for several types of networking services. Here are three of the most commonly used.\\n\\n**Azure Virtual Network**\\n\\n- Lets you create an isolated, private network in the Azure cloud\\n- Provides the first 50 virtual networks free of charge\\n- Public IP addresses are priced starting from $0.0036/hour\\n- VNET peering within an Azure region costs $0.01 per GB for inbound/outbound data transfer\\n- VNET peering across regions costs $0.035 per GB in US, Europe and Australia, $0.09 in Asia, and $0.044 in South America and Africa.\\n\\n**Azure VPN Gateway**\\n\\n- Lets you connect to Azure from on-premise networks\\n- Pricing starts from $0.04/hour for 100 Mbps, with up to 10 S2S tunnels and up to 128 P2S tunnels\\n\\n**Azure Bandwidth**\\n\\n- Azure does not charge for inbound data transfer\\n- Outbound data transfer is free for the first 5 GB/month\\n- Above 5GB/month, the cost starts from $0.087 per GB, and decreases depending on data volume, down to $0.05 per GB over 150 TB.\\n\\nFor more details see the [official pricing page](https://azure.microsoft.com/en-us/pricing/details/bandwidth/).\\n\\n## Azure Cost Management Tools\\n\\nAzure offers the following cost management tools, which you can use to estimate, plan, and optimize your cloud computing costs:\\n\\n- **Azure Price Calculator**—can help you estimate the cost of the Azure services you intend to use. You can choose a resource and define the settings. The calculator can then provide you with a cost breakdown.\\n- **Azure Cost Analysis**—can help you get a detailed breakdown of the costs you are spending on Azure resources. You get an in-depth understanding of costs, and filter according to metrics like scope, time, granularity, and types of resources.\\n\\n_Learn more in our detailed guide to **[Azure Cost Management](https://spot.io/resources/azure-pricing/azure-cost-management-4-ways-to-optimize-azure-costs/).**_\\n- **Azure Budgets**—can help you create a budget that includes costs allocated across the Azure ecosystem. You can set up alert notifications to learn when a certain resource hits a limit or certain thresholds.\\n- **Azure Advisor**—can help you gain actionable insights you can use to optimize your costs. This tool analyzes your Azure configurations and uses telemetry to provide you with recommendations to improve availability, security, performance, and costs.\\n\\n**Azure Exports**—can help you export reports generated in Azure. You can use Azure Exports to build custom reports and export the data in a CSV format.\\n\\n## Azure Pricing Optimization with Spot by NetApp\\n\\nSpot by NetApp allows Azure customers to reliably use Azure spot instances (VMs) for even fault-sensitive workloads.\\n\\n![](data:image/svg+xml,%3Csvg%20xmlns='http://www.w3.org/2000/svg'%20viewBox='0%200%200%200'%3E%3C/svg%3E)\\n\\nWhenever there is a risk of spot instance interruption, Spot by NetApp will spin up new replacement spot instances in advance while gracefully draining at-risk ones. If spot instances are not available, the workload will be moved to pay-as-you-go instances. In those situations, Spot by NetApp will move workloads back to spot instances as soon as they become available. This allows Azure customers to save up to 90% on their cloud compute with guaranteed workload continuity and availability.\\n\\n**_Learn more_** [**_about Spot by NetApp for Azure_**](https://spot.io/solutions/msft-azure/) **_._**\\n\\n## See Additional Guides on Key FinOps Topics\\n\\nTogether with our content partners, we have authored in-depth guides on several other topics that can also be useful as you explore the world of [FinOps](https://spot.io/resources/finops/ultimate-guide-to-finops-principles-phases-and-technology/).\\n\\n### [AWS Cost Optimization](https://spot.io/resources/aws-cost-optimization/8-tools-and-tips-to-reduce-your-cloud-costs/)\\n\\n_Authored by Spot_\\n\\n- [AWS Cost Optimization Tools and Tips: Ultimate Guide](https://spot.io/resources/aws-cost-optimization/8-tools-and-tips-to-reduce-your-cloud-costs/)\\n- [AWS Pricing Calculator: Calculate AWS Cost Like the Pros](https://spot.io/resources/aws-cost-optimization/aws-pricing-calculator-calculate-aws-cost-like-the-pros/)\\n- [AWS Cost Savings: 12 Great Ways to Save on AWS](https://spot.io/resources/aws-cost-optimization/aws-cost-savings-12-great-ways-to-save-on-aws/)\\n\\n### [AWS Pricing](https://spot.io/resources/aws-pricing/5-models-pricing-for-10-popular-aws-services/)\\n\\n_Authored by Spot_\\n\\n- [AWS Pricing: 5 Models & Pricing for 10 Popular AWS Services](https://spot.io/resources/aws-pricing/5-models-pricing-for-10-popular-aws-services/)\\n- [Fargate vs. EC2: What is the difference and which is best for ECS?](https://spot.io/blog/fargate-vs-ecs-comparing-amazons-container-management-services/)\\n- [AWS Fargate Pricing: Optimize Billing and Cut Costs](https://spot.io/resources/aws-pricing/aws-fargate-pricing-how-to-optimize-billing-and-save-costs/)\\n\\n### [Cloud Automation](https://bluexp.netapp.com/blog/cloud-automation-why-where-and-how-cvo-blg)\\n\\n_Authored by NetApp_\\n\\n- [Cloud Automation: Why, Where and How](https://bluexp.netapp.com/blog/cloud-automation-why-where-and-how-cvo-blg)\\n- [Ansible Automation Scripts to Automate Volume Provisioning](https://bluexp.netapp.com/blog/create-volumes-with-ansible-scripts-for-cloud-volumes-ontap-cvo-blg)\\n- [Infrastructure as Code: DevOps Done Right](https://bluexp.netapp.com/blog/why-you-need-infrastructure-as-code-to-do-devops-properly-cvo-blg)\\n\\n[![Spot.io](data:image/svg+xml,%3Csvg%20xmlns='http://www.w3.org/2000/svg'%20viewBox='0%200%2093%2033'%3E%3C/svg%3E)](https://spot.io)\\n\\n## Email us\\n\\n[info@spot.io](mailto:info@spot.io)\\n\\n[![](data:image/svg+xml,%3Csvg%20xmlns='http://www.w3.org/2000/svg'%20viewBox='0%200%2035%2035'%3E%3C/svg%3E)](https://www.facebook.com/spothq)[![](data:image/svg+xml,%3Csvg%20xmlns='http://www.w3.org/2000/svg'%20viewBox='0%200%2035%2035'%3E%3C/svg%3E)](https://www.linkedin.com/company/spothq/)[![](data:image/svg+xml,%3Csvg%20xmlns='http://www.w3.org/2000/svg'%20viewBox='0%200%2035%2035'%3E%3C/svg%3E)](https://twitter.com/spot_by_netapp)[![](data:image/svg+xml,%3Csvg%20xmlns='http://www.w3.org/2000/svg'%20viewBox='0%200%2035%2035'%3E%3C/svg%3E)](https://www.youtube.com/@SpotByNetApp)\\n\\n- [Company](https://spot.io/about/)\\n  - [About Us](https://spot.io/about/)\\n  - [Contact Us](https://spot.io/contact/)\\n  - [Careers](https://jobs.netapp.com/Spot/go/Spot/8701700/)\\n  - [Partners](https://spot.io/partners/)\\n- Solutions\\n  - [FinOps](https://spot.io/solutions/finops/)\\n  - [Container infrastructure](https://spot.io/solutions/containers-infrastructure/)\\n  - [Autoscaling applications](https://spot.io/solutions/autoscaling-applications/)\\n  - [Commitment management](https://spot.io/solutions/reserved-commitment/)\\n  - [Big data](https://spot.io/solutions/big-data/)\\n  - [Cloud services for MSPs](https://spot.io/solutions/cloud-services-for-msps/)\\n  - [Amazon Web Services](https://spot.io/solutions/amazon-web-services/)\\n  - [Microsoft Azure](https://spot.io/solutions/msft-azure/)\\n  - [Google Cloud Platforms](https://spot.io/solutions/google-cloud-platform/)\\n- [Products](https://spot.io/products/)\\n  - [Eco](https://spot.io/product/eco/)\\n  - [CloudCheckr](https://spot.io/product/cloudcheckr/)\\n  - [Ocean](https://spot.io/product/ocean/)\\n  - [Ocean CD](https://spot.io/product/ocean-cd/)\\n  - [Ocean for Apache Spark](https://spot.io/product/ocean-apache-spark/)\\n  - [Elastigroup](https://spot.io/product/elastigroup/)\\n  - [Spot Security](https://spot.io/product/spot-security/)\\n  - [Spot Connect](https://spot.io/product/spot-connect/)\\n- [Resources](/resource-center/)\\n  - [Support](https://spot.io/support/)\\n  - [Documentation](https://docs.spot.io/)\\n  - [Product News](https://spot.io/resource-center/?post_types=news)\\n  - [Case Studies](/resource-center/?post_types=case-studies)\\n  - [Blog](/resource-center/?post_types=blogs)\\n\\n© 2015-\\n2024 NetApp, Inc. All rights reserved.\\n\\n[Privacy Policy](https://spot.io/security-policy/) \\\\|\\n[Cookies Policy](https://spot.io/cookies-policy/) \\\\|\\nCookie\\xa0Settings\", mimetype='text/plain', start_char_idx=None, end_char_idx=None, text_template='{metadata_str}\\n\\n{content}', metadata_template='{key}: {value}', metadata_seperator='\\n')"
      ]
     },
     "execution_count": 175,
     "metadata": {},
     "output_type": "execute_result"
    }
   ],
   "source": [
    "# Documents generated from the URL with metadata\n",
    "documents[0]"
   ]
  },
  {
   "cell_type": "code",
   "execution_count": 176,
   "metadata": {},
   "outputs": [
    {
     "data": {
      "text/plain": [
       "<llama_index.core.indices.vector_store.base.VectorStoreIndex at 0x327ce9710>"
      ]
     },
     "execution_count": 176,
     "metadata": {},
     "output_type": "execute_result"
    }
   ],
   "source": [
    "index"
   ]
  },
  {
   "cell_type": "markdown",
   "metadata": {},
   "source": [
    "### - The method that can remove the metadata from the documents"
   ]
  },
  {
   "cell_type": "code",
   "execution_count": 177,
   "metadata": {},
   "outputs": [],
   "source": [
    "def clean_metadata(metadata):\n",
    "    \"\"\"Ensure metadata only contains str, int, float, or None.\"\"\"\n",
    "    for key, value in metadata.items():\n",
    "        if not isinstance(value, (str, int, float, type(None))):\n",
    "            # Convert lists and other types to a string\n",
    "            metadata[key] = str(value)\n",
    "    return metadata"
   ]
  },
  {
   "cell_type": "markdown",
   "metadata": {},
   "source": [
    "- delete the metadata"
   ]
  },
  {
   "cell_type": "code",
   "execution_count": 178,
   "metadata": {},
   "outputs": [],
   "source": [
    "for doc in documents:\n",
    "    doc.metadata = clean_metadata(doc.metadata)  # Clean the metadata\n"
   ]
  },
  {
   "cell_type": "code",
   "execution_count": 155,
   "metadata": {},
   "outputs": [
    {
     "data": {
      "text/plain": [
       "Document(id_='00a4fc9c-a1a4-45f4-9748-0f994c7d1c7c', embedding=None, metadata={'page_label': '1', 'file_name': 'Haida_bracelet.pdf', 'file_path': '/Users/chris/Desktop/7980/CS7980_Capstone_RBCMuseum/llamaindex/data/Haida_bracelet.pdf', 'file_type': 'application/pdf', 'file_size': 311842, 'creation_date': '2024-09-23', 'last_modified_date': '2024-09-23'}, excluded_embed_metadata_keys=['file_name', 'file_type', 'file_size', 'creation_date', 'last_modified_date', 'last_accessed_date'], excluded_llm_metadata_keys=['file_name', 'file_type', 'file_size', 'creation_date', 'last_modified_date', 'last_accessed_date'], relationships={}, text='Haida bracelet\\n Date:  1980 Record:  RBCM 18826 Materials:  silver Artist:  Robert Davidson guud san glans, Robert Davidson (born 1946) is a great grandson of the Haida artist, Charles Edenshaw, and carries on Edenshaw’s legacy of innovation combined with traditional craftsmanship. This beautifully designed and executed silver bracelet, titled Happy Negative Spaces, was made in 1980 and is one of his most important early abstract \\n', mimetype='text/plain', start_char_idx=None, end_char_idx=None, text_template='{metadata_str}\\n\\n{content}', metadata_template='{key}: {value}', metadata_seperator='\\n')"
      ]
     },
     "execution_count": 155,
     "metadata": {},
     "output_type": "execute_result"
    }
   ],
   "source": [
    "documents[0]"
   ]
  },
  {
   "cell_type": "markdown",
   "metadata": {},
   "source": [
    "Define the embedding model(Optional for latter comparision)"
   ]
  },
  {
   "cell_type": "code",
   "execution_count": null,
   "metadata": {},
   "outputs": [],
   "source": [
    "! pip install llama-index-embeddings-huggingface\n",
    "! pip install llama-index-embeddings-instructor"
   ]
  },
  {
   "cell_type": "code",
   "execution_count": 57,
   "metadata": {},
   "outputs": [],
   "source": [
    "from llama_index.embeddings.huggingface import HuggingFaceEmbedding\n",
    "\n",
    "# define embedding function\n",
    "embed_model = HuggingFaceEmbedding(model_name= \"BAAI/bge-base-en-v1.5\")"
   ]
  },
  {
   "cell_type": "markdown",
   "metadata": {},
   "source": [
    "### Using Chroma DB to store the data\n",
    "<hr>"
   ]
  },
  {
   "cell_type": "code",
   "execution_count": null,
   "metadata": {},
   "outputs": [],
   "source": [
    "! pip install llama-index-stores-chroma\n",
    "! pip install chroma"
   ]
  },
  {
   "cell_type": "markdown",
   "metadata": {},
   "source": [
    "\n",
    "### Persist: Saving to Disk"
   ]
  },
  {
   "cell_type": "markdown",
   "metadata": {},
   "source": [
    "- Create the folder"
   ]
  },
  {
   "cell_type": "code",
   "execution_count": 79,
   "metadata": {},
   "outputs": [],
   "source": [
    "import chromadb\n",
    "db = chromadb.PersistentClient(path=\"/Users/chris/Desktop/7980/CS7980_Capstone_RBCMuseum/llamaindex/chroma_db\")"
   ]
  },
  {
   "cell_type": "markdown",
   "metadata": {},
   "source": [
    "- create a collection\n",
    "- for each new document that want to be embeded and stored, need to create a new collection for it\n",
    "- `webpage2` should be dynamically alterring"
   ]
  },
  {
   "cell_type": "code",
   "execution_count": 179,
   "metadata": {},
   "outputs": [],
   "source": [
    "chroma_collection = db.get_or_create_collection(\"webpage2\")"
   ]
  },
  {
   "cell_type": "code",
   "execution_count": 180,
   "metadata": {},
   "outputs": [],
   "source": [
    "from llama_index.vector_stores.chroma import ChromaVectorStore\n",
    "vector_store = ChromaVectorStore(chroma_collection=chroma_collection)"
   ]
  },
  {
   "cell_type": "code",
   "execution_count": 181,
   "metadata": {},
   "outputs": [],
   "source": [
    "from llama_index.core import StorageContext\n",
    "storage_context = StorageContext.from_defaults(vector_store=vector_store)"
   ]
  },
  {
   "cell_type": "code",
   "execution_count": 195,
   "metadata": {},
   "outputs": [],
   "source": [
    "from llama_index.embeddings.openai import OpenAIEmbedding\n",
    "embed_model = OpenAIEmbedding(model=\"text-embedding-3-small\")"
   ]
  },
  {
   "cell_type": "markdown",
   "metadata": {},
   "source": [
    "- put the index into the vectore store"
   ]
  },
  {
   "cell_type": "code",
   "execution_count": 203,
   "metadata": {},
   "outputs": [],
   "source": [
    "from llama_index.core import VectorStoreIndex\n",
    "index = VectorStoreIndex.from_documents(\n",
    "    documents, embed_model=embed_model,storage_context=storage_context\n",
    ")"
   ]
  },
  {
   "cell_type": "markdown",
   "metadata": {},
   "source": [
    "<hr>\n",
    "\n",
    "### TEST\n",
    "<hr>"
   ]
  },
  {
   "cell_type": "code",
   "execution_count": 204,
   "metadata": {},
   "outputs": [],
   "source": [
    "query_engine = index.as_query_engine()"
   ]
  },
  {
   "cell_type": "code",
   "execution_count": 185,
   "metadata": {},
   "outputs": [],
   "source": [
    "test_question_1 = \"What is instance price of  Azure,?\""
   ]
  },
  {
   "cell_type": "code",
   "execution_count": 186,
   "metadata": {},
   "outputs": [],
   "source": [
    "response_1 = query_engine.query(test_question_1)"
   ]
  },
  {
   "cell_type": "code",
   "execution_count": 187,
   "metadata": {},
   "outputs": [
    {
     "name": "stdout",
     "output_type": "stream",
     "text": [
      "Final Response: The instance price of Azure varies depending on the\n",
      "pricing model chosen. For pay-as-you-go pricing, services are billed\n",
      "per second with no long-term commitment or upfront payments. Reserved\n",
      "Instances offer a discount of up to 72% compared to pay-as-you-go\n",
      "prices when virtual machines are pre-purchased for one or three years\n",
      "in a specific region. Spot Pricing allows users to buy unused\n",
      "computing power at a discount of up to 90% compared to pay-as-you-go\n",
      "prices, but these spot instances can be interrupted on short notice.\n",
      "______________________________________________________________________\n",
      "Source Node 1/2\n",
      "Node ID: fe7a7c58-e889-494d-a2cc-88df501b7cb5\n",
      "Similarity: 0.4983790253029297\n",
      "Text: ### Pay as You Go  You can pay for services on Azure according\n",
      "to actual usage, billed per second, with no long-term commitment or\n",
      "upfront payments. This provides complete flexibility to increase or\n",
      "decrease resources as needed. Azure virtual machines (VMs) can be\n",
      "automatically scaled up and down using Azure’s autoscaling features.\n",
      "**_Related c...\n",
      "______________________________________________________________________\n",
      "Source Node 2/2\n",
      "Node ID: d656bd06-1df0-429d-abf8-90c3b053747f\n",
      "Similarity: 0.4946643889550457\n",
      "Text: Azure Hybrid Benefit applies to Windows Server VMs, SQL Server\n",
      "VMs, and the Azure SQL Database service.  Combined with reserved\n",
      "instances, Azure Hybrid Benefit provides a discount of up to 85%.\n",
      "Additionally, for some versions of Windows Server and Microsoft SQL\n",
      "Server to Azure, you get 3 years of free security updates, without\n",
      "needing to extend...\n"
     ]
    }
   ],
   "source": [
    "from llama_index.core.response.pprint_utils import pprint_response\n",
    "pprint_response(response_1, show_source=True)"
   ]
  },
  {
   "cell_type": "code",
   "execution_count": 205,
   "metadata": {},
   "outputs": [],
   "source": [
    "test_question_2 = \"What is instance price of Azure, instead of give me the link, just summarize what you have from the database?\""
   ]
  },
  {
   "cell_type": "code",
   "execution_count": 206,
   "metadata": {},
   "outputs": [],
   "source": [
    "response_2 = query_engine.query(test_question_2)"
   ]
  },
  {
   "cell_type": "code",
   "execution_count": 207,
   "metadata": {},
   "outputs": [
    {
     "name": "stdout",
     "output_type": "stream",
     "text": [
      "Final Response: Azure offers three main pricing models for instances:\n",
      "Pay as You Go, Reserved Instances, and Spot Pricing. Pay as You Go\n",
      "allows for flexible billing based on actual usage with no long-term\n",
      "commitment. Reserved Instances involve pre-purchasing virtual machines\n",
      "for one or three years in a specific region, offering discounts of up\n",
      "to 72%. Spot Pricing allows users to buy unused computing power at a\n",
      "discount of up to 90%, but these spot instances can be interrupted on\n",
      "short notice. Each pricing model caters to different usage scenarios\n",
      "and preferences.\n",
      "______________________________________________________________________\n",
      "Source Node 1/1\n",
      "Node ID: 5c554a28-ea8f-45b7-98e9-8bf4cf530efe\n",
      "Similarity: 0.47218622829484785\n",
      "Text: ### Pay as You Go  You can pay for services on Azure according\n",
      "to actual usage, billed per second, with no long-term commitment or\n",
      "upfront payments. This provides complete flexibility to increase or\n",
      "decrease resources as needed. Azure virtual machines (VMs) can be\n",
      "automatically scaled up and down using Azure’s autoscaling features.\n",
      "**_Related c...\n"
     ]
    }
   ],
   "source": [
    "pprint_response(response_2, show_source=True)"
   ]
  },
  {
   "cell_type": "code",
   "execution_count": 191,
   "metadata": {},
   "outputs": [],
   "source": [
    "test_question_3 = \"What is the Haida bracelet\""
   ]
  },
  {
   "cell_type": "code",
   "execution_count": 192,
   "metadata": {},
   "outputs": [],
   "source": [
    "response_3 = query_engine.query(test_question_3)"
   ]
  },
  {
   "cell_type": "code",
   "execution_count": 193,
   "metadata": {},
   "outputs": [
    {
     "name": "stdout",
     "output_type": "stream",
     "text": [
      "Final Response: The Haida bracelet is not mentioned in the provided\n",
      "context information.\n",
      "______________________________________________________________________\n",
      "Source Node 1/2\n",
      "Node ID: de6e633b-2ba7-48fc-94ee-b9a2de626563\n",
      "Similarity: 0.15706084283497512\n",
      "Text: [](data:image/svg+xml,%3Csvg%20xmlns='http://www.w3.org/2000/svg\n",
      "'%20viewBox='0%200%2020%2020'%3E%3C/svg%3E)Google CloudCloud\n",
      "optimization for Google Cloud](https://spot.io/solutions/google-cloud-\n",
      "platform/)   - [![](data:image/svg+xml,%3Csvg%20xmlns='http://www.w3.o\n",
      "rg/2000/svg'%20viewBox='0%200%2020%2020'%3E%3C/svg%3E)Container\n",
      "infrastructureDeli...\n",
      "______________________________________________________________________\n",
      "Source Node 2/2\n",
      "Node ID: e9c48505-a460-4328-bb6b-c9ea7f5c17c5\n",
      "Similarity: 0.15565416160770623\n",
      "Text: [](data:image/svg+xml,%3Csvg%20xmlns='http://www.w3.org/2000/svg\n",
      "'%20viewBox='0%200%2026%2020'%3E%3C/svg%3E)Elastigroup](https://spot.i\n",
      "o/product/elastigroup/)   - Kubernetes     - [![](data:image/svg+xml,%\n",
      "3Csvg%20xmlns='http://www.w3.org/2000/svg'%20viewBox='0%200%2027%2020'\n",
      "%3E%3C/svg%3E)Ocean](https://spot.io/product/ocean/)     -\n",
      "[![](data:imag...\n"
     ]
    }
   ],
   "source": [
    "pprint_response(response_3, show_source=True)"
   ]
  },
  {
   "cell_type": "markdown",
   "metadata": {},
   "source": [
    "- Customized Setting for the vector storage (Optional for latter comparision)"
   ]
  },
  {
   "cell_type": "code",
   "execution_count": null,
   "metadata": {},
   "outputs": [],
   "source": [
    "from llama_index.embeddings.openai import OpenAIEmbedding\n",
    "from llama_index.core.node_parser import SentenceSplitter\n",
    "from llama_index.llms.openai import OpenAI\n",
    "from llama_index.core import Settings\n",
    "\n",
    "Settings.llm = OpenAI(model=\"gpt-3.5-turbo\")\n",
    "Settings.embed_model = OpenAIEmbedding(model=\"text-embedding-3-small\")\n",
    "Settings.node_parser = SentenceSplitter(chunk_size=512, chunk_overlap=20)\n",
    "Settings.num_output = 512\n",
    "Settings.context_window = 3900"
   ]
  }
 ],
 "metadata": {
  "kernelspec": {
   "display_name": "Python 3",
   "language": "python",
   "name": "python3"
  },
  "language_info": {
   "codemirror_mode": {
    "name": "ipython",
    "version": 3
   },
   "file_extension": ".py",
   "mimetype": "text/x-python",
   "name": "python",
   "nbconvert_exporter": "python",
   "pygments_lexer": "ipython3",
   "version": "3.11.9"
  }
 },
 "nbformat": 4,
 "nbformat_minor": 2
}
