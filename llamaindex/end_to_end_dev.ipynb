{
 "cells": [
  {
   "cell_type": "markdown",
   "metadata": {},
   "source": [
    "# This is a End to End LLM test project\n",
    "<hr>\n",
    "\n",
    "- Data Ingestion\n",
    "- Data Indexing\n",
    "- Query Interface"
   ]
  },
  {
   "cell_type": "markdown",
   "metadata": {},
   "source": [
    "### Create the dot envrionment"
   ]
  },
  {
   "cell_type": "code",
   "execution_count": 6,
   "metadata": {},
   "outputs": [
    {
     "data": {
      "text/plain": [
       "True"
      ]
     },
     "execution_count": 6,
     "metadata": {},
     "output_type": "execute_result"
    }
   ],
   "source": [
    "import os\n",
    "\n",
    "from dotenv import load_dotenv\n",
    "load_dotenv()"
   ]
  },
  {
   "cell_type": "markdown",
   "metadata": {},
   "source": [
    "### Get OpenAI API Key"
   ]
  },
  {
   "cell_type": "code",
   "execution_count": 7,
   "metadata": {},
   "outputs": [],
   "source": [
    "os.environ['OPENAI_API_KEY'] = os.getenv('OPENAI_API_KEY')"
   ]
  },
  {
   "cell_type": "markdown",
   "metadata": {},
   "source": [
    "### Get the data"
   ]
  },
  {
   "cell_type": "code",
   "execution_count": 8,
   "metadata": {},
   "outputs": [],
   "source": [
    "from llama_index.core import VectorStoreIndex, SimpleDirectoryReader\n",
    "documents = SimpleDirectoryReader('data').load_data()"
   ]
  },
  {
   "cell_type": "code",
   "execution_count": 8,
   "metadata": {},
   "outputs": [
    {
     "data": {
      "text/plain": [
       "[Document(id_='4b1a07b7-80fa-4b01-bc26-46e90bbdcfab', embedding=None, metadata={'page_label': '1', 'file_name': 'Haida bracelet.pdf', 'file_path': '/Users/chris/Desktop/7980/CS7980_Capstone_RBCMuseum/llamaindex/data/Haida bracelet.pdf', 'file_type': 'application/pdf', 'file_size': 227621, 'creation_date': '2024-09-29', 'last_modified_date': '2024-09-29'}, excluded_embed_metadata_keys=['file_name', 'file_type', 'file_size', 'creation_date', 'last_modified_date', 'last_accessed_date'], excluded_llm_metadata_keys=['file_name', 'file_type', 'file_size', 'creation_date', 'last_modified_date', 'last_accessed_date'], relationships={}, text=\"Visit\\nPlan Your Visit (http://royalbcmuseum.bc.ca/visit)\\nAbout (http://royalbcmuseum.bc.ca/about)\\nSupport Us (http://royalbcmuseum.bc.ca/support)\\nContact Us (http://royalbcmuseum.bc.ca/contact)\\nTickets (http://royalbcmuseum.bc.ca/tickets)\\nWhat's On\\nExhibitions (http://royalbcmuseum.bc.ca/exhibitions)\\nImax® (http://royalbcmuseum.bc.ca/imax)\\nCalendar (http://royalbcmuseum.bc.ca/calendar)\\nMembers Events (http://royalbcmuseum.bc.ca/members-events)\\nRBCM Channel (http://royalbcmuseum.bc.ca/rbcm-channel)\\nNatural History\\nCollections (http://royalbcmuseum.bc.ca/nh-collections)\\nCurators (http://royalbcmuseum.bc.ca/nh-curators)\\nSearch Collection (http://search-collections.royalbcmuseum.bc.ca/KeywordNaturalHistory)\\nCollections Care (http://royalbcmuseum.bc.ca/conservation)\\nResearch (http://royalbcmuseum.bc.ca/research)\\nHuman History\\nCollections (http://royalbcmuseum.bc.ca/hh-collections)\\nCurators (http://royalbcmuseum.bc.ca/hh-curators)\\nSearch Collection (http://search-collections.royalbcmuseum.bc.ca/)\\nCollections Care (http://royalbcmuseum.bc.ca/conservation)\\nResearch (http://royalbcmuseum.bc.ca/research)\\nBC Archives\\nAbout BC Archives (http://royalbcmuseum.bc.ca/bcarchives)\\nVisitor Information (http://royalbcmuseum.bc.ca/archives-visitors)\\nCollections (http://royalbcmuseum.bc.ca/archives-collections)\\nArchivists (http://royalbcmuseum.bc.ca/archivists)\\nSearch Collection (http://royalbcmuseum.bc.ca/search-the-bc-archives-collections)\\nLearning\\nAbout (http://royalbcmuseum.bc.ca/learning)\\nAdult Learning (http://royalbcmuseum.bc.ca/adult)\\nKids and Families (http://royalbcmuseum.bc.ca/kids)\\nSchools (http://royalbcmuseum.bc.ca/schools)\\nLearning Team (http://royalbcmuseum.bc.ca/learning-team)\\nHaida bracelet\\nDATE: 1980\\nRECORD: RBCM 18826\\nMATERIALS: silver\\nARTIST: Robert Davidson\\nguud san glans, Robert Davidson (born 1946) is a great grandson of the Haida artist, Charles Edenshaw, and carries on Edenshaw’s legacy of innovation combined with traditional craftsmanship. This beautifully designed and executed silver bracelet,\\ntitled Happy Negative Spaces, was made in 1980 and is one of his most important early abstract works. Davidson went on to further explore the abstract possibilities of Haida form in printmaking, painting and sculpture. The Seattle Art Museum’s 2013\\nexhibition, Robert Davidson: Abstract Impulse, brought together much of this important innovative work. The exhibition, which included this bracelet, travelled to the National Museum of the American Indian in New York City.\\nThis image may require permission from the copyright holder before a print can be supplied\\nThis object selected by Dr Martha Black.\\nPrevious Object (http://www.royalbcmuseum.bc.ca/100/object/haida-box/) Next Object (http://www.royalbcmuseum.bc.ca/100/object/haida-headdress-frontlet/)100 OBJECTS OF INTEREST\\nBACK TO LIST (HTTP://WWW.ROYALBCMUSEUM.BC.CA/100)\\n9/27/24, 11:32 PM Haida bracelet | 100 Objects of Interest\\nhttps://www.royalbcmuseum.bc.ca/100/object/haida-bracelet/ 1/2\", mimetype='text/plain', start_char_idx=None, end_char_idx=None, text_template='{metadata_str}\\n\\n{content}', metadata_template='{key}: {value}', metadata_seperator='\\n'),\n",
       " Document(id_='ad031ee4-83e2-4d29-a747-cc9888be671a', embedding=None, metadata={'page_label': '2', 'file_name': 'Haida bracelet.pdf', 'file_path': '/Users/chris/Desktop/7980/CS7980_Capstone_RBCMuseum/llamaindex/data/Haida bracelet.pdf', 'file_type': 'application/pdf', 'file_size': 227621, 'creation_date': '2024-09-29', 'last_modified_date': '2024-09-29'}, excluded_embed_metadata_keys=['file_name', 'file_type', 'file_size', 'creation_date', 'last_modified_date', 'last_accessed_date'], excluded_llm_metadata_keys=['file_name', 'file_type', 'file_size', 'creation_date', 'last_modified_date', 'last_accessed_date'], relationships={}, text=' (/)PLAN YOUR VISIT\\nBuy Tickets (http://royalbcmuseum.bc.‐\\nca/visit/tickets-admission)\\nHours\\n(http://royalbcmuseum.bc.ca/visit/plan-\\nyour-visit/hours) & Location (http://roy‐\\nalbcmuseum.bc.ca/visit/plan-your-\\nvisit/location)\\nEvents\\n(http://royalbcmuseum.bc.ca/visit/cal‐\\nendar)GET IN TOUCH\\n675 Belleville Street,\\nVictoria, BC V8W 9W2\\n1-250-356-7226 (tel:12503567226)\\n1-888-447-7977 (tel:18884477977)\\nreception@royalbcmuseum.bc.ca\\n(mailto:reception@royalbcmuse‐\\num.bc.ca)QUICK LINKS\\nSubscribe to Newsletter (https://www.‐\\nmailoutinteractive.com/Industry/Sub‐\\nscribe.aspx?m=30765)\\nHours & Location (/visit/plan-your-\\nvisit/hours)\\nEmployment (/about/people/employment)\\nAccessibility (/visit/plan-your-\\nvisit/accessibility)\\nPrivacy (/privacy)\\nTerms & Conditions (/terms-conditions)\\nMember Login (https://sales.royalbcmu‐\\nseum.bc.ca/SignIn.aspx?\\nReturnUrl=https%3a%2f%2fsales.royalbc\\nmuseum.bc.ca%2fDefault.aspx%3ftagid\\n%3d6)\\nTRANSLATE\\nSelect Language\\n \\n▼ \\n Select Language\\n \\n▼9/27/24, 11:32 PM Haida bracelet | 100 Objects of Interest\\nhttps://www.royalbcmuseum.bc.ca/100/object/haida-bracelet/ 2/2', mimetype='text/plain', start_char_idx=None, end_char_idx=None, text_template='{metadata_str}\\n\\n{content}', metadata_template='{key}: {value}', metadata_seperator='\\n')]"
      ]
     },
     "execution_count": 8,
     "metadata": {},
     "output_type": "execute_result"
    }
   ],
   "source": [
    "documents"
   ]
  },
  {
   "cell_type": "markdown",
   "metadata": {},
   "source": [
    "### Convert to vector and index them from the documents\n",
    "\n",
    "- `show_progress` will show how fast it is indexing"
   ]
  },
  {
   "cell_type": "code",
   "execution_count": 9,
   "metadata": {},
   "outputs": [
    {
     "name": "stderr",
     "output_type": "stream",
     "text": [
      "Parsing nodes: 100%|██████████| 2/2 [00:00<00:00, 972.82it/s]\n",
      "Generating embeddings: 100%|██████████| 2/2 [00:00<00:00,  6.09it/s]\n"
     ]
    }
   ],
   "source": [
    "index = VectorStoreIndex.from_documents(documents, show_progress=True)"
   ]
  },
  {
   "cell_type": "markdown",
   "metadata": {},
   "source": [
    "Vector store index"
   ]
  },
  {
   "cell_type": "code",
   "execution_count": 63,
   "metadata": {},
   "outputs": [
    {
     "data": {
      "text/plain": [
       "<llama_index.core.indices.vector_store.base.VectorStoreIndex at 0x1642b45d0>"
      ]
     },
     "execution_count": 63,
     "metadata": {},
     "output_type": "execute_result"
    }
   ],
   "source": [
    "index"
   ]
  },
  {
   "cell_type": "markdown",
   "metadata": {},
   "source": [
    "<hr>\n",
    "\n",
    "### Modify the retrieval parameters\n",
    "\n",
    "- this is modify the query engin by set different parameters\n",
    "<hr>"
   ]
  },
  {
   "cell_type": "markdown",
   "metadata": {},
   "source": [
    "[Vector doc](https://docs.llamaindex.ai/en/stable/api_reference/retrievers/vector/)\n",
    "\n",
    "[Customer Retrieve](https://docs.llamaindex.ai/en/stable/examples/query_engine/CustomRetrievers/)\n",
    "\n",
    "[Node Processor](https://docs.llamaindex.ai/en/stable/module_guides/querying/node_postprocessors/)"
   ]
  },
  {
   "cell_type": "code",
   "execution_count": 10,
   "metadata": {},
   "outputs": [],
   "source": [
    "from llama_index.core.retrievers import VectorIndexRetriever\n",
    "from llama_index.core.query_engine import RetrieverQueryEngine\n",
    "from llama_index.core.postprocessor import SimilarityPostprocessor\n",
    "\n",
    "retriever = VectorIndexRetriever(index=index, similarity_top_k=3)\n",
    "postprocessor = SimilarityPostprocessor(similarity_cutoff=0.77)\n",
    "\n",
    "query_engine = RetrieverQueryEngine(retriever=retriever,\n",
    "                                    node_postprocessors=[postprocessor])"
   ]
  },
  {
   "cell_type": "markdown",
   "metadata": {},
   "source": [
    "<hr>"
   ]
  },
  {
   "cell_type": "code",
   "execution_count": 50,
   "metadata": {},
   "outputs": [
    {
     "data": {
      "text/plain": [
       "<llama_index.core.query_engine.retriever_query_engine.RetrieverQueryEngine at 0x1668b2a50>"
      ]
     },
     "execution_count": 50,
     "metadata": {},
     "output_type": "execute_result"
    }
   ],
   "source": [
    "query_engine"
   ]
  },
  {
   "cell_type": "markdown",
   "metadata": {},
   "source": [
    "### Can use this index for query"
   ]
  },
  {
   "cell_type": "markdown",
   "metadata": {},
   "source": [
    "query from the index as the query engine"
   ]
  },
  {
   "cell_type": "code",
   "execution_count": 11,
   "metadata": {},
   "outputs": [],
   "source": [
    "query_engin = index.as_query_engine()"
   ]
  },
  {
   "cell_type": "markdown",
   "metadata": {},
   "source": [
    "It is a retrieval engine, retrieving the from data index"
   ]
  },
  {
   "cell_type": "code",
   "execution_count": 12,
   "metadata": {},
   "outputs": [
    {
     "data": {
      "text/plain": [
       "<llama_index.core.query_engine.retriever_query_engine.RetrieverQueryEngine at 0x1244871d0>"
      ]
     },
     "execution_count": 12,
     "metadata": {},
     "output_type": "execute_result"
    }
   ],
   "source": [
    "query_engin"
   ]
  },
  {
   "cell_type": "markdown",
   "metadata": {},
   "source": [
    "### Generate a query"
   ]
  },
  {
   "cell_type": "code",
   "execution_count": 11,
   "metadata": {},
   "outputs": [],
   "source": [
    "query = 'What is the bracelet made of, who made it, which year it was made'"
   ]
  },
  {
   "cell_type": "code",
   "execution_count": 13,
   "metadata": {},
   "outputs": [],
   "source": [
    "response = query_engine.query(query)"
   ]
  },
  {
   "cell_type": "markdown",
   "metadata": {},
   "source": [
    "### Print the output\n",
    "\n",
    "-`show_source` can show the source of the data"
   ]
  },
  {
   "cell_type": "code",
   "execution_count": 14,
   "metadata": {},
   "outputs": [
    {
     "name": "stdout",
     "output_type": "stream",
     "text": [
      "Final Response: The bracelet is made of silver, it was made by Robert\n",
      "Davidson in the year 1980.\n",
      "______________________________________________________________________\n",
      "Source Node 1/1\n",
      "Node ID: ba9e9264-7304-4c40-bbcb-e0cccaf467ac\n",
      "Similarity: 0.7925291996483909\n",
      "Text: Visit Plan Your Visit (http://royalbcmuseum.bc.ca/visit) About\n",
      "(http://royalbcmuseum.bc.ca/about) Support Us\n",
      "(http://royalbcmuseum.bc.ca/support) Contact Us\n",
      "(http://royalbcmuseum.bc.ca/contact) Tickets\n",
      "(http://royalbcmuseum.bc.ca/tickets) What's On Exhibitions\n",
      "(http://royalbcmuseum.bc.ca/exhibitions) Imax®\n",
      "(http://royalbcmuseum.bc.ca/imax) Calen...\n"
     ]
    }
   ],
   "source": [
    "from llama_index.core.response.pprint_utils import pprint_response\n",
    "pprint_response(response, show_source=True)"
   ]
  },
  {
   "cell_type": "markdown",
   "metadata": {},
   "source": [
    "## Storing\n",
    "<hr>"
   ]
  },
  {
   "cell_type": "markdown",
   "metadata": {},
   "source": [
    "### The most deafult way of storing in storage file\n",
    "\n",
    "- the `PRESIST_DIR` is `storage`\n",
    "- generally load the index from `load_index_from_storage`"
   ]
  },
  {
   "cell_type": "code",
   "execution_count": 25,
   "metadata": {},
   "outputs": [],
   "source": [
    "import os.path\n",
    "from llama_index.core import (\n",
    "    VectorStoreIndex,\n",
    "    SimpleDirectoryReader,\n",
    "    StorageContext,\n",
    "    load_index_from_storage,\n",
    ")\n",
    "\n",
    "# check if storage already exists\n",
    "PERSIST_DIR = \"./storage\"\n",
    "if not os.path.exists(PERSIST_DIR):\n",
    "    # load the documents and create the index\n",
    "    documents = SimpleDirectoryReader(\"data\").load_data()\n",
    "    index = VectorStoreIndex.from_documents(documents)\n",
    "    # store it for later\n",
    "    index.storage_context.persist(persist_dir=PERSIST_DIR)\n",
    "else:\n",
    "    # load the existing index\n",
    "    storage_context = StorageContext.from_defaults(persist_dir=PERSIST_DIR)\n",
    "    index = load_index_from_storage(storage_context)"
   ]
  },
  {
   "cell_type": "markdown",
   "metadata": {},
   "source": [
    "## Using Chromadb\n",
    "\n",
    "[ChromaDB](https://docs.llamaindex.ai/en/stable/understanding/storing/storing/)"
   ]
  },
  {
   "cell_type": "markdown",
   "metadata": {},
   "source": [
    "To use Chroma to store the embeddings from a VectorStoreIndex, you need to:\n",
    "\n",
    "- initialize the Chroma client\n",
    "- create a Collection to store your data in Chroma\n",
    "- assign Chroma as the `vector_store` in a `StorageContext`\n",
    "- initialize your `VectorStoreIndex` using that `StorageContext`\n",
    "- `chroma_collection` is a identity"
   ]
  },
  {
   "cell_type": "code",
   "execution_count": null,
   "metadata": {},
   "outputs": [],
   "source": [
    "import chromadb\n",
    "from llama_index.core import VectorStoreIndex, SimpleDirectoryReader\n",
    "from llama_index.vector_stores.chroma import ChromaVectorStore\n",
    "from llama_index.core import StorageContext\n",
    "\n",
    "# load some documents\n",
    "documents = SimpleDirectoryReader(\"./data\").load_data()\n",
    "\n",
    "# initialize client, setting path to save data\n",
    "db = chromadb.PersistentClient(path=\"./chroma_db\")\n",
    "\n",
    "# create collection\n",
    "chroma_collection = db.get_or_create_collection(\"bracelet\")\n",
    "\n",
    "# assign chroma as the vector_store to the context\n",
    "vector_store = ChromaVectorStore(chroma_collection=chroma_collection)\n",
    "storage_context = StorageContext.from_defaults(vector_store=vector_store)\n",
    "\n",
    "# create your index\n",
    "index = VectorStoreIndex.from_documents(\n",
    "    documents, storage_context=storage_context\n",
    ")"
   ]
  },
  {
   "cell_type": "markdown",
   "metadata": {},
   "source": [
    "test index peformance"
   ]
  },
  {
   "cell_type": "code",
   "execution_count": 26,
   "metadata": {},
   "outputs": [
    {
     "name": "stdout",
     "output_type": "stream",
     "text": [
      "Final Response: The bracelet is made of silver, it was created by\n",
      "Robert Davidson, and it was made in the year 1980.\n",
      "______________________________________________________________________\n",
      "Source Node 1/2\n",
      "Node ID: 747acbbc-aae4-4185-88a9-e494065c0634\n",
      "Similarity: 0.7925291996483909\n",
      "Text: Visit Plan Your Visit (http://royalbcmuseum.bc.ca/visit) About\n",
      "(http://royalbcmuseum.bc.ca/about) Support Us\n",
      "(http://royalbcmuseum.bc.ca/support) Contact Us\n",
      "(http://royalbcmuseum.bc.ca/contact) Tickets\n",
      "(http://royalbcmuseum.bc.ca/tickets) What's On Exhibitions\n",
      "(http://royalbcmuseum.bc.ca/exhibitions) Imax®\n",
      "(http://royalbcmuseum.bc.ca/imax) Calen...\n",
      "______________________________________________________________________\n",
      "Source Node 2/2\n",
      "Node ID: 7e2775dc-061f-4235-b4b0-636eab5fb48b\n",
      "Similarity: 0.7611975805372408\n",
      "Text: (/)PLAN YOUR VISIT Buy Tickets (http://royalbcmuseum.bc.‐\n",
      "ca/visit/tickets-admission) Hours\n",
      "(http://royalbcmuseum.bc.ca/visit/plan- your-visit/hours) & Location\n",
      "(http://roy‐ albcmuseum.bc.ca/visit/plan-your- visit/location) Events\n",
      "(http://royalbcmuseum.bc.ca/visit/cal‐ endar)GET IN TOUCH 675\n",
      "Belleville Street, Victoria, BC V8W 9W2 1-250-356-7226...\n"
     ]
    }
   ],
   "source": [
    "retriever = VectorIndexRetriever(index=index, similarity_top_k=3)\n",
    "postprocessor = SimilarityPostprocessor(similarity_cutoff=0.2)\n",
    "\n",
    "query_engine = RetrieverQueryEngine(retriever=retriever,\n",
    "                                    node_postprocessors=[postprocessor])\n",
    "\n",
    "response = query_engine.query(query)\n",
    "\n",
    "pprint_response(response, show_source=True)"
   ]
  },
  {
   "cell_type": "markdown",
   "metadata": {},
   "source": [
    "test the index performance"
   ]
  },
  {
   "cell_type": "code",
   "execution_count": 24,
   "metadata": {},
   "outputs": [
    {
     "name": "stderr",
     "output_type": "stream",
     "text": [
      "Number of requested results 3 is greater than number of elements in index 2, updating n_results = 2\n"
     ]
    },
    {
     "name": "stdout",
     "output_type": "stream",
     "text": [
      "Final Response: The bracelet is made of silver, it was created by the\n",
      "artist Robert Davidson, and it was made in the year 1980.\n",
      "______________________________________________________________________\n",
      "Source Node 1/2\n",
      "Node ID: 4591dc01-23a7-46aa-ae5e-b4b660694d28\n",
      "Similarity: 0.6603788506952825\n",
      "Text: Visit Plan Your Visit (http://royalbcmuseum.bc.ca/visit) About\n",
      "(http://royalbcmuseum.bc.ca/about) Support Us\n",
      "(http://royalbcmuseum.bc.ca/support) Contact Us\n",
      "(http://royalbcmuseum.bc.ca/contact) Tickets\n",
      "(http://royalbcmuseum.bc.ca/tickets) What's On Exhibitions\n",
      "(http://royalbcmuseum.bc.ca/exhibitions) Imax®\n",
      "(http://royalbcmuseum.bc.ca/imax) Calen...\n",
      "______________________________________________________________________\n",
      "Source Node 2/2\n",
      "Node ID: 12ce35fc-1a0c-42fb-8a99-ef959f11cc39\n",
      "Similarity: 0.620267265854705\n",
      "Text: (/)PLAN YOUR VISIT Buy Tickets (http://royalbcmuseum.bc.‐\n",
      "ca/visit/tickets-admission) Hours\n",
      "(http://royalbcmuseum.bc.ca/visit/plan- your-visit/hours) & Location\n",
      "(http://roy‐ albcmuseum.bc.ca/visit/plan-your- visit/location) Events\n",
      "(http://royalbcmuseum.bc.ca/visit/cal‐ endar)GET IN TOUCH 675\n",
      "Belleville Street, Victoria, BC V8W 9W2 1-250-356-7226...\n"
     ]
    }
   ],
   "source": [
    "retriever = VectorIndexRetriever(index=index, similarity_top_k=3)\n",
    "postprocessor = SimilarityPostprocessor(similarity_cutoff=0.2)\n",
    "\n",
    "query_engine = RetrieverQueryEngine(retriever=retriever,\n",
    "                                    node_postprocessors=[postprocessor])\n",
    "\n",
    "response = query_engine.query(query)\n",
    "\n",
    "pprint_response(response, show_source=True)"
   ]
  },
  {
   "cell_type": "markdown",
   "metadata": {},
   "source": [
    "### If you've already created and stored your embeddings, \n",
    "\n",
    "### you'll want to load them directly without loading your documents or creating a new VectorStoreIndex:\n"
   ]
  },
  {
   "cell_type": "code",
   "execution_count": 21,
   "metadata": {},
   "outputs": [],
   "source": [
    "import chromadb\n",
    "from llama_index.core import VectorStoreIndex\n",
    "from llama_index.vector_stores.chroma import ChromaVectorStore\n",
    "from llama_index.core import StorageContext\n",
    "\n",
    "# initialize client\n",
    "db = chromadb.PersistentClient(path=\"./chroma_db\")\n",
    "\n",
    "# get collection\n",
    "chroma_collection = db.get_or_create_collection(\"bracelet\")\n",
    "\n",
    "# assign chroma as the vector_store to the context\n",
    "vector_store = ChromaVectorStore(chroma_collection=chroma_collection)\n",
    "storage_context = StorageContext.from_defaults(vector_store=vector_store)\n",
    "\n",
    "# load your index from stored vectors\n",
    "index = VectorStoreIndex.from_vector_store(\n",
    "    vector_store, storage_context=storage_context\n",
    ")"
   ]
  },
  {
   "cell_type": "markdown",
   "metadata": {},
   "source": [
    "test `query_engine` and query from previous "
   ]
  },
  {
   "cell_type": "code",
   "execution_count": 22,
   "metadata": {},
   "outputs": [
    {
     "name": "stderr",
     "output_type": "stream",
     "text": [
      "Number of requested results 3 is greater than number of elements in index 2, updating n_results = 2\n"
     ]
    },
    {
     "name": "stdout",
     "output_type": "stream",
     "text": [
      "Final Response: The bracelet is made of silver and it was created by\n",
      "the artist Robert Davidson in the year 1980.\n",
      "______________________________________________________________________\n",
      "Source Node 1/2\n",
      "Node ID: 4591dc01-23a7-46aa-ae5e-b4b660694d28\n",
      "Similarity: 0.6603788506952825\n",
      "Text: Visit Plan Your Visit (http://royalbcmuseum.bc.ca/visit) About\n",
      "(http://royalbcmuseum.bc.ca/about) Support Us\n",
      "(http://royalbcmuseum.bc.ca/support) Contact Us\n",
      "(http://royalbcmuseum.bc.ca/contact) Tickets\n",
      "(http://royalbcmuseum.bc.ca/tickets) What's On Exhibitions\n",
      "(http://royalbcmuseum.bc.ca/exhibitions) Imax®\n",
      "(http://royalbcmuseum.bc.ca/imax) Calen...\n",
      "______________________________________________________________________\n",
      "Source Node 2/2\n",
      "Node ID: 12ce35fc-1a0c-42fb-8a99-ef959f11cc39\n",
      "Similarity: 0.620267265854705\n",
      "Text: (/)PLAN YOUR VISIT Buy Tickets (http://royalbcmuseum.bc.‐\n",
      "ca/visit/tickets-admission) Hours\n",
      "(http://royalbcmuseum.bc.ca/visit/plan- your-visit/hours) & Location\n",
      "(http://roy‐ albcmuseum.bc.ca/visit/plan-your- visit/location) Events\n",
      "(http://royalbcmuseum.bc.ca/visit/cal‐ endar)GET IN TOUCH 675\n",
      "Belleville Street, Victoria, BC V8W 9W2 1-250-356-7226...\n"
     ]
    }
   ],
   "source": [
    "retriever = VectorIndexRetriever(index=index, similarity_top_k=3)\n",
    "postprocessor = SimilarityPostprocessor(similarity_cutoff=0.2)\n",
    "\n",
    "query_engine = RetrieverQueryEngine(retriever=retriever,\n",
    "                                    node_postprocessors=[postprocessor])\n",
    "\n",
    "response = query_engine.query(query)\n",
    "\n",
    "pprint_response(response, show_source=True)"
   ]
  },
  {
   "cell_type": "markdown",
   "metadata": {},
   "source": [
    "<hr>\n",
    "\n",
    "### Conclusion on Storing\n",
    "\n",
    "- Both storage and chromadb works\n",
    "- The **similarity** is diffrent.\n",
    "- Storage is 0.79\n",
    "- Chromadb is 0.66"
   ]
  }
 ],
 "metadata": {
  "kernelspec": {
   "display_name": "Python 3",
   "language": "python",
   "name": "python3"
  },
  "language_info": {
   "codemirror_mode": {
    "name": "ipython",
    "version": 3
   },
   "file_extension": ".py",
   "mimetype": "text/x-python",
   "name": "python",
   "nbconvert_exporter": "python",
   "pygments_lexer": "ipython3",
   "version": "3.11.9"
  }
 },
 "nbformat": 4,
 "nbformat_minor": 2
}
