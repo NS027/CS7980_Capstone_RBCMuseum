{
 "cells": [
  {
   "cell_type": "markdown",
   "metadata": {},
   "source": [
    "# Development of the LlamaIndex model\n",
    "<hr>\n",
    "\n",
    "- This model is built based on llamaindex"
   ]
  },
  {
   "cell_type": "markdown",
   "metadata": {},
   "source": [
    "## Step 1. Set up the environment"
   ]
  },
  {
   "cell_type": "markdown",
   "metadata": {},
   "source": [
    "* import the dotenv"
   ]
  },
  {
   "cell_type": "code",
   "execution_count": 1,
   "metadata": {},
   "outputs": [
    {
     "data": {
      "text/plain": [
       "True"
      ]
     },
     "execution_count": 1,
     "metadata": {},
     "output_type": "execute_result"
    }
   ],
   "source": [
    "import os\n",
    "\n",
    "from dotenv import load_dotenv\n",
    "load_dotenv()"
   ]
  },
  {
   "cell_type": "code",
   "execution_count": 2,
   "metadata": {},
   "outputs": [],
   "source": [
    "os.environ['OPENAI_API_KEY']=os.getenv('OPENAI_API_KEY')\n",
    "if not os.getenv('OPENAI_API_KEY'):\n",
    "    raise ValueError(\"OPENAI_API_KEY not found in environment variables\")"
   ]
  },
  {
   "cell_type": "markdown",
   "metadata": {},
   "source": [
    "## Step 2. Imported PDF file from the data"
   ]
  },
  {
   "cell_type": "code",
   "execution_count": 3,
   "metadata": {},
   "outputs": [
    {
     "name": "stderr",
     "output_type": "stream",
     "text": [
      "Ignoring wrong pointing object 6 0 (offset 0)\n",
      "Ignoring wrong pointing object 8 0 (offset 0)\n",
      "Ignoring wrong pointing object 15 0 (offset 0)\n"
     ]
    }
   ],
   "source": [
    "from llama_index.core import SimpleDirectoryReader\n",
    "\n",
    "documents = SimpleDirectoryReader('data').load_data()"
   ]
  },
  {
   "cell_type": "markdown",
   "metadata": {},
   "source": [
    "## Step 3. Indexing the data"
   ]
  },
  {
   "cell_type": "code",
   "execution_count": 4,
   "metadata": {},
   "outputs": [],
   "source": [
    "from llama_index.core import VectorStoreIndex\n",
    "\n",
    "index = VectorStoreIndex.from_documents(documents)"
   ]
  },
  {
   "cell_type": "markdown",
   "metadata": {},
   "source": [
    "## Step 4. Set the query engine"
   ]
  },
  {
   "cell_type": "code",
   "execution_count": 5,
   "metadata": {},
   "outputs": [],
   "source": [
    "query_engine = index.as_query_engine()"
   ]
  },
  {
   "cell_type": "markdown",
   "metadata": {},
   "source": [
    "<hr>\n",
    "\n",
    "## Test Questions"
   ]
  },
  {
   "cell_type": "markdown",
   "metadata": {},
   "source": [
    "- Test Question"
   ]
  },
  {
   "cell_type": "code",
   "execution_count": 6,
   "metadata": {},
   "outputs": [],
   "source": [
    "test_question_1 = \"What is the check-in time for the Airbnb?\"\n",
    "test_question_2 = \"Who created the Haida Bracelet?\"\n",
    "test_question_3 = \"Where's the Haida Bracelet?\""
   ]
  },
  {
   "cell_type": "markdown",
   "metadata": {},
   "source": [
    "- Create respones"
   ]
  },
  {
   "cell_type": "code",
   "execution_count": 8,
   "metadata": {},
   "outputs": [],
   "source": [
    "response_1 = query_engine.query(test_question_1)\n",
    "response_2 = query_engine.query(test_question_2)\n",
    "response_3 = query_engine.query(test_question_3)"
   ]
  },
  {
   "cell_type": "markdown",
   "metadata": {},
   "source": [
    "- Answers"
   ]
  },
  {
   "cell_type": "code",
   "execution_count": 10,
   "metadata": {},
   "outputs": [
    {
     "name": "stdout",
     "output_type": "stream",
     "text": [
      "---------------First Question----------------\n",
      "Final Response: The check-in time for the Airbnb is not provided in\n",
      "the context information.\n",
      "______________________________________________________________________\n",
      "Source Node 1/2\n",
      "Node ID: 4a83502d-7452-490d-93f8-ead3f913eda4\n",
      "Similarity: 0.7046900495257937\n",
      "Text: Haida bracelet  Date:  1980 Record:  RBCM 18826 Materials:\n",
      "silver Artist:  Robert Davidson guud san glans, Robert Davidson (born\n",
      "1946) is a great grandson of the Haida artist, Charles Edenshaw, and\n",
      "carries on Edenshaw’s legacy of innovation combined with traditional\n",
      "craftsmanship. This beautifully designed and executed silver bracelet,\n",
      "titled H...\n",
      "______________________________________________________________________\n",
      "Source Node 2/2\n",
      "Node ID: 137daa02-9241-410f-8ce1-30b66622f823\n",
      "Similarity: 0.7011079270120671\n",
      "Text: works. Davidson went on to further explore the abstract\n",
      "possibilities of Haida form in printmaking, painting and sculpture.\n",
      "The Seattle Art Museum’s 2013 exhibition, Robert Davidson: Abstract\n",
      "Impulse, brought together much of this important innovative work. The\n",
      "exhibition, which included this bracelet, travelled to the National\n",
      "Museum of the Ame...\n",
      "---------------Second Question----------------\n",
      "Final Response: Robert Davidson created the Haida Bracelet.\n",
      "______________________________________________________________________\n",
      "Source Node 1/2\n",
      "Node ID: 4a83502d-7452-490d-93f8-ead3f913eda4\n",
      "Similarity: 0.8591786804637872\n",
      "Text: Haida bracelet  Date:  1980 Record:  RBCM 18826 Materials:\n",
      "silver Artist:  Robert Davidson guud san glans, Robert Davidson (born\n",
      "1946) is a great grandson of the Haida artist, Charles Edenshaw, and\n",
      "carries on Edenshaw’s legacy of innovation combined with traditional\n",
      "craftsmanship. This beautifully designed and executed silver bracelet,\n",
      "titled H...\n",
      "______________________________________________________________________\n",
      "Source Node 2/2\n",
      "Node ID: 137daa02-9241-410f-8ce1-30b66622f823\n",
      "Similarity: 0.8414021216325019\n",
      "Text: works. Davidson went on to further explore the abstract\n",
      "possibilities of Haida form in printmaking, painting and sculpture.\n",
      "The Seattle Art Museum’s 2013 exhibition, Robert Davidson: Abstract\n",
      "Impulse, brought together much of this important innovative work. The\n",
      "exhibition, which included this bracelet, travelled to the National\n",
      "Museum of the Ame...\n",
      "---------------Third Question----------------\n",
      "Final Response: The Haida bracelet is located in the Seattle Art\n",
      "Museum's 2013 exhibition titled \"Robert Davidson: Abstract Impulse,\"\n",
      "which also traveled to the National Museum of the American Indian in\n",
      "New York City.\n",
      "______________________________________________________________________\n",
      "Source Node 1/2\n",
      "Node ID: 4a83502d-7452-490d-93f8-ead3f913eda4\n",
      "Similarity: 0.8406186514456019\n",
      "Text: Haida bracelet  Date:  1980 Record:  RBCM 18826 Materials:\n",
      "silver Artist:  Robert Davidson guud san glans, Robert Davidson (born\n",
      "1946) is a great grandson of the Haida artist, Charles Edenshaw, and\n",
      "carries on Edenshaw’s legacy of innovation combined with traditional\n",
      "craftsmanship. This beautifully designed and executed silver bracelet,\n",
      "titled H...\n",
      "______________________________________________________________________\n",
      "Source Node 2/2\n",
      "Node ID: 137daa02-9241-410f-8ce1-30b66622f823\n",
      "Similarity: 0.8336694873057532\n",
      "Text: works. Davidson went on to further explore the abstract\n",
      "possibilities of Haida form in printmaking, painting and sculpture.\n",
      "The Seattle Art Museum’s 2013 exhibition, Robert Davidson: Abstract\n",
      "Impulse, brought together much of this important innovative work. The\n",
      "exhibition, which included this bracelet, travelled to the National\n",
      "Museum of the Ame...\n"
     ]
    }
   ],
   "source": [
    "from llama_index.core.response.pprint_utils import pprint_response\n",
    "print(\"---------------First Question----------------\")\n",
    "pprint_response(response_1, show_source=True)\n",
    "print(\"---------------Second Question----------------\")\n",
    "pprint_response(response_2, show_source=True)\n",
    "print(\"---------------Third Question----------------\")\n",
    "pprint_response(response_3, show_source=True)"
   ]
  }
 ],
 "metadata": {
  "kernelspec": {
   "display_name": "Python 3",
   "language": "python",
   "name": "python3"
  },
  "language_info": {
   "codemirror_mode": {
    "name": "ipython",
    "version": 3
   },
   "file_extension": ".py",
   "mimetype": "text/x-python",
   "name": "python",
   "nbconvert_exporter": "python",
   "pygments_lexer": "ipython3",
   "version": "3.11.9"
  }
 },
 "nbformat": 4,
 "nbformat_minor": 2
}
