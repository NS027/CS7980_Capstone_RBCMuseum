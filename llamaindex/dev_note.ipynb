{
 "cells": [
  {
   "cell_type": "markdown",
   "metadata": {},
   "source": [
    "# Development of the LlamaIndex model\n",
    "<hr>\n",
    "\n",
    "- This model is built based on llamaindex"
   ]
  },
  {
   "cell_type": "markdown",
   "metadata": {},
   "source": [
    "## Step 1. Set up the environment"
   ]
  },
  {
   "cell_type": "markdown",
   "metadata": {},
   "source": [
    "* import the dotenv"
   ]
  },
  {
   "cell_type": "code",
   "execution_count": 4,
   "metadata": {},
   "outputs": [
    {
     "data": {
      "text/plain": [
       "True"
      ]
     },
     "execution_count": 4,
     "metadata": {},
     "output_type": "execute_result"
    }
   ],
   "source": [
    "import os\n",
    "\n",
    "from dotenv import load_dotenv\n",
    "load_dotenv()"
   ]
  },
  {
   "cell_type": "code",
   "execution_count": 5,
   "metadata": {},
   "outputs": [],
   "source": [
    "os.environ['OPENAI_API_KEY']=os.getenv('OPENAI_API_KEY')\n",
    "if not os.getenv('OPENAI_API_KEY'):\n",
    "    raise ValueError(\"OPENAI_API_KEY not found in environment variables\")"
   ]
  },
  {
   "cell_type": "markdown",
   "metadata": {},
   "source": [
    "## Step 2. Imported PDF file from the data"
   ]
  },
  {
   "cell_type": "code",
   "execution_count": 6,
   "metadata": {},
   "outputs": [],
   "source": [
    "from llama_index.core import SimpleDirectoryReader\n",
    "\n",
    "documents = SimpleDirectoryReader('data').load_data()"
   ]
  },
  {
   "cell_type": "markdown",
   "metadata": {},
   "source": [
    "## Step 3. Indexing the data"
   ]
  },
  {
   "cell_type": "code",
   "execution_count": 7,
   "metadata": {},
   "outputs": [],
   "source": [
    "from llama_index.core import VectorStoreIndex\n",
    "\n",
    "index = VectorStoreIndex.from_documents(documents)"
   ]
  },
  {
   "cell_type": "markdown",
   "metadata": {},
   "source": [
    "## Step 4. Set the query engine"
   ]
  },
  {
   "cell_type": "code",
   "execution_count": 8,
   "metadata": {},
   "outputs": [],
   "source": [
    "query_engine = index.as_query_engine()"
   ]
  },
  {
   "cell_type": "markdown",
   "metadata": {},
   "source": [
    "<hr>\n",
    "\n",
    "## Test Questions"
   ]
  },
  {
   "cell_type": "markdown",
   "metadata": {},
   "source": [
    "- Test Question"
   ]
  },
  {
   "cell_type": "code",
   "execution_count": 9,
   "metadata": {},
   "outputs": [],
   "source": [
    "test_question_1 = \"What is the check-in time for the Airbnb?\"\n",
    "test_question_2 = \"Who created the Haida Bracelet?\"\n",
    "test_question_3 = \"Where's the Haida Bracelet?\""
   ]
  },
  {
   "cell_type": "markdown",
   "metadata": {},
   "source": [
    "- Create respones"
   ]
  },
  {
   "cell_type": "code",
   "execution_count": 10,
   "metadata": {},
   "outputs": [],
   "source": [
    "response_1 = query_engine.query(test_question_1)\n",
    "response_2 = query_engine.query(test_question_2)\n",
    "response_3 = query_engine.query(test_question_3)"
   ]
  },
  {
   "cell_type": "markdown",
   "metadata": {},
   "source": [
    "- Answers"
   ]
  },
  {
   "cell_type": "code",
   "execution_count": 11,
   "metadata": {},
   "outputs": [
    {
     "name": "stdout",
     "output_type": "stream",
     "text": [
      "---------------First Question----------------\n",
      "Final Response: The check-in time for the Airbnb is not specified in\n",
      "the provided context information.\n",
      "______________________________________________________________________\n",
      "Source Node 1/2\n",
      "Node ID: 8f1eb903-fd1f-4ad0-bfcb-f090c282c565\n",
      "Similarity: 0.7319328073386125\n",
      "Text: (/)PLAN YOUR VISIT Buy Tickets (http://royalbcmuseum.bc.‐\n",
      "ca/visit/tickets-admission) Hours\n",
      "(http://royalbcmuseum.bc.ca/visit/plan- your-visit/hours) & Location\n",
      "(http://roy‐ albcmuseum.bc.ca/visit/plan-your- visit/location) Events\n",
      "(http://royalbcmuseum.bc.ca/visit/cal‐ endar)GET IN TOUCH 675\n",
      "Belleville Street, Victoria, BC V8W 9W2 1-250-356-7226...\n",
      "______________________________________________________________________\n",
      "Source Node 2/2\n",
      "Node ID: 9d11d6e2-a49b-49c8-bd16-9aa0479d5961\n",
      "Similarity: 0.7134717205161437\n",
      "Text: Visit Plan Your Visit (http://royalbcmuseum.bc.ca/visit) About\n",
      "(http://royalbcmuseum.bc.ca/about) Support Us\n",
      "(http://royalbcmuseum.bc.ca/support) Contact Us\n",
      "(http://royalbcmuseum.bc.ca/contact) Tickets\n",
      "(http://royalbcmuseum.bc.ca/tickets) What's On Exhibitions\n",
      "(http://royalbcmuseum.bc.ca/exhibitions) Imax®\n",
      "(http://royalbcmuseum.bc.ca/imax) Calen...\n",
      "---------------Second Question----------------\n",
      "Final Response: Robert Davidson created the Haida Bracelet.\n",
      "______________________________________________________________________\n",
      "Source Node 1/2\n",
      "Node ID: 9d11d6e2-a49b-49c8-bd16-9aa0479d5961\n",
      "Similarity: 0.8529895730636026\n",
      "Text: Visit Plan Your Visit (http://royalbcmuseum.bc.ca/visit) About\n",
      "(http://royalbcmuseum.bc.ca/about) Support Us\n",
      "(http://royalbcmuseum.bc.ca/support) Contact Us\n",
      "(http://royalbcmuseum.bc.ca/contact) Tickets\n",
      "(http://royalbcmuseum.bc.ca/tickets) What's On Exhibitions\n",
      "(http://royalbcmuseum.bc.ca/exhibitions) Imax®\n",
      "(http://royalbcmuseum.bc.ca/imax) Calen...\n",
      "______________________________________________________________________\n",
      "Source Node 2/2\n",
      "Node ID: 8f1eb903-fd1f-4ad0-bfcb-f090c282c565\n",
      "Similarity: 0.8119115204549634\n",
      "Text: (/)PLAN YOUR VISIT Buy Tickets (http://royalbcmuseum.bc.‐\n",
      "ca/visit/tickets-admission) Hours\n",
      "(http://royalbcmuseum.bc.ca/visit/plan- your-visit/hours) & Location\n",
      "(http://roy‐ albcmuseum.bc.ca/visit/plan-your- visit/location) Events\n",
      "(http://royalbcmuseum.bc.ca/visit/cal‐ endar)GET IN TOUCH 675\n",
      "Belleville Street, Victoria, BC V8W 9W2 1-250-356-7226...\n",
      "---------------Third Question----------------\n",
      "Final Response: The Haida bracelet is located at the Royal BC Museum\n",
      "in Victoria, British Columbia, Canada.\n",
      "______________________________________________________________________\n",
      "Source Node 1/2\n",
      "Node ID: 9d11d6e2-a49b-49c8-bd16-9aa0479d5961\n",
      "Similarity: 0.8514729964555137\n",
      "Text: Visit Plan Your Visit (http://royalbcmuseum.bc.ca/visit) About\n",
      "(http://royalbcmuseum.bc.ca/about) Support Us\n",
      "(http://royalbcmuseum.bc.ca/support) Contact Us\n",
      "(http://royalbcmuseum.bc.ca/contact) Tickets\n",
      "(http://royalbcmuseum.bc.ca/tickets) What's On Exhibitions\n",
      "(http://royalbcmuseum.bc.ca/exhibitions) Imax®\n",
      "(http://royalbcmuseum.bc.ca/imax) Calen...\n",
      "______________________________________________________________________\n",
      "Source Node 2/2\n",
      "Node ID: 8f1eb903-fd1f-4ad0-bfcb-f090c282c565\n",
      "Similarity: 0.830949359699732\n",
      "Text: (/)PLAN YOUR VISIT Buy Tickets (http://royalbcmuseum.bc.‐\n",
      "ca/visit/tickets-admission) Hours\n",
      "(http://royalbcmuseum.bc.ca/visit/plan- your-visit/hours) & Location\n",
      "(http://roy‐ albcmuseum.bc.ca/visit/plan-your- visit/location) Events\n",
      "(http://royalbcmuseum.bc.ca/visit/cal‐ endar)GET IN TOUCH 675\n",
      "Belleville Street, Victoria, BC V8W 9W2 1-250-356-7226...\n"
     ]
    }
   ],
   "source": [
    "from llama_index.core.response.pprint_utils import pprint_response\n",
    "print(\"---------------First Question----------------\")\n",
    "pprint_response(response_1, show_source=True)\n",
    "print(\"---------------Second Question----------------\")\n",
    "pprint_response(response_2, show_source=True)\n",
    "print(\"---------------Third Question----------------\")\n",
    "pprint_response(response_3, show_source=True)"
   ]
  }
 ],
 "metadata": {
  "kernelspec": {
   "display_name": "Python 3",
   "language": "python",
   "name": "python3"
  },
  "language_info": {
   "codemirror_mode": {
    "name": "ipython",
    "version": 3
   },
   "file_extension": ".py",
   "mimetype": "text/x-python",
   "name": "python",
   "nbconvert_exporter": "python",
   "pygments_lexer": "ipython3",
   "version": "3.11.9"
  }
 },
 "nbformat": 4,
 "nbformat_minor": 2
}
