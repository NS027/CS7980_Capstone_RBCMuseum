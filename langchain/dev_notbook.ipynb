{
 "cells": [
  {
   "cell_type": "markdown",
   "metadata": {},
   "source": [
    "# Development of the LlamaIndex model\n",
    "<hr>\n",
    "\n",
    "- This model is built based on llamaindex"
   ]
  },
  {
   "cell_type": "markdown",
   "metadata": {},
   "source": [
    "### Import the libarary"
   ]
  },
  {
   "cell_type": "code",
   "execution_count": 29,
   "metadata": {},
   "outputs": [],
   "source": [
    "from langchain_chroma  import Chroma\n",
    "from langchain_openai import OpenAIEmbeddings\n",
    "from langchain.text_splitter import CharacterTextSplitter\n",
    "from langchain_community.document_loaders import TextLoader  # Text loader\n",
    "from langchain.document_loaders import PyPDFLoader  # PDF loader\n",
    "from langchain_core.messages import HumanMessage, SystemMessage\n",
    "from langchain_openai import ChatOpenAI, OpenAIEmbeddings"
   ]
  },
  {
   "cell_type": "markdown",
   "metadata": {},
   "source": [
    "### Step 1. Set up the environment\n",
    "\n",
    "- import the .env from dotenv"
   ]
  },
  {
   "cell_type": "code",
   "execution_count": 1,
   "metadata": {},
   "outputs": [
    {
     "data": {
      "text/plain": [
       "True"
      ]
     },
     "execution_count": 1,
     "metadata": {},
     "output_type": "execute_result"
    }
   ],
   "source": [
    "import os\n",
    "\n",
    "from dotenv import load_dotenv\n",
    "load_dotenv()"
   ]
  },
  {
   "cell_type": "markdown",
   "metadata": {},
   "source": [
    "### Step 2. Set up the directory"
   ]
  },
  {
   "cell_type": "markdown",
   "metadata": {},
   "source": [
    "### 1. Define the dicrectory\n",
    "\n",
    "In jupyter I use this \n",
    "\n",
    "```os.getcwd()```\n",
    "\n",
    "In python file replace it with\n",
    "\n",
    "```current_dir = os.path.dirname(os.path.abspath(__file__))```"
   ]
  },
  {
   "cell_type": "code",
   "execution_count": 6,
   "metadata": {},
   "outputs": [],
   "source": [
    "current_dir = os.getcwd()\n",
    "persistent_directory = os.path.join(current_dir, \"db\", \"chroma_db\")"
   ]
  },
  {
   "cell_type": "markdown",
   "metadata": {},
   "source": [
    "### Step 3. Chunck data and Embed it and put to database"
   ]
  },
  {
   "cell_type": "markdown",
   "metadata": {},
   "source": [
    "### 1 Find the data source\n",
    "\n",
    "- Here we use the file from ./data/Haida bracelet.pdf"
   ]
  },
  {
   "cell_type": "code",
   "execution_count": 5,
   "metadata": {},
   "outputs": [],
   "source": [
    "file_path = os.path.join(current_dir, \"data\", \"Haida bracelet.pdf\")"
   ]
  },
  {
   "cell_type": "markdown",
   "metadata": {},
   "source": [
    "### Chunk the data and save to the vector database\n",
    "\n",
    "- the ```chunk_size``` and ```chunk_overlap``` can be modified\n",
    "- the model here can also be changed later ```model=\"text-embedding-3-small\"```"
   ]
  },
  {
   "cell_type": "code",
   "execution_count": 12,
   "metadata": {},
   "outputs": [
    {
     "name": "stdout",
     "output_type": "stream",
     "text": [
      "Persistent directory does not exist. Initializing vector store...\n",
      "\n",
      "--- Document Chunks Information ---\n",
      "Number of document chunks: 2\n",
      "Sample chunk:\n",
      "Visit\n",
      "Plan Your Visit (http://royalbcmuseum.bc.ca/visit)\n",
      "About (http://royalbcmuseum.bc.ca/about)\n",
      "Support Us (http://royalbcmuseum.bc.ca/support)\n",
      "Contact Us (http://royalbcmuseum.bc.ca/contact)\n",
      "Tickets (http://royalbcmuseum.bc.ca/tickets)\n",
      "What's On\n",
      "Exhibitions (http://royalbcmuseum.bc.ca/exhibitions)\n",
      "Imax® (http://royalbcmuseum.bc.ca/imax)\n",
      "Calendar (http://royalbcmuseum.bc.ca/calendar)\n",
      "Members Events (http://royalbcmuseum.bc.ca/members-events)\n",
      "RBCM Channel (http://royalbcmuseum.bc.ca/rbcm-channel)\n",
      "Natural History\n",
      "Collections (http://royalbcmuseum.bc.ca/nh-collections)\n",
      "Curators (http://royalbcmuseum.bc.ca/nh-curators)\n",
      "Search Collection (http://search-collections.royalbcmuseum.bc.ca/KeywordNaturalHistory)\n",
      "Collections Care (http://royalbcmuseum.bc.ca/conservation)\n",
      "Research (http://royalbcmuseum.bc.ca/research)\n",
      "Human History\n",
      "Collections (http://royalbcmuseum.bc.ca/hh-collections)\n",
      "Curators (http://royalbcmuseum.bc.ca/hh-curators)\n",
      "Search Collection (http://search-collections.royalbcmuseum.bc.ca/)\n",
      "Collections Care (http://royalbcmuseum.bc.ca/conservation)\n",
      "Research (http://royalbcmuseum.bc.ca/research)\n",
      "BC Archives\n",
      "About BC Archives (http://royalbcmuseum.bc.ca/bcarchives)\n",
      "Visitor Information (http://royalbcmuseum.bc.ca/archives-visitors)\n",
      "Collections (http://royalbcmuseum.bc.ca/archives-collections)\n",
      "Archivists (http://royalbcmuseum.bc.ca/archivists)\n",
      "Search Collection (http://royalbcmuseum.bc.ca/search-the-bc-archives-collections)\n",
      "Learning\n",
      "About (http://royalbcmuseum.bc.ca/learning)\n",
      "Adult Learning (http://royalbcmuseum.bc.ca/adult)\n",
      "Kids and Families (http://royalbcmuseum.bc.ca/kids)\n",
      "Schools (http://royalbcmuseum.bc.ca/schools)\n",
      "Learning Team (http://royalbcmuseum.bc.ca/learning-team)\n",
      "Haida bracelet\n",
      "DATE: 1980\n",
      "RECORD: RBCM 18826\n",
      "MATERIALS: silver\n",
      "ARTIST: Robert Davidson\n",
      "guud san glans, Robert Davidson (born 1946) is a great grandson of the Haida artist, Charles Edenshaw, and carries on Edenshaw’s legacy of innovation combined with traditional craftsmanship. This beautifully designed and executed silver bracelet,\n",
      "titled Happy Negative Spaces, was made in 1980 and is one of his most important early abstract works. Davidson went on to further explore the abstract possibilities of Haida form in printmaking, painting and sculpture. The Seattle Art Museum’s 2013\n",
      "exhibition, Robert Davidson: Abstract Impulse, brought together much of this important innovative work. The exhibition, which included this bracelet, travelled to the National Museum of the American Indian in New York City.\n",
      "This image may require permission from the copyright holder before a print can be supplied\n",
      "This object selected by Dr Martha Black.\n",
      "Previous Object (http://www.royalbcmuseum.bc.ca/100/object/haida-box/) Next Object (http://www.royalbcmuseum.bc.ca/100/object/haida-headdress-frontlet/)100 OBJECTS OF INTEREST\n",
      "BACK TO LIST (HTTP://WWW.ROYALBCMUSEUM.BC.CA/100)\n",
      "9/27/24, 11:32 PM Haida bracelet | 100 Objects of Interest\n",
      "https://www.royalbcmuseum.bc.ca/100/object/haida-bracelet/ 1/2\n",
      "\n",
      "\n",
      "--- Creating embeddings ---\n",
      "\n",
      "--- Finished creating embeddings ---\n",
      "\n",
      "--- Creating vector store ---\n",
      "\n",
      "--- Finished creating vector store ---\n"
     ]
    }
   ],
   "source": [
    "# Check if the Chroma vector store already exists\n",
    "if not os.path.exists(persistent_directory):\n",
    "    print(\"Persistent directory does not exist. Initializing vector store...\")\n",
    "\n",
    "    # Ensure the text file exists\n",
    "    if not os.path.exists(file_path):\n",
    "        raise FileNotFoundError(\n",
    "            f\"The file {file_path} does not exist. Please check the path.\"\n",
    "        )\n",
    "\n",
    "    # Read the text content from the file\n",
    "    loader = PyPDFLoader(file_path)\n",
    "    documents = loader.load()\n",
    "\n",
    "    # Split the document into chunks\n",
    "    text_splitter = CharacterTextSplitter(chunk_size=1000, chunk_overlap=0)\n",
    "    docs = text_splitter.split_documents(documents)\n",
    "\n",
    "    # Display information about the split documents\n",
    "    print(\"\\n--- Document Chunks Information ---\")\n",
    "    print(f\"Number of document chunks: {len(docs)}\")\n",
    "    print(f\"Sample chunk:\\n{docs[0].page_content}\\n\")\n",
    "\n",
    "    # Create embeddings\n",
    "    print(\"\\n--- Creating embeddings ---\")\n",
    "    embeddings = OpenAIEmbeddings(\n",
    "        model=\"text-embedding-3-small\"\n",
    "    )  # Update to a valid embedding model if needed\n",
    "    print(\"\\n--- Finished creating embeddings ---\")\n",
    "\n",
    "    # Create the vector store and persist it automatically\n",
    "    print(\"\\n--- Creating vector store ---\")\n",
    "    db = Chroma.from_documents(\n",
    "        docs, embeddings, persist_directory=persistent_directory)\n",
    "    print(\"\\n--- Finished creating vector store ---\")\n",
    "\n",
    "else:\n",
    "    print(\"Vector store already exists. No need to initialize.\")"
   ]
  },
  {
   "cell_type": "markdown",
   "metadata": {},
   "source": [
    "### Step 4 Retrieve the data and give response"
   ]
  },
  {
   "cell_type": "markdown",
   "metadata": {},
   "source": [
    "### 1 Define the embedding model\n",
    "\n",
    "- we use OpenAI model for default"
   ]
  },
  {
   "cell_type": "code",
   "execution_count": 13,
   "metadata": {},
   "outputs": [],
   "source": [
    "\n",
    "embeddings = OpenAIEmbeddings(model='text-embedding-3-small')"
   ]
  },
  {
   "cell_type": "markdown",
   "metadata": {},
   "source": [
    "### 2 Load the existing vector store"
   ]
  },
  {
   "cell_type": "code",
   "execution_count": 16,
   "metadata": {},
   "outputs": [],
   "source": [
    "db = Chroma(persist_directory=persistent_directory, \n",
    "            embedding_function=embeddings)"
   ]
  },
  {
   "cell_type": "markdown",
   "metadata": {},
   "source": [
    "### 3 Define the query question"
   ]
  },
  {
   "cell_type": "code",
   "execution_count": 17,
   "metadata": {},
   "outputs": [],
   "source": [
    "query_1 =  \"What is the check-in time for the Airbnb?\"\n",
    "query_2 =  \"Who created the Haida Bracelet?\"\n",
    "query_3 =  \"Where's the Haida Bracelet?\""
   ]
  },
  {
   "cell_type": "markdown",
   "metadata": {},
   "source": [
    "### 4 Retriveal the documents based on the query\n",
    "\n",
    "- the ```search_type``` can be modified\n",
    "- the ```search_kwargs``` can be modified"
   ]
  },
  {
   "cell_type": "code",
   "execution_count": 21,
   "metadata": {},
   "outputs": [],
   "source": [
    "retriever = db.as_retriever(\n",
    "    search_type=\"similarity_score_threshold\",\n",
    "    search_kwargs={\"k\": 3,\"score_threshold\": 0.1},\n",
    ")"
   ]
  },
  {
   "cell_type": "markdown",
   "metadata": {},
   "source": [
    "### 5 Get the relevant doc"
   ]
  },
  {
   "cell_type": "code",
   "execution_count": 22,
   "metadata": {},
   "outputs": [
    {
     "name": "stderr",
     "output_type": "stream",
     "text": [
      "Number of requested results 3 is greater than number of elements in index 2, updating n_results = 2\n",
      "/Users/chris/Desktop/7980/CS7980_Capstone_RBCMuseum/langchain/venv/lib/python3.11/site-packages/langchain_core/vectorstores/base.py:1042: UserWarning: Relevance scores must be between 0 and 1, got [(Document(metadata={'page': 1, 'source': '/Users/chris/Desktop/7980/CS7980_Capstone_RBCMuseum/langchain/data/Haida bracelet.pdf'}, page_content='(/)PLAN YOUR VISIT\\nBuy Tickets (http://royalbcmuseum.bc.‐\\nca/visit/tickets-admission)\\nHours\\n(http://royalbcmuseum.bc.ca/visit/plan-\\nyour-visit/hours) & Location (http://roy‐\\nalbcmuseum.bc.ca/visit/plan-your-\\nvisit/location)\\nEvents\\n(http://royalbcmuseum.bc.ca/visit/cal‐\\nendar)GET IN TOUCH\\n675 Belleville Street,\\nVictoria, BC V8W 9W2\\n1-250-356-7226 (tel:12503567226)\\n1-888-447-7977 (tel:18884477977)\\nreception@royalbcmuseum.bc.ca\\n(mailto:reception@royalbcmuse‐\\num.bc.ca)QUICK LINKS\\nSubscribe to Newsletter (https://www.‐\\nmailoutinteractive.com/Industry/Sub‐\\nscribe.aspx?m=30765)\\nHours & Location (/visit/plan-your-\\nvisit/hours)\\nEmployment (/about/people/employment)\\nAccessibility (/visit/plan-your-\\nvisit/accessibility)\\nPrivacy (/privacy)\\nTerms & Conditions (/terms-conditions)\\nMember Login (https://sales.royalbcmu‐\\nseum.bc.ca/SignIn.aspx?\\nReturnUrl=https%3a%2f%2fsales.royalbc\\nmuseum.bc.ca%2fDefault.aspx%3ftagid\\n%3d6)\\nTRANSLATE\\nSelect Language\\n \\n▼ \\n Select Language\\n \\n▼9/27/24, 11:32 PM Haida bracelet | 100 Objects of Interest\\nhttps://www.royalbcmuseum.bc.ca/100/object/haida-bracelet/ 2/2'), -0.1745304619340713), (Document(metadata={'page': 0, 'source': '/Users/chris/Desktop/7980/CS7980_Capstone_RBCMuseum/langchain/data/Haida bracelet.pdf'}, page_content=\"Visit\\nPlan Your Visit (http://royalbcmuseum.bc.ca/visit)\\nAbout (http://royalbcmuseum.bc.ca/about)\\nSupport Us (http://royalbcmuseum.bc.ca/support)\\nContact Us (http://royalbcmuseum.bc.ca/contact)\\nTickets (http://royalbcmuseum.bc.ca/tickets)\\nWhat's On\\nExhibitions (http://royalbcmuseum.bc.ca/exhibitions)\\nImax® (http://royalbcmuseum.bc.ca/imax)\\nCalendar (http://royalbcmuseum.bc.ca/calendar)\\nMembers Events (http://royalbcmuseum.bc.ca/members-events)\\nRBCM Channel (http://royalbcmuseum.bc.ca/rbcm-channel)\\nNatural History\\nCollections (http://royalbcmuseum.bc.ca/nh-collections)\\nCurators (http://royalbcmuseum.bc.ca/nh-curators)\\nSearch Collection (http://search-collections.royalbcmuseum.bc.ca/KeywordNaturalHistory)\\nCollections Care (http://royalbcmuseum.bc.ca/conservation)\\nResearch (http://royalbcmuseum.bc.ca/research)\\nHuman History\\nCollections (http://royalbcmuseum.bc.ca/hh-collections)\\nCurators (http://royalbcmuseum.bc.ca/hh-curators)\\nSearch Collection (http://search-collections.royalbcmuseum.bc.ca/)\\nCollections Care (http://royalbcmuseum.bc.ca/conservation)\\nResearch (http://royalbcmuseum.bc.ca/research)\\nBC Archives\\nAbout BC Archives (http://royalbcmuseum.bc.ca/bcarchives)\\nVisitor Information (http://royalbcmuseum.bc.ca/archives-visitors)\\nCollections (http://royalbcmuseum.bc.ca/archives-collections)\\nArchivists (http://royalbcmuseum.bc.ca/archivists)\\nSearch Collection (http://royalbcmuseum.bc.ca/search-the-bc-archives-collections)\\nLearning\\nAbout (http://royalbcmuseum.bc.ca/learning)\\nAdult Learning (http://royalbcmuseum.bc.ca/adult)\\nKids and Families (http://royalbcmuseum.bc.ca/kids)\\nSchools (http://royalbcmuseum.bc.ca/schools)\\nLearning Team (http://royalbcmuseum.bc.ca/learning-team)\\nHaida bracelet\\nDATE: 1980\\nRECORD: RBCM 18826\\nMATERIALS: silver\\nARTIST: Robert Davidson\\nguud san glans, Robert Davidson (born 1946) is a great grandson of the Haida artist, Charles Edenshaw, and carries on Edenshaw’s legacy of innovation combined with traditional craftsmanship. This beautifully designed and executed silver bracelet,\\ntitled Happy Negative Spaces, was made in 1980 and is one of his most important early abstract works. Davidson went on to further explore the abstract possibilities of Haida form in printmaking, painting and sculpture. The Seattle Art Museum’s 2013\\nexhibition, Robert Davidson: Abstract Impulse, brought together much of this important innovative work. The exhibition, which included this bracelet, travelled to the National Museum of the American Indian in New York City.\\nThis image may require permission from the copyright holder before a print can be supplied\\nThis object selected by Dr Martha Black.\\nPrevious Object (http://www.royalbcmuseum.bc.ca/100/object/haida-box/) Next Object (http://www.royalbcmuseum.bc.ca/100/object/haida-headdress-frontlet/)100 OBJECTS OF INTEREST\\nBACK TO LIST (HTTP://WWW.ROYALBCMUSEUM.BC.CA/100)\\n9/27/24, 11:32 PM Haida bracelet | 100 Objects of Interest\\nhttps://www.royalbcmuseum.bc.ca/100/object/haida-bracelet/ 1/2\"), -0.31337869365008797)]\n",
      "  self.vectorstore.similarity_search_with_relevance_scores(\n",
      "No relevant docs were retrieved using the relevance score threshold 0.1\n",
      "Number of requested results 3 is greater than number of elements in index 2, updating n_results = 2\n",
      "Number of requested results 3 is greater than number of elements in index 2, updating n_results = 2\n"
     ]
    }
   ],
   "source": [
    "relavant_docs_1 = retriever.invoke(query_1)\n",
    "relavant_docs_2 = retriever.invoke(query_2)\n",
    "relavant_docs_3 = retriever.invoke(query_3)"
   ]
  },
  {
   "cell_type": "markdown",
   "metadata": {},
   "source": [
    "### 6 Print the result"
   ]
  },
  {
   "cell_type": "code",
   "execution_count": 23,
   "metadata": {},
   "outputs": [
    {
     "name": "stdout",
     "output_type": "stream",
     "text": [
      "\n",
      "--- Relevant Documents ---\n"
     ]
    }
   ],
   "source": [
    "print(\"\\n--- Relevant Documents ---\")\n",
    "for i, doc in enumerate(relavant_docs_1, 1):\n",
    "    print(f\"Document {i}:\\n{doc.page_content}\\n\")\n",
    "    if doc.metadata:\n",
    "        print(f\"Source: {doc.metadata.get('source', 'Unknown')}\\n\")"
   ]
  },
  {
   "cell_type": "code",
   "execution_count": 24,
   "metadata": {},
   "outputs": [
    {
     "name": "stdout",
     "output_type": "stream",
     "text": [
      "\n",
      "--- Relevant Documents ---\n",
      "Document 1:\n",
      "Visit\n",
      "Plan Your Visit (http://royalbcmuseum.bc.ca/visit)\n",
      "About (http://royalbcmuseum.bc.ca/about)\n",
      "Support Us (http://royalbcmuseum.bc.ca/support)\n",
      "Contact Us (http://royalbcmuseum.bc.ca/contact)\n",
      "Tickets (http://royalbcmuseum.bc.ca/tickets)\n",
      "What's On\n",
      "Exhibitions (http://royalbcmuseum.bc.ca/exhibitions)\n",
      "Imax® (http://royalbcmuseum.bc.ca/imax)\n",
      "Calendar (http://royalbcmuseum.bc.ca/calendar)\n",
      "Members Events (http://royalbcmuseum.bc.ca/members-events)\n",
      "RBCM Channel (http://royalbcmuseum.bc.ca/rbcm-channel)\n",
      "Natural History\n",
      "Collections (http://royalbcmuseum.bc.ca/nh-collections)\n",
      "Curators (http://royalbcmuseum.bc.ca/nh-curators)\n",
      "Search Collection (http://search-collections.royalbcmuseum.bc.ca/KeywordNaturalHistory)\n",
      "Collections Care (http://royalbcmuseum.bc.ca/conservation)\n",
      "Research (http://royalbcmuseum.bc.ca/research)\n",
      "Human History\n",
      "Collections (http://royalbcmuseum.bc.ca/hh-collections)\n",
      "Curators (http://royalbcmuseum.bc.ca/hh-curators)\n",
      "Search Collection (http://search-collections.royalbcmuseum.bc.ca/)\n",
      "Collections Care (http://royalbcmuseum.bc.ca/conservation)\n",
      "Research (http://royalbcmuseum.bc.ca/research)\n",
      "BC Archives\n",
      "About BC Archives (http://royalbcmuseum.bc.ca/bcarchives)\n",
      "Visitor Information (http://royalbcmuseum.bc.ca/archives-visitors)\n",
      "Collections (http://royalbcmuseum.bc.ca/archives-collections)\n",
      "Archivists (http://royalbcmuseum.bc.ca/archivists)\n",
      "Search Collection (http://royalbcmuseum.bc.ca/search-the-bc-archives-collections)\n",
      "Learning\n",
      "About (http://royalbcmuseum.bc.ca/learning)\n",
      "Adult Learning (http://royalbcmuseum.bc.ca/adult)\n",
      "Kids and Families (http://royalbcmuseum.bc.ca/kids)\n",
      "Schools (http://royalbcmuseum.bc.ca/schools)\n",
      "Learning Team (http://royalbcmuseum.bc.ca/learning-team)\n",
      "Haida bracelet\n",
      "DATE: 1980\n",
      "RECORD: RBCM 18826\n",
      "MATERIALS: silver\n",
      "ARTIST: Robert Davidson\n",
      "guud san glans, Robert Davidson (born 1946) is a great grandson of the Haida artist, Charles Edenshaw, and carries on Edenshaw’s legacy of innovation combined with traditional craftsmanship. This beautifully designed and executed silver bracelet,\n",
      "titled Happy Negative Spaces, was made in 1980 and is one of his most important early abstract works. Davidson went on to further explore the abstract possibilities of Haida form in printmaking, painting and sculpture. The Seattle Art Museum’s 2013\n",
      "exhibition, Robert Davidson: Abstract Impulse, brought together much of this important innovative work. The exhibition, which included this bracelet, travelled to the National Museum of the American Indian in New York City.\n",
      "This image may require permission from the copyright holder before a print can be supplied\n",
      "This object selected by Dr Martha Black.\n",
      "Previous Object (http://www.royalbcmuseum.bc.ca/100/object/haida-box/) Next Object (http://www.royalbcmuseum.bc.ca/100/object/haida-headdress-frontlet/)100 OBJECTS OF INTEREST\n",
      "BACK TO LIST (HTTP://WWW.ROYALBCMUSEUM.BC.CA/100)\n",
      "9/27/24, 11:32 PM Haida bracelet | 100 Objects of Interest\n",
      "https://www.royalbcmuseum.bc.ca/100/object/haida-bracelet/ 1/2\n",
      "\n",
      "Source: /Users/chris/Desktop/7980/CS7980_Capstone_RBCMuseum/langchain/data/Haida bracelet.pdf\n",
      "\n",
      "Document 2:\n",
      "(/)PLAN YOUR VISIT\n",
      "Buy Tickets (http://royalbcmuseum.bc.‐\n",
      "ca/visit/tickets-admission)\n",
      "Hours\n",
      "(http://royalbcmuseum.bc.ca/visit/plan-\n",
      "your-visit/hours) & Location (http://roy‐\n",
      "albcmuseum.bc.ca/visit/plan-your-\n",
      "visit/location)\n",
      "Events\n",
      "(http://royalbcmuseum.bc.ca/visit/cal‐\n",
      "endar)GET IN TOUCH\n",
      "675 Belleville Street,\n",
      "Victoria, BC V8W 9W2\n",
      "1-250-356-7226 (tel:12503567226)\n",
      "1-888-447-7977 (tel:18884477977)\n",
      "reception@royalbcmuseum.bc.ca\n",
      "(mailto:reception@royalbcmuse‐\n",
      "um.bc.ca)QUICK LINKS\n",
      "Subscribe to Newsletter (https://www.‐\n",
      "mailoutinteractive.com/Industry/Sub‐\n",
      "scribe.aspx?m=30765)\n",
      "Hours & Location (/visit/plan-your-\n",
      "visit/hours)\n",
      "Employment (/about/people/employment)\n",
      "Accessibility (/visit/plan-your-\n",
      "visit/accessibility)\n",
      "Privacy (/privacy)\n",
      "Terms & Conditions (/terms-conditions)\n",
      "Member Login (https://sales.royalbcmu‐\n",
      "seum.bc.ca/SignIn.aspx?\n",
      "ReturnUrl=https%3a%2f%2fsales.royalbc\n",
      "museum.bc.ca%2fDefault.aspx%3ftagid\n",
      "%3d6)\n",
      "TRANSLATE\n",
      "Select Language\n",
      " \n",
      "▼ \n",
      " Select Language\n",
      " \n",
      "▼9/27/24, 11:32 PM Haida bracelet | 100 Objects of Interest\n",
      "https://www.royalbcmuseum.bc.ca/100/object/haida-bracelet/ 2/2\n",
      "\n",
      "Source: /Users/chris/Desktop/7980/CS7980_Capstone_RBCMuseum/langchain/data/Haida bracelet.pdf\n",
      "\n"
     ]
    }
   ],
   "source": [
    "print(\"\\n--- Relevant Documents ---\")\n",
    "for i, doc in enumerate(relavant_docs_2, 1):\n",
    "    print(f\"Document {i}:\\n{doc.page_content}\\n\")\n",
    "    if doc.metadata:\n",
    "        print(f\"Source: {doc.metadata.get('source', 'Unknown')}\\n\")"
   ]
  },
  {
   "cell_type": "code",
   "execution_count": 25,
   "metadata": {},
   "outputs": [
    {
     "name": "stdout",
     "output_type": "stream",
     "text": [
      "\n",
      "--- Relevant Documents ---\n",
      "Document 1:\n",
      "Visit\n",
      "Plan Your Visit (http://royalbcmuseum.bc.ca/visit)\n",
      "About (http://royalbcmuseum.bc.ca/about)\n",
      "Support Us (http://royalbcmuseum.bc.ca/support)\n",
      "Contact Us (http://royalbcmuseum.bc.ca/contact)\n",
      "Tickets (http://royalbcmuseum.bc.ca/tickets)\n",
      "What's On\n",
      "Exhibitions (http://royalbcmuseum.bc.ca/exhibitions)\n",
      "Imax® (http://royalbcmuseum.bc.ca/imax)\n",
      "Calendar (http://royalbcmuseum.bc.ca/calendar)\n",
      "Members Events (http://royalbcmuseum.bc.ca/members-events)\n",
      "RBCM Channel (http://royalbcmuseum.bc.ca/rbcm-channel)\n",
      "Natural History\n",
      "Collections (http://royalbcmuseum.bc.ca/nh-collections)\n",
      "Curators (http://royalbcmuseum.bc.ca/nh-curators)\n",
      "Search Collection (http://search-collections.royalbcmuseum.bc.ca/KeywordNaturalHistory)\n",
      "Collections Care (http://royalbcmuseum.bc.ca/conservation)\n",
      "Research (http://royalbcmuseum.bc.ca/research)\n",
      "Human History\n",
      "Collections (http://royalbcmuseum.bc.ca/hh-collections)\n",
      "Curators (http://royalbcmuseum.bc.ca/hh-curators)\n",
      "Search Collection (http://search-collections.royalbcmuseum.bc.ca/)\n",
      "Collections Care (http://royalbcmuseum.bc.ca/conservation)\n",
      "Research (http://royalbcmuseum.bc.ca/research)\n",
      "BC Archives\n",
      "About BC Archives (http://royalbcmuseum.bc.ca/bcarchives)\n",
      "Visitor Information (http://royalbcmuseum.bc.ca/archives-visitors)\n",
      "Collections (http://royalbcmuseum.bc.ca/archives-collections)\n",
      "Archivists (http://royalbcmuseum.bc.ca/archivists)\n",
      "Search Collection (http://royalbcmuseum.bc.ca/search-the-bc-archives-collections)\n",
      "Learning\n",
      "About (http://royalbcmuseum.bc.ca/learning)\n",
      "Adult Learning (http://royalbcmuseum.bc.ca/adult)\n",
      "Kids and Families (http://royalbcmuseum.bc.ca/kids)\n",
      "Schools (http://royalbcmuseum.bc.ca/schools)\n",
      "Learning Team (http://royalbcmuseum.bc.ca/learning-team)\n",
      "Haida bracelet\n",
      "DATE: 1980\n",
      "RECORD: RBCM 18826\n",
      "MATERIALS: silver\n",
      "ARTIST: Robert Davidson\n",
      "guud san glans, Robert Davidson (born 1946) is a great grandson of the Haida artist, Charles Edenshaw, and carries on Edenshaw’s legacy of innovation combined with traditional craftsmanship. This beautifully designed and executed silver bracelet,\n",
      "titled Happy Negative Spaces, was made in 1980 and is one of his most important early abstract works. Davidson went on to further explore the abstract possibilities of Haida form in printmaking, painting and sculpture. The Seattle Art Museum’s 2013\n",
      "exhibition, Robert Davidson: Abstract Impulse, brought together much of this important innovative work. The exhibition, which included this bracelet, travelled to the National Museum of the American Indian in New York City.\n",
      "This image may require permission from the copyright holder before a print can be supplied\n",
      "This object selected by Dr Martha Black.\n",
      "Previous Object (http://www.royalbcmuseum.bc.ca/100/object/haida-box/) Next Object (http://www.royalbcmuseum.bc.ca/100/object/haida-headdress-frontlet/)100 OBJECTS OF INTEREST\n",
      "BACK TO LIST (HTTP://WWW.ROYALBCMUSEUM.BC.CA/100)\n",
      "9/27/24, 11:32 PM Haida bracelet | 100 Objects of Interest\n",
      "https://www.royalbcmuseum.bc.ca/100/object/haida-bracelet/ 1/2\n",
      "\n",
      "Source: /Users/chris/Desktop/7980/CS7980_Capstone_RBCMuseum/langchain/data/Haida bracelet.pdf\n",
      "\n",
      "Document 2:\n",
      "(/)PLAN YOUR VISIT\n",
      "Buy Tickets (http://royalbcmuseum.bc.‐\n",
      "ca/visit/tickets-admission)\n",
      "Hours\n",
      "(http://royalbcmuseum.bc.ca/visit/plan-\n",
      "your-visit/hours) & Location (http://roy‐\n",
      "albcmuseum.bc.ca/visit/plan-your-\n",
      "visit/location)\n",
      "Events\n",
      "(http://royalbcmuseum.bc.ca/visit/cal‐\n",
      "endar)GET IN TOUCH\n",
      "675 Belleville Street,\n",
      "Victoria, BC V8W 9W2\n",
      "1-250-356-7226 (tel:12503567226)\n",
      "1-888-447-7977 (tel:18884477977)\n",
      "reception@royalbcmuseum.bc.ca\n",
      "(mailto:reception@royalbcmuse‐\n",
      "um.bc.ca)QUICK LINKS\n",
      "Subscribe to Newsletter (https://www.‐\n",
      "mailoutinteractive.com/Industry/Sub‐\n",
      "scribe.aspx?m=30765)\n",
      "Hours & Location (/visit/plan-your-\n",
      "visit/hours)\n",
      "Employment (/about/people/employment)\n",
      "Accessibility (/visit/plan-your-\n",
      "visit/accessibility)\n",
      "Privacy (/privacy)\n",
      "Terms & Conditions (/terms-conditions)\n",
      "Member Login (https://sales.royalbcmu‐\n",
      "seum.bc.ca/SignIn.aspx?\n",
      "ReturnUrl=https%3a%2f%2fsales.royalbc\n",
      "museum.bc.ca%2fDefault.aspx%3ftagid\n",
      "%3d6)\n",
      "TRANSLATE\n",
      "Select Language\n",
      " \n",
      "▼ \n",
      " Select Language\n",
      " \n",
      "▼9/27/24, 11:32 PM Haida bracelet | 100 Objects of Interest\n",
      "https://www.royalbcmuseum.bc.ca/100/object/haida-bracelet/ 2/2\n",
      "\n",
      "Source: /Users/chris/Desktop/7980/CS7980_Capstone_RBCMuseum/langchain/data/Haida bracelet.pdf\n",
      "\n"
     ]
    }
   ],
   "source": [
    "print(\"\\n--- Relevant Documents ---\")\n",
    "for i, doc in enumerate(relavant_docs_3, 1):\n",
    "    print(f\"Document {i}:\\n{doc.page_content}\\n\")\n",
    "    if doc.metadata:\n",
    "        print(f\"Source: {doc.metadata.get('source', 'Unknown')}\\n\")"
   ]
  },
  {
   "cell_type": "markdown",
   "metadata": {},
   "source": [
    "### Step 5 Get the rspone from llm"
   ]
  },
  {
   "cell_type": "markdown",
   "metadata": {},
   "source": [
    "### 1 Combine the query and the relevant document content\n",
    "\n",
    "- It is acting as relavent content + prompt"
   ]
  },
  {
   "cell_type": "code",
   "execution_count": 26,
   "metadata": {},
   "outputs": [],
   "source": [
    "combined_input_1 = (\n",
    "    \"Here are some documents that might help answer the question: \"\n",
    "    + query_1\n",
    "    + \"\\n\\nRelevant Documents:\\n\"\n",
    "    + \"\\n\\n\".join([doc.page_content for doc in relavant_docs_1])\n",
    "    + \"\\n\\nPlease provide an answer based only on the provided documents. If the answer is not found in the documents, respond with 'I'm not sure'.\"\n",
    ")"
   ]
  },
  {
   "cell_type": "code",
   "execution_count": 27,
   "metadata": {},
   "outputs": [],
   "source": [
    "combined_input_2 = (\n",
    "    \"Here are some documents that might help answer the question: \"\n",
    "    + query_2\n",
    "    + \"\\n\\nRelevant Documents:\\n\"\n",
    "    + \"\\n\\n\".join([doc.page_content for doc in relavant_docs_2])\n",
    "    + \"\\n\\nPlease provide an answer based only on the provided documents. If the answer is not found in the documents, respond with 'I'm not sure'.\"\n",
    ")"
   ]
  },
  {
   "cell_type": "code",
   "execution_count": 28,
   "metadata": {},
   "outputs": [],
   "source": [
    "combined_input_3 = (\n",
    "    \"Here are some documents that might help answer the question: \"\n",
    "    + query_3\n",
    "    + \"\\n\\nRelevant Documents:\\n\"\n",
    "    + \"\\n\\n\".join([doc.page_content for doc in relavant_docs_3])\n",
    "    + \"\\n\\nPlease provide an answer based only on the provided documents. If the answer is not found in the documents, respond with 'I'm not sure'.\"\n",
    ")"
   ]
  },
  {
   "cell_type": "markdown",
   "metadata": {},
   "source": [
    "### 2 Create a ChatOpenAI model\n",
    "\n",
    "- ```gpt-4o``` can be changed"
   ]
  },
  {
   "cell_type": "code",
   "execution_count": 30,
   "metadata": {},
   "outputs": [],
   "source": [
    "model = ChatOpenAI(model=\"gpt-4o\")"
   ]
  },
  {
   "cell_type": "markdown",
   "metadata": {},
   "source": [
    "### 3 Define a message fpr model"
   ]
  },
  {
   "cell_type": "code",
   "execution_count": 31,
   "metadata": {},
   "outputs": [],
   "source": [
    "messages_1 = [\n",
    "    SystemMessage(content=\"You are a helpful assistant.\"),\n",
    "    HumanMessage(content=combined_input_1),\n",
    "]"
   ]
  },
  {
   "cell_type": "code",
   "execution_count": 32,
   "metadata": {},
   "outputs": [],
   "source": [
    "messages_2 = [\n",
    "    SystemMessage(content=\"You are a helpful assistant.\"),\n",
    "    HumanMessage(content=combined_input_2),\n",
    "]"
   ]
  },
  {
   "cell_type": "code",
   "execution_count": 33,
   "metadata": {},
   "outputs": [],
   "source": [
    "messages_3 = [\n",
    "    SystemMessage(content=\"You are a helpful assistant.\"),\n",
    "    HumanMessage(content=combined_input_3),\n",
    "]"
   ]
  },
  {
   "cell_type": "markdown",
   "metadata": {},
   "source": [
    "### 4 Invoke the model with the result"
   ]
  },
  {
   "cell_type": "code",
   "execution_count": 34,
   "metadata": {},
   "outputs": [],
   "source": [
    "result_1 = model.invoke(messages_1)\n",
    "result_2 = model.invoke(messages_2)\n",
    "result_3 = model.invoke(messages_3)"
   ]
  },
  {
   "cell_type": "markdown",
   "metadata": {},
   "source": [
    "<hr>\n",
    "\n",
    "### The output of the responses.\n",
    "\n",
    "- system answer"
   ]
  },
  {
   "cell_type": "code",
   "execution_count": 35,
   "metadata": {},
   "outputs": [
    {
     "name": "stdout",
     "output_type": "stream",
     "text": [
      "\n",
      "--- Chat Response ---\n",
      "content=\"I'm not sure.\" additional_kwargs={'refusal': None} response_metadata={'token_usage': {'completion_tokens': 4, 'prompt_tokens': 69, 'total_tokens': 73, 'completion_tokens_details': {'reasoning_tokens': 0}}, 'model_name': 'gpt-4o-2024-05-13', 'system_fingerprint': 'fp_057232b607', 'finish_reason': 'stop', 'logprobs': None} id='run-b793ebaa-bbdd-4daa-9818-76004c7c76dc-0' usage_metadata={'input_tokens': 69, 'output_tokens': 4, 'total_tokens': 73}\n",
      "\n",
      "--- Chat Response ---\n",
      "content='The Haida Bracelet was created by Robert Davidson in 1980.' additional_kwargs={'refusal': None} response_metadata={'token_usage': {'completion_tokens': 14, 'prompt_tokens': 1209, 'total_tokens': 1223, 'completion_tokens_details': {'reasoning_tokens': 0}}, 'model_name': 'gpt-4o-2024-05-13', 'system_fingerprint': 'fp_a5d11b2ef2', 'finish_reason': 'stop', 'logprobs': None} id='run-d3a1304b-b639-4005-84fc-d23a7c3d9c0e-0' usage_metadata={'input_tokens': 1209, 'output_tokens': 14, 'total_tokens': 1223}\n",
      "\n",
      "--- Chat Response ---\n",
      "content=\"The Haida bracelet, titled *Happy Negative Spaces*, by Robert Davidson is part of the Royal BC Museum's collection. According to the document, this bracelet is one of Davidson's most important early abstract works and was made in 1980. It was included in the Seattle Art Museum's 2013 exhibition, *Robert Davidson: Abstract Impulse*, which traveled to the National Museum of the American Indian in New York City.\\n\\nHowever, the specific current location of the bracelet within the museum or if it is on display is not mentioned in the provided documents.\\n\\nFor more detailed information, you might consider contacting the Royal BC Museum directly at reception@royalbcmuseum.bc.ca or by calling 1-250-356-7226.\" additional_kwargs={'refusal': None} response_metadata={'token_usage': {'completion_tokens': 148, 'prompt_tokens': 1209, 'total_tokens': 1357, 'completion_tokens_details': {'reasoning_tokens': 0}}, 'model_name': 'gpt-4o-2024-05-13', 'system_fingerprint': 'fp_5796ac6771', 'finish_reason': 'stop', 'logprobs': None} id='run-112ad938-3e74-40ab-aea5-a54193f55d7c-0' usage_metadata={'input_tokens': 1209, 'output_tokens': 148, 'total_tokens': 1357}\n"
     ]
    }
   ],
   "source": [
    "print(\"\\n--- Chat Response ---\")\n",
    "print(result_1)\n",
    "print(\"\\n--- Chat Response ---\")\n",
    "print(result_2)\n",
    "print(\"\\n--- Chat Response ---\")\n",
    "print(result_3)"
   ]
  },
  {
   "cell_type": "code",
   "execution_count": null,
   "metadata": {},
   "outputs": [],
   "source": [
    "print(\"\\n--- Chat Response ---\")\n",
    "print(result_1.content)\n",
    "print(\"\\n--- Chat Response ---\")\n",
    "print(result_2.content)\n",
    "print(\"\\n--- Chat Response ---\")\n",
    "print(result_3.content)"
   ]
  }
 ],
 "metadata": {
  "kernelspec": {
   "display_name": "Python 3",
   "language": "python",
   "name": "python3"
  },
  "language_info": {
   "codemirror_mode": {
    "name": "ipython",
    "version": 3
   },
   "file_extension": ".py",
   "mimetype": "text/x-python",
   "name": "python",
   "nbconvert_exporter": "python",
   "pygments_lexer": "ipython3",
   "version": "3.11.9"
  }
 },
 "nbformat": 4,
 "nbformat_minor": 2
}
